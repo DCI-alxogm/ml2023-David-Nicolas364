{
  "nbformat": 4,
  "nbformat_minor": 0,
  "metadata": {
    "colab": {
      "provenance": [],
      "authorship_tag": "ABX9TyMvIb7Y6A82r//6scN/2DOO",
      "include_colab_link": true
    },
    "kernelspec": {
      "name": "python3",
      "display_name": "Python 3"
    },
    "language_info": {
      "name": "python"
    }
  },
  "cells": [
    {
      "cell_type": "markdown",
      "metadata": {
        "id": "view-in-github",
        "colab_type": "text"
      },
      "source": [
        "<a href=\"https://colab.research.google.com/github/DCI-alxogm/ml2023-David-Nicolas364/blob/main/Ago11-12/Tarea1.ipynb\" target=\"_parent\"><img src=\"https://colab.research.google.com/assets/colab-badge.svg\" alt=\"Open In Colab\"/></a>"
      ]
    },
    {
      "cell_type": "markdown",
      "source": [
        "Tarea 1 Machine learning"
      ],
      "metadata": {
        "id": "wGo1ENuwgpMS"
      }
    },
    {
      "cell_type": "code",
      "execution_count": 1,
      "metadata": {
        "id": "Zdfymrlvgi1r"
      },
      "outputs": [],
      "source": [
        "import numpy as np"
      ]
    },
    {
      "cell_type": "markdown",
      "source": [
        "Nota: Cada elemnto de una lista en python tiene"
      ],
      "metadata": {
        "id": "mMKskZbOiCjT"
      }
    },
    {
      "cell_type": "code",
      "source": [
        "L = list(range(5))\n",
        "L"
      ],
      "metadata": {
        "colab": {
          "base_uri": "https://localhost:8080/"
        },
        "id": "JzItHwRQgn9z",
        "outputId": "ea8a5ea2-66bb-4767-aa30-20038f781f08"
      },
      "execution_count": 3,
      "outputs": [
        {
          "output_type": "execute_result",
          "data": {
            "text/plain": [
              "[0, 1, 2, 3, 4]"
            ]
          },
          "metadata": {},
          "execution_count": 3
        }
      ]
    },
    {
      "cell_type": "markdown",
      "source": [
        "str() Convierte en String"
      ],
      "metadata": {
        "id": "Dzu4hLpAhL-m"
      }
    },
    {
      "cell_type": "code",
      "source": [
        "L2 = [str(c) for c in L]\n",
        "L2"
      ],
      "metadata": {
        "colab": {
          "base_uri": "https://localhost:8080/"
        },
        "id": "wNSvroPvg4ic",
        "outputId": "f508d75c-979c-47e5-f067-9058f3cede29"
      },
      "execution_count": 4,
      "outputs": [
        {
          "output_type": "execute_result",
          "data": {
            "text/plain": [
              "['0', '1', '2', '3', '4']"
            ]
          },
          "metadata": {},
          "execution_count": 4
        }
      ]
    },
    {
      "cell_type": "markdown",
      "source": [
        "Nota: los arrays sólo contienen un tipo de dato"
      ],
      "metadata": {
        "id": "DT3MykwmjHx6"
      }
    },
    {
      "cell_type": "code",
      "source": [
        "np.array([3.14, 4, 2, 3])"
      ],
      "metadata": {
        "colab": {
          "base_uri": "https://localhost:8080/"
        },
        "id": "bWViq7_5jFTB",
        "outputId": "088caad7-6c60-4fa1-ac82-ae3aaa681c91"
      },
      "execution_count": 6,
      "outputs": [
        {
          "output_type": "execute_result",
          "data": {
            "text/plain": [
              "array([3.14, 4.  , 2.  , 3.  ])"
            ]
          },
          "metadata": {},
          "execution_count": 6
        }
      ]
    },
    {
      "cell_type": "markdown",
      "source": [
        "El array se convirtió en tipo flotante por el primer elemento"
      ],
      "metadata": {
        "id": "KTtuY6CJmSi4"
      }
    },
    {
      "cell_type": "markdown",
      "source": [
        "Con dtype se puede poner el tipo del array"
      ],
      "metadata": {
        "id": "GRw1ImgNm8h-"
      }
    },
    {
      "cell_type": "code",
      "source": [
        "np.array([1, 2, 3, 4], dtype='float32')"
      ],
      "metadata": {
        "colab": {
          "base_uri": "https://localhost:8080/"
        },
        "id": "5VC_tw5sjKFZ",
        "outputId": "76c6655e-c5f0-4c33-ab7c-95aedd759127"
      },
      "execution_count": 7,
      "outputs": [
        {
          "output_type": "execute_result",
          "data": {
            "text/plain": [
              "array([1., 2., 3., 4.], dtype=float32)"
            ]
          },
          "metadata": {},
          "execution_count": 7
        }
      ]
    },
    {
      "cell_type": "code",
      "source": [
        "np.array([range(i, i + 4) for i in [2, 4, 6]])"
      ],
      "metadata": {
        "colab": {
          "base_uri": "https://localhost:8080/"
        },
        "id": "i-vpC0E6na3k",
        "outputId": "922b61aa-1475-4a1f-ed48-e1a501d48cd7"
      },
      "execution_count": 16,
      "outputs": [
        {
          "output_type": "execute_result",
          "data": {
            "text/plain": [
              "array([[2, 3, 4, 5],\n",
              "       [4, 5, 6, 7],\n",
              "       [6, 7, 8, 9]])"
            ]
          },
          "metadata": {},
          "execution_count": 16
        }
      ]
    },
    {
      "cell_type": "code",
      "source": [
        "# Se crea un arreglo lleno de 79 3*5\n",
        "np.full((3, 5), 79)"
      ],
      "metadata": {
        "colab": {
          "base_uri": "https://localhost:8080/"
        },
        "id": "x1GziLCXnbsc",
        "outputId": "bf599023-99a3-4a71-90fe-4eb1137ac1fe"
      },
      "execution_count": 17,
      "outputs": [
        {
          "output_type": "execute_result",
          "data": {
            "text/plain": [
              "array([[79, 79, 79, 79, 79],\n",
              "       [79, 79, 79, 79, 79],\n",
              "       [79, 79, 79, 79, 79]])"
            ]
          },
          "metadata": {},
          "execution_count": 17
        }
      ]
    },
    {
      "cell_type": "code",
      "source": [
        "# Empieza en 0, termina en 10, en pasos de 2\n",
        "np.arange(0, 10, 2)"
      ],
      "metadata": {
        "colab": {
          "base_uri": "https://localhost:8080/"
        },
        "id": "4MH3FpNXoxqk",
        "outputId": "4f2881ff-8a8d-4ed3-e221-bf06846785e9"
      },
      "execution_count": 18,
      "outputs": [
        {
          "output_type": "execute_result",
          "data": {
            "text/plain": [
              "array([0, 2, 4, 6, 8])"
            ]
          },
          "metadata": {},
          "execution_count": 18
        }
      ]
    },
    {
      "cell_type": "code",
      "source": [
        "# Crea un arrgle de 5 valores separados igualmente entre 0 y 1\n",
        "np.linspace(0, 1, 5)"
      ],
      "metadata": {
        "colab": {
          "base_uri": "https://localhost:8080/"
        },
        "id": "oBr-9_aNr9rm",
        "outputId": "d7d23f69-6e92-4b27-8ad8-5def30a282cb"
      },
      "execution_count": 19,
      "outputs": [
        {
          "output_type": "execute_result",
          "data": {
            "text/plain": [
              "array([0.  , 0.25, 0.5 , 0.75, 1.  ])"
            ]
          },
          "metadata": {},
          "execution_count": 19
        }
      ]
    },
    {
      "cell_type": "code",
      "source": [
        "# Crea un arrglo de 3*3 de números aleatorios distribuidos normalmente\n",
        "# con media 0 y desviación estándar 1\n",
        "np.random.normal(0, 1, (3, 3))"
      ],
      "metadata": {
        "colab": {
          "base_uri": "https://localhost:8080/"
        },
        "id": "EWxYpyimsQV5",
        "outputId": "4c5c41e7-e48d-43ac-f152-45fdd9ee3fd0"
      },
      "execution_count": 20,
      "outputs": [
        {
          "output_type": "execute_result",
          "data": {
            "text/plain": [
              "array([[-1.48609911,  2.14419981, -0.00397555],\n",
              "       [-0.39368502,  0.52459424,  0.07882511],\n",
              "       [-1.50412446, -0.37411854,  0.42928171]])"
            ]
          },
          "metadata": {},
          "execution_count": 20
        }
      ]
    },
    {
      "cell_type": "code",
      "source": [
        "# Crea un arrglo 3*3 de enteros aleatorios en el intervalo [0, 10)\n",
        "np.random.randint(0, 10, (3, 3))"
      ],
      "metadata": {
        "colab": {
          "base_uri": "https://localhost:8080/"
        },
        "id": "TmD8FF1Ssp3j",
        "outputId": "d5024b95-273b-4396-e725-58b005bb4604"
      },
      "execution_count": 21,
      "outputs": [
        {
          "output_type": "execute_result",
          "data": {
            "text/plain": [
              "array([[2, 3, 0],\n",
              "       [0, 4, 4],\n",
              "       [7, 1, 2]])"
            ]
          },
          "metadata": {},
          "execution_count": 21
        }
      ]
    },
    {
      "cell_type": "code",
      "source": [
        "#Crea una matriz identidad 3*3\n",
        "np.eye(3)"
      ],
      "metadata": {
        "colab": {
          "base_uri": "https://localhost:8080/"
        },
        "id": "U99XssP-s92t",
        "outputId": "a8f5f8f1-10e6-4908-8c52-78db8b19354c"
      },
      "execution_count": 22,
      "outputs": [
        {
          "output_type": "execute_result",
          "data": {
            "text/plain": [
              "array([[1., 0., 0.],\n",
              "       [0., 1., 0.],\n",
              "       [0., 0., 1.]])"
            ]
          },
          "metadata": {},
          "execution_count": 22
        }
      ]
    },
    {
      "cell_type": "code",
      "source": [
        "# Crea un arrglo sin inicializar de 3 enteros\n",
        "# Los valores serán lo que se encuentre en la memoria\n",
        "np.empty(3)"
      ],
      "metadata": {
        "id": "JGHXvBuntA0G"
      },
      "execution_count": null,
      "outputs": []
    }
  ]
}