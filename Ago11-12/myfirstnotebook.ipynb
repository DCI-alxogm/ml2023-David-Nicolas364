{
  "nbformat": 4,
  "nbformat_minor": 0,
  "metadata": {
    "colab": {
      "provenance": [],
      "authorship_tag": "ABX9TyNLqjfIr0LQrz+lfVg30CIW",
      "include_colab_link": true
    },
    "kernelspec": {
      "name": "python3",
      "display_name": "Python 3"
    },
    "language_info": {
      "name": "python"
    }
  },
  "cells": [
    {
      "cell_type": "markdown",
      "metadata": {
        "id": "view-in-github",
        "colab_type": "text"
      },
      "source": [
        "<a href=\"https://colab.research.google.com/github/DCI-alxogm/ml2023-David-Nicolas364/blob/main/Ago11-12/myfirstnotebook.ipynb\" target=\"_parent\"><img src=\"https://colab.research.google.com/assets/colab-badge.svg\" alt=\"Open In Colab\"/></a>"
      ]
    },
    {
      "cell_type": "code",
      "execution_count": null,
      "metadata": {
        "id": "oHxPjarF7eqY"
      },
      "outputs": [],
      "source": [
        "import numpy as np"
      ]
    },
    {
      "cell_type": "code",
      "source": [
        "lista1=[2,\"2\",\"dos\", 2.0]"
      ],
      "metadata": {
        "id": "_yNyfVf07yuo"
      },
      "execution_count": 12,
      "outputs": []
    },
    {
      "cell_type": "code",
      "source": [
        "lista1*4"
      ],
      "metadata": {
        "id": "H7H11sXr1U3m",
        "outputId": "0f92ad92-9b01-4a99-b7d1-466b1932325d",
        "colab": {
          "base_uri": "https://localhost:8080/"
        }
      },
      "execution_count": 21,
      "outputs": [
        {
          "output_type": "execute_result",
          "data": {
            "text/plain": [
              "[2,\n",
              " '2',\n",
              " 'tres',\n",
              " 2.0,\n",
              " 2,\n",
              " '2',\n",
              " 'tres',\n",
              " 2.0,\n",
              " 2,\n",
              " '2',\n",
              " 'tres',\n",
              " 2.0,\n",
              " 2,\n",
              " '2',\n",
              " 'tres',\n",
              " 2.0]"
            ]
          },
          "metadata": {},
          "execution_count": 21
        }
      ]
    },
    {
      "cell_type": "code",
      "source": [
        "lista2=[\"4\", \"cuatro\", 4]"
      ],
      "metadata": {
        "id": "gJ6zwnSF0_DB"
      },
      "execution_count": 18,
      "outputs": []
    },
    {
      "cell_type": "code",
      "source": [
        "lista3=lista1+lista2"
      ],
      "metadata": {
        "id": "1mj-oStD2CtE"
      },
      "execution_count": 26,
      "outputs": []
    },
    {
      "cell_type": "code",
      "source": [
        "lista3"
      ],
      "metadata": {
        "id": "c0fE8gI82Gqi",
        "outputId": "ce967846-6807-42f1-de0c-4a806d4ab2ba",
        "colab": {
          "base_uri": "https://localhost:8080/"
        }
      },
      "execution_count": 27,
      "outputs": [
        {
          "output_type": "execute_result",
          "data": {
            "text/plain": [
              "[2, '2', 'tres', 2.0, '4', 'cuatro', 4]"
            ]
          },
          "metadata": {},
          "execution_count": 27
        }
      ]
    },
    {
      "cell_type": "code",
      "source": [
        "del lista1[2]"
      ],
      "metadata": {
        "id": "yfqO9LkszoyE"
      },
      "execution_count": 13,
      "outputs": []
    },
    {
      "cell_type": "code",
      "source": [
        "lista1"
      ],
      "metadata": {
        "id": "KqvZoQmYzxfX",
        "outputId": "31265162-ebb0-45bc-a68c-7ca6cf7b1cc0",
        "colab": {
          "base_uri": "https://localhost:8080/"
        }
      },
      "execution_count": 14,
      "outputs": [
        {
          "output_type": "execute_result",
          "data": {
            "text/plain": [
              "[2, '2', 2.0]"
            ]
          },
          "metadata": {},
          "execution_count": 14
        }
      ]
    },
    {
      "cell_type": "code",
      "source": [
        "lista1.insert(2, \"tres\")"
      ],
      "metadata": {
        "id": "Mi-nhgbczyy4"
      },
      "execution_count": 15,
      "outputs": []
    },
    {
      "cell_type": "code",
      "source": [
        "lista3=[lista1,lista2]"
      ],
      "metadata": {
        "id": "VE1lVJws0VsH"
      },
      "execution_count": 19,
      "outputs": []
    },
    {
      "cell_type": "code",
      "source": [
        "lista3"
      ],
      "metadata": {
        "id": "-8EEtTfZ1KKJ",
        "outputId": "aae32228-c499-43b4-a97a-17c7517b5b4a",
        "colab": {
          "base_uri": "https://localhost:8080/"
        }
      },
      "execution_count": 20,
      "outputs": [
        {
          "output_type": "execute_result",
          "data": {
            "text/plain": [
              "[[2, '2', 'tres', 2.0], ['4', 'cuatro', 4]]"
            ]
          },
          "metadata": {},
          "execution_count": 20
        }
      ]
    },
    {
      "cell_type": "code",
      "source": [
        "for i in lista1:\n",
        "  print(i)"
      ],
      "metadata": {
        "id": "Q4AJanSH1QkB",
        "outputId": "df90625d-5e5b-480e-ec26-06b6e70b312d",
        "colab": {
          "base_uri": "https://localhost:8080/"
        }
      },
      "execution_count": 23,
      "outputs": [
        {
          "output_type": "stream",
          "name": "stdout",
          "text": [
            "2\n",
            "2\n",
            "tres\n",
            "2.0\n"
          ]
        }
      ]
    },
    {
      "cell_type": "code",
      "source": [
        "for i in range(len(lista1)):\n",
        "  print(lista1[i])"
      ],
      "metadata": {
        "id": "0UYmPjGK1euQ",
        "outputId": "40d300ac-2004-41f9-f924-9c833596ddd3",
        "colab": {
          "base_uri": "https://localhost:8080/"
        }
      },
      "execution_count": 25,
      "outputs": [
        {
          "output_type": "stream",
          "name": "stdout",
          "text": [
            "2\n",
            "2\n",
            "tres\n",
            "2.0\n"
          ]
        }
      ]
    },
    {
      "cell_type": "code",
      "source": [
        "for i,item in enumerate(lista1):\n",
        "  print(i,item)"
      ],
      "metadata": {
        "id": "grY0fJTE1wlN",
        "outputId": "bb15d3ce-e1c2-4161-93d7-2214ed9079ab",
        "colab": {
          "base_uri": "https://localhost:8080/"
        }
      },
      "execution_count": 29,
      "outputs": [
        {
          "output_type": "stream",
          "name": "stdout",
          "text": [
            "0 2\n",
            "1 2\n",
            "2 tres\n",
            "3 2.0\n"
          ]
        }
      ]
    },
    {
      "cell_type": "code",
      "source": [
        "import array as arr"
      ],
      "metadata": {
        "id": "JsidYtPn2nFF"
      },
      "execution_count": 30,
      "outputs": []
    },
    {
      "cell_type": "code",
      "source": [
        "arreglo = arr.array(\"i\",[1,2,3])"
      ],
      "metadata": {
        "id": "yUz6at954B8t"
      },
      "execution_count": 31,
      "outputs": []
    },
    {
      "cell_type": "code",
      "source": [
        "arreglof=arr.array(\"f\",[1,2,3])"
      ],
      "metadata": {
        "id": "smkSEVmW4PKR"
      },
      "execution_count": 32,
      "outputs": []
    },
    {
      "cell_type": "code",
      "source": [
        "nparr1=np.array([1,2,3])\n",
        "nparr2=np.array([4,5,6])"
      ],
      "metadata": {
        "id": "n90kaBxX46pk"
      },
      "execution_count": 33,
      "outputs": []
    },
    {
      "cell_type": "code",
      "source": [
        "nparr1*2"
      ],
      "metadata": {
        "id": "P2ByDvmI5ZDk",
        "outputId": "e32891aa-222d-497a-c4f9-b6e60f19cdd9",
        "colab": {
          "base_uri": "https://localhost:8080/"
        }
      },
      "execution_count": 34,
      "outputs": [
        {
          "output_type": "execute_result",
          "data": {
            "text/plain": [
              "array([2, 4, 6])"
            ]
          },
          "metadata": {},
          "execution_count": 34
        }
      ]
    },
    {
      "cell_type": "code",
      "source": [
        "nparr1*nparr2"
      ],
      "metadata": {
        "id": "yAWuM2_45a3i",
        "outputId": "997486d5-81ec-4572-ec48-676998bb610c",
        "colab": {
          "base_uri": "https://localhost:8080/"
        }
      },
      "execution_count": 35,
      "outputs": [
        {
          "output_type": "execute_result",
          "data": {
            "text/plain": [
              "array([ 4, 10, 18])"
            ]
          },
          "metadata": {},
          "execution_count": 35
        }
      ]
    },
    {
      "cell_type": "code",
      "source": [
        "np.dot(nparr1, nparr2)"
      ],
      "metadata": {
        "id": "ZwB7DdDX5ePT",
        "outputId": "301d523e-d139-4dc9-942a-6f922bea28c2",
        "colab": {
          "base_uri": "https://localhost:8080/"
        }
      },
      "execution_count": 36,
      "outputs": [
        {
          "output_type": "execute_result",
          "data": {
            "text/plain": [
              "32"
            ]
          },
          "metadata": {},
          "execution_count": 36
        }
      ]
    },
    {
      "cell_type": "code",
      "source": [
        "nparr1/nparr2"
      ],
      "metadata": {
        "id": "1f8NkylI59F6",
        "outputId": "df7926d7-2b2a-4747-be32-362105598a4c",
        "colab": {
          "base_uri": "https://localhost:8080/"
        }
      },
      "execution_count": 37,
      "outputs": [
        {
          "output_type": "execute_result",
          "data": {
            "text/plain": [
              "array([0.25, 0.4 , 0.5 ])"
            ]
          },
          "metadata": {},
          "execution_count": 37
        }
      ]
    },
    {
      "cell_type": "code",
      "source": [],
      "metadata": {
        "id": "BZjet5O36Pf7"
      },
      "execution_count": null,
      "outputs": []
    }
  ]
}