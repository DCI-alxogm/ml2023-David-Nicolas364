{
  "nbformat": 4,
  "nbformat_minor": 0,
  "metadata": {
    "colab": {
      "provenance": [],
      "authorship_tag": "ABX9TyM8u5kp0F8WB0fMZmfnnW0a",
      "include_colab_link": true
    },
    "kernelspec": {
      "name": "python3",
      "display_name": "Python 3"
    },
    "language_info": {
      "name": "python"
    }
  },
  "cells": [
    {
      "cell_type": "markdown",
      "metadata": {
        "id": "view-in-github",
        "colab_type": "text"
      },
      "source": [
        "<a href=\"https://colab.research.google.com/github/DCI-alxogm/ml2023-David-Nicolas364/blob/main/Ago26/Tarea26_ago1.ipynb\" target=\"_parent\"><img src=\"https://colab.research.google.com/assets/colab-badge.svg\" alt=\"Open In Colab\"/></a>"
      ]
    },
    {
      "cell_type": "code",
      "execution_count": 1,
      "metadata": {
        "id": "TpJMKXt4wxY9"
      },
      "outputs": [],
      "source": [
        "import numpy as np\n",
        "import matplotlib.pyplot as plt\n",
        "import pandas as pd"
      ]
    },
    {
      "cell_type": "code",
      "source": [
        "data = np.loadtxt(\"olympic100m_men.txt\",delimiter=',').T"
      ],
      "metadata": {
        "id": "Z1cJaXNme5X4"
      },
      "execution_count": 2,
      "outputs": []
    },
    {
      "cell_type": "code",
      "source": [
        "x_exp=np.array([1896., 1904., 1908., 1920., 1928.,\n",
        "       1936., 1948., 1952., 1956., 1960., 1964., 1968., 1972.,\n",
        "       1976., 1980., 1984., 1988., 1992., 1996., 2000., 2004., 2008.])"
      ],
      "metadata": {
        "id": "sG-66M4dMxqM"
      },
      "execution_count": 3,
      "outputs": []
    },
    {
      "cell_type": "code",
      "source": [
        "y_exp=np.array([12, 11. , 10.8 , 10.8 , 10.8\n",
        "        , 10.3 , 10.3 , 10.4 , 10.5 , 10.2 , 10.  ,  9.95, 10.14,\n",
        "       10.06, 10.25,  9.99,  9.92,  9.96,  9.84,  9.87,  9.85,  9.69])"
      ],
      "metadata": {
        "id": "vomYKg7AM39g"
      },
      "execution_count": 4,
      "outputs": []
    },
    {
      "cell_type": "code",
      "source": [
        "x_val=np.array([1900., 1906., 1912., 1924., 1932.])"
      ],
      "metadata": {
        "id": "mzlK4F2v74AH"
      },
      "execution_count": 5,
      "outputs": []
    },
    {
      "cell_type": "code",
      "source": [
        "y_val=np.array([ 11., 11.2 , 10.8, 10.6, 10.3])"
      ],
      "metadata": {
        "id": "_M-rnvKRMjA6"
      },
      "execution_count": 6,
      "outputs": []
    },
    {
      "cell_type": "code",
      "source": [
        "x=data[0]\n",
        "y=data[1]"
      ],
      "metadata": {
        "id": "PAZ-miL8fAjG"
      },
      "execution_count": 7,
      "outputs": []
    },
    {
      "cell_type": "code",
      "source": [
        "#Para X de grado n\n",
        "def w(x,y,n):\n",
        "  X=np.vstack((np.ones_like(x)))\n",
        "  i=1\n",
        "  while i<= n:\n",
        "    T=x**i\n",
        "    TT= np.reshape(T,(np.shape(x)[0],1))\n",
        "    X=np.hstack((X, TT))\n",
        "    i+=1\n",
        "  XT=X.T\n",
        "  inv= np.linalg.inv(np.matmul(XT,X))\n",
        "  t=y\n",
        "  w=np.matmul(inv,np.matmul(XT,t))\n",
        "  return w"
      ],
      "metadata": {
        "id": "38SxQStZyQMb"
      },
      "execution_count": 8,
      "outputs": []
    },
    {
      "cell_type": "code",
      "source": [
        "M=w(x,y,2)"
      ],
      "metadata": {
        "id": "dGrBQRnAyRZt"
      },
      "execution_count": 9,
      "outputs": []
    },
    {
      "cell_type": "code",
      "source": [
        "Y=M[0]+M[1]*x+M[2]*x**2"
      ],
      "metadata": {
        "id": "zPIL1P5aybIq"
      },
      "execution_count": 10,
      "outputs": []
    },
    {
      "cell_type": "markdown",
      "source": [
        "Mínimos cuadrados regularizados"
      ],
      "metadata": {
        "id": "X8jGjz6mxUb6"
      }
    },
    {
      "cell_type": "code",
      "source": [
        "def w_reg(x,y,n,lamb):\n",
        "  X=np.vstack((np.ones_like(x)))\n",
        "  i=1\n",
        "  while i<= n:\n",
        "    T=x**i\n",
        "    TT= np.reshape(T,(np.shape(x)[0],1))\n",
        "    X=np.hstack((X, TT))\n",
        "    i+=1\n",
        "  XT=X.T\n",
        "  inv= np.linalg.inv(np.matmul(XT,X)+n*lamb*np.identity(n+1))\n",
        "  t=y\n",
        "  w=np.matmul(inv,np.matmul(XT,t))\n",
        "  return w"
      ],
      "metadata": {
        "id": "PeiImwH1xCPM"
      },
      "execution_count": 11,
      "outputs": []
    },
    {
      "cell_type": "code",
      "source": [
        "Mr=w_reg(x,y,2,0.5)"
      ],
      "metadata": {
        "id": "5F9S0-xPxYif"
      },
      "execution_count": 12,
      "outputs": []
    },
    {
      "cell_type": "code",
      "source": [
        "Yr=Mr[0]+Mr[1]*x+Mr[2]*x**2"
      ],
      "metadata": {
        "id": "yCg5x_WrxpUS"
      },
      "execution_count": 13,
      "outputs": []
    },
    {
      "cell_type": "code",
      "source": [
        "plt.scatter(x,y)\n",
        "plt.plot(x,Y)\n",
        "plt.plot(x,Yr)"
      ],
      "metadata": {
        "colab": {
          "base_uri": "https://localhost:8080/",
          "height": 447
        },
        "id": "XeQz9frnxeRf",
        "outputId": "237db9ba-dcc4-4bfd-8be7-a1b23d652d2d"
      },
      "execution_count": 14,
      "outputs": [
        {
          "output_type": "execute_result",
          "data": {
            "text/plain": [
              "[<matplotlib.lines.Line2D at 0x7b70337602e0>]"
            ]
          },
          "metadata": {},
          "execution_count": 14
        },
        {
          "output_type": "display_data",
          "data": {
            "text/plain": [
              "<Figure size 640x480 with 1 Axes>"
            ],
            "image/png": "[encoded data removed]"
          },
          "metadata": {}
        }
      ]
    },
    {
      "cell_type": "markdown",
      "source": [
        "Cross-validation"
      ],
      "metadata": {
        "id": "3WSvsEQY74li"
      }
    },
    {
      "cell_type": "code",
      "source": [
        "#Función costo\n",
        "def V(w,y_val,x_val):\n",
        "  for i in range(np.size(w)):\n",
        "    if i==0:\n",
        "      Y=w[0]\n",
        "    else:\n",
        "        Y+=w[i]*x_val**i\n",
        "  Costo=(Y-y_val)**2\n",
        "  CostoT=(np.sum(Costo))\n",
        "  return CostoT"
      ],
      "metadata": {
        "id": "dkNmaT_tCp3g"
      },
      "execution_count": 38,
      "outputs": []
    },
    {
      "cell_type": "code",
      "source": [
        "#función para eleminar un elemento de los datos\n",
        "def one(x,y,n):\n",
        "  CostoT = []\n",
        "  for i in range(np.shape(x)[0]):\n",
        "    xval = x[i]\n",
        "    yval = y[i]\n",
        "\n",
        "    x_ent = np.delete(x,i)\n",
        "    y_ent = np.delete(y,i)\n",
        "\n",
        "    Peso = w(x_ent,y_ent,n)\n",
        "    Costo = V(Peso,yval,xval)\n",
        "\n",
        "    CostoT.append(Costo)\n",
        "\n",
        "    Lcv=np.sum(CostoT)/(np.shape(x)[0])\n",
        "\n",
        "  return Lcv"
      ],
      "metadata": {
        "id": "jaXGGQ6q781H"
      },
      "execution_count": 143,
      "outputs": []
    },
    {
      "cell_type": "code",
      "source": [
        "#normalización\n",
        "x2=(x-1896)/4"
      ],
      "metadata": {
        "id": "Bw71Jd5jGirM"
      },
      "execution_count": 144,
      "outputs": []
    },
    {
      "cell_type": "code",
      "source": [
        "Z = w(np.delete(x2,0),np.delete(y,0),7)\n",
        "print(Z)\n",
        "V(Z,y[0],x2[0])"
      ],
      "metadata": {
        "colab": {
          "base_uri": "https://localhost:8080/"
        },
        "id": "c1Y7Wmf1HvoN",
        "outputId": "2f1d6912-2459-43d6-be67-1d31ac68d382"
      },
      "execution_count": 145,
      "outputs": [
        {
          "output_type": "stream",
          "name": "stdout",
          "text": [
            "[ 1.09086858e+01  1.71617839e-01 -7.69592207e-02  1.07428035e-02\n",
            " -7.59624232e-04  2.88194385e-05 -5.54407091e-07  4.19356233e-09]\n"
          ]
        },
        {
          "output_type": "execute_result",
          "data": {
            "text/plain": [
              "1.1909667315715813"
            ]
          },
          "metadata": {},
          "execution_count": 145
        }
      ]
    },
    {
      "cell_type": "code",
      "source": [
        "csv=one(x2,y,8)\n",
        "csv"
      ],
      "metadata": {
        "colab": {
          "base_uri": "https://localhost:8080/"
        },
        "id": "QsJm9wqH84Zu",
        "outputId": "cae57e06-3a1a-4811-9cf7-c098f1983fc0"
      },
      "execution_count": 147,
      "outputs": [
        {
          "output_type": "execute_result",
          "data": {
            "text/plain": [
              "0.0934944993103078"
            ]
          },
          "metadata": {},
          "execution_count": 147
        }
      ]
    },
    {
      "cell_type": "code",
      "source": [
        "NN=[1,2,3,4,5,6,7,8]\n",
        "Vac=[]\n",
        "for i in NN:\n",
        "    csv = one(x2,y,i)\n",
        "    Vac.append(csv)\n",
        "\n",
        "Vac"
      ],
      "metadata": {
        "colab": {
          "base_uri": "https://localhost:8080/"
        },
        "id": "o9n19yElBkKg",
        "outputId": "b3e73fc6-4596-4005-e43b-e8bad5dde2d8"
      },
      "execution_count": 148,
      "outputs": [
        {
          "output_type": "execute_result",
          "data": {
            "text/plain": [
              "[0.06243184967324323,\n",
              " 0.056594361575115666,\n",
              " 0.05295193744110756,\n",
              " 0.06097492277208293,\n",
              " 0.06412319997036589,\n",
              " 0.07890079737054204,\n",
              " 0.07819293189271742,\n",
              " 0.0934944993103078]"
            ]
          },
          "metadata": {},
          "execution_count": 148
        }
      ]
    },
    {
      "cell_type": "code",
      "source": [
        "plt.plot(NN,Vac)"
      ],
      "metadata": {
        "colab": {
          "base_uri": "https://localhost:8080/",
          "height": 448
        },
        "id": "w5Jnmk51B5Lz",
        "outputId": "4ffe0b31-98a9-487f-c10f-f54c16af1aef"
      },
      "execution_count": 149,
      "outputs": [
        {
          "output_type": "execute_result",
          "data": {
            "text/plain": [
              "[<matplotlib.lines.Line2D at 0x7b702d0c2e90>]"
            ]
          },
          "metadata": {},
          "execution_count": 149
        },
        {
          "output_type": "display_data",
          "data": {
            "text/plain": [
              "<Figure size 640x480 with 1 Axes>"
            ],
            "image/png": "[encoded data removed]"
          },
          "metadata": {}
        }
      ]
    },
    {
      "cell_type": "code",
      "source": [],
      "metadata": {
        "id": "U9K_O87iTiLw"
      },
      "execution_count": null,
      "outputs": []
    }
  ]
}