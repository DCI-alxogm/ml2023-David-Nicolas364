{
  "nbformat": 4,
  "nbformat_minor": 0,
  "metadata": {
    "colab": {
      "provenance": [],
      "authorship_tag": "ABX9TyOdI1s4G/DDzszUiwqLjKVj",
      "include_colab_link": true
    },
    "kernelspec": {
      "name": "python3",
      "display_name": "Python 3"
    },
    "language_info": {
      "name": "python"
    }
  },
  "cells": [
    {
      "cell_type": "markdown",
      "metadata": {
        "id": "view-in-github",
        "colab_type": "text"
      },
      "source": [
        "<a href=\"https://colab.research.google.com/github/DCI-alxogm/ml2023-David-Nicolas364/blob/main/Ago26/Ago26tarea2.ipynb\" target=\"_parent\"><img src=\"https://colab.research.google.com/assets/colab-badge.svg\" alt=\"Open In Colab\"/></a>"
      ]
    },
    {
      "cell_type": "code",
      "execution_count": 1,
      "metadata": {
        "id": "n1fDHDc_YJPF"
      },
      "outputs": [],
      "source": [
        "import numpy as np\n",
        "import matplotlib.pyplot as plt\n",
        "import pandas as pd"
      ]
    },
    {
      "cell_type": "code",
      "source": [
        "data = np.loadtxt(\"olympic100m_men.txt\",delimiter=',').T"
      ],
      "metadata": {
        "id": "nedeJb6CYSA7"
      },
      "execution_count": 4,
      "outputs": []
    },
    {
      "cell_type": "code",
      "source": [
        "x=data[0]\n",
        "y=data[1]"
      ],
      "metadata": {
        "id": "7ajks1kuYd8M"
      },
      "execution_count": 5,
      "outputs": []
    },
    {
      "cell_type": "code",
      "source": [
        "#normalización\n",
        "x=(x-1896)/4"
      ],
      "metadata": {
        "id": "4aEupL9WgKKB"
      },
      "execution_count": 6,
      "outputs": []
    },
    {
      "cell_type": "code",
      "source": [
        "#Para X de grado n\n",
        "def w(x,y,n):\n",
        "  X=np.vstack((np.ones_like(x)))\n",
        "  i=1\n",
        "  while i<= n:\n",
        "    T=x**i\n",
        "    TT= np.reshape(T,(np.shape(x)[0],1))\n",
        "    X=np.hstack((X, TT))\n",
        "    i+=1\n",
        "  XT=X.T\n",
        "  inv= np.linalg.inv(np.matmul(XT,X))\n",
        "  t=y\n",
        "  w=np.matmul(inv,np.matmul(XT,t))\n",
        "  return w"
      ],
      "metadata": {
        "id": "A4BbcD_qYgRM"
      },
      "execution_count": 7,
      "outputs": []
    },
    {
      "cell_type": "code",
      "source": [
        "#Función de minimización\n",
        "def PesoM(w,alph,x,y):\n",
        "  for i in range(np.size(w)):\n",
        "    if i==0:\n",
        "      Y=w[0]\n",
        "    else:\n",
        "        Y+=w[i]*x**i\n",
        "\n",
        "  for k in range(np.size(w)):\n",
        "    P=[]\n",
        "    Y = V(w,y,x)\n",
        "    for j in range(np.size(w)):\n",
        "      if j==0:\n",
        "        P.append(w[0]-alph*(np.sum((Y)-y))/len(x))\n",
        "      else:\n",
        "        P.append(w[j]-alph*(np.sum(((Y)-y)*x**j))/len(x))\n",
        "    w=P\n",
        "  return w"
      ],
      "metadata": {
        "id": "y05yoKweaiVa"
      },
      "execution_count": 142,
      "outputs": []
    },
    {
      "cell_type": "code",
      "source": [
        "M= w(x,y,2)\n",
        "M"
      ],
      "metadata": {
        "colab": {
          "base_uri": "https://localhost:8080/"
        },
        "id": "MTXy8YirevQy",
        "outputId": "3be24806-b19b-4a83-ae52-4ddd20f22f1d"
      },
      "execution_count": 143,
      "outputs": [
        {
          "output_type": "execute_result",
          "data": {
            "text/plain": [
              "array([ 1.13401367e+01, -1.01863202e-01,  1.76242483e-03])"
            ]
          },
          "metadata": {},
          "execution_count": 143
        }
      ]
    },
    {
      "cell_type": "code",
      "source": [
        "Mi = PesoM(M,.01,x,y)"
      ],
      "metadata": {
        "id": "N57UBYUke1Az"
      },
      "execution_count": 144,
      "outputs": []
    },
    {
      "cell_type": "code",
      "source": [
        "def V(w,y,x):\n",
        "  for i in range(np.size(w)):\n",
        "    if i==0:\n",
        "      Y=w[0]\n",
        "    else:\n",
        "        Y+=w[i]*x**i\n",
        "  return Y"
      ],
      "metadata": {
        "id": "_gX_M5aRe9yL"
      },
      "execution_count": 145,
      "outputs": []
    },
    {
      "cell_type": "code",
      "source": [
        "Yi = V(Mi,y,x)"
      ],
      "metadata": {
        "id": "7P9nx4sXjQcC"
      },
      "execution_count": 146,
      "outputs": []
    },
    {
      "cell_type": "code",
      "source": [
        "plt.scatter(x,y)\n",
        "plt.plot(x,Yi)"
      ],
      "metadata": {
        "colab": {
          "base_uri": "https://localhost:8080/",
          "height": 447
        },
        "id": "ErsQqAZZWnqc",
        "outputId": "1cf6abae-a257-490e-8463-c605aa1d01db"
      },
      "execution_count": 147,
      "outputs": [
        {
          "output_type": "execute_result",
          "data": {
            "text/plain": [
              "[<matplotlib.lines.Line2D at 0x7ef80239e8f0>]"
            ]
          },
          "metadata": {},
          "execution_count": 147
        },
        {
          "output_type": "display_data",
          "data": {
            "text/plain": [
              "<Figure size 640x480 with 1 Axes>"
            ],
            "image/png": "[encoded data removed]"
          },
          "metadata": {}
        }
      ]
    },
    {
      "cell_type": "code",
      "source": [
        "Y = V(M,y,x)\n",
        "Y"
      ],
      "metadata": {
        "colab": {
          "base_uri": "https://localhost:8080/"
        },
        "id": "hHnUtsL3Wt-F",
        "outputId": "ace6515e-752e-4bb1-81e9-1a87db8da5fd"
      },
      "execution_count": 56,
      "outputs": [
        {
          "output_type": "execute_result",
          "data": {
            "text/plain": [
              "array([11.34013671, 11.24003593, 11.14346001, 11.09649386, 11.05040893,\n",
              "       10.9608827 , 10.79240479, 10.71345311, 10.63802628, 10.56612431,\n",
              "       10.49774718, 10.31376488, 10.25948715, 10.20873427, 10.16150624,\n",
              "       10.11780306, 10.07762472, 10.04097124, 10.00784261,  9.97823882,\n",
              "        9.95215989,  9.92960581,  9.91057657,  9.89507219,  9.88309265,\n",
              "        9.87463796,  9.86970813])"
            ]
          },
          "metadata": {},
          "execution_count": 56
        }
      ]
    },
    {
      "cell_type": "code",
      "source": [],
      "metadata": {
        "id": "noXOLNABYwu8"
      },
      "execution_count": null,
      "outputs": []
    }
  ]
}