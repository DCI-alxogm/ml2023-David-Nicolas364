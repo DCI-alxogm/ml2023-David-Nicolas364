{
  "nbformat": 4,
  "nbformat_minor": 0,
  "metadata": {
    "colab": {
      "provenance": [],
      "mount_file_id": "1L6aHwDi_CIFUy9NZfFH_22CGtWy4URcA",
      "authorship_tag": "ABX9TyMy5mKAjR9t2VXWm6e/vrPl",
      "include_colab_link": true
    },
    "kernelspec": {
      "name": "python3",
      "display_name": "Python 3"
    },
    "language_info": {
      "name": "python"
    }
  },
  "cells": [
    {
      "cell_type": "markdown",
      "metadata": {
        "id": "view-in-github",
        "colab_type": "text"
      },
      "source": [
        "<a href=\"https://colab.research.google.com/github/DCI-alxogm/ml2023-David-Nicolas364/blob/main/Sep30/Ejercicio_30.ipynb\" target=\"_parent\"><img src=\"https://colab.research.google.com/assets/colab-badge.svg\" alt=\"Open In Colab\"/></a>"
      ]
    },
    {
      "cell_type": "code",
      "execution_count": 1,
      "metadata": {
        "id": "BUlc3relqPYP"
      },
      "outputs": [],
      "source": [
        "import numpy as np\n",
        "import pandas as pd\n",
        "import math\n",
        "import matplotlib.pyplot as plt\n",
        "import seaborn as sns"
      ]
    },
    {
      "cell_type": "code",
      "source": [
        "def tetha_prop(tet_in1,tet_in2, sig1, sig2):\n",
        "  tet_p=np.zeros(2)\n",
        "  tet_p[0]= np.random.normal(tet_in1,sig1)\n",
        "  tet_p[1]= np.random.normal(tet_in2,sig2)\n",
        "  return tet_p"
      ],
      "metadata": {
        "id": "Cw0FhIBtzbOs"
      },
      "execution_count": 2,
      "outputs": []
    },
    {
      "cell_type": "code",
      "source": [
        "data = np.loadtxt(\"olympic100m_men.txt\",delimiter=',').T"
      ],
      "metadata": {
        "id": "R0YNvonxCRyn"
      },
      "execution_count": 4,
      "outputs": []
    },
    {
      "cell_type": "code",
      "source": [
        "x=data[0]\n",
        "y=data[1]"
      ],
      "metadata": {
        "id": "vfAhBGqeKVTf"
      },
      "execution_count": 5,
      "outputs": []
    },
    {
      "cell_type": "code",
      "source": [
        "X_norm=(x-np.mean(x))/np.std(x)"
      ],
      "metadata": {
        "id": "NzTZUW2XHOAc"
      },
      "execution_count": 6,
      "outputs": []
    },
    {
      "cell_type": "code",
      "source": [
        "def model(x,tetha):\n",
        "  f=tetha[0]+tetha[1]*x**1\n",
        "  return f\n",
        "\n",
        "def likelihood(y,x,tetha):\n",
        "  f=model(x,tetha)\n",
        "  R=0\n",
        "  for i in range(len(np.array(y))):\n",
        "    R+=(y[i]-f[i])**2\n",
        "  return -(0.5)*R\n",
        "\n",
        "def prior(Tet_min0,Tet_min1,Tet_max0, Tet_max1,tet_prop):\n",
        "  if Tet_max0 > tet_prop[0]  > Tet_min0 and Tet_max1 > tet_prop[1]  > Tet_min1:\n",
        "    LPrior=0\n",
        "  else:\n",
        "    LPrior=-math.inf\n",
        "  return LPrior"
      ],
      "metadata": {
        "id": "fA289-ks1VVV"
      },
      "execution_count": 7,
      "outputs": []
    },
    {
      "cell_type": "code",
      "source": [
        "likelihood(y,x,[31,.1])"
      ],
      "metadata": {
        "colab": {
          "base_uri": "https://localhost:8080/"
        },
        "id": "SfzXJHda7jBM",
        "outputId": "59f247b2-3589-4ae8-efde-2532f37a2f61"
      },
      "execution_count": 8,
      "outputs": [
        {
          "output_type": "execute_result",
          "data": {
            "text/plain": [
              "-629179.5647000001"
            ]
          },
          "metadata": {},
          "execution_count": 8
        }
      ]
    },
    {
      "cell_type": "code",
      "source": [
        "def Post(prior, likelihood):\n",
        "  Post = likelihood + prior\n",
        "  return Post"
      ],
      "metadata": {
        "id": "kqFvbeJhDtrh"
      },
      "execution_count": 9,
      "outputs": []
    },
    {
      "cell_type": "code",
      "source": [
        "def Eval(N,y,x,tet_ini,sig1,sig2,T_min0, T_max0, T_min1, T_max1):\n",
        "  Tet_accept=tet_ini\n",
        "  Tet_acc = np.array(Tet_accept)\n",
        "  for i in range(N):\n",
        "    Prop = tetha_prop(tet_ini[0],tet_ini[1],sig1,sig2)\n",
        "    if Post(prior(T_min0,T_min1,T_max0,T_max1,Prop),likelihood(y,x,Prop)) > Post(prior(T_min0,T_min1,T_max0,T_max1,tet_ini),likelihood(y,x,tet_ini)):\n",
        "      Tet_acc = np.vstack((Tet_acc,Prop))\n",
        "      tet_ini= Prop\n",
        "    else:\n",
        "      ptest=np.random.uniform(0,1)\n",
        "      if Post(prior(T_min0,T_min1,T_max0,T_max1,Prop),likelihood(y,x,Prop))-Post(prior(T_min0,T_min1,T_max0,T_max1,tet_ini),likelihood(y,x,tet_ini)) > np.log(ptest):\n",
        "        Tet_acc= np.vstack((Tet_acc,Prop))\n",
        "        tet_ini= Prop\n",
        "  return Tet_acc"
      ],
      "metadata": {
        "id": "KPVkdafw8ohR"
      },
      "execution_count": 10,
      "outputs": []
    },
    {
      "cell_type": "code",
      "source": [
        "plt.scatter(x,y)"
      ],
      "metadata": {
        "colab": {
          "base_uri": "https://localhost:8080/",
          "height": 447
        },
        "id": "GIOjD363ACMM",
        "outputId": "5f29cb75-171f-43f3-9868-ee67f8c9f181"
      },
      "execution_count": 11,
      "outputs": [
        {
          "output_type": "execute_result",
          "data": {
            "text/plain": [
              "<matplotlib.collections.PathCollection at 0x78ba6dc62b30>"
            ]
          },
          "metadata": {},
          "execution_count": 11
        },
        {
          "output_type": "display_data",
          "data": {
            "text/plain": [
              "<Figure size 640x480 with 1 Axes>"
            ],
            "image/png": "[encoded data removed]"
          },
          "metadata": {}
        }
      ]
    },
    {
      "cell_type": "code",
      "source": [
        "N=10000\n"
      ],
      "metadata": {
        "id": "2NRK0P7r-h7r"
      },
      "execution_count": 12,
      "outputs": []
    },
    {
      "cell_type": "code",
      "source": [
        "tet_ini=np.array([0,0])\n",
        "sig1=0.1\n",
        "sig2=0.3\n",
        "T_min0, T_max0= -40,40\n",
        "T_min1, T_max1= -40,40"
      ],
      "metadata": {
        "id": "2uRKVq0_K7fN"
      },
      "execution_count": 13,
      "outputs": []
    },
    {
      "cell_type": "code",
      "source": [
        "Tethas = Eval(N,y,X_norm,tet_ini,sig1,sig2,T_min0, T_max0, T_min1, T_max1)"
      ],
      "metadata": {
        "id": "wF8IftzrLeS2"
      },
      "execution_count": 14,
      "outputs": []
    },
    {
      "cell_type": "code",
      "source": [
        "Graf = Tethas.T"
      ],
      "metadata": {
        "id": "RfTiymc2O6uU"
      },
      "execution_count": 15,
      "outputs": []
    },
    {
      "cell_type": "code",
      "source": [
        "Tethas2 = Eval(N,y,X_norm,[20,2],sig1,sig2,T_min0, T_max0, T_min1, T_max1)\n",
        "Graf2 = Tethas2.T"
      ],
      "metadata": {
        "id": "6muUi3BJJsiw"
      },
      "execution_count": 16,
      "outputs": []
    },
    {
      "cell_type": "code",
      "source": [
        "Tethas3 = Eval(N,y,X_norm,[12,5],sig1,sig2,T_min0, T_max0, T_min1, T_max1)\n",
        "Graf3 = Tethas3.T"
      ],
      "metadata": {
        "id": "_j8D8t-HKgH-"
      },
      "execution_count": 17,
      "outputs": []
    },
    {
      "cell_type": "code",
      "source": [
        "Tethas4 = Eval(N,y,X_norm,[12,-5],sig1,sig2,T_min0, T_max0, T_min1, T_max1)\n",
        "Graf4 = Tethas4.T"
      ],
      "metadata": {
        "id": "C0zqSQJi7gD5"
      },
      "execution_count": 20,
      "outputs": []
    },
    {
      "cell_type": "code",
      "source": [
        "Tethas5 = Eval(N,y,X_norm,[2.5,3.5],sig1,sig2,T_min0, T_max0, T_min1, T_max1)\n",
        "Graf5 = Tethas5.T"
      ],
      "metadata": {
        "id": "hUi-bbrj7vRp"
      },
      "execution_count": 21,
      "outputs": []
    },
    {
      "cell_type": "code",
      "source": [
        "f = plt.figure()\n",
        "f.set_figwidth(12)\n",
        "f.set_figheight(12)\n",
        "plt.scatter(Graf[0],Graf[1])\n",
        "plt.scatter(Graf2[0],Graf2[1])\n",
        "plt.scatter(Graf3[0],Graf3[1])\n",
        "plt.scatter(Graf4[0],Graf4[1])\n",
        "plt.scatter(Graf5[0],Graf5[1])"
      ],
      "metadata": {
        "colab": {
          "base_uri": "https://localhost:8080/",
          "height": 845
        },
        "id": "dNIoJ2k5LhIz",
        "outputId": "e2dd05dc-722e-4a2f-a14c-a7d585d2a272"
      },
      "execution_count": 23,
      "outputs": [
        {
          "output_type": "execute_result",
          "data": {
            "text/plain": [
              "<matplotlib.collections.PathCollection at 0x78ba6a9e15a0>"
            ]
          },
          "metadata": {},
          "execution_count": 23
        },
        {
          "output_type": "display_data",
          "data": {
            "text/plain": [
              "<Figure size 1200x1200 with 1 Axes>"
            ],
            "image/png": "[encoded data removed]"
          },
          "metadata": {}
        }
      ]
    },
    {
      "cell_type": "code",
      "source": [
        "#Gráficos de tetha0\n",
        "sns.histplot(Graf[0], bins=100)\n",
        "plt.xlim(9, 12)"
      ],
      "metadata": {
        "colab": {
          "base_uri": "https://localhost:8080/",
          "height": 447
        },
        "id": "fLpxuvfC-KOs",
        "outputId": "4bba8267-71f9-4555-dec0-1e47ccaa6bd4"
      },
      "execution_count": 25,
      "outputs": [
        {
          "output_type": "execute_result",
          "data": {
            "text/plain": [
              "(9.0, 12.0)"
            ]
          },
          "metadata": {},
          "execution_count": 25
        },
        {
          "output_type": "display_data",
          "data": {
            "text/plain": [
              "<Figure size 640x480 with 1 Axes>"
            ],
            "image/png": "[encoded data removed]"
          },
          "metadata": {}
        }
      ]
    },
    {
      "cell_type": "code",
      "source": [
        "#Gráfico de tetha1\n",
        "sns.histplot(Graf[1],bins=100)\n",
        "plt.xlim(-1.25, 0.5)"
      ],
      "metadata": {
        "colab": {
          "base_uri": "https://localhost:8080/",
          "height": 447
        },
        "id": "JkU8Jdh5IDyo",
        "outputId": "28b2facc-d47a-4db7-a8b5-ff173100513f"
      },
      "execution_count": 26,
      "outputs": [
        {
          "output_type": "execute_result",
          "data": {
            "text/plain": [
              "(-1.25, 0.5)"
            ]
          },
          "metadata": {},
          "execution_count": 26
        },
        {
          "output_type": "display_data",
          "data": {
            "text/plain": [
              "<Figure size 640x480 with 1 Axes>"
            ],
            "image/png": "[encoded data removed]"
          },
          "metadata": {}
        }
      ]
    },
    {
      "cell_type": "markdown",
      "source": [
        "Diagnostico de Gelman-Rubin\n",
        "\n",
        "$S_{i}^2=\\frac{1}{n-1}∑_{t=1}^n(X_{it}-\\bar{X}_i)^2$"
      ],
      "metadata": {
        "id": "D9CyPBEaCtm5"
      }
    },
    {
      "cell_type": "code",
      "source": [
        "#Gelman-Rubin diagnostic usando el parámetro tetha0\n",
        "def GelRub(Chain):\n",
        "  suma=0\n",
        "  for i in range(len(Chain[0])):\n",
        "    suma += (Chain[0,i]-np.mean(Chain[0]))**2\n",
        "  S_i=(1/(len(Chain[0])-1))*suma\n",
        "  return S_i"
      ],
      "metadata": {
        "id": "i4lSNK47PfNK"
      },
      "execution_count": 27,
      "outputs": []
    },
    {
      "cell_type": "markdown",
      "source": [
        "$S^2=\\frac{1}{m}\\sum_{i=1}^ms_i^2$"
      ],
      "metadata": {
        "id": "fFcAogz-Dom6"
      }
    },
    {
      "cell_type": "code",
      "source": [
        "S1 = GelRub(Graf)\n",
        "S2 = GelRub(Graf2)\n",
        "S3 = GelRub(Graf3)\n",
        "S4 = GelRub(Graf4)\n",
        "S5 = GelRub(Graf5)"
      ],
      "metadata": {
        "id": "dXW5UVklQoPz"
      },
      "execution_count": 28,
      "outputs": []
    },
    {
      "cell_type": "code",
      "source": [
        "SS=(1/5)*(S1+S2+S3+S4+S5)"
      ],
      "metadata": {
        "id": "ITnRFi2yPOuJ"
      },
      "execution_count": 29,
      "outputs": []
    },
    {
      "cell_type": "code",
      "source": [
        "SS"
      ],
      "metadata": {
        "colab": {
          "base_uri": "https://localhost:8080/"
        },
        "id": "88Hyeb_5Qsx7",
        "outputId": "4d30d17c-31bf-4ece-f4e3-91e4d69d0cd0"
      },
      "execution_count": 30,
      "outputs": [
        {
          "output_type": "execute_result",
          "data": {
            "text/plain": [
              "0.4623533747770758"
            ]
          },
          "metadata": {},
          "execution_count": 30
        }
      ]
    },
    {
      "cell_type": "code",
      "source": [
        "#concatenamos para obtener la media general de un parámetro\n",
        "Overall= np.concatenate((Graf[0],Graf2[0],Graf3[0],Graf4[0],Graf5[0]), axis=None)"
      ],
      "metadata": {
        "id": "0zgri_L-R4UO"
      },
      "execution_count": 32,
      "outputs": []
    },
    {
      "cell_type": "code",
      "source": [
        "Overall"
      ],
      "metadata": {
        "colab": {
          "base_uri": "https://localhost:8080/"
        },
        "id": "FjxWNfEQSjzV",
        "outputId": "d2051d92-5bdd-4f2c-b9b3-9c3aae65b69d"
      },
      "execution_count": 33,
      "outputs": [
        {
          "output_type": "execute_result",
          "data": {
            "text/plain": [
              "array([ 0.        ,  0.11277196,  0.20035454, ..., 10.94651608,\n",
              "       10.89316562, 10.95491687])"
            ]
          },
          "metadata": {},
          "execution_count": 33
        }
      ]
    },
    {
      "cell_type": "code",
      "source": [
        "np.shape(Overall)"
      ],
      "metadata": {
        "colab": {
          "base_uri": "https://localhost:8080/"
        },
        "id": "0pEIG5EVSYSM",
        "outputId": "f666b69e-2ea3-4ef4-a2cc-757f41b4f9bb"
      },
      "execution_count": 34,
      "outputs": [
        {
          "output_type": "execute_result",
          "data": {
            "text/plain": [
              "(26715,)"
            ]
          },
          "metadata": {},
          "execution_count": 34
        }
      ]
    },
    {
      "cell_type": "code",
      "source": [
        "#Lista con las medias de las cadenas\n",
        "mean=[np.mean(Graf[0]),np.mean(Graf2[0]),np.mean(Graf3[0]), np.mean(Graf4[0]), np.mean(Graf5[0])]"
      ],
      "metadata": {
        "id": "MY9DxO2TZdjd"
      },
      "execution_count": 35,
      "outputs": []
    },
    {
      "cell_type": "code",
      "source": [
        "mean"
      ],
      "metadata": {
        "colab": {
          "base_uri": "https://localhost:8080/"
        },
        "id": "iOLraXDTZsN4",
        "outputId": "088ad761-db4e-49d5-93e8-f4091b8eec23"
      },
      "execution_count": 36,
      "outputs": [
        {
          "output_type": "execute_result",
          "data": {
            "text/plain": [
              "[10.241905770829424,\n",
              " 10.512977172831238,\n",
              " 10.405148021981601,\n",
              " 10.39394475600413,\n",
              " 10.302727606147952]"
            ]
          },
          "metadata": {},
          "execution_count": 36
        }
      ]
    },
    {
      "cell_type": "markdown",
      "source": [
        "$\\frac{B}{N}=\\frac{1}{m-1}\\sum_{i=1}^m(\\bar{X}_i-\\hat{\\mu})^2$"
      ],
      "metadata": {
        "id": "g8ZP8rIgECE6"
      }
    },
    {
      "cell_type": "code",
      "source": [
        "def B_N(means, Overall):\n",
        "  Suma=0\n",
        "  for i in range(4):\n",
        "    Suma += (mean[i]-np.mean(Overall))**2\n",
        "  B_N=(1/(5-1))*Suma\n",
        "  return B_N"
      ],
      "metadata": {
        "id": "qDWlyrgGRZHw"
      },
      "execution_count": 38,
      "outputs": []
    },
    {
      "cell_type": "code",
      "source": [
        "B_n = B_N(mean,Overall)"
      ],
      "metadata": {
        "id": "ZwKsTJGoS4qS"
      },
      "execution_count": 39,
      "outputs": []
    },
    {
      "cell_type": "markdown",
      "source": [
        "$\\hat{\\sigma}^2=\\frac{n-1}{n}s^2+\\frac{B}{n}$"
      ],
      "metadata": {
        "id": "Lv4jBmvEEUZv"
      }
    },
    {
      "cell_type": "code",
      "source": [
        "def sigma(SS,B_N, n):\n",
        "  sig=((n-1)/n)*SS+B_N\n",
        "  return sig"
      ],
      "metadata": {
        "id": "uJeCfTMTZ3Fq"
      },
      "execution_count": 40,
      "outputs": []
    },
    {
      "cell_type": "code",
      "source": [
        "sigma(SS,B_n,len(Graf[0]))"
      ],
      "metadata": {
        "colab": {
          "base_uri": "https://localhost:8080/"
        },
        "id": "o1CVBJ0LaSx0",
        "outputId": "d54ba99f-64d0-41e4-95c9-ccee8d80482d"
      },
      "execution_count": 41,
      "outputs": [
        {
          "output_type": "execute_result",
          "data": {
            "text/plain": [
              "0.47186780999903455"
            ]
          },
          "metadata": {},
          "execution_count": 41
        }
      ]
    },
    {
      "cell_type": "markdown",
      "source": [
        "$\\hat{R} = \\sqrt{\\frac{\\hat{\\sigma}^2}{s^2}}$"
      ],
      "metadata": {
        "id": "xNnBzpGLEnBN"
      }
    },
    {
      "cell_type": "code",
      "source": [
        "R=np.sqrt(sigma(SS,B_n,len(Graf[0]))/SS)"
      ],
      "metadata": {
        "id": "CFVc6BW9aha9"
      },
      "execution_count": 42,
      "outputs": []
    },
    {
      "cell_type": "code",
      "source": [
        "R"
      ],
      "metadata": {
        "colab": {
          "base_uri": "https://localhost:8080/"
        },
        "id": "20v_p0gMaze3",
        "outputId": "3dbb762b-86ce-40e1-c030-080d9cfed55a"
      },
      "execution_count": 43,
      "outputs": [
        {
          "output_type": "execute_result",
          "data": {
            "text/plain": [
              "1.0102367424078136"
            ]
          },
          "metadata": {},
          "execution_count": 43
        }
      ]
    },
    {
      "cell_type": "code",
      "source": [],
      "metadata": {
        "id": "A19NU_RIa0Me"
      },
      "execution_count": null,
      "outputs": []
    }
  ]
}