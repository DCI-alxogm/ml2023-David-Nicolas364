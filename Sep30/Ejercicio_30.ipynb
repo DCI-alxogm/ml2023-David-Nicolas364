{
  "nbformat": 4,
  "nbformat_minor": 0,
  "metadata": {
    "colab": {
      "provenance": [],
      "mount_file_id": "1L6aHwDi_CIFUy9NZfFH_22CGtWy4URcA",
      "authorship_tag": "ABX9TyNZq1mHShwuLZrGOqm5c3Mk",
      "include_colab_link": true
    },
    "kernelspec": {
      "name": "python3",
      "display_name": "Python 3"
    },
    "language_info": {
      "name": "python"
    }
  },
  "cells": [
    {
      "cell_type": "markdown",
      "metadata": {
        "id": "view-in-github",
        "colab_type": "text"
      },
      "source": [
        "<a href=\"https://colab.research.google.com/github/DCI-alxogm/ml2023-David-Nicolas364/blob/main/Sep30/Ejercicio_30.ipynb\" target=\"_parent\"><img src=\"https://colab.research.google.com/assets/colab-badge.svg\" alt=\"Open In Colab\"/></a>"
      ]
    },
    {
      "cell_type": "code",
      "execution_count": 1,
      "metadata": {
        "id": "BUlc3relqPYP"
      },
      "outputs": [],
      "source": [
        "import numpy as np\n",
        "import pandas as pd\n",
        "import math"
      ]
    },
    {
      "cell_type": "code",
      "source": [
        "def tetha_prop(tet_in1,tet_in2, sig):\n",
        "  tet_p=np.zeros(2)\n",
        "  tet_p[0]= np.random.normal(tet_in1,sig)\n",
        "  tet_p[1]= np.random.normal(tet_in2,sig)\n",
        "  return tet_p"
      ],
      "metadata": {
        "id": "Cw0FhIBtzbOs"
      },
      "execution_count": 3,
      "outputs": []
    },
    {
      "cell_type": "code",
      "source": [
        "def model(x,tetha):\n",
        "  for i in range(len(tetha)):\n",
        "    f=tetha[i]*x**i\n",
        "  return f\n",
        "\n",
        "def likelihood(y,x,tetha):\n",
        "  f=model(x,tetha)\n",
        "  for i in range(len(np.array(y))):\n",
        "    R=(y[i]-f[i])**2\n",
        "    Ll=np.sum(R)\n",
        "  return Ll\n",
        "\n",
        "def prior(Tet_min0,Tet_min1,Tet_max0, Tet_max1,tet_prop):\n",
        "  if Tet_max0 > tet_prop[0]  > Tet_min0 and Tet_max1 > tet_prop[1]  > Tet_min1:\n",
        "    LPrior=0\n",
        "  else:\n",
        "    LPrior=-math.inf\n",
        "  return LPrior"
      ],
      "metadata": {
        "id": "fA289-ks1VVV"
      },
      "execution_count": 93,
      "outputs": []
    },
    {
      "cell_type": "code",
      "source": [
        "def Post(prior, likelihood):\n",
        "  Post = likelihood + prior"
      ],
      "metadata": {
        "id": "kqFvbeJhDtrh"
      },
      "execution_count": 94,
      "outputs": []
    },
    {
      "cell_type": "code",
      "source": [
        "def Eval(N,y,x,tet_ini,sig,T_min0, T_max0, T_min1, T_max1):\n",
        "  Tet_accept=[]\n",
        "  np.array(Tet_accept)\n",
        "  for i in range(N):\n",
        "    Prop = tetha_prop(tet_ini[0],tet_ini[1],sig)\n",
        "    if Post(prior(T_min0,T_min1,T_max0,T_max1,Prop),likelihood(y,x,Prop)) > Post(prior(T_min0,T_min1,T_max0,T_max1,tet_ini),likelihood(y,x,tet_ini)):\n",
        "      Tet_accept.vstack(Prop)\n",
        "      tet_ini= Prop\n",
        "    else:\n",
        "      ptest=np.random.uniform(0,1)\n",
        "      if Post(prior(T_min0,T_min1,T_max0,T_max1,Prop),likelihood(y,x,Prop))-Post(prior(T_min0,T_min1,T_max0,T_max1,tet_ini),likelihood(y,x,tet_ini)) > np.log(ptest):\n",
        "        Tet_accept.vstack(Prop)\n",
        "        tet_ini= Prop\n",
        "  return Tet_accept"
      ],
      "metadata": {
        "id": "KPVkdafw8ohR"
      },
      "execution_count": 104,
      "outputs": []
    },
    {
      "cell_type": "code",
      "source": [
        "N=100\n"
      ],
      "metadata": {
        "id": "2NRK0P7r-h7r"
      },
      "execution_count": 105,
      "outputs": []
    },
    {
      "cell_type": "code",
      "source": [
        "np.random.uniform(0,1)"
      ],
      "metadata": {
        "colab": {
          "base_uri": "https://localhost:8080/"
        },
        "id": "Gzpxr4NeA8fe",
        "outputId": "450e6ba6-be3b-4c37-dd69-a44b8af26282"
      },
      "execution_count": 106,
      "outputs": [
        {
          "output_type": "execute_result",
          "data": {
            "text/plain": [
              "0.6292818058214887"
            ]
          },
          "metadata": {},
          "execution_count": 106
        }
      ]
    },
    {
      "cell_type": "code",
      "source": [
        "data = np.loadtxt(\"olympic100m_men.txt\",delimiter=',').T"
      ],
      "metadata": {
        "id": "R0YNvonxCRyn"
      },
      "execution_count": 107,
      "outputs": []
    },
    {
      "cell_type": "code",
      "source": [
        "x=data[0]\n",
        "y=data[1]"
      ],
      "metadata": {
        "id": "vfAhBGqeKVTf"
      },
      "execution_count": 108,
      "outputs": []
    },
    {
      "cell_type": "code",
      "source": [
        "tet_ini=np.array([0,0])\n",
        "sig=0.1\n",
        "T_min0, T_max0= -5,5\n",
        "T_min1, T_max1= -5,5"
      ],
      "metadata": {
        "id": "2uRKVq0_K7fN"
      },
      "execution_count": 109,
      "outputs": []
    },
    {
      "cell_type": "code",
      "source": [
        "Eval(N,y,x,tet_ini,sig,T_min0, T_max0, T_min1, T_max1)"
      ],
      "metadata": {
        "colab": {
          "base_uri": "https://localhost:8080/",
          "height": 297
        },
        "id": "wF8IftzrLeS2",
        "outputId": "c60540e0-087e-414e-d18e-d30e6c3a44ff"
      },
      "execution_count": 110,
      "outputs": [
        {
          "output_type": "error",
          "ename": "TypeError",
          "evalue": "ignored",
          "traceback": [
            "\u001b[0;31m---------------------------------------------------------------------------\u001b[0m",
            "\u001b[0;31mTypeError\u001b[0m                                 Traceback (most recent call last)",
            "\u001b[0;32m<ipython-input-110-7d1632dc1405>\u001b[0m in \u001b[0;36m<cell line: 1>\u001b[0;34m()\u001b[0m\n\u001b[0;32m----> 1\u001b[0;31m \u001b[0mEval\u001b[0m\u001b[0;34m(\u001b[0m\u001b[0mN\u001b[0m\u001b[0;34m,\u001b[0m\u001b[0my\u001b[0m\u001b[0;34m,\u001b[0m\u001b[0mx\u001b[0m\u001b[0;34m,\u001b[0m\u001b[0mtet_ini\u001b[0m\u001b[0;34m,\u001b[0m\u001b[0msig\u001b[0m\u001b[0;34m,\u001b[0m\u001b[0mT_min0\u001b[0m\u001b[0;34m,\u001b[0m \u001b[0mT_max0\u001b[0m\u001b[0;34m,\u001b[0m \u001b[0mT_min1\u001b[0m\u001b[0;34m,\u001b[0m \u001b[0mT_max1\u001b[0m\u001b[0;34m)\u001b[0m\u001b[0;34m\u001b[0m\u001b[0;34m\u001b[0m\u001b[0m\n\u001b[0m",
            "\u001b[0;32m<ipython-input-104-fc40d26a1994>\u001b[0m in \u001b[0;36mEval\u001b[0;34m(N, y, x, tet_ini, sig, T_min0, T_max0, T_min1, T_max1)\u001b[0m\n\u001b[1;32m      4\u001b[0m   \u001b[0;32mfor\u001b[0m \u001b[0mi\u001b[0m \u001b[0;32min\u001b[0m \u001b[0mrange\u001b[0m\u001b[0;34m(\u001b[0m\u001b[0mN\u001b[0m\u001b[0;34m)\u001b[0m\u001b[0;34m:\u001b[0m\u001b[0;34m\u001b[0m\u001b[0;34m\u001b[0m\u001b[0m\n\u001b[1;32m      5\u001b[0m     \u001b[0mProp\u001b[0m \u001b[0;34m=\u001b[0m \u001b[0mtetha_prop\u001b[0m\u001b[0;34m(\u001b[0m\u001b[0mtet_ini\u001b[0m\u001b[0;34m[\u001b[0m\u001b[0;36m0\u001b[0m\u001b[0;34m]\u001b[0m\u001b[0;34m,\u001b[0m\u001b[0mtet_ini\u001b[0m\u001b[0;34m[\u001b[0m\u001b[0;36m1\u001b[0m\u001b[0;34m]\u001b[0m\u001b[0;34m,\u001b[0m\u001b[0msig\u001b[0m\u001b[0;34m)\u001b[0m\u001b[0;34m\u001b[0m\u001b[0;34m\u001b[0m\u001b[0m\n\u001b[0;32m----> 6\u001b[0;31m     \u001b[0;32mif\u001b[0m \u001b[0mPost\u001b[0m\u001b[0;34m(\u001b[0m\u001b[0mprior\u001b[0m\u001b[0;34m(\u001b[0m\u001b[0mT_min0\u001b[0m\u001b[0;34m,\u001b[0m\u001b[0mT_min1\u001b[0m\u001b[0;34m,\u001b[0m\u001b[0mT_max0\u001b[0m\u001b[0;34m,\u001b[0m\u001b[0mT_max1\u001b[0m\u001b[0;34m,\u001b[0m\u001b[0mProp\u001b[0m\u001b[0;34m)\u001b[0m\u001b[0;34m,\u001b[0m\u001b[0mlikelihood\u001b[0m\u001b[0;34m(\u001b[0m\u001b[0my\u001b[0m\u001b[0;34m,\u001b[0m\u001b[0mx\u001b[0m\u001b[0;34m,\u001b[0m\u001b[0mProp\u001b[0m\u001b[0;34m)\u001b[0m\u001b[0;34m)\u001b[0m \u001b[0;34m>\u001b[0m \u001b[0mPost\u001b[0m\u001b[0;34m(\u001b[0m\u001b[0mprior\u001b[0m\u001b[0;34m(\u001b[0m\u001b[0mT_min0\u001b[0m\u001b[0;34m,\u001b[0m\u001b[0mT_min1\u001b[0m\u001b[0;34m,\u001b[0m\u001b[0mT_max0\u001b[0m\u001b[0;34m,\u001b[0m\u001b[0mT_max1\u001b[0m\u001b[0;34m,\u001b[0m\u001b[0mtet_ini\u001b[0m\u001b[0;34m)\u001b[0m\u001b[0;34m,\u001b[0m\u001b[0mlikelihood\u001b[0m\u001b[0;34m(\u001b[0m\u001b[0my\u001b[0m\u001b[0;34m,\u001b[0m\u001b[0mx\u001b[0m\u001b[0;34m,\u001b[0m\u001b[0mtet_ini\u001b[0m\u001b[0;34m)\u001b[0m\u001b[0;34m)\u001b[0m\u001b[0;34m:\u001b[0m\u001b[0;34m\u001b[0m\u001b[0;34m\u001b[0m\u001b[0m\n\u001b[0m\u001b[1;32m      7\u001b[0m       \u001b[0mTet_accept\u001b[0m\u001b[0;34m.\u001b[0m\u001b[0mvstack\u001b[0m\u001b[0;34m(\u001b[0m\u001b[0mProp\u001b[0m\u001b[0;34m)\u001b[0m\u001b[0;34m\u001b[0m\u001b[0;34m\u001b[0m\u001b[0m\n\u001b[1;32m      8\u001b[0m       \u001b[0mtet_ini\u001b[0m\u001b[0;34m=\u001b[0m \u001b[0mProp\u001b[0m\u001b[0;34m\u001b[0m\u001b[0;34m\u001b[0m\u001b[0m\n",
            "\u001b[0;31mTypeError\u001b[0m: '>' not supported between instances of 'NoneType' and 'NoneType'"
          ]
        }
      ]
    },
    {
      "cell_type": "code",
      "source": [
        "range(len(np.array(y)))"
      ],
      "metadata": {
        "colab": {
          "base_uri": "https://localhost:8080/"
        },
        "id": "dNIoJ2k5LhIz",
        "outputId": "7b56f3e2-7c6e-4456-b363-97be6e38d8d6"
      },
      "execution_count": 111,
      "outputs": [
        {
          "output_type": "execute_result",
          "data": {
            "text/plain": [
              "range(0, 27)"
            ]
          },
          "metadata": {},
          "execution_count": 111
        }
      ]
    },
    {
      "cell_type": "code",
      "source": [],
      "metadata": {
        "id": "HPzKPiD2L2IV"
      },
      "execution_count": null,
      "outputs": []
    },
    {
      "cell_type": "code",
      "source": [],
      "metadata": {
        "id": "RfTiymc2O6uU"
      },
      "execution_count": null,
      "outputs": []
    }
  ]
}