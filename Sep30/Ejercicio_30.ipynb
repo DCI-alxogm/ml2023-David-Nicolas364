{
  "nbformat": 4,
  "nbformat_minor": 0,
  "metadata": {
    "colab": {
      "provenance": [],
      "mount_file_id": "1L6aHwDi_CIFUy9NZfFH_22CGtWy4URcA",
      "authorship_tag": "ABX9TyNYffOw/mxKfCDH8A9MRkTU",
      "include_colab_link": true
    },
    "kernelspec": {
      "name": "python3",
      "display_name": "Python 3"
    },
    "language_info": {
      "name": "python"
    }
  },
  "cells": [
    {
      "cell_type": "markdown",
      "metadata": {
        "id": "view-in-github",
        "colab_type": "text"
      },
      "source": [
        "<a href=\"https://colab.research.google.com/github/DCI-alxogm/ml2023-David-Nicolas364/blob/main/Sep30/Ejercicio_30.ipynb\" target=\"_parent\"><img src=\"https://colab.research.google.com/assets/colab-badge.svg\" alt=\"Open In Colab\"/></a>"
      ]
    },
    {
      "cell_type": "code",
      "execution_count": 47,
      "metadata": {
        "id": "BUlc3relqPYP"
      },
      "outputs": [],
      "source": [
        "import numpy as np\n",
        "import pandas as pd\n",
        "import math\n",
        "import matplotlib.pyplot as plt"
      ]
    },
    {
      "cell_type": "code",
      "source": [
        "def tetha_prop(tet_in1,tet_in2, sig):\n",
        "  tet_p=np.zeros(2)\n",
        "  tet_p[0]= np.random.normal(tet_in1,sig)\n",
        "  tet_p[1]= np.random.normal(tet_in2,sig)\n",
        "  return tet_p"
      ],
      "metadata": {
        "id": "Cw0FhIBtzbOs"
      },
      "execution_count": 2,
      "outputs": []
    },
    {
      "cell_type": "code",
      "source": [
        "def model(x,tetha):\n",
        "  for i in range(len(tetha)):\n",
        "    f=tetha[i]*x**i\n",
        "  return f\n",
        "\n",
        "def likelihood(y,x,tetha):\n",
        "  f=model(x,tetha)\n",
        "  for i in range(len(np.array(y))):\n",
        "    R=(y[i]-f[i])**2\n",
        "    Ll=np.sum(R)\n",
        "  return Ll\n",
        "\n",
        "def prior(Tet_min0,Tet_min1,Tet_max0, Tet_max1,tet_prop):\n",
        "  if Tet_max0 > tet_prop[0]  > Tet_min0 and Tet_max1 > tet_prop[1]  > Tet_min1:\n",
        "    LPrior=0\n",
        "  else:\n",
        "    LPrior=-math.inf\n",
        "  return LPrior"
      ],
      "metadata": {
        "id": "fA289-ks1VVV"
      },
      "execution_count": 3,
      "outputs": []
    },
    {
      "cell_type": "code",
      "source": [
        "def Post(prior, likelihood):\n",
        "  Post = likelihood + prior\n",
        "  return Post"
      ],
      "metadata": {
        "id": "kqFvbeJhDtrh"
      },
      "execution_count": 17,
      "outputs": []
    },
    {
      "cell_type": "code",
      "source": [
        "def Eval(N,y,x,tet_ini,sig,T_min0, T_max0, T_min1, T_max1):\n",
        "  Tet_accept=[0,0]\n",
        "  Tet_acc = np.array(Tet_accept)\n",
        "  for i in range(N):\n",
        "    Prop = tetha_prop(tet_ini[0],tet_ini[1],sig)\n",
        "    if Post(prior(T_min0,T_min1,T_max0,T_max1,Prop),likelihood(y,x,Prop)) > Post(prior(T_min0,T_min1,T_max0,T_max1,tet_ini),likelihood(y,x,tet_ini)):\n",
        "      Tet_acc = np.vstack((Tet_acc,Prop))\n",
        "      tet_ini= Prop\n",
        "    else:\n",
        "      ptest=np.random.uniform(0,1)\n",
        "      if Post(prior(T_min0,T_min1,T_max0,T_max1,Prop),likelihood(y,x,Prop))-Post(prior(T_min0,T_min1,T_max0,T_max1,tet_ini),likelihood(y,x,tet_ini)) > np.log(ptest):\n",
        "        Tet_acc= np.vstack(Tet_acc,Prop)\n",
        "        tet_ini= Prop\n",
        "  return Tet_acc"
      ],
      "metadata": {
        "id": "KPVkdafw8ohR"
      },
      "execution_count": 41,
      "outputs": []
    },
    {
      "cell_type": "code",
      "source": [
        "N=100\n"
      ],
      "metadata": {
        "id": "2NRK0P7r-h7r"
      },
      "execution_count": 21,
      "outputs": []
    },
    {
      "cell_type": "code",
      "source": [
        "np.random.uniform(0,1)"
      ],
      "metadata": {
        "colab": {
          "base_uri": "https://localhost:8080/"
        },
        "id": "Gzpxr4NeA8fe",
        "outputId": "bf5a207a-f0ff-4f1e-94d2-839cf2aebd9a"
      },
      "execution_count": 22,
      "outputs": [
        {
          "output_type": "execute_result",
          "data": {
            "text/plain": [
              "0.6920169119128504"
            ]
          },
          "metadata": {},
          "execution_count": 22
        }
      ]
    },
    {
      "cell_type": "code",
      "source": [
        "data = np.loadtxt(\"olympic100m_men.txt\",delimiter=',').T"
      ],
      "metadata": {
        "id": "R0YNvonxCRyn"
      },
      "execution_count": 23,
      "outputs": []
    },
    {
      "cell_type": "code",
      "source": [
        "x=data[0]\n",
        "y=data[1]"
      ],
      "metadata": {
        "id": "vfAhBGqeKVTf"
      },
      "execution_count": 11,
      "outputs": []
    },
    {
      "cell_type": "code",
      "source": [
        "tet_ini=np.array([0,0])\n",
        "sig=0.1\n",
        "T_min0, T_max0= -5,5\n",
        "T_min1, T_max1= -5,5"
      ],
      "metadata": {
        "id": "2uRKVq0_K7fN"
      },
      "execution_count": 12,
      "outputs": []
    },
    {
      "cell_type": "code",
      "source": [
        "Tethas = Eval(N,y,x,tet_ini,sig,T_min0, T_max0, T_min1, T_max1)"
      ],
      "metadata": {
        "id": "wF8IftzrLeS2"
      },
      "execution_count": 43,
      "outputs": []
    },
    {
      "cell_type": "code",
      "source": [
        "Graf = Tethas.T"
      ],
      "metadata": {
        "id": "RfTiymc2O6uU"
      },
      "execution_count": 54,
      "outputs": []
    },
    {
      "cell_type": "code",
      "source": [
        "plt.scatter(Graf[0],Graf[1])"
      ],
      "metadata": {
        "colab": {
          "base_uri": "https://localhost:8080/",
          "height": 447
        },
        "id": "dNIoJ2k5LhIz",
        "outputId": "345e5ee0-02a9-4278-c211-c107377f436e"
      },
      "execution_count": 57,
      "outputs": [
        {
          "output_type": "execute_result",
          "data": {
            "text/plain": [
              "<matplotlib.collections.PathCollection at 0x7bb9ab7554b0>"
            ]
          },
          "metadata": {},
          "execution_count": 57
        },
        {
          "output_type": "display_data",
          "data": {
            "text/plain": [
              "<Figure size 640x480 with 1 Axes>"
            ],
            "image/png": "[encoded data removed]"
          },
          "metadata": {}
        }
      ]
    }
  ]
}