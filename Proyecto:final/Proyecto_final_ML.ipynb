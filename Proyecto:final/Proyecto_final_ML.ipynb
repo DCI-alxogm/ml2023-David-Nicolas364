{
  "nbformat": 4,
  "nbformat_minor": 0,
  "metadata": {
    "colab": {
      "provenance": [],
      "mount_file_id": "1phAGnFeXJXTCEKdrS6h_Sj3J_pR2OxAt",
      "authorship_tag": "ABX9TyNhBVQBNi6EQwoDYhMELZWE",
      "include_colab_link": true
    },
    "kernelspec": {
      "name": "python3",
      "display_name": "Python 3"
    },
    "language_info": {
      "name": "python"
    }
  },
  "cells": [
    {
      "cell_type": "markdown",
      "metadata": {
        "id": "view-in-github",
        "colab_type": "text"
      },
      "source": [
        "<a href=\"https://colab.research.google.com/github/DCI-alxogm/ml2023-David-Nicolas364/blob/main/Proyecto%3Afinal/Proyecto_final_ML.ipynb\" target=\"_parent\"><img src=\"https://colab.research.google.com/assets/colab-badge.svg\" alt=\"Open In Colab\"/></a>"
      ]
    },
    {
      "cell_type": "markdown",
      "source": [
        "## Proyecto capaz de detectar fake news\n",
        "David Nicolás Cruz Benítez"
      ],
      "metadata": {
        "id": "KeqxiKpfqUmW"
      }
    },
    {
      "cell_type": "markdown",
      "source": [
        "El objetivo de este código es que por medio del uso de redes neuronales sea capaz de aprender de nuetro conjunto de datos y por medio de una red neuronal se pueda detectar entre noticias verdaderas y noticias falsas. Este tipo de aprendizaje es supervisado ya que al programa se le dan noticias que ya se conocen como verdaderas o falsas y pasan por una red neuronal."
      ],
      "metadata": {
        "id": "ehkE1cLgqg5t"
      }
    },
    {
      "cell_type": "markdown",
      "source": [
        "Table of contents:\n",
        "*   Introducción\n",
        "*   Imports e installs\n",
        "*   Procesamiento de datos\n",
        "*   Modelo de Machine Learning\n",
        "\n",
        "\n"
      ],
      "metadata": {
        "id": "mFyT4WGirj53"
      }
    },
    {
      "cell_type": "markdown",
      "source": [
        "##Imports e installs"
      ],
      "metadata": {
        "id": "_S4iNPl38SvV"
      }
    },
    {
      "cell_type": "markdown",
      "source": [
        "Se usará la librería stop_words ya que está nos ayudará en el procesamiento de palabras a disminuir la cantidad de palabras en nuestros textos"
      ],
      "metadata": {
        "id": "dASp_9JPDLKz"
      }
    },
    {
      "cell_type": "code",
      "source": [
        "!pip install stop_words"
      ],
      "metadata": {
        "colab": {
          "base_uri": "https://localhost:8080/"
        },
        "id": "J3KP-ysJf56w",
        "outputId": "019157ba-c210-4770-9a3d-a7a4edb5c882"
      },
      "execution_count": 2,
      "outputs": [
        {
          "output_type": "stream",
          "name": "stdout",
          "text": [
            "Collecting stop_words\n",
            "  Downloading stop-words-2018.7.23.tar.gz (31 kB)\n",
            "  Preparing metadata (setup.py) ... \u001b[?25l\u001b[?25hdone\n",
            "Building wheels for collected packages: stop_words\n",
            "  Building wheel for stop_words (setup.py) ... \u001b[?25l\u001b[?25hdone\n",
            "  Created wheel for stop_words: filename=stop_words-2018.7.23-py3-none-any.whl size=32895 sha256=87b1dce11d31d34f71e05b6853d3183ebbca99df343d8af60c06140c19a85355\n",
            "  Stored in directory: /root/.cache/pip/wheels/d0/1a/23/f12552a50cb09bcc1694a5ebb6c2cd5f2a0311de2b8c3d9a89\n",
            "Successfully built stop_words\n",
            "Installing collected packages: stop_words\n",
            "Successfully installed stop_words-2018.7.23\n"
          ]
        }
      ]
    },
    {
      "cell_type": "code",
      "execution_count": 3,
      "metadata": {
        "id": "QUY3g7hUn8DK"
      },
      "outputs": [],
      "source": [
        "import pandas as pd\n",
        "import numpy as np\n",
        "import re\n",
        "import matplotlib.pyplot as plt\n",
        "from stop_words import get_stop_words\n",
        "from nltk.stem.porter import PorterStemmer\n",
        "from sklearn.model_selection import train_test_split\n",
        "from gensim.models import Word2Vec\n",
        "from nltk.tokenize import TweetTokenizer\n",
        "from sklearn.feature_extraction.text import TfidfVectorizer\n",
        "from sklearn.decomposition import PCA\n",
        "from sklearn.preprocessing import StandardScaler"
      ]
    },
    {
      "cell_type": "markdown",
      "source": [
        "# Procesado de datos"
      ],
      "metadata": {
        "id": "H9OZLU0dRsrt"
      }
    },
    {
      "cell_type": "markdown",
      "source": [
        "Dedibo a que los datos son texto lo primero que tenemos que hacer es cambiar los datos a número para que así se pueda entender en el programa y puedan ser usados en la red neuronal."
      ],
      "metadata": {
        "id": "MGKhIbJoUTuh"
      }
    },
    {
      "cell_type": "code",
      "source": [
        "df = pd.read_csv(\"/content/drive/MyDrive/Cosas ML/train_set.csv/train.csv\")"
      ],
      "metadata": {
        "id": "AaKF8qi2sMxr"
      },
      "execution_count": 4,
      "outputs": []
    },
    {
      "cell_type": "code",
      "source": [
        "df"
      ],
      "metadata": {
        "colab": {
          "base_uri": "https://localhost:8080/",
          "height": 424
        },
        "id": "b8AwjGCPwDC0",
        "outputId": "729b0885-4489-4009-e4aa-10d7d99404ed"
      },
      "execution_count": 5,
      "outputs": [
        {
          "output_type": "execute_result",
          "data": {
            "text/plain": [
              "          id                                              title  \\\n",
              "0          0  House Dem Aide: We Didn’t Even See Comey’s Let...   \n",
              "1          1  FLYNN: Hillary Clinton, Big Woman on Campus - ...   \n",
              "2          2                  Why the Truth Might Get You Fired   \n",
              "3          3  15 Civilians Killed In Single US Airstrike Hav...   \n",
              "4          4  Iranian woman jailed for fictional unpublished...   \n",
              "...      ...                                                ...   \n",
              "20795  20795  Rapper T.I.: Trump a ’Poster Child For White S...   \n",
              "20796  20796  N.F.L. Playoffs: Schedule, Matchups and Odds -...   \n",
              "20797  20797  Macy’s Is Said to Receive Takeover Approach by...   \n",
              "20798  20798  NATO, Russia To Hold Parallel Exercises In Bal...   \n",
              "20799  20799                          What Keeps the F-35 Alive   \n",
              "\n",
              "                                          author  \\\n",
              "0                                  Darrell Lucus   \n",
              "1                                Daniel J. Flynn   \n",
              "2                             Consortiumnews.com   \n",
              "3                                Jessica Purkiss   \n",
              "4                                 Howard Portnoy   \n",
              "...                                          ...   \n",
              "20795                              Jerome Hudson   \n",
              "20796                           Benjamin Hoffman   \n",
              "20797  Michael J. de la Merced and Rachel Abrams   \n",
              "20798                                Alex Ansary   \n",
              "20799                              David Swanson   \n",
              "\n",
              "                                                    text  label  \n",
              "0      House Dem Aide: We Didn’t Even See Comey’s Let...      1  \n",
              "1      Ever get the feeling your life circles the rou...      0  \n",
              "2      Why the Truth Might Get You Fired October 29, ...      1  \n",
              "3      Videos 15 Civilians Killed In Single US Airstr...      1  \n",
              "4      Print \\nAn Iranian woman has been sentenced to...      1  \n",
              "...                                                  ...    ...  \n",
              "20795  Rapper T. I. unloaded on black celebrities who...      0  \n",
              "20796  When the Green Bay Packers lost to the Washing...      0  \n",
              "20797  The Macy’s of today grew from the union of sev...      0  \n",
              "20798  NATO, Russia To Hold Parallel Exercises In Bal...      1  \n",
              "20799    David Swanson is an author, activist, journa...      1  \n",
              "\n",
              "[20800 rows x 5 columns]"
            ],
            "text/html": [
              "\n",
              "  <div id=\"df-083164d9-3730-4929-82f5-fb652b60641b\" class=\"colab-df-container\">\n",
              "    <div>\n",
              "<style scoped>\n",
              "    .dataframe tbody tr th:only-of-type {\n",
              "        vertical-align: middle;\n",
              "    }\n",
              "\n",
              "    .dataframe tbody tr th {\n",
              "        vertical-align: top;\n",
              "    }\n",
              "\n",
              "    .dataframe thead th {\n",
              "        text-align: right;\n",
              "    }\n",
              "</style>\n",
              "<table border=\"1\" class=\"dataframe\">\n",
              "  <thead>\n",
              "    <tr style=\"text-align: right;\">\n",
              "      <th></th>\n",
              "      <th>id</th>\n",
              "      <th>title</th>\n",
              "      <th>author</th>\n",
              "      <th>text</th>\n",
              "      <th>label</th>\n",
              "    </tr>\n",
              "  </thead>\n",
              "  <tbody>\n",
              "    <tr>\n",
              "      <th>0</th>\n",
              "      <td>0</td>\n",
              "      <td>House Dem Aide: We Didn’t Even See Comey’s Let...</td>\n",
              "      <td>Darrell Lucus</td>\n",
              "      <td>House Dem Aide: We Didn’t Even See Comey’s Let...</td>\n",
              "      <td>1</td>\n",
              "    </tr>\n",
              "    <tr>\n",
              "      <th>1</th>\n",
              "      <td>1</td>\n",
              "      <td>FLYNN: Hillary Clinton, Big Woman on Campus - ...</td>\n",
              "      <td>Daniel J. Flynn</td>\n",
              "      <td>Ever get the feeling your life circles the rou...</td>\n",
              "      <td>0</td>\n",
              "    </tr>\n",
              "    <tr>\n",
              "      <th>2</th>\n",
              "      <td>2</td>\n",
              "      <td>Why the Truth Might Get You Fired</td>\n",
              "      <td>Consortiumnews.com</td>\n",
              "      <td>Why the Truth Might Get You Fired October 29, ...</td>\n",
              "      <td>1</td>\n",
              "    </tr>\n",
              "    <tr>\n",
              "      <th>3</th>\n",
              "      <td>3</td>\n",
              "      <td>15 Civilians Killed In Single US Airstrike Hav...</td>\n",
              "      <td>Jessica Purkiss</td>\n",
              "      <td>Videos 15 Civilians Killed In Single US Airstr...</td>\n",
              "      <td>1</td>\n",
              "    </tr>\n",
              "    <tr>\n",
              "      <th>4</th>\n",
              "      <td>4</td>\n",
              "      <td>Iranian woman jailed for fictional unpublished...</td>\n",
              "      <td>Howard Portnoy</td>\n",
              "      <td>Print \\nAn Iranian woman has been sentenced to...</td>\n",
              "      <td>1</td>\n",
              "    </tr>\n",
              "    <tr>\n",
              "      <th>...</th>\n",
              "      <td>...</td>\n",
              "      <td>...</td>\n",
              "      <td>...</td>\n",
              "      <td>...</td>\n",
              "      <td>...</td>\n",
              "    </tr>\n",
              "    <tr>\n",
              "      <th>20795</th>\n",
              "      <td>20795</td>\n",
              "      <td>Rapper T.I.: Trump a ’Poster Child For White S...</td>\n",
              "      <td>Jerome Hudson</td>\n",
              "      <td>Rapper T. I. unloaded on black celebrities who...</td>\n",
              "      <td>0</td>\n",
              "    </tr>\n",
              "    <tr>\n",
              "      <th>20796</th>\n",
              "      <td>20796</td>\n",
              "      <td>N.F.L. Playoffs: Schedule, Matchups and Odds -...</td>\n",
              "      <td>Benjamin Hoffman</td>\n",
              "      <td>When the Green Bay Packers lost to the Washing...</td>\n",
              "      <td>0</td>\n",
              "    </tr>\n",
              "    <tr>\n",
              "      <th>20797</th>\n",
              "      <td>20797</td>\n",
              "      <td>Macy’s Is Said to Receive Takeover Approach by...</td>\n",
              "      <td>Michael J. de la Merced and Rachel Abrams</td>\n",
              "      <td>The Macy’s of today grew from the union of sev...</td>\n",
              "      <td>0</td>\n",
              "    </tr>\n",
              "    <tr>\n",
              "      <th>20798</th>\n",
              "      <td>20798</td>\n",
              "      <td>NATO, Russia To Hold Parallel Exercises In Bal...</td>\n",
              "      <td>Alex Ansary</td>\n",
              "      <td>NATO, Russia To Hold Parallel Exercises In Bal...</td>\n",
              "      <td>1</td>\n",
              "    </tr>\n",
              "    <tr>\n",
              "      <th>20799</th>\n",
              "      <td>20799</td>\n",
              "      <td>What Keeps the F-35 Alive</td>\n",
              "      <td>David Swanson</td>\n",
              "      <td>David Swanson is an author, activist, journa...</td>\n",
              "      <td>1</td>\n",
              "    </tr>\n",
              "  </tbody>\n",
              "</table>\n",
              "<p>20800 rows × 5 columns</p>\n",
              "</div>\n",
              "    <div class=\"colab-df-buttons\">\n",
              "\n",
              "  <div class=\"colab-df-container\">\n",
              "    <button class=\"colab-df-convert\" onclick=\"convertToInteractive('df-083164d9-3730-4929-82f5-fb652b60641b')\"\n",
              "            title=\"Convert this dataframe to an interactive table.\"\n",
              "            style=\"display:none;\">\n",
              "\n",
              "  <svg xmlns=\"http://www.w3.org/2000/svg\" height=\"24px\" viewBox=\"0 -960 960 960\">\n",
              "    <path d=\"M120-120v-720h720v720H120Zm60-500h600v-160H180v160Zm220 220h160v-160H400v160Zm0 220h160v-160H400v160ZM180-400h160v-160H180v160Zm440 0h160v-160H620v160ZM180-180h160v-160H180v160Zm440 0h160v-160H620v160Z\"/>\n",
              "  </svg>\n",
              "    </button>\n",
              "\n",
              "  <style>\n",
              "    .colab-df-container {\n",
              "      display:flex;\n",
              "      gap: 12px;\n",
              "    }\n",
              "\n",
              "    .colab-df-convert {\n",
              "      background-color: #E8F0FE;\n",
              "      border: none;\n",
              "      border-radius: 50%;\n",
              "      cursor: pointer;\n",
              "      display: none;\n",
              "      fill: #1967D2;\n",
              "      height: 32px;\n",
              "      padding: 0 0 0 0;\n",
              "      width: 32px;\n",
              "    }\n",
              "\n",
              "    .colab-df-convert:hover {\n",
              "      background-color: #E2EBFA;\n",
              "      box-shadow: 0px 1px 2px rgba(60, 64, 67, 0.3), 0px 1px 3px 1px rgba(60, 64, 67, 0.15);\n",
              "      fill: #174EA6;\n",
              "    }\n",
              "\n",
              "    .colab-df-buttons div {\n",
              "      margin-bottom: 4px;\n",
              "    }\n",
              "\n",
              "    [theme=dark] .colab-df-convert {\n",
              "      background-color: #3B4455;\n",
              "      fill: #D2E3FC;\n",
              "    }\n",
              "\n",
              "    [theme=dark] .colab-df-convert:hover {\n",
              "      background-color: #434B5C;\n",
              "      box-shadow: 0px 1px 3px 1px rgba(0, 0, 0, 0.15);\n",
              "      filter: drop-shadow(0px 1px 2px rgba(0, 0, 0, 0.3));\n",
              "      fill: #FFFFFF;\n",
              "    }\n",
              "  </style>\n",
              "\n",
              "    <script>\n",
              "      const buttonEl =\n",
              "        document.querySelector('#df-083164d9-3730-4929-82f5-fb652b60641b button.colab-df-convert');\n",
              "      buttonEl.style.display =\n",
              "        google.colab.kernel.accessAllowed ? 'block' : 'none';\n",
              "\n",
              "      async function convertToInteractive(key) {\n",
              "        const element = document.querySelector('#df-083164d9-3730-4929-82f5-fb652b60641b');\n",
              "        const dataTable =\n",
              "          await google.colab.kernel.invokeFunction('convertToInteractive',\n",
              "                                                    [key], {});\n",
              "        if (!dataTable) return;\n",
              "\n",
              "        const docLinkHtml = 'Like what you see? Visit the ' +\n",
              "          '<a target=\"_blank\" href=https://colab.research.google.com/notebooks/data_table.ipynb>data table notebook</a>'\n",
              "          + ' to learn more about interactive tables.';\n",
              "        element.innerHTML = '';\n",
              "        dataTable['output_type'] = 'display_data';\n",
              "        await google.colab.output.renderOutput(dataTable, element);\n",
              "        const docLink = document.createElement('div');\n",
              "        docLink.innerHTML = docLinkHtml;\n",
              "        element.appendChild(docLink);\n",
              "      }\n",
              "    </script>\n",
              "  </div>\n",
              "\n",
              "\n",
              "<div id=\"df-c6971bdf-3b87-4b61-b1b8-083008fba2e4\">\n",
              "  <button class=\"colab-df-quickchart\" onclick=\"quickchart('df-c6971bdf-3b87-4b61-b1b8-083008fba2e4')\"\n",
              "            title=\"Suggest charts\"\n",
              "            style=\"display:none;\">\n",
              "\n",
              "<svg xmlns=\"http://www.w3.org/2000/svg\" height=\"24px\"viewBox=\"0 0 24 24\"\n",
              "     width=\"24px\">\n",
              "    <g>\n",
              "        <path d=\"M19 3H5c-1.1 0-2 .9-2 2v14c0 1.1.9 2 2 2h14c1.1 0 2-.9 2-2V5c0-1.1-.9-2-2-2zM9 17H7v-7h2v7zm4 0h-2V7h2v10zm4 0h-2v-4h2v4z\"/>\n",
              "    </g>\n",
              "</svg>\n",
              "  </button>\n",
              "\n",
              "<style>\n",
              "  .colab-df-quickchart {\n",
              "      --bg-color: #E8F0FE;\n",
              "      --fill-color: #1967D2;\n",
              "      --hover-bg-color: #E2EBFA;\n",
              "      --hover-fill-color: #174EA6;\n",
              "      --disabled-fill-color: #AAA;\n",
              "      --disabled-bg-color: #DDD;\n",
              "  }\n",
              "\n",
              "  [theme=dark] .colab-df-quickchart {\n",
              "      --bg-color: #3B4455;\n",
              "      --fill-color: #D2E3FC;\n",
              "      --hover-bg-color: #434B5C;\n",
              "      --hover-fill-color: #FFFFFF;\n",
              "      --disabled-bg-color: #3B4455;\n",
              "      --disabled-fill-color: #666;\n",
              "  }\n",
              "\n",
              "  .colab-df-quickchart {\n",
              "    background-color: var(--bg-color);\n",
              "    border: none;\n",
              "    border-radius: 50%;\n",
              "    cursor: pointer;\n",
              "    display: none;\n",
              "    fill: var(--fill-color);\n",
              "    height: 32px;\n",
              "    padding: 0;\n",
              "    width: 32px;\n",
              "  }\n",
              "\n",
              "  .colab-df-quickchart:hover {\n",
              "    background-color: var(--hover-bg-color);\n",
              "    box-shadow: 0 1px 2px rgba(60, 64, 67, 0.3), 0 1px 3px 1px rgba(60, 64, 67, 0.15);\n",
              "    fill: var(--button-hover-fill-color);\n",
              "  }\n",
              "\n",
              "  .colab-df-quickchart-complete:disabled,\n",
              "  .colab-df-quickchart-complete:disabled:hover {\n",
              "    background-color: var(--disabled-bg-color);\n",
              "    fill: var(--disabled-fill-color);\n",
              "    box-shadow: none;\n",
              "  }\n",
              "\n",
              "  .colab-df-spinner {\n",
              "    border: 2px solid var(--fill-color);\n",
              "    border-color: transparent;\n",
              "    border-bottom-color: var(--fill-color);\n",
              "    animation:\n",
              "      spin 1s steps(1) infinite;\n",
              "  }\n",
              "\n",
              "  @keyframes spin {\n",
              "    0% {\n",
              "      border-color: transparent;\n",
              "      border-bottom-color: var(--fill-color);\n",
              "      border-left-color: var(--fill-color);\n",
              "    }\n",
              "    20% {\n",
              "      border-color: transparent;\n",
              "      border-left-color: var(--fill-color);\n",
              "      border-top-color: var(--fill-color);\n",
              "    }\n",
              "    30% {\n",
              "      border-color: transparent;\n",
              "      border-left-color: var(--fill-color);\n",
              "      border-top-color: var(--fill-color);\n",
              "      border-right-color: var(--fill-color);\n",
              "    }\n",
              "    40% {\n",
              "      border-color: transparent;\n",
              "      border-right-color: var(--fill-color);\n",
              "      border-top-color: var(--fill-color);\n",
              "    }\n",
              "    60% {\n",
              "      border-color: transparent;\n",
              "      border-right-color: var(--fill-color);\n",
              "    }\n",
              "    80% {\n",
              "      border-color: transparent;\n",
              "      border-right-color: var(--fill-color);\n",
              "      border-bottom-color: var(--fill-color);\n",
              "    }\n",
              "    90% {\n",
              "      border-color: transparent;\n",
              "      border-bottom-color: var(--fill-color);\n",
              "    }\n",
              "  }\n",
              "</style>\n",
              "\n",
              "  <script>\n",
              "    async function quickchart(key) {\n",
              "      const quickchartButtonEl =\n",
              "        document.querySelector('#' + key + ' button');\n",
              "      quickchartButtonEl.disabled = true;  // To prevent multiple clicks.\n",
              "      quickchartButtonEl.classList.add('colab-df-spinner');\n",
              "      try {\n",
              "        const charts = await google.colab.kernel.invokeFunction(\n",
              "            'suggestCharts', [key], {});\n",
              "      } catch (error) {\n",
              "        console.error('Error during call to suggestCharts:', error);\n",
              "      }\n",
              "      quickchartButtonEl.classList.remove('colab-df-spinner');\n",
              "      quickchartButtonEl.classList.add('colab-df-quickchart-complete');\n",
              "    }\n",
              "    (() => {\n",
              "      let quickchartButtonEl =\n",
              "        document.querySelector('#df-c6971bdf-3b87-4b61-b1b8-083008fba2e4 button');\n",
              "      quickchartButtonEl.style.display =\n",
              "        google.colab.kernel.accessAllowed ? 'block' : 'none';\n",
              "    })();\n",
              "  </script>\n",
              "</div>\n",
              "\n",
              "  <div id=\"id_67982449-fbcd-4ebb-8a64-95a527ece3e7\">\n",
              "    <style>\n",
              "      .colab-df-generate {\n",
              "        background-color: #E8F0FE;\n",
              "        border: none;\n",
              "        border-radius: 50%;\n",
              "        cursor: pointer;\n",
              "        display: none;\n",
              "        fill: #1967D2;\n",
              "        height: 32px;\n",
              "        padding: 0 0 0 0;\n",
              "        width: 32px;\n",
              "      }\n",
              "\n",
              "      .colab-df-generate:hover {\n",
              "        background-color: #E2EBFA;\n",
              "        box-shadow: 0px 1px 2px rgba(60, 64, 67, 0.3), 0px 1px 3px 1px rgba(60, 64, 67, 0.15);\n",
              "        fill: #174EA6;\n",
              "      }\n",
              "\n",
              "      [theme=dark] .colab-df-generate {\n",
              "        background-color: #3B4455;\n",
              "        fill: #D2E3FC;\n",
              "      }\n",
              "\n",
              "      [theme=dark] .colab-df-generate:hover {\n",
              "        background-color: #434B5C;\n",
              "        box-shadow: 0px 1px 3px 1px rgba(0, 0, 0, 0.15);\n",
              "        filter: drop-shadow(0px 1px 2px rgba(0, 0, 0, 0.3));\n",
              "        fill: #FFFFFF;\n",
              "      }\n",
              "    </style>\n",
              "    <button class=\"colab-df-generate\" onclick=\"generateWithVariable('df')\"\n",
              "            title=\"Generate code using this dataframe.\"\n",
              "            style=\"display:none;\">\n",
              "\n",
              "  <svg xmlns=\"http://www.w3.org/2000/svg\" height=\"24px\"viewBox=\"0 0 24 24\"\n",
              "       width=\"24px\">\n",
              "    <path d=\"M7,19H8.4L18.45,9,17,7.55,7,17.6ZM5,21V16.75L18.45,3.32a2,2,0,0,1,2.83,0l1.4,1.43a1.91,1.91,0,0,1,.58,1.4,1.91,1.91,0,0,1-.58,1.4L9.25,21ZM18.45,9,17,7.55Zm-12,3A5.31,5.31,0,0,0,4.9,8.1,5.31,5.31,0,0,0,1,6.5,5.31,5.31,0,0,0,4.9,4.9,5.31,5.31,0,0,0,6.5,1,5.31,5.31,0,0,0,8.1,4.9,5.31,5.31,0,0,0,12,6.5,5.46,5.46,0,0,0,6.5,12Z\"/>\n",
              "  </svg>\n",
              "    </button>\n",
              "    <script>\n",
              "      (() => {\n",
              "      const buttonEl =\n",
              "        document.querySelector('#id_67982449-fbcd-4ebb-8a64-95a527ece3e7 button.colab-df-generate');\n",
              "      buttonEl.style.display =\n",
              "        google.colab.kernel.accessAllowed ? 'block' : 'none';\n",
              "\n",
              "      buttonEl.onclick = () => {\n",
              "        google.colab.notebook.generateWithVariable('df');\n",
              "      }\n",
              "      })();\n",
              "    </script>\n",
              "  </div>\n",
              "\n",
              "    </div>\n",
              "  </div>\n"
            ]
          },
          "metadata": {},
          "execution_count": 5
        }
      ]
    },
    {
      "cell_type": "markdown",
      "source": [
        "Datos obtenidos de: https://kaggle.com/competitions/fake-news."
      ],
      "metadata": {
        "id": "kS6RkXqHrx2d"
      }
    },
    {
      "cell_type": "markdown",
      "source": [
        "En este dataframe se presenta una identificación para cada noticia, así como: el título del artículo, el autor y el texto, además para este dataset se nos presenta si las noticias son verdaderas si en label contienen un 0 y es falsa si contiene un 1"
      ],
      "metadata": {
        "id": "zDjanFf-w_2E"
      }
    },
    {
      "cell_type": "code",
      "source": [
        "df.shape"
      ],
      "metadata": {
        "colab": {
          "base_uri": "https://localhost:8080/"
        },
        "id": "pPBS42uFwToN",
        "outputId": "da938f52-aa91-403a-b460-f90939d3acb4"
      },
      "execution_count": 6,
      "outputs": [
        {
          "output_type": "execute_result",
          "data": {
            "text/plain": [
              "(20800, 5)"
            ]
          },
          "metadata": {},
          "execution_count": 6
        }
      ]
    },
    {
      "cell_type": "markdown",
      "source": [
        "Verificamos que en nuestros datos no hayan datos vacios"
      ],
      "metadata": {
        "id": "MU3LjyCI1HXq"
      }
    },
    {
      "cell_type": "code",
      "source": [
        "df.isnull().sum()"
      ],
      "metadata": {
        "colab": {
          "base_uri": "https://localhost:8080/"
        },
        "id": "-9lgsnB10Z5f",
        "outputId": "15645d7e-d610-41f3-f091-6a5bcadbc09c"
      },
      "execution_count": 7,
      "outputs": [
        {
          "output_type": "execute_result",
          "data": {
            "text/plain": [
              "id           0\n",
              "title      558\n",
              "author    1957\n",
              "text        39\n",
              "label        0\n",
              "dtype: int64"
            ]
          },
          "metadata": {},
          "execution_count": 7
        }
      ]
    },
    {
      "cell_type": "markdown",
      "source": [
        "Eliminamos estos renglones con datos faltantes"
      ],
      "metadata": {
        "id": "YmZPfCWTNVEW"
      }
    },
    {
      "cell_type": "code",
      "source": [
        "dat = df.dropna()"
      ],
      "metadata": {
        "id": "GLxW_DKM0rQh"
      },
      "execution_count": 8,
      "outputs": []
    },
    {
      "cell_type": "code",
      "source": [
        "dat.isnull().sum()"
      ],
      "metadata": {
        "id": "LopYX8zE2GPT",
        "outputId": "413a8423-97ef-463f-eaab-a551d4b3576c",
        "colab": {
          "base_uri": "https://localhost:8080/"
        }
      },
      "execution_count": 9,
      "outputs": [
        {
          "output_type": "execute_result",
          "data": {
            "text/plain": [
              "id        0\n",
              "title     0\n",
              "author    0\n",
              "text      0\n",
              "label     0\n",
              "dtype: int64"
            ]
          },
          "metadata": {},
          "execution_count": 9
        }
      ]
    },
    {
      "cell_type": "code",
      "source": [
        "dat.shape"
      ],
      "metadata": {
        "id": "0PHKBeLV2Jhh",
        "outputId": "6cbdb850-0f00-47f5-f402-25cb78e534cb",
        "colab": {
          "base_uri": "https://localhost:8080/"
        }
      },
      "execution_count": 10,
      "outputs": [
        {
          "output_type": "execute_result",
          "data": {
            "text/plain": [
              "(18285, 5)"
            ]
          },
          "metadata": {},
          "execution_count": 10
        }
      ]
    },
    {
      "cell_type": "markdown",
      "source": [
        "El siguiente paso es la eliminación de palabras que no nos aporten nada en el análisis del texto usando la librería stop_word, además de otros caracteres que no sean alfanuméricos fuera de las palabras"
      ],
      "metadata": {
        "id": "rnomNAL4hWbu"
      }
    },
    {
      "cell_type": "markdown",
      "source": [
        "Las stopwords en inglés son:"
      ],
      "metadata": {
        "id": "ZQ46TU-lU_AO"
      }
    },
    {
      "cell_type": "code",
      "source": [
        "print(get_stop_words(\"en\"))"
      ],
      "metadata": {
        "colab": {
          "base_uri": "https://localhost:8080/"
        },
        "id": "yEXEYXqzgKFk",
        "outputId": "f3025791-198f-439d-ff46-a0b4c2746abd"
      },
      "execution_count": 11,
      "outputs": [
        {
          "output_type": "stream",
          "name": "stdout",
          "text": [
            "['a', 'about', 'above', 'after', 'again', 'against', 'all', 'am', 'an', 'and', 'any', 'are', \"aren't\", 'as', 'at', 'be', 'because', 'been', 'before', 'being', 'below', 'between', 'both', 'but', 'by', \"can't\", 'cannot', 'could', \"couldn't\", 'did', \"didn't\", 'do', 'does', \"doesn't\", 'doing', \"don't\", 'down', 'during', 'each', 'few', 'for', 'from', 'further', 'had', \"hadn't\", 'has', \"hasn't\", 'have', \"haven't\", 'having', 'he', \"he'd\", \"he'll\", \"he's\", 'her', 'here', \"here's\", 'hers', 'herself', 'him', 'himself', 'his', 'how', \"how's\", 'i', \"i'd\", \"i'll\", \"i'm\", \"i've\", 'if', 'in', 'into', 'is', \"isn't\", 'it', \"it's\", 'its', 'itself', \"let's\", 'me', 'more', 'most', \"mustn't\", 'my', 'myself', 'no', 'nor', 'not', 'of', 'off', 'on', 'once', 'only', 'or', 'other', 'ought', 'our', 'ours', 'ourselves', 'out', 'over', 'own', 'same', \"shan't\", 'she', \"she'd\", \"she'll\", \"she's\", 'should', \"shouldn't\", 'so', 'some', 'such', 'than', 'that', \"that's\", 'the', 'their', 'theirs', 'them', 'themselves', 'then', 'there', \"there's\", 'these', 'they', \"they'd\", \"they'll\", \"they're\", \"they've\", 'this', 'those', 'through', 'to', 'too', 'under', 'until', 'up', 'very', 'was', \"wasn't\", 'we', \"we'd\", \"we'll\", \"we're\", \"we've\", 'were', \"weren't\", 'what', \"what's\", 'when', \"when's\", 'where', \"where's\", 'which', 'while', 'who', \"who's\", 'whom', 'why', \"why's\", 'with', \"won't\", 'would', \"wouldn't\", 'you', \"you'd\", \"you'll\", \"you're\", \"you've\", 'your', 'yours', 'yourself', 'yourselves']\n"
          ]
        }
      ]
    },
    {
      "cell_type": "code",
      "source": [
        "#se usan las stop words en inglés\n",
        "#En este paso quitamos las stopwords y simbolos no alfanuméricos que no esten acompañados por carácters alfanuméricos\n",
        "stop_words = get_stop_words(\"en\")\n",
        "punctuations = \"'!()-[]{};:',#$%&/=?´+@^`~\\*.-\"\n",
        "def quitar_palabras(texto):\n",
        "  palabras = texto.split()\n",
        "  palabras_buenas =[]\n",
        "  for i in range(len(palabras)):\n",
        "    if palabras[i] not in stop_words and palabras[i] not in punctuations:\n",
        "      palabras_buenas.append(palabras[i])\n",
        "  good_words = ' '.join(palabras_buenas)\n",
        "  return good_words"
      ],
      "metadata": {
        "id": "c_Kjtigp2Iea"
      },
      "execution_count": 12,
      "outputs": []
    },
    {
      "cell_type": "markdown",
      "source": [
        "Se usa la librería re, que su uso principal es para la identificación de tipos de caracterés, en este caso uso \\d para números \\W para caracterés no alfanúmericos que se encuentren acompañadas por carácteres alfanuméricos"
      ],
      "metadata": {
        "id": "UKo4sHcBOFcs"
      }
    },
    {
      "cell_type": "code",
      "source": [
        "def limpiar(cuerpo):\n",
        "  #se usa re.compile para tener un tipo de patrón\n",
        "  #en este se encuentran números\n",
        "  patron = re.compile('\\d' )\n",
        "  #aquí se encuentra carácteres no alfanúmericos\n",
        "  patron2 = re.compile('\\W' )\n",
        "  #se cambian a minúsculas\n",
        "  cuerpo = cuerpo.lower()\n",
        "  #Se sustituyen los carácteres del patrón1\n",
        "  cuerpo = patron.sub('', cuerpo)\n",
        "  #Se sustituyen los carácteres del patrón2\n",
        "  cuerpo = patron2.sub(' ', cuerpo)\n",
        "  #Se utilliza la función anterior para quitar stop-words y carácteres no alfanuméricos\n",
        "  cuerpo = quitar_palabras(cuerpo)\n",
        "  return cuerpo"
      ],
      "metadata": {
        "id": "d6VwNyS6KgNy"
      },
      "execution_count": 13,
      "outputs": []
    },
    {
      "cell_type": "markdown",
      "source": [
        "Se crea otra columna que contenga el texto ya limpio de los artículos"
      ],
      "metadata": {
        "id": "HDdUwMHnPABL"
      }
    },
    {
      "cell_type": "code",
      "source": [
        "dat['limpio'] = dat.text.map(lambda x: limpiar(x))"
      ],
      "metadata": {
        "colab": {
          "base_uri": "https://localhost:8080/"
        },
        "id": "1KAn9D2aqzgd",
        "outputId": "6695ebc8-4051-4a14-b843-5f687fa783d7"
      },
      "execution_count": 14,
      "outputs": [
        {
          "output_type": "stream",
          "name": "stderr",
          "text": [
            "<ipython-input-14-2708f10d460e>:1: SettingWithCopyWarning: \n",
            "A value is trying to be set on a copy of a slice from a DataFrame.\n",
            "Try using .loc[row_indexer,col_indexer] = value instead\n",
            "\n",
            "See the caveats in the documentation: https://pandas.pydata.org/pandas-docs/stable/user_guide/indexing.html#returning-a-view-versus-a-copy\n",
            "  dat['limpio'] = dat.text.map(lambda x: limpiar(x))\n"
          ]
        }
      ]
    },
    {
      "cell_type": "code",
      "source": [
        "dat"
      ],
      "metadata": {
        "colab": {
          "base_uri": "https://localhost:8080/",
          "height": 424
        },
        "id": "SDxekUAzfMN2",
        "outputId": "cae3dfbe-79c6-45d4-fb77-e3d41af4839c"
      },
      "execution_count": 15,
      "outputs": [
        {
          "output_type": "execute_result",
          "data": {
            "text/plain": [
              "          id                                              title  \\\n",
              "0          0  House Dem Aide: We Didn’t Even See Comey’s Let...   \n",
              "1          1  FLYNN: Hillary Clinton, Big Woman on Campus - ...   \n",
              "2          2                  Why the Truth Might Get You Fired   \n",
              "3          3  15 Civilians Killed In Single US Airstrike Hav...   \n",
              "4          4  Iranian woman jailed for fictional unpublished...   \n",
              "...      ...                                                ...   \n",
              "20795  20795  Rapper T.I.: Trump a ’Poster Child For White S...   \n",
              "20796  20796  N.F.L. Playoffs: Schedule, Matchups and Odds -...   \n",
              "20797  20797  Macy’s Is Said to Receive Takeover Approach by...   \n",
              "20798  20798  NATO, Russia To Hold Parallel Exercises In Bal...   \n",
              "20799  20799                          What Keeps the F-35 Alive   \n",
              "\n",
              "                                          author  \\\n",
              "0                                  Darrell Lucus   \n",
              "1                                Daniel J. Flynn   \n",
              "2                             Consortiumnews.com   \n",
              "3                                Jessica Purkiss   \n",
              "4                                 Howard Portnoy   \n",
              "...                                          ...   \n",
              "20795                              Jerome Hudson   \n",
              "20796                           Benjamin Hoffman   \n",
              "20797  Michael J. de la Merced and Rachel Abrams   \n",
              "20798                                Alex Ansary   \n",
              "20799                              David Swanson   \n",
              "\n",
              "                                                    text  label  \\\n",
              "0      House Dem Aide: We Didn’t Even See Comey’s Let...      1   \n",
              "1      Ever get the feeling your life circles the rou...      0   \n",
              "2      Why the Truth Might Get You Fired October 29, ...      1   \n",
              "3      Videos 15 Civilians Killed In Single US Airstr...      1   \n",
              "4      Print \\nAn Iranian woman has been sentenced to...      1   \n",
              "...                                                  ...    ...   \n",
              "20795  Rapper T. I. unloaded on black celebrities who...      0   \n",
              "20796  When the Green Bay Packers lost to the Washing...      0   \n",
              "20797  The Macy’s of today grew from the union of sev...      0   \n",
              "20798  NATO, Russia To Hold Parallel Exercises In Bal...      1   \n",
              "20799    David Swanson is an author, activist, journa...      1   \n",
              "\n",
              "                                                  limpio  \n",
              "0      house dem aide didn t even see comey s letter ...  \n",
              "1      ever get feeling life circles roundabout rathe...  \n",
              "2      truth might get fired october tension intellig...  \n",
              "3      videos civilians killed single us airstrike id...  \n",
              "4      print iranian woman sentenced six years prison...  \n",
              "...                                                  ...  \n",
              "20795  rapper t unloaded black celebrities met donald...  \n",
              "20796  green bay packers lost washington redskins wee...  \n",
              "20797  macy s today grew union several great names am...  \n",
              "20798  nato russia hold parallel exercises balkans pr...  \n",
              "20799  david swanson author activist journalist radio...  \n",
              "\n",
              "[18285 rows x 6 columns]"
            ],
            "text/html": [
              "\n",
              "  <div id=\"df-5ab282f3-5d45-4b43-a3f5-4319db87004f\" class=\"colab-df-container\">\n",
              "    <div>\n",
              "<style scoped>\n",
              "    .dataframe tbody tr th:only-of-type {\n",
              "        vertical-align: middle;\n",
              "    }\n",
              "\n",
              "    .dataframe tbody tr th {\n",
              "        vertical-align: top;\n",
              "    }\n",
              "\n",
              "    .dataframe thead th {\n",
              "        text-align: right;\n",
              "    }\n",
              "</style>\n",
              "<table border=\"1\" class=\"dataframe\">\n",
              "  <thead>\n",
              "    <tr style=\"text-align: right;\">\n",
              "      <th></th>\n",
              "      <th>id</th>\n",
              "      <th>title</th>\n",
              "      <th>author</th>\n",
              "      <th>text</th>\n",
              "      <th>label</th>\n",
              "      <th>limpio</th>\n",
              "    </tr>\n",
              "  </thead>\n",
              "  <tbody>\n",
              "    <tr>\n",
              "      <th>0</th>\n",
              "      <td>0</td>\n",
              "      <td>House Dem Aide: We Didn’t Even See Comey’s Let...</td>\n",
              "      <td>Darrell Lucus</td>\n",
              "      <td>House Dem Aide: We Didn’t Even See Comey’s Let...</td>\n",
              "      <td>1</td>\n",
              "      <td>house dem aide didn t even see comey s letter ...</td>\n",
              "    </tr>\n",
              "    <tr>\n",
              "      <th>1</th>\n",
              "      <td>1</td>\n",
              "      <td>FLYNN: Hillary Clinton, Big Woman on Campus - ...</td>\n",
              "      <td>Daniel J. Flynn</td>\n",
              "      <td>Ever get the feeling your life circles the rou...</td>\n",
              "      <td>0</td>\n",
              "      <td>ever get feeling life circles roundabout rathe...</td>\n",
              "    </tr>\n",
              "    <tr>\n",
              "      <th>2</th>\n",
              "      <td>2</td>\n",
              "      <td>Why the Truth Might Get You Fired</td>\n",
              "      <td>Consortiumnews.com</td>\n",
              "      <td>Why the Truth Might Get You Fired October 29, ...</td>\n",
              "      <td>1</td>\n",
              "      <td>truth might get fired october tension intellig...</td>\n",
              "    </tr>\n",
              "    <tr>\n",
              "      <th>3</th>\n",
              "      <td>3</td>\n",
              "      <td>15 Civilians Killed In Single US Airstrike Hav...</td>\n",
              "      <td>Jessica Purkiss</td>\n",
              "      <td>Videos 15 Civilians Killed In Single US Airstr...</td>\n",
              "      <td>1</td>\n",
              "      <td>videos civilians killed single us airstrike id...</td>\n",
              "    </tr>\n",
              "    <tr>\n",
              "      <th>4</th>\n",
              "      <td>4</td>\n",
              "      <td>Iranian woman jailed for fictional unpublished...</td>\n",
              "      <td>Howard Portnoy</td>\n",
              "      <td>Print \\nAn Iranian woman has been sentenced to...</td>\n",
              "      <td>1</td>\n",
              "      <td>print iranian woman sentenced six years prison...</td>\n",
              "    </tr>\n",
              "    <tr>\n",
              "      <th>...</th>\n",
              "      <td>...</td>\n",
              "      <td>...</td>\n",
              "      <td>...</td>\n",
              "      <td>...</td>\n",
              "      <td>...</td>\n",
              "      <td>...</td>\n",
              "    </tr>\n",
              "    <tr>\n",
              "      <th>20795</th>\n",
              "      <td>20795</td>\n",
              "      <td>Rapper T.I.: Trump a ’Poster Child For White S...</td>\n",
              "      <td>Jerome Hudson</td>\n",
              "      <td>Rapper T. I. unloaded on black celebrities who...</td>\n",
              "      <td>0</td>\n",
              "      <td>rapper t unloaded black celebrities met donald...</td>\n",
              "    </tr>\n",
              "    <tr>\n",
              "      <th>20796</th>\n",
              "      <td>20796</td>\n",
              "      <td>N.F.L. Playoffs: Schedule, Matchups and Odds -...</td>\n",
              "      <td>Benjamin Hoffman</td>\n",
              "      <td>When the Green Bay Packers lost to the Washing...</td>\n",
              "      <td>0</td>\n",
              "      <td>green bay packers lost washington redskins wee...</td>\n",
              "    </tr>\n",
              "    <tr>\n",
              "      <th>20797</th>\n",
              "      <td>20797</td>\n",
              "      <td>Macy’s Is Said to Receive Takeover Approach by...</td>\n",
              "      <td>Michael J. de la Merced and Rachel Abrams</td>\n",
              "      <td>The Macy’s of today grew from the union of sev...</td>\n",
              "      <td>0</td>\n",
              "      <td>macy s today grew union several great names am...</td>\n",
              "    </tr>\n",
              "    <tr>\n",
              "      <th>20798</th>\n",
              "      <td>20798</td>\n",
              "      <td>NATO, Russia To Hold Parallel Exercises In Bal...</td>\n",
              "      <td>Alex Ansary</td>\n",
              "      <td>NATO, Russia To Hold Parallel Exercises In Bal...</td>\n",
              "      <td>1</td>\n",
              "      <td>nato russia hold parallel exercises balkans pr...</td>\n",
              "    </tr>\n",
              "    <tr>\n",
              "      <th>20799</th>\n",
              "      <td>20799</td>\n",
              "      <td>What Keeps the F-35 Alive</td>\n",
              "      <td>David Swanson</td>\n",
              "      <td>David Swanson is an author, activist, journa...</td>\n",
              "      <td>1</td>\n",
              "      <td>david swanson author activist journalist radio...</td>\n",
              "    </tr>\n",
              "  </tbody>\n",
              "</table>\n",
              "<p>18285 rows × 6 columns</p>\n",
              "</div>\n",
              "    <div class=\"colab-df-buttons\">\n",
              "\n",
              "  <div class=\"colab-df-container\">\n",
              "    <button class=\"colab-df-convert\" onclick=\"convertToInteractive('df-5ab282f3-5d45-4b43-a3f5-4319db87004f')\"\n",
              "            title=\"Convert this dataframe to an interactive table.\"\n",
              "            style=\"display:none;\">\n",
              "\n",
              "  <svg xmlns=\"http://www.w3.org/2000/svg\" height=\"24px\" viewBox=\"0 -960 960 960\">\n",
              "    <path d=\"M120-120v-720h720v720H120Zm60-500h600v-160H180v160Zm220 220h160v-160H400v160Zm0 220h160v-160H400v160ZM180-400h160v-160H180v160Zm440 0h160v-160H620v160ZM180-180h160v-160H180v160Zm440 0h160v-160H620v160Z\"/>\n",
              "  </svg>\n",
              "    </button>\n",
              "\n",
              "  <style>\n",
              "    .colab-df-container {\n",
              "      display:flex;\n",
              "      gap: 12px;\n",
              "    }\n",
              "\n",
              "    .colab-df-convert {\n",
              "      background-color: #E8F0FE;\n",
              "      border: none;\n",
              "      border-radius: 50%;\n",
              "      cursor: pointer;\n",
              "      display: none;\n",
              "      fill: #1967D2;\n",
              "      height: 32px;\n",
              "      padding: 0 0 0 0;\n",
              "      width: 32px;\n",
              "    }\n",
              "\n",
              "    .colab-df-convert:hover {\n",
              "      background-color: #E2EBFA;\n",
              "      box-shadow: 0px 1px 2px rgba(60, 64, 67, 0.3), 0px 1px 3px 1px rgba(60, 64, 67, 0.15);\n",
              "      fill: #174EA6;\n",
              "    }\n",
              "\n",
              "    .colab-df-buttons div {\n",
              "      margin-bottom: 4px;\n",
              "    }\n",
              "\n",
              "    [theme=dark] .colab-df-convert {\n",
              "      background-color: #3B4455;\n",
              "      fill: #D2E3FC;\n",
              "    }\n",
              "\n",
              "    [theme=dark] .colab-df-convert:hover {\n",
              "      background-color: #434B5C;\n",
              "      box-shadow: 0px 1px 3px 1px rgba(0, 0, 0, 0.15);\n",
              "      filter: drop-shadow(0px 1px 2px rgba(0, 0, 0, 0.3));\n",
              "      fill: #FFFFFF;\n",
              "    }\n",
              "  </style>\n",
              "\n",
              "    <script>\n",
              "      const buttonEl =\n",
              "        document.querySelector('#df-5ab282f3-5d45-4b43-a3f5-4319db87004f button.colab-df-convert');\n",
              "      buttonEl.style.display =\n",
              "        google.colab.kernel.accessAllowed ? 'block' : 'none';\n",
              "\n",
              "      async function convertToInteractive(key) {\n",
              "        const element = document.querySelector('#df-5ab282f3-5d45-4b43-a3f5-4319db87004f');\n",
              "        const dataTable =\n",
              "          await google.colab.kernel.invokeFunction('convertToInteractive',\n",
              "                                                    [key], {});\n",
              "        if (!dataTable) return;\n",
              "\n",
              "        const docLinkHtml = 'Like what you see? Visit the ' +\n",
              "          '<a target=\"_blank\" href=https://colab.research.google.com/notebooks/data_table.ipynb>data table notebook</a>'\n",
              "          + ' to learn more about interactive tables.';\n",
              "        element.innerHTML = '';\n",
              "        dataTable['output_type'] = 'display_data';\n",
              "        await google.colab.output.renderOutput(dataTable, element);\n",
              "        const docLink = document.createElement('div');\n",
              "        docLink.innerHTML = docLinkHtml;\n",
              "        element.appendChild(docLink);\n",
              "      }\n",
              "    </script>\n",
              "  </div>\n",
              "\n",
              "\n",
              "<div id=\"df-c9af6911-2d26-4bdd-bdf4-e4b80b46fe9a\">\n",
              "  <button class=\"colab-df-quickchart\" onclick=\"quickchart('df-c9af6911-2d26-4bdd-bdf4-e4b80b46fe9a')\"\n",
              "            title=\"Suggest charts\"\n",
              "            style=\"display:none;\">\n",
              "\n",
              "<svg xmlns=\"http://www.w3.org/2000/svg\" height=\"24px\"viewBox=\"0 0 24 24\"\n",
              "     width=\"24px\">\n",
              "    <g>\n",
              "        <path d=\"M19 3H5c-1.1 0-2 .9-2 2v14c0 1.1.9 2 2 2h14c1.1 0 2-.9 2-2V5c0-1.1-.9-2-2-2zM9 17H7v-7h2v7zm4 0h-2V7h2v10zm4 0h-2v-4h2v4z\"/>\n",
              "    </g>\n",
              "</svg>\n",
              "  </button>\n",
              "\n",
              "<style>\n",
              "  .colab-df-quickchart {\n",
              "      --bg-color: #E8F0FE;\n",
              "      --fill-color: #1967D2;\n",
              "      --hover-bg-color: #E2EBFA;\n",
              "      --hover-fill-color: #174EA6;\n",
              "      --disabled-fill-color: #AAA;\n",
              "      --disabled-bg-color: #DDD;\n",
              "  }\n",
              "\n",
              "  [theme=dark] .colab-df-quickchart {\n",
              "      --bg-color: #3B4455;\n",
              "      --fill-color: #D2E3FC;\n",
              "      --hover-bg-color: #434B5C;\n",
              "      --hover-fill-color: #FFFFFF;\n",
              "      --disabled-bg-color: #3B4455;\n",
              "      --disabled-fill-color: #666;\n",
              "  }\n",
              "\n",
              "  .colab-df-quickchart {\n",
              "    background-color: var(--bg-color);\n",
              "    border: none;\n",
              "    border-radius: 50%;\n",
              "    cursor: pointer;\n",
              "    display: none;\n",
              "    fill: var(--fill-color);\n",
              "    height: 32px;\n",
              "    padding: 0;\n",
              "    width: 32px;\n",
              "  }\n",
              "\n",
              "  .colab-df-quickchart:hover {\n",
              "    background-color: var(--hover-bg-color);\n",
              "    box-shadow: 0 1px 2px rgba(60, 64, 67, 0.3), 0 1px 3px 1px rgba(60, 64, 67, 0.15);\n",
              "    fill: var(--button-hover-fill-color);\n",
              "  }\n",
              "\n",
              "  .colab-df-quickchart-complete:disabled,\n",
              "  .colab-df-quickchart-complete:disabled:hover {\n",
              "    background-color: var(--disabled-bg-color);\n",
              "    fill: var(--disabled-fill-color);\n",
              "    box-shadow: none;\n",
              "  }\n",
              "\n",
              "  .colab-df-spinner {\n",
              "    border: 2px solid var(--fill-color);\n",
              "    border-color: transparent;\n",
              "    border-bottom-color: var(--fill-color);\n",
              "    animation:\n",
              "      spin 1s steps(1) infinite;\n",
              "  }\n",
              "\n",
              "  @keyframes spin {\n",
              "    0% {\n",
              "      border-color: transparent;\n",
              "      border-bottom-color: var(--fill-color);\n",
              "      border-left-color: var(--fill-color);\n",
              "    }\n",
              "    20% {\n",
              "      border-color: transparent;\n",
              "      border-left-color: var(--fill-color);\n",
              "      border-top-color: var(--fill-color);\n",
              "    }\n",
              "    30% {\n",
              "      border-color: transparent;\n",
              "      border-left-color: var(--fill-color);\n",
              "      border-top-color: var(--fill-color);\n",
              "      border-right-color: var(--fill-color);\n",
              "    }\n",
              "    40% {\n",
              "      border-color: transparent;\n",
              "      border-right-color: var(--fill-color);\n",
              "      border-top-color: var(--fill-color);\n",
              "    }\n",
              "    60% {\n",
              "      border-color: transparent;\n",
              "      border-right-color: var(--fill-color);\n",
              "    }\n",
              "    80% {\n",
              "      border-color: transparent;\n",
              "      border-right-color: var(--fill-color);\n",
              "      border-bottom-color: var(--fill-color);\n",
              "    }\n",
              "    90% {\n",
              "      border-color: transparent;\n",
              "      border-bottom-color: var(--fill-color);\n",
              "    }\n",
              "  }\n",
              "</style>\n",
              "\n",
              "  <script>\n",
              "    async function quickchart(key) {\n",
              "      const quickchartButtonEl =\n",
              "        document.querySelector('#' + key + ' button');\n",
              "      quickchartButtonEl.disabled = true;  // To prevent multiple clicks.\n",
              "      quickchartButtonEl.classList.add('colab-df-spinner');\n",
              "      try {\n",
              "        const charts = await google.colab.kernel.invokeFunction(\n",
              "            'suggestCharts', [key], {});\n",
              "      } catch (error) {\n",
              "        console.error('Error during call to suggestCharts:', error);\n",
              "      }\n",
              "      quickchartButtonEl.classList.remove('colab-df-spinner');\n",
              "      quickchartButtonEl.classList.add('colab-df-quickchart-complete');\n",
              "    }\n",
              "    (() => {\n",
              "      let quickchartButtonEl =\n",
              "        document.querySelector('#df-c9af6911-2d26-4bdd-bdf4-e4b80b46fe9a button');\n",
              "      quickchartButtonEl.style.display =\n",
              "        google.colab.kernel.accessAllowed ? 'block' : 'none';\n",
              "    })();\n",
              "  </script>\n",
              "</div>\n",
              "\n",
              "  <div id=\"id_39d54db4-12e2-4551-a0af-5ddcc299d291\">\n",
              "    <style>\n",
              "      .colab-df-generate {\n",
              "        background-color: #E8F0FE;\n",
              "        border: none;\n",
              "        border-radius: 50%;\n",
              "        cursor: pointer;\n",
              "        display: none;\n",
              "        fill: #1967D2;\n",
              "        height: 32px;\n",
              "        padding: 0 0 0 0;\n",
              "        width: 32px;\n",
              "      }\n",
              "\n",
              "      .colab-df-generate:hover {\n",
              "        background-color: #E2EBFA;\n",
              "        box-shadow: 0px 1px 2px rgba(60, 64, 67, 0.3), 0px 1px 3px 1px rgba(60, 64, 67, 0.15);\n",
              "        fill: #174EA6;\n",
              "      }\n",
              "\n",
              "      [theme=dark] .colab-df-generate {\n",
              "        background-color: #3B4455;\n",
              "        fill: #D2E3FC;\n",
              "      }\n",
              "\n",
              "      [theme=dark] .colab-df-generate:hover {\n",
              "        background-color: #434B5C;\n",
              "        box-shadow: 0px 1px 3px 1px rgba(0, 0, 0, 0.15);\n",
              "        filter: drop-shadow(0px 1px 2px rgba(0, 0, 0, 0.3));\n",
              "        fill: #FFFFFF;\n",
              "      }\n",
              "    </style>\n",
              "    <button class=\"colab-df-generate\" onclick=\"generateWithVariable('dat')\"\n",
              "            title=\"Generate code using this dataframe.\"\n",
              "            style=\"display:none;\">\n",
              "\n",
              "  <svg xmlns=\"http://www.w3.org/2000/svg\" height=\"24px\"viewBox=\"0 0 24 24\"\n",
              "       width=\"24px\">\n",
              "    <path d=\"M7,19H8.4L18.45,9,17,7.55,7,17.6ZM5,21V16.75L18.45,3.32a2,2,0,0,1,2.83,0l1.4,1.43a1.91,1.91,0,0,1,.58,1.4,1.91,1.91,0,0,1-.58,1.4L9.25,21ZM18.45,9,17,7.55Zm-12,3A5.31,5.31,0,0,0,4.9,8.1,5.31,5.31,0,0,0,1,6.5,5.31,5.31,0,0,0,4.9,4.9,5.31,5.31,0,0,0,6.5,1,5.31,5.31,0,0,0,8.1,4.9,5.31,5.31,0,0,0,12,6.5,5.46,5.46,0,0,0,6.5,12Z\"/>\n",
              "  </svg>\n",
              "    </button>\n",
              "    <script>\n",
              "      (() => {\n",
              "      const buttonEl =\n",
              "        document.querySelector('#id_39d54db4-12e2-4551-a0af-5ddcc299d291 button.colab-df-generate');\n",
              "      buttonEl.style.display =\n",
              "        google.colab.kernel.accessAllowed ? 'block' : 'none';\n",
              "\n",
              "      buttonEl.onclick = () => {\n",
              "        google.colab.notebook.generateWithVariable('dat');\n",
              "      }\n",
              "      })();\n",
              "    </script>\n",
              "  </div>\n",
              "\n",
              "    </div>\n",
              "  </div>\n"
            ]
          },
          "metadata": {},
          "execution_count": 15
        }
      ]
    },
    {
      "cell_type": "markdown",
      "source": [
        "Para reducir aún más el número de palabras usaremos el proceso stemming que lo que realizará es la reducción de palabras a su raíz, por ejemplo:\n",
        "actor, actriz, actuar -> acto"
      ],
      "metadata": {
        "id": "qyBMzqC8VvT5"
      }
    },
    {
      "cell_type": "code",
      "source": [
        "#Función para stemming\n",
        "port_stem = PorterStemmer()"
      ],
      "metadata": {
        "id": "vI0afHTzbNrT"
      },
      "execution_count": 16,
      "outputs": []
    },
    {
      "cell_type": "code",
      "source": [
        "#Aplicando la función de stemming en cada palabra\n",
        "def stemming(contenido):\n",
        "  stemmed_contenido = contenido.split()\n",
        "  stemmed_contenido = [port_stem.stem(word) for word in stemmed_contenido]\n",
        "  stemmed_contenido = ' '.join(stemmed_contenido)\n",
        "  return stemmed_contenido"
      ],
      "metadata": {
        "id": "UMV_VtYmbkFW"
      },
      "execution_count": 17,
      "outputs": []
    },
    {
      "cell_type": "code",
      "source": [
        "#Aplicando en la columna anteriormente limpiada\n",
        "dat['limpio'] = dat['limpio'].apply(stemming)"
      ],
      "metadata": {
        "colab": {
          "base_uri": "https://localhost:8080/"
        },
        "id": "kJ2F_srfb1JR",
        "outputId": "037be9d0-4df8-48a2-87b0-56e1d900c758"
      },
      "execution_count": 18,
      "outputs": [
        {
          "output_type": "stream",
          "name": "stderr",
          "text": [
            "<ipython-input-18-158a8a8d9a92>:2: SettingWithCopyWarning: \n",
            "A value is trying to be set on a copy of a slice from a DataFrame.\n",
            "Try using .loc[row_indexer,col_indexer] = value instead\n",
            "\n",
            "See the caveats in the documentation: https://pandas.pydata.org/pandas-docs/stable/user_guide/indexing.html#returning-a-view-versus-a-copy\n",
            "  dat['limpio'] = dat['limpio'].apply(stemming)\n"
          ]
        }
      ]
    },
    {
      "cell_type": "code",
      "source": [
        "corpus = dat.limpio.values"
      ],
      "metadata": {
        "id": "BuQ8vffPSX4K"
      },
      "execution_count": 19,
      "outputs": []
    },
    {
      "cell_type": "markdown",
      "source": [
        "El siguiente paso es convertir cada texto en una lista, se usará la paquetería nltk y la función TweetTokenizer"
      ],
      "metadata": {
        "id": "yO0LJUbtWa5e"
      }
    },
    {
      "cell_type": "code",
      "source": [
        "tknzr=TweetTokenizer()\n",
        "#impresión del primer texto como ejemplo\n",
        "tknzr.tokenize(corpus[0])"
      ],
      "metadata": {
        "colab": {
          "base_uri": "https://localhost:8080/"
        },
        "id": "eEyJRTFScrv5",
        "outputId": "e711239f-7d54-44b7-e45d-c366ed7b13b2"
      },
      "execution_count": 20,
      "outputs": [
        {
          "output_type": "execute_result",
          "data": {
            "text/plain": [
              "['hous',\n",
              " 'dem',\n",
              " 'aid',\n",
              " 'didn',\n",
              " 't',\n",
              " 'even',\n",
              " 'see',\n",
              " 'comey',\n",
              " 's',\n",
              " 'letter',\n",
              " 'jason',\n",
              " 'chaffetz',\n",
              " 'tweet',\n",
              " 'darrel',\n",
              " 'lucu',\n",
              " 'octob',\n",
              " 'subscrib',\n",
              " 'jason',\n",
              " 'chaffetz',\n",
              " 'stump',\n",
              " 'american',\n",
              " 'fork',\n",
              " 'utah',\n",
              " 'imag',\n",
              " 'courtesi',\n",
              " 'michael',\n",
              " 'jolley',\n",
              " 'avail',\n",
              " 'creativ',\n",
              " 'common',\n",
              " 'licens',\n",
              " 'apolog',\n",
              " 'keith',\n",
              " 'olbermann',\n",
              " 'doubt',\n",
              " 'worst',\n",
              " 'person',\n",
              " 'world',\n",
              " 'week',\n",
              " 'fbi',\n",
              " 'director',\n",
              " 'jame',\n",
              " 'comey',\n",
              " 'accord',\n",
              " 'hous',\n",
              " 'democrat',\n",
              " 'aid',\n",
              " 'look',\n",
              " 'like',\n",
              " 'also',\n",
              " 'know',\n",
              " 'second',\n",
              " 'worst',\n",
              " 'person',\n",
              " 'well',\n",
              " 'turn',\n",
              " 'comey',\n",
              " 'sent',\n",
              " 'now',\n",
              " 'infam',\n",
              " 'letter',\n",
              " 'announc',\n",
              " 'fbi',\n",
              " 'look',\n",
              " 'email',\n",
              " 'may',\n",
              " 'relat',\n",
              " 'hillari',\n",
              " 'clinton',\n",
              " 's',\n",
              " 'email',\n",
              " 'server',\n",
              " 'rank',\n",
              " 'democrat',\n",
              " 'relev',\n",
              " 'committe',\n",
              " 'didn',\n",
              " 't',\n",
              " 'hear',\n",
              " 'comey',\n",
              " 'found',\n",
              " 'via',\n",
              " 'tweet',\n",
              " 'one',\n",
              " 'republican',\n",
              " 'committe',\n",
              " 'chairmen',\n",
              " 'now',\n",
              " 'know',\n",
              " 'comey',\n",
              " 'notifi',\n",
              " 'republican',\n",
              " 'chairmen',\n",
              " 'democrat',\n",
              " 'rank',\n",
              " 'member',\n",
              " 'hous',\n",
              " 'intellig',\n",
              " 'judiciari',\n",
              " 'oversight',\n",
              " 'committe',\n",
              " 'agenc',\n",
              " 'review',\n",
              " 'email',\n",
              " 'recent',\n",
              " 'discov',\n",
              " 'order',\n",
              " 'see',\n",
              " 'contain',\n",
              " 'classifi',\n",
              " 'inform',\n",
              " 'long',\n",
              " 'letter',\n",
              " 'went',\n",
              " 'oversight',\n",
              " 'committe',\n",
              " 'chairman',\n",
              " 'jason',\n",
              " 'chaffetz',\n",
              " 'set',\n",
              " 'polit',\n",
              " 'world',\n",
              " 'ablaz',\n",
              " 'tweet',\n",
              " 'fbi',\n",
              " 'dir',\n",
              " 'just',\n",
              " 'inform',\n",
              " 'fbi',\n",
              " 'learn',\n",
              " 'exist',\n",
              " 'email',\n",
              " 'appear',\n",
              " 'pertin',\n",
              " 'investig',\n",
              " 'case',\n",
              " 'reopen',\n",
              " 'jason',\n",
              " 'chaffetz',\n",
              " 'jasoninthehous',\n",
              " 'octob',\n",
              " 'cours',\n",
              " 'now',\n",
              " 'know',\n",
              " 'case',\n",
              " 'comey',\n",
              " 'actual',\n",
              " 'say',\n",
              " 'review',\n",
              " 'email',\n",
              " 'light',\n",
              " 'unrel',\n",
              " 'case',\n",
              " 'now',\n",
              " 'know',\n",
              " 'anthoni',\n",
              " 'weiner',\n",
              " 's',\n",
              " 'sext',\n",
              " 'teenag',\n",
              " 'appar',\n",
              " 'littl',\n",
              " 'thing',\n",
              " 'fact',\n",
              " 'didn',\n",
              " 't',\n",
              " 'matter',\n",
              " 'chaffetz',\n",
              " 'utah',\n",
              " 'republican',\n",
              " 'alreadi',\n",
              " 'vow',\n",
              " 'initi',\n",
              " 'raft',\n",
              " 'investig',\n",
              " 'hillari',\n",
              " 'win',\n",
              " 'least',\n",
              " 'two',\n",
              " 'year',\n",
              " 'worth',\n",
              " 'possibl',\n",
              " 'entir',\n",
              " 'term',\n",
              " 's',\n",
              " 'worth',\n",
              " 'appar',\n",
              " 'chaffetz',\n",
              " 'thought',\n",
              " 'fbi',\n",
              " 'alreadi',\n",
              " 'work',\n",
              " 'result',\n",
              " 'tweet',\n",
              " 'briefli',\n",
              " 'roil',\n",
              " 'nation',\n",
              " 'cooler',\n",
              " 'head',\n",
              " 'realiz',\n",
              " 'dud',\n",
              " 'accord',\n",
              " 'senior',\n",
              " 'hous',\n",
              " 'democrat',\n",
              " 'aid',\n",
              " 'misread',\n",
              " 'letter',\n",
              " 'may',\n",
              " 'least',\n",
              " 'chaffetz',\n",
              " 'sin',\n",
              " 'aid',\n",
              " 'told',\n",
              " 'shareblu',\n",
              " 'boss',\n",
              " 'democrat',\n",
              " 'didn',\n",
              " 't',\n",
              " 'even',\n",
              " 'know',\n",
              " 'comey',\n",
              " 's',\n",
              " 'letter',\n",
              " 'time',\n",
              " 'found',\n",
              " 'check',\n",
              " 'twitter',\n",
              " 'democrat',\n",
              " 'rank',\n",
              " 'member',\n",
              " 'relev',\n",
              " 'committe',\n",
              " 'didn',\n",
              " 't',\n",
              " 'receiv',\n",
              " 'comey',\n",
              " 's',\n",
              " 'letter',\n",
              " 'republican',\n",
              " 'chairmen',\n",
              " 'fact',\n",
              " 'democrat',\n",
              " 'rank',\n",
              " 'member',\n",
              " 'didn',\n",
              " 'receiv',\n",
              " 'chairman',\n",
              " 'oversight',\n",
              " 'govern',\n",
              " 'reform',\n",
              " 'committe',\n",
              " 'jason',\n",
              " 'chaffetz',\n",
              " 'tweet',\n",
              " 'made',\n",
              " 'public',\n",
              " 'let',\n",
              " 's',\n",
              " 'see',\n",
              " 've',\n",
              " 'got',\n",
              " 'right',\n",
              " 'fbi',\n",
              " 'director',\n",
              " 'tell',\n",
              " 'chaffetz',\n",
              " 'gop',\n",
              " 'committe',\n",
              " 'chairmen',\n",
              " 'major',\n",
              " 'develop',\n",
              " 'potenti',\n",
              " 'polit',\n",
              " 'explos',\n",
              " 'investig',\n",
              " 'neither',\n",
              " 'chaffetz',\n",
              " 'colleagu',\n",
              " 'courtesi',\n",
              " 'let',\n",
              " 'democrat',\n",
              " 'counterpart',\n",
              " 'know',\n",
              " 'instead',\n",
              " 'accord',\n",
              " 'aid',\n",
              " 'made',\n",
              " 'find',\n",
              " 'twitter',\n",
              " 'alreadi',\n",
              " 'talk',\n",
              " 'daili',\n",
              " 'ko',\n",
              " 'comey',\n",
              " 'provid',\n",
              " 'advanc',\n",
              " 'notic',\n",
              " 'letter',\n",
              " 'chaffetz',\n",
              " 'republican',\n",
              " 'give',\n",
              " 'time',\n",
              " 'turn',\n",
              " 'spin',\n",
              " 'machin',\n",
              " 'may',\n",
              " 'make',\n",
              " 'good',\n",
              " 'theater',\n",
              " 'noth',\n",
              " 'far',\n",
              " 'even',\n",
              " 'suggest',\n",
              " 'case',\n",
              " 'noth',\n",
              " 'far',\n",
              " 'suggest',\n",
              " 'comey',\n",
              " 'anyth',\n",
              " 'grossli',\n",
              " 'incompet',\n",
              " 'tone',\n",
              " 'deaf',\n",
              " 'suggest',\n",
              " 'howev',\n",
              " 'chaffetz',\n",
              " 'act',\n",
              " 'way',\n",
              " 'make',\n",
              " 'dan',\n",
              " 'burton',\n",
              " 'darrel',\n",
              " 'issa',\n",
              " 'look',\n",
              " 'like',\n",
              " 'model',\n",
              " 'respons',\n",
              " 'bipartisanship',\n",
              " 'didn',\n",
              " 't',\n",
              " 'even',\n",
              " 'decenc',\n",
              " 'notifi',\n",
              " 'rank',\n",
              " 'member',\n",
              " 'elijah',\n",
              " 'cum',\n",
              " 'someth',\n",
              " 'explos',\n",
              " 'doesn',\n",
              " 't',\n",
              " 'trampl',\n",
              " 'basic',\n",
              " 'standard',\n",
              " 'fair',\n",
              " 'don',\n",
              " 't',\n",
              " 'know',\n",
              " 'grant',\n",
              " 's',\n",
              " 'like',\n",
              " 'chaffetz',\n",
              " 'will',\n",
              " 'answer',\n",
              " 'sit',\n",
              " 'ridicul',\n",
              " 'republican',\n",
              " 'district',\n",
              " 'anchor',\n",
              " 'provo',\n",
              " 'orem',\n",
              " 'cook',\n",
              " 'partisan',\n",
              " 'vote',\n",
              " 'index',\n",
              " 'r',\n",
              " 'gave',\n",
              " 'mitt',\n",
              " 'romney',\n",
              " 'punish',\n",
              " 'percent',\n",
              " 'vote',\n",
              " 'moreov',\n",
              " 'republican',\n",
              " 'hous',\n",
              " 'leadership',\n",
              " 'given',\n",
              " 'full',\n",
              " 'support',\n",
              " 'chaffetz',\n",
              " 'plan',\n",
              " 'fish',\n",
              " 'expedit',\n",
              " 'doesn',\n",
              " 't',\n",
              " 'mean',\n",
              " 'can',\n",
              " 't',\n",
              " 'turn',\n",
              " 'hot',\n",
              " 'light',\n",
              " 'textbook',\n",
              " 'exampl',\n",
              " 'hous',\n",
              " 'becom',\n",
              " 'republican',\n",
              " 'control',\n",
              " 'also',\n",
              " 'second',\n",
              " 'worst',\n",
              " 'person',\n",
              " 'world',\n",
              " 'darrel',\n",
              " 'lucu',\n",
              " 'darrel',\n",
              " 'someth',\n",
              " 'graduat',\n",
              " 'univers',\n",
              " 'north',\n",
              " 'carolina',\n",
              " 'consid',\n",
              " 'journalist',\n",
              " 'old',\n",
              " 'school',\n",
              " 'attempt',\n",
              " 'turn',\n",
              " 'member',\n",
              " 'religi',\n",
              " 'right',\n",
              " 'colleg',\n",
              " 'succeed',\n",
              " 'turn',\n",
              " 'religi',\n",
              " 'right',\n",
              " 's',\n",
              " 'worst',\n",
              " 'nightmar',\n",
              " 'charismat',\n",
              " 'christian',\n",
              " 'unapologet',\n",
              " 'liber',\n",
              " 'desir',\n",
              " 'stand',\n",
              " 'scare',\n",
              " 'silenc',\n",
              " 'increas',\n",
              " 'surviv',\n",
              " 'abus',\n",
              " 'three',\n",
              " 'year',\n",
              " 'marriag',\n",
              " 'may',\n",
              " 'know',\n",
              " 'daili',\n",
              " 'ko',\n",
              " 'christian',\n",
              " 'dem',\n",
              " 'nc',\n",
              " 'follow',\n",
              " 'twitter',\n",
              " 'darrelllucu',\n",
              " 'connect',\n",
              " 'facebook',\n",
              " 'click',\n",
              " 'buy',\n",
              " 'darrel',\n",
              " 'mello',\n",
              " 'yello',\n",
              " 'connect']"
            ]
          },
          "metadata": {},
          "execution_count": 20
        }
      ]
    },
    {
      "cell_type": "markdown",
      "source": [
        "Se usa un ciclo for para realizarlo en cada texto"
      ],
      "metadata": {
        "id": "T9WwdP4VWv_6"
      }
    },
    {
      "cell_type": "code",
      "source": [
        "corpus_tk=[]\n",
        "for i in corpus:\n",
        "  corpus_tk.append(tknzr.tokenize(i))"
      ],
      "metadata": {
        "id": "ps1BA1GYSiOz"
      },
      "execution_count": 21,
      "outputs": []
    },
    {
      "cell_type": "markdown",
      "source": [
        "El siguiente paso es convertir cada palabra a una representación vectorial esto se hace por un método llamado Word2Vec en la cual a una palabra se le da un vector y cada palabra se puede relacionar a otra similar por medio de suma o resta vectorial."
      ],
      "metadata": {
        "id": "ZHHhwMhGW2wU"
      }
    },
    {
      "cell_type": "code",
      "source": [
        "#Se da la entrada de los textos a representar, en min_count es la cantidad necesaria a repetirse una palabra para tomarse en cuenta\n",
        "#En window es una ventana de contexto\n",
        "#size representa el tamaño del vector de cada palabra\n",
        "model = Word2Vec(corpus_tk, min_count=50, window = 5, vector_size=100)"
      ],
      "metadata": {
        "id": "kM9aebcITCpx"
      },
      "execution_count": 22,
      "outputs": []
    },
    {
      "cell_type": "code",
      "source": [
        "X = model.wv.vectors"
      ],
      "metadata": {
        "id": "iIg_6b4jUlaV"
      },
      "execution_count": 23,
      "outputs": []
    },
    {
      "cell_type": "code",
      "source": [
        "X.shape"
      ],
      "metadata": {
        "colab": {
          "base_uri": "https://localhost:8080/"
        },
        "id": "W1Cqxi7GV4Rt",
        "outputId": "d2f972b9-430a-484e-fcc9-685f5e5e0ba5"
      },
      "execution_count": 24,
      "outputs": [
        {
          "output_type": "execute_result",
          "data": {
            "text/plain": [
              "(10246, 100)"
            ]
          },
          "metadata": {},
          "execution_count": 24
        }
      ]
    },
    {
      "cell_type": "markdown",
      "source": [
        "Vamos a reducir la dimensionalidad del modelo de Word2Vec ya que al tener más componentes va a ser más complejo al aplicarlo en la red neuronal"
      ],
      "metadata": {
        "id": "Gpg-qfFAdgxE"
      }
    },
    {
      "cell_type": "markdown",
      "source": [
        "Usaremos PCA para reducir los componentes de los vectores, en el gráfico se presenta el porcentaje de varianza que se perderá en función al número de componentes principales"
      ],
      "metadata": {
        "id": "Fr2gB4wbd6nW"
      }
    },
    {
      "cell_type": "code",
      "source": [
        "pca = PCA(n_components=50, svd_solver='full')\n",
        "pca.fit(X)\n",
        "plt.plot((pca.explained_variance_ratio_).cumsum())\n",
        "plt.title('Razón de varianza')\n",
        "plt.xlabel('Componentes PCA')"
      ],
      "metadata": {
        "colab": {
          "base_uri": "https://localhost:8080/",
          "height": 489
        },
        "id": "nq_AIedSZhBC",
        "outputId": "e00211df-b8d2-4602-c225-2daa442c64ff"
      },
      "execution_count": 25,
      "outputs": [
        {
          "output_type": "execute_result",
          "data": {
            "text/plain": [
              "Text(0.5, 0, 'Componentes PCA')"
            ]
          },
          "metadata": {},
          "execution_count": 25
        },
        {
          "output_type": "display_data",
          "data": {
            "text/plain": [
              "<Figure size 640x480 with 1 Axes>"
            ],
            "image/png": "[encoded data removed]"
          },
          "metadata": {}
        }
      ]
    },
    {
      "cell_type": "markdown",
      "source": [
        "Se puede observar que con 30 componentes se queda con el 70% de la varianza que parece ser un buen punto para no tener mucha complejidad"
      ],
      "metadata": {
        "id": "tc1kvNQveUKt"
      }
    },
    {
      "cell_type": "code",
      "source": [
        "pca = PCA(n_components=30, svd_solver='full')\n",
        "pca.fit(X)"
      ],
      "metadata": {
        "colab": {
          "base_uri": "https://localhost:8080/",
          "height": 75
        },
        "id": "72iTFfgbdQzL",
        "outputId": "4a2547c3-7dd2-4f85-ad63-0b4bb8dfd2c9"
      },
      "execution_count": 26,
      "outputs": [
        {
          "output_type": "execute_result",
          "data": {
            "text/plain": [
              "PCA(n_components=30, svd_solver='full')"
            ],
            "text/html": [
              "<style>#sk-container-id-1 {color: black;background-color: white;}#sk-container-id-1 pre{padding: 0;}#sk-container-id-1 div.sk-toggleable {background-color: white;}#sk-container-id-1 label.sk-toggleable__label {cursor: pointer;display: block;width: 100%;margin-bottom: 0;padding: 0.3em;box-sizing: border-box;text-align: center;}#sk-container-id-1 label.sk-toggleable__label-arrow:before {content: \"▸\";float: left;margin-right: 0.25em;color: #696969;}#sk-container-id-1 label.sk-toggleable__label-arrow:hover:before {color: black;}#sk-container-id-1 div.sk-estimator:hover label.sk-toggleable__label-arrow:before {color: black;}#sk-container-id-1 div.sk-toggleable__content {max-height: 0;max-width: 0;overflow: hidden;text-align: left;background-color: #f0f8ff;}#sk-container-id-1 div.sk-toggleable__content pre {margin: 0.2em;color: black;border-radius: 0.25em;background-color: #f0f8ff;}#sk-container-id-1 input.sk-toggleable__control:checked~div.sk-toggleable__content {max-height: 200px;max-width: 100%;overflow: auto;}#sk-container-id-1 input.sk-toggleable__control:checked~label.sk-toggleable__label-arrow:before {content: \"▾\";}#sk-container-id-1 div.sk-estimator input.sk-toggleable__control:checked~label.sk-toggleable__label {background-color: #d4ebff;}#sk-container-id-1 div.sk-label input.sk-toggleable__control:checked~label.sk-toggleable__label {background-color: #d4ebff;}#sk-container-id-1 input.sk-hidden--visually {border: 0;clip: rect(1px 1px 1px 1px);clip: rect(1px, 1px, 1px, 1px);height: 1px;margin: -1px;overflow: hidden;padding: 0;position: absolute;width: 1px;}#sk-container-id-1 div.sk-estimator {font-family: monospace;background-color: #f0f8ff;border: 1px dotted black;border-radius: 0.25em;box-sizing: border-box;margin-bottom: 0.5em;}#sk-container-id-1 div.sk-estimator:hover {background-color: #d4ebff;}#sk-container-id-1 div.sk-parallel-item::after {content: \"\";width: 100%;border-bottom: 1px solid gray;flex-grow: 1;}#sk-container-id-1 div.sk-label:hover label.sk-toggleable__label {background-color: #d4ebff;}#sk-container-id-1 div.sk-serial::before {content: \"\";position: absolute;border-left: 1px solid gray;box-sizing: border-box;top: 0;bottom: 0;left: 50%;z-index: 0;}#sk-container-id-1 div.sk-serial {display: flex;flex-direction: column;align-items: center;background-color: white;padding-right: 0.2em;padding-left: 0.2em;position: relative;}#sk-container-id-1 div.sk-item {position: relative;z-index: 1;}#sk-container-id-1 div.sk-parallel {display: flex;align-items: stretch;justify-content: center;background-color: white;position: relative;}#sk-container-id-1 div.sk-item::before, #sk-container-id-1 div.sk-parallel-item::before {content: \"\";position: absolute;border-left: 1px solid gray;box-sizing: border-box;top: 0;bottom: 0;left: 50%;z-index: -1;}#sk-container-id-1 div.sk-parallel-item {display: flex;flex-direction: column;z-index: 1;position: relative;background-color: white;}#sk-container-id-1 div.sk-parallel-item:first-child::after {align-self: flex-end;width: 50%;}#sk-container-id-1 div.sk-parallel-item:last-child::after {align-self: flex-start;width: 50%;}#sk-container-id-1 div.sk-parallel-item:only-child::after {width: 0;}#sk-container-id-1 div.sk-dashed-wrapped {border: 1px dashed gray;margin: 0 0.4em 0.5em 0.4em;box-sizing: border-box;padding-bottom: 0.4em;background-color: white;}#sk-container-id-1 div.sk-label label {font-family: monospace;font-weight: bold;display: inline-block;line-height: 1.2em;}#sk-container-id-1 div.sk-label-container {text-align: center;}#sk-container-id-1 div.sk-container {/* jupyter's `normalize.less` sets `[hidden] { display: none; }` but bootstrap.min.css set `[hidden] { display: none !important; }` so we also need the `!important` here to be able to override the default hidden behavior on the sphinx rendered scikit-learn.org. See: https://github.com/scikit-learn/scikit-learn/issues/21755 */display: inline-block !important;position: relative;}#sk-container-id-1 div.sk-text-repr-fallback {display: none;}</style><div id=\"sk-container-id-1\" class=\"sk-top-container\"><div class=\"sk-text-repr-fallback\"><pre>PCA(n_components=30, svd_solver=&#x27;full&#x27;)</pre><b>In a Jupyter environment, please rerun this cell to show the HTML representation or trust the notebook. <br />On GitHub, the HTML representation is unable to render, please try loading this page with nbviewer.org.</b></div><div class=\"sk-container\" hidden><div class=\"sk-item\"><div class=\"sk-estimator sk-toggleable\"><input class=\"sk-toggleable__control sk-hidden--visually\" id=\"sk-estimator-id-1\" type=\"checkbox\" checked><label for=\"sk-estimator-id-1\" class=\"sk-toggleable__label sk-toggleable__label-arrow\">PCA</label><div class=\"sk-toggleable__content\"><pre>PCA(n_components=30, svd_solver=&#x27;full&#x27;)</pre></div></div></div></div></div>"
            ]
          },
          "metadata": {},
          "execution_count": 26
        }
      ]
    },
    {
      "cell_type": "markdown",
      "source": [
        "Con lo que obtenemos una representación vectorial de cada palabra de 30 componentes"
      ],
      "metadata": {
        "id": "j1xgvAkDfq7i"
      }
    },
    {
      "cell_type": "code",
      "source": [
        "#En este proseso se le asignan valores a las palabras en función de las veces que se repite una palabra y se le da un mínimo de repeticiones\n",
        "vectorizer = TfidfVectorizer(min_df=30)\n",
        "TF_IDF=vectorizer.fit_transform(corpus)"
      ],
      "metadata": {
        "id": "WgkwkUoPd7J2"
      },
      "execution_count": 27,
      "outputs": []
    },
    {
      "cell_type": "code",
      "source": [
        "#Aquí se muestra el número de noticias y el número de palabras que encontró\n",
        "TF_IDF.toarray().shape"
      ],
      "metadata": {
        "colab": {
          "base_uri": "https://localhost:8080/"
        },
        "id": "Ax_8EsRyeQbg",
        "outputId": "10c26393-26e4-45c0-ff57-3fd9b9269b76"
      },
      "execution_count": 28,
      "outputs": [
        {
          "output_type": "execute_result",
          "data": {
            "text/plain": [
              "(18285, 10927)"
            ]
          },
          "metadata": {},
          "execution_count": 28
        }
      ]
    },
    {
      "cell_type": "markdown",
      "source": [
        "Se guardará la posición de cada palabra"
      ],
      "metadata": {
        "id": "bRHsiBguh0LE"
      }
    },
    {
      "cell_type": "code",
      "source": [
        "#En este se guarda la posición de cada palabra de los textos\n",
        "tf_idf=vectorizer.vocabulary_"
      ],
      "metadata": {
        "id": "SchPba6teanR"
      },
      "execution_count": 29,
      "outputs": []
    },
    {
      "cell_type": "code",
      "source": [
        "#La posición en el array TF_IDF\n",
        "tf_idf['usa']"
      ],
      "metadata": {
        "colab": {
          "base_uri": "https://localhost:8080/"
        },
        "id": "Suyh-mvreiX1",
        "outputId": "7bdecaeb-60bc-4814-8201-80b196262d4a"
      },
      "execution_count": 30,
      "outputs": [
        {
          "output_type": "execute_result",
          "data": {
            "text/plain": [
              "10325"
            ]
          },
          "metadata": {},
          "execution_count": 30
        }
      ]
    },
    {
      "cell_type": "code",
      "source": [
        "#El valor del tfidf de la palabra\n",
        "TF_IDF[0, tf_idf['usa']]"
      ],
      "metadata": {
        "colab": {
          "base_uri": "https://localhost:8080/"
        },
        "id": "8eOwwHwce2PF",
        "outputId": "1c2eea27-1589-498f-b2f0-e8b9233873e5"
      },
      "execution_count": 31,
      "outputs": [
        {
          "output_type": "execute_result",
          "data": {
            "text/plain": [
              "0.0"
            ]
          },
          "metadata": {},
          "execution_count": 31
        }
      ]
    },
    {
      "cell_type": "markdown",
      "source": [
        "Para convertir un texto en su representación numérica lo que haremos será calcular la media entre la representación numérica de cada palabra y lo que nos salga es la representación vectorial del texto"
      ],
      "metadata": {
        "id": "ae0kiVv0hHkh"
      }
    },
    {
      "cell_type": "markdown",
      "source": [
        "Se creará un array de la representación numérica de cada noticia"
      ],
      "metadata": {
        "id": "cdqofS3-i-4K"
      }
    },
    {
      "cell_type": "code",
      "source": [
        "#Aquí se van a guardar los valores\n",
        "x=np.zeros((dat.shape[0],30))\n",
        "for i,corp in enumerate(corpus):\n",
        "  vect = np.zeros(100)\n",
        "  for num,word in enumerate(corp.split(' ')):\n",
        "    try:\n",
        "      #Se multiplica el vector que representa la paabra según el modelo de Word2Vec por el valor de TFIDF que depende de la frecuencia de una palabra en el texto\n",
        "      vect+=model.wv[word]*TF_IDF[i,tf_idf[word]]\n",
        "    except:\n",
        "        pass\n",
        "  if num!=0:\n",
        "    #Se divide por el número de palabras del texto\n",
        "     vect=vect/num\n",
        "  else:\n",
        "      vect=vect*0\n",
        "  #Aquí se consigue el vector que representa al texto i\n",
        "  vect=vect.reshape(1,100)\n",
        "  #Con el PCA se cambia la cantdad de componentes de 100 a 30\n",
        "  vect_pca=pca.transform(vect)\n",
        "  x[i,:] = vect_pca"
      ],
      "metadata": {
        "id": "IKiuPYsqfI2_"
      },
      "execution_count": 32,
      "outputs": []
    },
    {
      "cell_type": "code",
      "source": [
        "x"
      ],
      "metadata": {
        "colab": {
          "base_uri": "https://localhost:8080/"
        },
        "id": "XEztqcZjhFP4",
        "outputId": "ffb742b5-cfcd-49c6-cdf8-a2bb1eb11cfe"
      },
      "execution_count": 33,
      "outputs": [
        {
          "output_type": "execute_result",
          "data": {
            "text/plain": [
              "array([[ 0.39632254,  0.40669839, -0.18239788, ..., -0.02629821,\n",
              "         0.00418468,  0.03957523],\n",
              "       [ 0.41114995,  0.25377221, -0.1979393 , ...,  0.02016817,\n",
              "        -0.00810026,  0.06565609],\n",
              "       [ 0.49040631,  0.25633476, -0.09463152, ...,  0.00894945,\n",
              "        -0.0258012 ,  0.04821634],\n",
              "       ...,\n",
              "       [ 0.29746782,  0.17554772,  0.01245704, ..., -0.01485764,\n",
              "         0.02347858,  0.06089474],\n",
              "       [ 0.65644005,  0.30780096,  0.10012652, ...,  0.04365949,\n",
              "         0.01546093,  0.05979236],\n",
              "       [ 0.37425584,  0.23925116, -0.07882112, ..., -0.00092439,\n",
              "        -0.01314823,  0.08684898]])"
            ]
          },
          "metadata": {},
          "execution_count": 33
        }
      ]
    },
    {
      "cell_type": "code",
      "source": [
        "#El label del dataframe nos muestra si la noticia es verdadera o falsa\n",
        "Y = dat['label'].values"
      ],
      "metadata": {
        "id": "QFEcC5C9jka7"
      },
      "execution_count": 34,
      "outputs": []
    },
    {
      "cell_type": "code",
      "source": [
        "Y.shape"
      ],
      "metadata": {
        "colab": {
          "base_uri": "https://localhost:8080/"
        },
        "id": "c6dKun7ahxBY",
        "outputId": "0250d580-e539-40cc-a8e6-82b181f7e55d"
      },
      "execution_count": 35,
      "outputs": [
        {
          "output_type": "execute_result",
          "data": {
            "text/plain": [
              "(18285,)"
            ]
          },
          "metadata": {},
          "execution_count": 35
        }
      ]
    },
    {
      "cell_type": "code",
      "source": [
        "#Se divide en los datos de pruebas y entrenamiento\n",
        "x_train, x_test, y_train, y_test = train_test_split(x, Y, test_size = 0.2, stratify=Y, random_state=2)"
      ],
      "metadata": {
        "id": "pt6jXHQchmLL"
      },
      "execution_count": 36,
      "outputs": []
    },
    {
      "cell_type": "code",
      "source": [
        "x_train"
      ],
      "metadata": {
        "colab": {
          "base_uri": "https://localhost:8080/"
        },
        "id": "dMUuhnh2rBYD",
        "outputId": "0043ed8a-a3a5-4a02-b708-d51d77b3bc92"
      },
      "execution_count": 37,
      "outputs": [
        {
          "output_type": "execute_result",
          "data": {
            "text/plain": [
              "array([[ 3.94068886e-01,  1.29867520e-01, -7.80368702e-02, ...,\n",
              "        -2.17893439e-04, -2.55516210e-02,  7.00269560e-02],\n",
              "       [ 3.57613589e-01,  2.09342563e-01, -4.28439554e-02, ...,\n",
              "        -1.90124953e-02,  2.65300234e-04,  7.31880869e-02],\n",
              "       [ 2.96548458e-01,  3.91783049e-01, -1.73732955e-01, ...,\n",
              "        -5.49411999e-02,  2.64671679e-02,  2.64193507e-02],\n",
              "       ...,\n",
              "       [ 2.78058548e-01,  1.86572808e-01, -7.13567318e-02, ...,\n",
              "         1.10365648e-01, -4.23040407e-02,  7.09596972e-02],\n",
              "       [ 3.73193336e-01,  1.88294048e-01, -5.45296627e-02, ...,\n",
              "        -3.30917973e-03, -8.82549459e-03,  5.81384562e-02],\n",
              "       [ 2.70437456e-01,  1.64716320e-01, -9.87245770e-02, ...,\n",
              "         1.26017392e-02, -3.78961158e-03,  7.36040052e-02]])"
            ]
          },
          "metadata": {},
          "execution_count": 37
        }
      ]
    },
    {
      "cell_type": "code",
      "source": [
        "x_test"
      ],
      "metadata": {
        "colab": {
          "base_uri": "https://localhost:8080/"
        },
        "id": "KZKY6QpB1Myl",
        "outputId": "e2b5dd78-0067-45b5-a947-2d45d7e3fd99"
      },
      "execution_count": 38,
      "outputs": [
        {
          "output_type": "execute_result",
          "data": {
            "text/plain": [
              "array([[ 0.7160939 ,  0.21836078, -0.15402649, ..., -0.06721359,\n",
              "         0.01005788,  0.0423052 ],\n",
              "       [ 0.74554267,  0.4585883 , -0.0349008 , ...,  0.01898804,\n",
              "        -0.00369242,  0.0242682 ],\n",
              "       [ 0.29955722,  0.42290853, -0.00492212, ...,  0.10070209,\n",
              "         0.05354792,  0.0117204 ],\n",
              "       ...,\n",
              "       [ 0.56137565,  0.52136556, -0.09596997, ...,  0.03649088,\n",
              "         0.00483059,  0.04195041],\n",
              "       [ 0.3694044 ,  0.52404717, -0.13191911, ...,  0.01532482,\n",
              "         0.01945884,  0.10213101],\n",
              "       [ 0.63581692,  0.40281843, -0.10733152, ...,  0.08194596,\n",
              "         0.00686121,  0.06009692]])"
            ]
          },
          "metadata": {},
          "execution_count": 38
        }
      ]
    },
    {
      "cell_type": "markdown",
      "source": [
        "Normalización"
      ],
      "metadata": {
        "id": "-MRJFJsMiYtN"
      }
    },
    {
      "cell_type": "code",
      "source": [
        "scaler = StandardScaler()\n",
        "scaler.fit(x_train)\n",
        "x_train = scaler.transform(x_train)\n",
        "x_test = scaler.transform(x_test)"
      ],
      "metadata": {
        "id": "Hoxe8oTIhcPk"
      },
      "execution_count": 39,
      "outputs": []
    },
    {
      "cell_type": "code",
      "source": [
        "x_test"
      ],
      "metadata": {
        "colab": {
          "base_uri": "https://localhost:8080/"
        },
        "id": "4jqjXGXoqinF",
        "outputId": "ade50081-bbe4-4ff7-9b68-3d04afb2820c"
      },
      "execution_count": 40,
      "outputs": [
        {
          "output_type": "execute_result",
          "data": {
            "text/plain": [
              "array([[ 1.59509088, -0.41557596, -0.3697109 , ..., -0.98945095,\n",
              "         0.33760203, -0.39947921],\n",
              "       [ 1.75076439,  1.17325797,  0.55515198, ...,  0.20451654,\n",
              "         0.01890237, -0.76260342],\n",
              "       [-0.60682506,  0.93727651,  0.78789916, ...,  1.33632725,\n",
              "         1.34559951, -1.01521808],\n",
              "       ...,\n",
              "       [ 0.77721192,  1.58845868,  0.08102583, ...,  0.44694615,\n",
              "         0.21644571, -0.40662178],\n",
              "       [-0.23759559,  1.60619449, -0.19807458, ...,  0.15377781,\n",
              "         0.55549438,  0.80494549],\n",
              "       [ 1.17072689,  0.80440317, -0.00718249, ...,  1.07653851,\n",
              "         0.26351081, -0.04129285]])"
            ]
          },
          "metadata": {},
          "execution_count": 40
        }
      ]
    },
    {
      "cell_type": "code",
      "source": [
        "print(Y)"
      ],
      "metadata": {
        "colab": {
          "base_uri": "https://localhost:8080/"
        },
        "id": "Mkj0plrejZEK",
        "outputId": "404c77ef-0372-4790-b708-542cd6192e52"
      },
      "execution_count": 41,
      "outputs": [
        {
          "output_type": "stream",
          "name": "stdout",
          "text": [
            "[1 0 1 ... 0 1 1]\n"
          ]
        }
      ]
    },
    {
      "cell_type": "markdown",
      "source": [
        "# Modelo de Machine learning"
      ],
      "metadata": {
        "id": "tQlaUEXmRkZV"
      }
    },
    {
      "cell_type": "code",
      "source": [
        "import tensorflow as tf\n",
        "from tensorflow.keras.models import Sequential\n",
        "from tensorflow.keras.layers import Dense,Dropout"
      ],
      "metadata": {
        "id": "2yfYp6GcLNSO"
      },
      "execution_count": 42,
      "outputs": []
    },
    {
      "cell_type": "markdown",
      "source": [
        "Modelo 1 (3 capas ocultas"
      ],
      "metadata": {
        "id": "CNH40BvvyMFa"
      }
    },
    {
      "cell_type": "code",
      "source": [
        "tf.random.set_seed(1234)\n",
        "model1 = Sequential([\n",
        "  tf.keras.Input(shape=(x_train.shape[1])),\n",
        "  Dense(200, activation='relu'),\n",
        "  Dense(200, activation='relu'),\n",
        "  Dense(200, activation='relu'),\n",
        "  Dense(1,activation='sigmoid')\n",
        "])"
      ],
      "metadata": {
        "id": "ABV760UwT0G8"
      },
      "execution_count": 43,
      "outputs": []
    },
    {
      "cell_type": "code",
      "source": [
        "model1.compile(optimizer='sgd', loss = tf.keras.losses.BinaryCrossentropy(), metrics=['accuracy'])"
      ],
      "metadata": {
        "id": "SR6p6wPgqsCC"
      },
      "execution_count": 44,
      "outputs": []
    },
    {
      "cell_type": "code",
      "source": [
        "historial = model1.fit(x_train, y_train, epochs = 50)"
      ],
      "metadata": {
        "colab": {
          "base_uri": "https://localhost:8080/"
        },
        "id": "BkZ5cBULq4an",
        "outputId": "e39cbca7-c625-4a51-af30-a336007b0f33"
      },
      "execution_count": 45,
      "outputs": [
        {
          "output_type": "stream",
          "name": "stdout",
          "text": [
            "Epoch 1/50\n",
            "458/458 [==============================] - 2s 3ms/step - loss: 0.5839 - accuracy: 0.7227\n",
            "Epoch 2/50\n",
            "458/458 [==============================] - 1s 2ms/step - loss: 0.4450 - accuracy: 0.8050\n",
            "Epoch 3/50\n",
            "458/458 [==============================] - 1s 2ms/step - loss: 0.3983 - accuracy: 0.8250\n",
            "Epoch 4/50\n",
            "458/458 [==============================] - 1s 3ms/step - loss: 0.3774 - accuracy: 0.8339\n",
            "Epoch 5/50\n",
            "458/458 [==============================] - 2s 4ms/step - loss: 0.3630 - accuracy: 0.8421\n",
            "Epoch 6/50\n",
            "458/458 [==============================] - 2s 4ms/step - loss: 0.3518 - accuracy: 0.8498\n",
            "Epoch 7/50\n",
            "458/458 [==============================] - 2s 4ms/step - loss: 0.3432 - accuracy: 0.8551\n",
            "Epoch 8/50\n",
            "458/458 [==============================] - 1s 3ms/step - loss: 0.3354 - accuracy: 0.8586\n",
            "Epoch 9/50\n",
            "458/458 [==============================] - 1s 3ms/step - loss: 0.3281 - accuracy: 0.8635\n",
            "Epoch 10/50\n",
            "458/458 [==============================] - 1s 3ms/step - loss: 0.3216 - accuracy: 0.8652\n",
            "Epoch 11/50\n",
            "458/458 [==============================] - 1s 3ms/step - loss: 0.3158 - accuracy: 0.8697\n",
            "Epoch 12/50\n",
            "458/458 [==============================] - 1s 3ms/step - loss: 0.3097 - accuracy: 0.8709\n",
            "Epoch 13/50\n",
            "458/458 [==============================] - 1s 3ms/step - loss: 0.3045 - accuracy: 0.8728\n",
            "Epoch 14/50\n",
            "458/458 [==============================] - 1s 3ms/step - loss: 0.2999 - accuracy: 0.8754\n",
            "Epoch 15/50\n",
            "458/458 [==============================] - 1s 3ms/step - loss: 0.2946 - accuracy: 0.8780\n",
            "Epoch 16/50\n",
            "458/458 [==============================] - 2s 4ms/step - loss: 0.2896 - accuracy: 0.8818\n",
            "Epoch 17/50\n",
            "458/458 [==============================] - 2s 4ms/step - loss: 0.2849 - accuracy: 0.8821\n",
            "Epoch 18/50\n",
            "458/458 [==============================] - 2s 4ms/step - loss: 0.2805 - accuracy: 0.8843\n",
            "Epoch 19/50\n",
            "458/458 [==============================] - 1s 3ms/step - loss: 0.2762 - accuracy: 0.8863\n",
            "Epoch 20/50\n",
            "458/458 [==============================] - 1s 3ms/step - loss: 0.2715 - accuracy: 0.8883\n",
            "Epoch 21/50\n",
            "458/458 [==============================] - 1s 2ms/step - loss: 0.2679 - accuracy: 0.8897\n",
            "Epoch 22/50\n",
            "458/458 [==============================] - 1s 2ms/step - loss: 0.2640 - accuracy: 0.8909\n",
            "Epoch 23/50\n",
            "458/458 [==============================] - 1s 3ms/step - loss: 0.2597 - accuracy: 0.8928\n",
            "Epoch 24/50\n",
            "458/458 [==============================] - 1s 2ms/step - loss: 0.2562 - accuracy: 0.8943\n",
            "Epoch 25/50\n",
            "458/458 [==============================] - 1s 2ms/step - loss: 0.2519 - accuracy: 0.8983\n",
            "Epoch 26/50\n",
            "458/458 [==============================] - 1s 2ms/step - loss: 0.2495 - accuracy: 0.8972\n",
            "Epoch 27/50\n",
            "458/458 [==============================] - 1s 3ms/step - loss: 0.2451 - accuracy: 0.8996\n",
            "Epoch 28/50\n",
            "458/458 [==============================] - 2s 3ms/step - loss: 0.2416 - accuracy: 0.9009\n",
            "Epoch 29/50\n",
            "458/458 [==============================] - 2s 4ms/step - loss: 0.2380 - accuracy: 0.9034\n",
            "Epoch 30/50\n",
            "458/458 [==============================] - 2s 4ms/step - loss: 0.2343 - accuracy: 0.9045\n",
            "Epoch 31/50\n",
            "458/458 [==============================] - 1s 3ms/step - loss: 0.2307 - accuracy: 0.9054\n",
            "Epoch 32/50\n",
            "458/458 [==============================] - 1s 2ms/step - loss: 0.2289 - accuracy: 0.9075\n",
            "Epoch 33/50\n",
            "458/458 [==============================] - 1s 2ms/step - loss: 0.2250 - accuracy: 0.9094\n",
            "Epoch 34/50\n",
            "458/458 [==============================] - 1s 2ms/step - loss: 0.2221 - accuracy: 0.9097\n",
            "Epoch 35/50\n",
            "458/458 [==============================] - 1s 2ms/step - loss: 0.2174 - accuracy: 0.9117\n",
            "Epoch 36/50\n",
            "458/458 [==============================] - 1s 2ms/step - loss: 0.2153 - accuracy: 0.9113\n",
            "Epoch 37/50\n",
            "458/458 [==============================] - 1s 2ms/step - loss: 0.2116 - accuracy: 0.9143\n",
            "Epoch 38/50\n",
            "458/458 [==============================] - 1s 2ms/step - loss: 0.2083 - accuracy: 0.9146\n",
            "Epoch 39/50\n",
            "458/458 [==============================] - 1s 2ms/step - loss: 0.2055 - accuracy: 0.9171\n",
            "Epoch 40/50\n",
            "458/458 [==============================] - 1s 3ms/step - loss: 0.2018 - accuracy: 0.9204\n",
            "Epoch 41/50\n",
            "458/458 [==============================] - 2s 3ms/step - loss: 0.2013 - accuracy: 0.9203\n",
            "Epoch 42/50\n",
            "458/458 [==============================] - 2s 4ms/step - loss: 0.1951 - accuracy: 0.9230\n",
            "Epoch 43/50\n",
            "458/458 [==============================] - 2s 4ms/step - loss: 0.1933 - accuracy: 0.9240\n",
            "Epoch 44/50\n",
            "458/458 [==============================] - 1s 3ms/step - loss: 0.1903 - accuracy: 0.9240\n",
            "Epoch 45/50\n",
            "458/458 [==============================] - 1s 2ms/step - loss: 0.1876 - accuracy: 0.9243\n",
            "Epoch 46/50\n",
            "458/458 [==============================] - 1s 2ms/step - loss: 0.1830 - accuracy: 0.9273\n",
            "Epoch 47/50\n",
            "458/458 [==============================] - 1s 2ms/step - loss: 0.1821 - accuracy: 0.9293\n",
            "Epoch 48/50\n",
            "458/458 [==============================] - 1s 2ms/step - loss: 0.1779 - accuracy: 0.9295\n",
            "Epoch 49/50\n",
            "458/458 [==============================] - 1s 2ms/step - loss: 0.1746 - accuracy: 0.9307\n",
            "Epoch 50/50\n",
            "458/458 [==============================] - 1s 2ms/step - loss: 0.1727 - accuracy: 0.9323\n"
          ]
        }
      ]
    },
    {
      "cell_type": "code",
      "source": [
        "cost, ac = model1.evaluate(x_test, y_test)\n",
        "\n",
        "print('Cost: {}, Accuracy: {}'.format(cost, ac))"
      ],
      "metadata": {
        "colab": {
          "base_uri": "https://localhost:8080/"
        },
        "id": "39TL52etI_PN",
        "outputId": "eb461a6b-2272-4f9b-8e69-989ad9489b97"
      },
      "execution_count": 47,
      "outputs": [
        {
          "output_type": "stream",
          "name": "stdout",
          "text": [
            "115/115 [==============================] - 1s 3ms/step - loss: 0.3552 - accuracy: 0.8608\n",
            "Cost: 0.3551552891731262, Accuracy: 0.8608148694038391\n"
          ]
        }
      ]
    },
    {
      "cell_type": "code",
      "source": [
        "plt.plot(historial.history['loss'], color = 'black')\n",
        "plt.xlabel('Epoch')\n",
        "plt.ylabel('Loss')\n",
        "plt.show()"
      ],
      "metadata": {
        "id": "GTDbypWeO8x4"
      },
      "execution_count": null,
      "outputs": []
    },
    {
      "cell_type": "markdown",
      "source": [
        "Modelo 2( 2 capas ocultas de 500 neuronas)"
      ],
      "metadata": {
        "id": "-uNotXsjyovx"
      }
    },
    {
      "cell_type": "code",
      "source": [
        "tf.random.set_seed(1234)\n",
        "model2 = Sequential([\n",
        "  tf.keras.Input(shape=(x_train.shape[1])),\n",
        "  Dense(500, activation='relu'),\n",
        "  Dense(500, activation='relu'),\n",
        "  Dense(1,activation='sigmoid')\n",
        "])"
      ],
      "metadata": {
        "id": "NICveBJfyvjc"
      },
      "execution_count": null,
      "outputs": []
    },
    {
      "cell_type": "code",
      "source": [
        "model2.compile(optimizer='sgd', loss = tf.keras.losses.BinaryCrossentropy(), metrics=['accuracy'])"
      ],
      "metadata": {
        "id": "nwOL92try1LF"
      },
      "execution_count": null,
      "outputs": []
    },
    {
      "cell_type": "code",
      "source": [
        "historial2 = model2.fit(x_train, y_train, epochs = 50)"
      ],
      "metadata": {
        "id": "LUaknVkay5jm"
      },
      "execution_count": null,
      "outputs": []
    },
    {
      "cell_type": "code",
      "source": [
        "cost, ac = model2.evaluate(x_test, y_test)\n",
        "\n",
        "print('Cost: {}, Accuracy: {}'.format(cost, ac))"
      ],
      "metadata": {
        "id": "i5WX5r8uy-Ol"
      },
      "execution_count": null,
      "outputs": []
    },
    {
      "cell_type": "code",
      "source": [
        "plt.plot(historial2.history['loss'], color = 'black')\n",
        "plt.xlabel('Epoch')\n",
        "plt.ylabel('Loss')\n",
        "plt.show()"
      ],
      "metadata": {
        "id": "Y4OnlFd3zYfE"
      },
      "execution_count": null,
      "outputs": []
    },
    {
      "cell_type": "markdown",
      "source": [
        "Modelo 3 (5 capas ocultas de 200' neuronas)"
      ],
      "metadata": {
        "id": "U6HPuzPezkkd"
      }
    },
    {
      "cell_type": "code",
      "source": [
        "tf.random.set_seed(1234)\n",
        "model3 = Sequential([\n",
        "  tf.keras.Input(shape=(x_train.shape[1])),\n",
        "  Dense(200, activation='relu'),\n",
        "  Dense(200, activation='relu'),\n",
        "  Dense(200, activation='relu'),\n",
        "  Dense(200, activation='relu'),\n",
        "  Dense(200, activation='relu'),\n",
        "  Dense(1,activation='sigmoid')\n",
        "])"
      ],
      "metadata": {
        "id": "q7--2mBnzaPI"
      },
      "execution_count": null,
      "outputs": []
    },
    {
      "cell_type": "code",
      "source": [
        "model3.compile(optimizer='sgd', loss = tf.keras.losses.BinaryCrossentropy(), metrics=['accuracy'])"
      ],
      "metadata": {
        "id": "TRg3jQ8S0fuI"
      },
      "execution_count": null,
      "outputs": []
    },
    {
      "cell_type": "code",
      "source": [
        "historial3 = model3.fit(x_train, y_train, epochs = 50)"
      ],
      "metadata": {
        "id": "BnBemgMZ0wmB"
      },
      "execution_count": null,
      "outputs": []
    },
    {
      "cell_type": "code",
      "source": [
        "cost, ac = model3.evaluate(x_test, y_test)\n",
        "\n",
        "print('Cost: {}, Accuracy: {}'.format(cost, ac))"
      ],
      "metadata": {
        "id": "3KOunqIJ01AD"
      },
      "execution_count": null,
      "outputs": []
    },
    {
      "cell_type": "code",
      "source": [
        "plt.plot(historial3.history['loss'], color = 'black')\n",
        "plt.xlabel('Epoch')\n",
        "plt.ylabel('Loss')\n",
        "plt.show()"
      ],
      "metadata": {
        "id": "fJIxvZZV1a1h"
      },
      "execution_count": null,
      "outputs": []
    },
    {
      "cell_type": "code",
      "source": [],
      "metadata": {
        "id": "lId9caQk1sbv"
      },
      "execution_count": null,
      "outputs": []
    }
  ]
}