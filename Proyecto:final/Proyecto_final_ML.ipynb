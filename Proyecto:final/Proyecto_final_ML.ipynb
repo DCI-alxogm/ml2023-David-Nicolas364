{
  "nbformat": 4,
  "nbformat_minor": 0,
  "metadata": {
    "colab": {
      "provenance": [],
      "mount_file_id": "1phAGnFeXJXTCEKdrS6h_Sj3J_pR2OxAt",
      "authorship_tag": "ABX9TyPxv2TFVC+GYoCERWq27jVx",
      "include_colab_link": true
    },
    "kernelspec": {
      "name": "python3",
      "display_name": "Python 3"
    },
    "language_info": {
      "name": "python"
    }
  },
  "cells": [
    {
      "cell_type": "markdown",
      "metadata": {
        "id": "view-in-github",
        "colab_type": "text"
      },
      "source": [
        "<a href=\"https://colab.research.google.com/github/DCI-alxogm/ml2023-David-Nicolas364/blob/main/Proyecto%3Afinal/Proyecto_final_ML.ipynb\" target=\"_parent\"><img src=\"https://colab.research.google.com/assets/colab-badge.svg\" alt=\"Open In Colab\"/></a>"
      ]
    },
    {
      "cell_type": "markdown",
      "source": [
        "## Proyecto capaz de detectar fake news"
      ],
      "metadata": {
        "id": "KeqxiKpfqUmW"
      }
    },
    {
      "cell_type": "markdown",
      "source": [
        "El objetivo de este código es que por medio del uso de redes neuronales sea capaz de aprender de nuetro conjunto de datos y por medio de una red neuronal se pueda detectar entre noticias verdaderas y noticias falsas. Este tipo de aprendizaje es supervisado ya que al programa se le dan noticias que ya se conocen como verdaderas o falsas y pasan por una red neuronal."
      ],
      "metadata": {
        "id": "ehkE1cLgqg5t"
      }
    },
    {
      "cell_type": "markdown",
      "source": [
        "Table of contents:\n",
        "  [imports]()"
      ],
      "metadata": {
        "id": "mFyT4WGirj53"
      }
    },
    {
      "cell_type": "markdown",
      "source": [
        "##Imports e installs"
      ],
      "metadata": {
        "id": "_S4iNPl38SvV"
      }
    },
    {
      "cell_type": "code",
      "source": [
        "!pip install stop_words"
      ],
      "metadata": {
        "colab": {
          "base_uri": "https://localhost:8080/"
        },
        "id": "J3KP-ysJf56w",
        "outputId": "1beee33b-d549-4cea-81f9-bdeaed19f69f"
      },
      "execution_count": 1,
      "outputs": [
        {
          "output_type": "stream",
          "name": "stdout",
          "text": [
            "Requirement already satisfied: stop_words in /usr/local/lib/python3.10/dist-packages (2018.7.23)\n"
          ]
        }
      ]
    },
    {
      "cell_type": "code",
      "execution_count": 2,
      "metadata": {
        "id": "QUY3g7hUn8DK"
      },
      "outputs": [],
      "source": [
        "import pandas as pd\n",
        "import numpy as np\n",
        "import re\n",
        "import matplotlib.pyplot as plt\n",
        "from stop_words import get_stop_words\n",
        "from nltk.stem.porter import PorterStemmer\n",
        "from sklearn.model_selection import train_test_split\n",
        "from gensim.models import Word2Vec\n",
        "from nltk.tokenize import TweetTokenizer\n",
        "from sklearn.feature_extraction.text import TfidfVectorizer\n",
        "from sklearn.decomposition import PCA\n",
        "from sklearn.preprocessing import StandardScaler"
      ]
    },
    {
      "cell_type": "markdown",
      "source": [
        "Datos obtenidos de: https://kaggle.com/competitions/fake-news."
      ],
      "metadata": {
        "id": "kS6RkXqHrx2d"
      }
    },
    {
      "cell_type": "markdown",
      "source": [
        "# Procesado de datos"
      ],
      "metadata": {
        "id": "H9OZLU0dRsrt"
      }
    },
    {
      "cell_type": "markdown",
      "source": [
        "Dedibo a que los datos son texto lo primero que tenemos que hacer es cambiar los datos a número para que así se pueda entender en el programa y puedan ser usados en la red neuronal"
      ],
      "metadata": {
        "id": "MGKhIbJoUTuh"
      }
    },
    {
      "cell_type": "code",
      "source": [
        "df = pd.read_csv(\"/content/drive/MyDrive/Cosas ML/train_set.csv/train.csv\")"
      ],
      "metadata": {
        "id": "AaKF8qi2sMxr"
      },
      "execution_count": 3,
      "outputs": []
    },
    {
      "cell_type": "code",
      "source": [
        "df"
      ],
      "metadata": {
        "colab": {
          "base_uri": "https://localhost:8080/",
          "height": 424
        },
        "id": "b8AwjGCPwDC0",
        "outputId": "e41822c2-7d0a-4db5-9044-d44dba45e395"
      },
      "execution_count": 4,
      "outputs": [
        {
          "output_type": "execute_result",
          "data": {
            "text/plain": [
              "          id                                              title  \\\n",
              "0          0  House Dem Aide: We Didn’t Even See Comey’s Let...   \n",
              "1          1  FLYNN: Hillary Clinton, Big Woman on Campus - ...   \n",
              "2          2                  Why the Truth Might Get You Fired   \n",
              "3          3  15 Civilians Killed In Single US Airstrike Hav...   \n",
              "4          4  Iranian woman jailed for fictional unpublished...   \n",
              "...      ...                                                ...   \n",
              "20795  20795  Rapper T.I.: Trump a ’Poster Child For White S...   \n",
              "20796  20796  N.F.L. Playoffs: Schedule, Matchups and Odds -...   \n",
              "20797  20797  Macy’s Is Said to Receive Takeover Approach by...   \n",
              "20798  20798  NATO, Russia To Hold Parallel Exercises In Bal...   \n",
              "20799  20799                          What Keeps the F-35 Alive   \n",
              "\n",
              "                                          author  \\\n",
              "0                                  Darrell Lucus   \n",
              "1                                Daniel J. Flynn   \n",
              "2                             Consortiumnews.com   \n",
              "3                                Jessica Purkiss   \n",
              "4                                 Howard Portnoy   \n",
              "...                                          ...   \n",
              "20795                              Jerome Hudson   \n",
              "20796                           Benjamin Hoffman   \n",
              "20797  Michael J. de la Merced and Rachel Abrams   \n",
              "20798                                Alex Ansary   \n",
              "20799                              David Swanson   \n",
              "\n",
              "                                                    text  label  \n",
              "0      House Dem Aide: We Didn’t Even See Comey’s Let...      1  \n",
              "1      Ever get the feeling your life circles the rou...      0  \n",
              "2      Why the Truth Might Get You Fired October 29, ...      1  \n",
              "3      Videos 15 Civilians Killed In Single US Airstr...      1  \n",
              "4      Print \\nAn Iranian woman has been sentenced to...      1  \n",
              "...                                                  ...    ...  \n",
              "20795  Rapper T. I. unloaded on black celebrities who...      0  \n",
              "20796  When the Green Bay Packers lost to the Washing...      0  \n",
              "20797  The Macy’s of today grew from the union of sev...      0  \n",
              "20798  NATO, Russia To Hold Parallel Exercises In Bal...      1  \n",
              "20799    David Swanson is an author, activist, journa...      1  \n",
              "\n",
              "[20800 rows x 5 columns]"
            ],
            "text/html": [
              "\n",
              "  <div id=\"df-4b3d3184-6e48-487f-9e8a-8467d58256ec\" class=\"colab-df-container\">\n",
              "    <div>\n",
              "<style scoped>\n",
              "    .dataframe tbody tr th:only-of-type {\n",
              "        vertical-align: middle;\n",
              "    }\n",
              "\n",
              "    .dataframe tbody tr th {\n",
              "        vertical-align: top;\n",
              "    }\n",
              "\n",
              "    .dataframe thead th {\n",
              "        text-align: right;\n",
              "    }\n",
              "</style>\n",
              "<table border=\"1\" class=\"dataframe\">\n",
              "  <thead>\n",
              "    <tr style=\"text-align: right;\">\n",
              "      <th></th>\n",
              "      <th>id</th>\n",
              "      <th>title</th>\n",
              "      <th>author</th>\n",
              "      <th>text</th>\n",
              "      <th>label</th>\n",
              "    </tr>\n",
              "  </thead>\n",
              "  <tbody>\n",
              "    <tr>\n",
              "      <th>0</th>\n",
              "      <td>0</td>\n",
              "      <td>House Dem Aide: We Didn’t Even See Comey’s Let...</td>\n",
              "      <td>Darrell Lucus</td>\n",
              "      <td>House Dem Aide: We Didn’t Even See Comey’s Let...</td>\n",
              "      <td>1</td>\n",
              "    </tr>\n",
              "    <tr>\n",
              "      <th>1</th>\n",
              "      <td>1</td>\n",
              "      <td>FLYNN: Hillary Clinton, Big Woman on Campus - ...</td>\n",
              "      <td>Daniel J. Flynn</td>\n",
              "      <td>Ever get the feeling your life circles the rou...</td>\n",
              "      <td>0</td>\n",
              "    </tr>\n",
              "    <tr>\n",
              "      <th>2</th>\n",
              "      <td>2</td>\n",
              "      <td>Why the Truth Might Get You Fired</td>\n",
              "      <td>Consortiumnews.com</td>\n",
              "      <td>Why the Truth Might Get You Fired October 29, ...</td>\n",
              "      <td>1</td>\n",
              "    </tr>\n",
              "    <tr>\n",
              "      <th>3</th>\n",
              "      <td>3</td>\n",
              "      <td>15 Civilians Killed In Single US Airstrike Hav...</td>\n",
              "      <td>Jessica Purkiss</td>\n",
              "      <td>Videos 15 Civilians Killed In Single US Airstr...</td>\n",
              "      <td>1</td>\n",
              "    </tr>\n",
              "    <tr>\n",
              "      <th>4</th>\n",
              "      <td>4</td>\n",
              "      <td>Iranian woman jailed for fictional unpublished...</td>\n",
              "      <td>Howard Portnoy</td>\n",
              "      <td>Print \\nAn Iranian woman has been sentenced to...</td>\n",
              "      <td>1</td>\n",
              "    </tr>\n",
              "    <tr>\n",
              "      <th>...</th>\n",
              "      <td>...</td>\n",
              "      <td>...</td>\n",
              "      <td>...</td>\n",
              "      <td>...</td>\n",
              "      <td>...</td>\n",
              "    </tr>\n",
              "    <tr>\n",
              "      <th>20795</th>\n",
              "      <td>20795</td>\n",
              "      <td>Rapper T.I.: Trump a ’Poster Child For White S...</td>\n",
              "      <td>Jerome Hudson</td>\n",
              "      <td>Rapper T. I. unloaded on black celebrities who...</td>\n",
              "      <td>0</td>\n",
              "    </tr>\n",
              "    <tr>\n",
              "      <th>20796</th>\n",
              "      <td>20796</td>\n",
              "      <td>N.F.L. Playoffs: Schedule, Matchups and Odds -...</td>\n",
              "      <td>Benjamin Hoffman</td>\n",
              "      <td>When the Green Bay Packers lost to the Washing...</td>\n",
              "      <td>0</td>\n",
              "    </tr>\n",
              "    <tr>\n",
              "      <th>20797</th>\n",
              "      <td>20797</td>\n",
              "      <td>Macy’s Is Said to Receive Takeover Approach by...</td>\n",
              "      <td>Michael J. de la Merced and Rachel Abrams</td>\n",
              "      <td>The Macy’s of today grew from the union of sev...</td>\n",
              "      <td>0</td>\n",
              "    </tr>\n",
              "    <tr>\n",
              "      <th>20798</th>\n",
              "      <td>20798</td>\n",
              "      <td>NATO, Russia To Hold Parallel Exercises In Bal...</td>\n",
              "      <td>Alex Ansary</td>\n",
              "      <td>NATO, Russia To Hold Parallel Exercises In Bal...</td>\n",
              "      <td>1</td>\n",
              "    </tr>\n",
              "    <tr>\n",
              "      <th>20799</th>\n",
              "      <td>20799</td>\n",
              "      <td>What Keeps the F-35 Alive</td>\n",
              "      <td>David Swanson</td>\n",
              "      <td>David Swanson is an author, activist, journa...</td>\n",
              "      <td>1</td>\n",
              "    </tr>\n",
              "  </tbody>\n",
              "</table>\n",
              "<p>20800 rows × 5 columns</p>\n",
              "</div>\n",
              "    <div class=\"colab-df-buttons\">\n",
              "\n",
              "  <div class=\"colab-df-container\">\n",
              "    <button class=\"colab-df-convert\" onclick=\"convertToInteractive('df-4b3d3184-6e48-487f-9e8a-8467d58256ec')\"\n",
              "            title=\"Convert this dataframe to an interactive table.\"\n",
              "            style=\"display:none;\">\n",
              "\n",
              "  <svg xmlns=\"http://www.w3.org/2000/svg\" height=\"24px\" viewBox=\"0 -960 960 960\">\n",
              "    <path d=\"M120-120v-720h720v720H120Zm60-500h600v-160H180v160Zm220 220h160v-160H400v160Zm0 220h160v-160H400v160ZM180-400h160v-160H180v160Zm440 0h160v-160H620v160ZM180-180h160v-160H180v160Zm440 0h160v-160H620v160Z\"/>\n",
              "  </svg>\n",
              "    </button>\n",
              "\n",
              "  <style>\n",
              "    .colab-df-container {\n",
              "      display:flex;\n",
              "      gap: 12px;\n",
              "    }\n",
              "\n",
              "    .colab-df-convert {\n",
              "      background-color: #E8F0FE;\n",
              "      border: none;\n",
              "      border-radius: 50%;\n",
              "      cursor: pointer;\n",
              "      display: none;\n",
              "      fill: #1967D2;\n",
              "      height: 32px;\n",
              "      padding: 0 0 0 0;\n",
              "      width: 32px;\n",
              "    }\n",
              "\n",
              "    .colab-df-convert:hover {\n",
              "      background-color: #E2EBFA;\n",
              "      box-shadow: 0px 1px 2px rgba(60, 64, 67, 0.3), 0px 1px 3px 1px rgba(60, 64, 67, 0.15);\n",
              "      fill: #174EA6;\n",
              "    }\n",
              "\n",
              "    .colab-df-buttons div {\n",
              "      margin-bottom: 4px;\n",
              "    }\n",
              "\n",
              "    [theme=dark] .colab-df-convert {\n",
              "      background-color: #3B4455;\n",
              "      fill: #D2E3FC;\n",
              "    }\n",
              "\n",
              "    [theme=dark] .colab-df-convert:hover {\n",
              "      background-color: #434B5C;\n",
              "      box-shadow: 0px 1px 3px 1px rgba(0, 0, 0, 0.15);\n",
              "      filter: drop-shadow(0px 1px 2px rgba(0, 0, 0, 0.3));\n",
              "      fill: #FFFFFF;\n",
              "    }\n",
              "  </style>\n",
              "\n",
              "    <script>\n",
              "      const buttonEl =\n",
              "        document.querySelector('#df-4b3d3184-6e48-487f-9e8a-8467d58256ec button.colab-df-convert');\n",
              "      buttonEl.style.display =\n",
              "        google.colab.kernel.accessAllowed ? 'block' : 'none';\n",
              "\n",
              "      async function convertToInteractive(key) {\n",
              "        const element = document.querySelector('#df-4b3d3184-6e48-487f-9e8a-8467d58256ec');\n",
              "        const dataTable =\n",
              "          await google.colab.kernel.invokeFunction('convertToInteractive',\n",
              "                                                    [key], {});\n",
              "        if (!dataTable) return;\n",
              "\n",
              "        const docLinkHtml = 'Like what you see? Visit the ' +\n",
              "          '<a target=\"_blank\" href=https://colab.research.google.com/notebooks/data_table.ipynb>data table notebook</a>'\n",
              "          + ' to learn more about interactive tables.';\n",
              "        element.innerHTML = '';\n",
              "        dataTable['output_type'] = 'display_data';\n",
              "        await google.colab.output.renderOutput(dataTable, element);\n",
              "        const docLink = document.createElement('div');\n",
              "        docLink.innerHTML = docLinkHtml;\n",
              "        element.appendChild(docLink);\n",
              "      }\n",
              "    </script>\n",
              "  </div>\n",
              "\n",
              "\n",
              "<div id=\"df-6cb78a0e-5646-42ee-91f3-bb7add441c29\">\n",
              "  <button class=\"colab-df-quickchart\" onclick=\"quickchart('df-6cb78a0e-5646-42ee-91f3-bb7add441c29')\"\n",
              "            title=\"Suggest charts\"\n",
              "            style=\"display:none;\">\n",
              "\n",
              "<svg xmlns=\"http://www.w3.org/2000/svg\" height=\"24px\"viewBox=\"0 0 24 24\"\n",
              "     width=\"24px\">\n",
              "    <g>\n",
              "        <path d=\"M19 3H5c-1.1 0-2 .9-2 2v14c0 1.1.9 2 2 2h14c1.1 0 2-.9 2-2V5c0-1.1-.9-2-2-2zM9 17H7v-7h2v7zm4 0h-2V7h2v10zm4 0h-2v-4h2v4z\"/>\n",
              "    </g>\n",
              "</svg>\n",
              "  </button>\n",
              "\n",
              "<style>\n",
              "  .colab-df-quickchart {\n",
              "      --bg-color: #E8F0FE;\n",
              "      --fill-color: #1967D2;\n",
              "      --hover-bg-color: #E2EBFA;\n",
              "      --hover-fill-color: #174EA6;\n",
              "      --disabled-fill-color: #AAA;\n",
              "      --disabled-bg-color: #DDD;\n",
              "  }\n",
              "\n",
              "  [theme=dark] .colab-df-quickchart {\n",
              "      --bg-color: #3B4455;\n",
              "      --fill-color: #D2E3FC;\n",
              "      --hover-bg-color: #434B5C;\n",
              "      --hover-fill-color: #FFFFFF;\n",
              "      --disabled-bg-color: #3B4455;\n",
              "      --disabled-fill-color: #666;\n",
              "  }\n",
              "\n",
              "  .colab-df-quickchart {\n",
              "    background-color: var(--bg-color);\n",
              "    border: none;\n",
              "    border-radius: 50%;\n",
              "    cursor: pointer;\n",
              "    display: none;\n",
              "    fill: var(--fill-color);\n",
              "    height: 32px;\n",
              "    padding: 0;\n",
              "    width: 32px;\n",
              "  }\n",
              "\n",
              "  .colab-df-quickchart:hover {\n",
              "    background-color: var(--hover-bg-color);\n",
              "    box-shadow: 0 1px 2px rgba(60, 64, 67, 0.3), 0 1px 3px 1px rgba(60, 64, 67, 0.15);\n",
              "    fill: var(--button-hover-fill-color);\n",
              "  }\n",
              "\n",
              "  .colab-df-quickchart-complete:disabled,\n",
              "  .colab-df-quickchart-complete:disabled:hover {\n",
              "    background-color: var(--disabled-bg-color);\n",
              "    fill: var(--disabled-fill-color);\n",
              "    box-shadow: none;\n",
              "  }\n",
              "\n",
              "  .colab-df-spinner {\n",
              "    border: 2px solid var(--fill-color);\n",
              "    border-color: transparent;\n",
              "    border-bottom-color: var(--fill-color);\n",
              "    animation:\n",
              "      spin 1s steps(1) infinite;\n",
              "  }\n",
              "\n",
              "  @keyframes spin {\n",
              "    0% {\n",
              "      border-color: transparent;\n",
              "      border-bottom-color: var(--fill-color);\n",
              "      border-left-color: var(--fill-color);\n",
              "    }\n",
              "    20% {\n",
              "      border-color: transparent;\n",
              "      border-left-color: var(--fill-color);\n",
              "      border-top-color: var(--fill-color);\n",
              "    }\n",
              "    30% {\n",
              "      border-color: transparent;\n",
              "      border-left-color: var(--fill-color);\n",
              "      border-top-color: var(--fill-color);\n",
              "      border-right-color: var(--fill-color);\n",
              "    }\n",
              "    40% {\n",
              "      border-color: transparent;\n",
              "      border-right-color: var(--fill-color);\n",
              "      border-top-color: var(--fill-color);\n",
              "    }\n",
              "    60% {\n",
              "      border-color: transparent;\n",
              "      border-right-color: var(--fill-color);\n",
              "    }\n",
              "    80% {\n",
              "      border-color: transparent;\n",
              "      border-right-color: var(--fill-color);\n",
              "      border-bottom-color: var(--fill-color);\n",
              "    }\n",
              "    90% {\n",
              "      border-color: transparent;\n",
              "      border-bottom-color: var(--fill-color);\n",
              "    }\n",
              "  }\n",
              "</style>\n",
              "\n",
              "  <script>\n",
              "    async function quickchart(key) {\n",
              "      const quickchartButtonEl =\n",
              "        document.querySelector('#' + key + ' button');\n",
              "      quickchartButtonEl.disabled = true;  // To prevent multiple clicks.\n",
              "      quickchartButtonEl.classList.add('colab-df-spinner');\n",
              "      try {\n",
              "        const charts = await google.colab.kernel.invokeFunction(\n",
              "            'suggestCharts', [key], {});\n",
              "      } catch (error) {\n",
              "        console.error('Error during call to suggestCharts:', error);\n",
              "      }\n",
              "      quickchartButtonEl.classList.remove('colab-df-spinner');\n",
              "      quickchartButtonEl.classList.add('colab-df-quickchart-complete');\n",
              "    }\n",
              "    (() => {\n",
              "      let quickchartButtonEl =\n",
              "        document.querySelector('#df-6cb78a0e-5646-42ee-91f3-bb7add441c29 button');\n",
              "      quickchartButtonEl.style.display =\n",
              "        google.colab.kernel.accessAllowed ? 'block' : 'none';\n",
              "    })();\n",
              "  </script>\n",
              "</div>\n",
              "\n",
              "  <div id=\"id_f7b0ef9b-bce2-48ff-8055-b6a6beb1937b\">\n",
              "    <style>\n",
              "      .colab-df-generate {\n",
              "        background-color: #E8F0FE;\n",
              "        border: none;\n",
              "        border-radius: 50%;\n",
              "        cursor: pointer;\n",
              "        display: none;\n",
              "        fill: #1967D2;\n",
              "        height: 32px;\n",
              "        padding: 0 0 0 0;\n",
              "        width: 32px;\n",
              "      }\n",
              "\n",
              "      .colab-df-generate:hover {\n",
              "        background-color: #E2EBFA;\n",
              "        box-shadow: 0px 1px 2px rgba(60, 64, 67, 0.3), 0px 1px 3px 1px rgba(60, 64, 67, 0.15);\n",
              "        fill: #174EA6;\n",
              "      }\n",
              "\n",
              "      [theme=dark] .colab-df-generate {\n",
              "        background-color: #3B4455;\n",
              "        fill: #D2E3FC;\n",
              "      }\n",
              "\n",
              "      [theme=dark] .colab-df-generate:hover {\n",
              "        background-color: #434B5C;\n",
              "        box-shadow: 0px 1px 3px 1px rgba(0, 0, 0, 0.15);\n",
              "        filter: drop-shadow(0px 1px 2px rgba(0, 0, 0, 0.3));\n",
              "        fill: #FFFFFF;\n",
              "      }\n",
              "    </style>\n",
              "    <button class=\"colab-df-generate\" onclick=\"generateWithVariable('df')\"\n",
              "            title=\"Generate code using this dataframe.\"\n",
              "            style=\"display:none;\">\n",
              "\n",
              "  <svg xmlns=\"http://www.w3.org/2000/svg\" height=\"24px\"viewBox=\"0 0 24 24\"\n",
              "       width=\"24px\">\n",
              "    <path d=\"M7,19H8.4L18.45,9,17,7.55,7,17.6ZM5,21V16.75L18.45,3.32a2,2,0,0,1,2.83,0l1.4,1.43a1.91,1.91,0,0,1,.58,1.4,1.91,1.91,0,0,1-.58,1.4L9.25,21ZM18.45,9,17,7.55Zm-12,3A5.31,5.31,0,0,0,4.9,8.1,5.31,5.31,0,0,0,1,6.5,5.31,5.31,0,0,0,4.9,4.9,5.31,5.31,0,0,0,6.5,1,5.31,5.31,0,0,0,8.1,4.9,5.31,5.31,0,0,0,12,6.5,5.46,5.46,0,0,0,6.5,12Z\"/>\n",
              "  </svg>\n",
              "    </button>\n",
              "    <script>\n",
              "      (() => {\n",
              "      const buttonEl =\n",
              "        document.querySelector('#id_f7b0ef9b-bce2-48ff-8055-b6a6beb1937b button.colab-df-generate');\n",
              "      buttonEl.style.display =\n",
              "        google.colab.kernel.accessAllowed ? 'block' : 'none';\n",
              "\n",
              "      buttonEl.onclick = () => {\n",
              "        google.colab.notebook.generateWithVariable('df');\n",
              "      }\n",
              "      })();\n",
              "    </script>\n",
              "  </div>\n",
              "\n",
              "    </div>\n",
              "  </div>\n"
            ]
          },
          "metadata": {},
          "execution_count": 4
        }
      ]
    },
    {
      "cell_type": "markdown",
      "source": [
        "En este dataframe se presenta una identificación para cada noticia, así como: el título del artículo, el autor, el texto, además para este dataset se nos presenta si las noticias son verdaderas si en label contienen un 0 y es falsa si contiene un 1"
      ],
      "metadata": {
        "id": "zDjanFf-w_2E"
      }
    },
    {
      "cell_type": "code",
      "source": [
        "df.shape"
      ],
      "metadata": {
        "colab": {
          "base_uri": "https://localhost:8080/"
        },
        "id": "pPBS42uFwToN",
        "outputId": "a5dd7097-248c-4beb-dd60-1e9be6d40618"
      },
      "execution_count": 5,
      "outputs": [
        {
          "output_type": "execute_result",
          "data": {
            "text/plain": [
              "(20800, 5)"
            ]
          },
          "metadata": {},
          "execution_count": 5
        }
      ]
    },
    {
      "cell_type": "markdown",
      "source": [
        "Verificamos que en nuestros datos no hayan datos vacios"
      ],
      "metadata": {
        "id": "MU3LjyCI1HXq"
      }
    },
    {
      "cell_type": "code",
      "source": [
        "df.isnull().sum()"
      ],
      "metadata": {
        "colab": {
          "base_uri": "https://localhost:8080/"
        },
        "id": "-9lgsnB10Z5f",
        "outputId": "a9cfc1a4-fb67-43fa-e3f0-774fa625a09c"
      },
      "execution_count": 6,
      "outputs": [
        {
          "output_type": "execute_result",
          "data": {
            "text/plain": [
              "id           0\n",
              "title      558\n",
              "author    1957\n",
              "text        39\n",
              "label        0\n",
              "dtype: int64"
            ]
          },
          "metadata": {},
          "execution_count": 6
        }
      ]
    },
    {
      "cell_type": "markdown",
      "source": [
        "Eliminamos estos renglones con datos faltantes"
      ],
      "metadata": {
        "id": "YmZPfCWTNVEW"
      }
    },
    {
      "cell_type": "code",
      "source": [
        "dat = df.dropna()"
      ],
      "metadata": {
        "id": "GLxW_DKM0rQh"
      },
      "execution_count": 7,
      "outputs": []
    },
    {
      "cell_type": "code",
      "source": [
        "dat.isnull().sum()"
      ],
      "metadata": {
        "id": "LopYX8zE2GPT",
        "outputId": "b0315277-4613-4776-8d3f-a9a39a10f070",
        "colab": {
          "base_uri": "https://localhost:8080/"
        }
      },
      "execution_count": 8,
      "outputs": [
        {
          "output_type": "execute_result",
          "data": {
            "text/plain": [
              "id        0\n",
              "title     0\n",
              "author    0\n",
              "text      0\n",
              "label     0\n",
              "dtype: int64"
            ]
          },
          "metadata": {},
          "execution_count": 8
        }
      ]
    },
    {
      "cell_type": "code",
      "source": [
        "dat.shape"
      ],
      "metadata": {
        "id": "0PHKBeLV2Jhh",
        "outputId": "02dc1262-0676-45f0-9c54-894a98c29fea",
        "colab": {
          "base_uri": "https://localhost:8080/"
        }
      },
      "execution_count": 9,
      "outputs": [
        {
          "output_type": "execute_result",
          "data": {
            "text/plain": [
              "(18285, 5)"
            ]
          },
          "metadata": {},
          "execution_count": 9
        }
      ]
    },
    {
      "cell_type": "markdown",
      "source": [
        "El siguiente paso es la eliminación de palabras que no nos aporten nada en el análisis del texto usando la librería stop_word, además de otros caracteres que no sean alfanuméricos fuera de las palabras"
      ],
      "metadata": {
        "id": "rnomNAL4hWbu"
      }
    },
    {
      "cell_type": "markdown",
      "source": [
        "Las stopwords son:"
      ],
      "metadata": {
        "id": "ZQ46TU-lU_AO"
      }
    },
    {
      "cell_type": "code",
      "source": [
        "stop_words = get_stop_words(\"en\")\n",
        "punctuations = \"'!()-[]{};:',#$%&/=?´+@^`~\\*.-\"\n",
        "def quitar_palabras(texto):\n",
        "  palabras = texto.split()\n",
        "  palabras_buenas =[]\n",
        "  for i in range(len(palabras)):\n",
        "    if palabras[i] not in stop_words and palabras[i] not in punctuations:\n",
        "      palabras_buenas.append(palabras[i])\n",
        "  good_words = ' '.join(palabras_buenas)\n",
        "  return good_words"
      ],
      "metadata": {
        "id": "c_Kjtigp2Iea"
      },
      "execution_count": 10,
      "outputs": []
    },
    {
      "cell_type": "markdown",
      "source": [
        "Se usa la librería re, que su uso principal es para la identificación de tipos de caracterés, en este caso uso \\d para números \\W para caracterés no alfanúmericos dentro de las palabras"
      ],
      "metadata": {
        "id": "UKo4sHcBOFcs"
      }
    },
    {
      "cell_type": "code",
      "source": [
        "def limpiar(cuerpo):\n",
        "  #se usa re.compile para tener un tipo de patrón\n",
        "  #en este se encuentran números\n",
        "  patron = re.compile('\\d' )\n",
        "  #aquí se encuentra carácteres no alfanúmericos\n",
        "  patron2 = re.compile('\\W' )\n",
        "  #se cambian a minúsculas\n",
        "  cuerpo = cuerpo.lower()\n",
        "  #Se sustituyen los carácteres del patrón1\n",
        "  cuerpo = patron.sub('', cuerpo)\n",
        "  #Se sustituyen los carácteres del patrón2\n",
        "  cuerpo = patron2.sub(' ', cuerpo)\n",
        "  #Se utilliza la función anterior para quitar stop-words y carácteres no alfanuméricos\n",
        "  cuerpo = quitar_palabras(cuerpo)\n",
        "  return cuerpo"
      ],
      "metadata": {
        "id": "d6VwNyS6KgNy"
      },
      "execution_count": 11,
      "outputs": []
    },
    {
      "cell_type": "markdown",
      "source": [
        "Se crea otra columna que contenga el texto ya limpio de los artículos"
      ],
      "metadata": {
        "id": "HDdUwMHnPABL"
      }
    },
    {
      "cell_type": "code",
      "source": [
        "dat['limpio'] = dat.text.map(lambda x: limpiar(x))"
      ],
      "metadata": {
        "colab": {
          "base_uri": "https://localhost:8080/"
        },
        "id": "1KAn9D2aqzgd",
        "outputId": "78bab5ae-5d73-4ffc-ce20-05eed9f539a6"
      },
      "execution_count": 12,
      "outputs": [
        {
          "output_type": "stream",
          "name": "stderr",
          "text": [
            "<ipython-input-12-2708f10d460e>:1: SettingWithCopyWarning: \n",
            "A value is trying to be set on a copy of a slice from a DataFrame.\n",
            "Try using .loc[row_indexer,col_indexer] = value instead\n",
            "\n",
            "See the caveats in the documentation: https://pandas.pydata.org/pandas-docs/stable/user_guide/indexing.html#returning-a-view-versus-a-copy\n",
            "  dat['limpio'] = dat.text.map(lambda x: limpiar(x))\n"
          ]
        }
      ]
    },
    {
      "cell_type": "code",
      "source": [
        "dat"
      ],
      "metadata": {
        "colab": {
          "base_uri": "https://localhost:8080/",
          "height": 424
        },
        "id": "SDxekUAzfMN2",
        "outputId": "d57f5163-9aef-4ca1-ad22-5a1de7f603df"
      },
      "execution_count": 13,
      "outputs": [
        {
          "output_type": "execute_result",
          "data": {
            "text/plain": [
              "          id                                              title  \\\n",
              "0          0  House Dem Aide: We Didn’t Even See Comey’s Let...   \n",
              "1          1  FLYNN: Hillary Clinton, Big Woman on Campus - ...   \n",
              "2          2                  Why the Truth Might Get You Fired   \n",
              "3          3  15 Civilians Killed In Single US Airstrike Hav...   \n",
              "4          4  Iranian woman jailed for fictional unpublished...   \n",
              "...      ...                                                ...   \n",
              "20795  20795  Rapper T.I.: Trump a ’Poster Child For White S...   \n",
              "20796  20796  N.F.L. Playoffs: Schedule, Matchups and Odds -...   \n",
              "20797  20797  Macy’s Is Said to Receive Takeover Approach by...   \n",
              "20798  20798  NATO, Russia To Hold Parallel Exercises In Bal...   \n",
              "20799  20799                          What Keeps the F-35 Alive   \n",
              "\n",
              "                                          author  \\\n",
              "0                                  Darrell Lucus   \n",
              "1                                Daniel J. Flynn   \n",
              "2                             Consortiumnews.com   \n",
              "3                                Jessica Purkiss   \n",
              "4                                 Howard Portnoy   \n",
              "...                                          ...   \n",
              "20795                              Jerome Hudson   \n",
              "20796                           Benjamin Hoffman   \n",
              "20797  Michael J. de la Merced and Rachel Abrams   \n",
              "20798                                Alex Ansary   \n",
              "20799                              David Swanson   \n",
              "\n",
              "                                                    text  label  \\\n",
              "0      House Dem Aide: We Didn’t Even See Comey’s Let...      1   \n",
              "1      Ever get the feeling your life circles the rou...      0   \n",
              "2      Why the Truth Might Get You Fired October 29, ...      1   \n",
              "3      Videos 15 Civilians Killed In Single US Airstr...      1   \n",
              "4      Print \\nAn Iranian woman has been sentenced to...      1   \n",
              "...                                                  ...    ...   \n",
              "20795  Rapper T. I. unloaded on black celebrities who...      0   \n",
              "20796  When the Green Bay Packers lost to the Washing...      0   \n",
              "20797  The Macy’s of today grew from the union of sev...      0   \n",
              "20798  NATO, Russia To Hold Parallel Exercises In Bal...      1   \n",
              "20799    David Swanson is an author, activist, journa...      1   \n",
              "\n",
              "                                                  limpio  \n",
              "0      house dem aide didn t even see comey s letter ...  \n",
              "1      ever get feeling life circles roundabout rathe...  \n",
              "2      truth might get fired october tension intellig...  \n",
              "3      videos civilians killed single us airstrike id...  \n",
              "4      print iranian woman sentenced six years prison...  \n",
              "...                                                  ...  \n",
              "20795  rapper t unloaded black celebrities met donald...  \n",
              "20796  green bay packers lost washington redskins wee...  \n",
              "20797  macy s today grew union several great names am...  \n",
              "20798  nato russia hold parallel exercises balkans pr...  \n",
              "20799  david swanson author activist journalist radio...  \n",
              "\n",
              "[18285 rows x 6 columns]"
            ],
            "text/html": [
              "\n",
              "  <div id=\"df-aa1d6634-0feb-4470-9dd4-a546c36a1fe3\" class=\"colab-df-container\">\n",
              "    <div>\n",
              "<style scoped>\n",
              "    .dataframe tbody tr th:only-of-type {\n",
              "        vertical-align: middle;\n",
              "    }\n",
              "\n",
              "    .dataframe tbody tr th {\n",
              "        vertical-align: top;\n",
              "    }\n",
              "\n",
              "    .dataframe thead th {\n",
              "        text-align: right;\n",
              "    }\n",
              "</style>\n",
              "<table border=\"1\" class=\"dataframe\">\n",
              "  <thead>\n",
              "    <tr style=\"text-align: right;\">\n",
              "      <th></th>\n",
              "      <th>id</th>\n",
              "      <th>title</th>\n",
              "      <th>author</th>\n",
              "      <th>text</th>\n",
              "      <th>label</th>\n",
              "      <th>limpio</th>\n",
              "    </tr>\n",
              "  </thead>\n",
              "  <tbody>\n",
              "    <tr>\n",
              "      <th>0</th>\n",
              "      <td>0</td>\n",
              "      <td>House Dem Aide: We Didn’t Even See Comey’s Let...</td>\n",
              "      <td>Darrell Lucus</td>\n",
              "      <td>House Dem Aide: We Didn’t Even See Comey’s Let...</td>\n",
              "      <td>1</td>\n",
              "      <td>house dem aide didn t even see comey s letter ...</td>\n",
              "    </tr>\n",
              "    <tr>\n",
              "      <th>1</th>\n",
              "      <td>1</td>\n",
              "      <td>FLYNN: Hillary Clinton, Big Woman on Campus - ...</td>\n",
              "      <td>Daniel J. Flynn</td>\n",
              "      <td>Ever get the feeling your life circles the rou...</td>\n",
              "      <td>0</td>\n",
              "      <td>ever get feeling life circles roundabout rathe...</td>\n",
              "    </tr>\n",
              "    <tr>\n",
              "      <th>2</th>\n",
              "      <td>2</td>\n",
              "      <td>Why the Truth Might Get You Fired</td>\n",
              "      <td>Consortiumnews.com</td>\n",
              "      <td>Why the Truth Might Get You Fired October 29, ...</td>\n",
              "      <td>1</td>\n",
              "      <td>truth might get fired october tension intellig...</td>\n",
              "    </tr>\n",
              "    <tr>\n",
              "      <th>3</th>\n",
              "      <td>3</td>\n",
              "      <td>15 Civilians Killed In Single US Airstrike Hav...</td>\n",
              "      <td>Jessica Purkiss</td>\n",
              "      <td>Videos 15 Civilians Killed In Single US Airstr...</td>\n",
              "      <td>1</td>\n",
              "      <td>videos civilians killed single us airstrike id...</td>\n",
              "    </tr>\n",
              "    <tr>\n",
              "      <th>4</th>\n",
              "      <td>4</td>\n",
              "      <td>Iranian woman jailed for fictional unpublished...</td>\n",
              "      <td>Howard Portnoy</td>\n",
              "      <td>Print \\nAn Iranian woman has been sentenced to...</td>\n",
              "      <td>1</td>\n",
              "      <td>print iranian woman sentenced six years prison...</td>\n",
              "    </tr>\n",
              "    <tr>\n",
              "      <th>...</th>\n",
              "      <td>...</td>\n",
              "      <td>...</td>\n",
              "      <td>...</td>\n",
              "      <td>...</td>\n",
              "      <td>...</td>\n",
              "      <td>...</td>\n",
              "    </tr>\n",
              "    <tr>\n",
              "      <th>20795</th>\n",
              "      <td>20795</td>\n",
              "      <td>Rapper T.I.: Trump a ’Poster Child For White S...</td>\n",
              "      <td>Jerome Hudson</td>\n",
              "      <td>Rapper T. I. unloaded on black celebrities who...</td>\n",
              "      <td>0</td>\n",
              "      <td>rapper t unloaded black celebrities met donald...</td>\n",
              "    </tr>\n",
              "    <tr>\n",
              "      <th>20796</th>\n",
              "      <td>20796</td>\n",
              "      <td>N.F.L. Playoffs: Schedule, Matchups and Odds -...</td>\n",
              "      <td>Benjamin Hoffman</td>\n",
              "      <td>When the Green Bay Packers lost to the Washing...</td>\n",
              "      <td>0</td>\n",
              "      <td>green bay packers lost washington redskins wee...</td>\n",
              "    </tr>\n",
              "    <tr>\n",
              "      <th>20797</th>\n",
              "      <td>20797</td>\n",
              "      <td>Macy’s Is Said to Receive Takeover Approach by...</td>\n",
              "      <td>Michael J. de la Merced and Rachel Abrams</td>\n",
              "      <td>The Macy’s of today grew from the union of sev...</td>\n",
              "      <td>0</td>\n",
              "      <td>macy s today grew union several great names am...</td>\n",
              "    </tr>\n",
              "    <tr>\n",
              "      <th>20798</th>\n",
              "      <td>20798</td>\n",
              "      <td>NATO, Russia To Hold Parallel Exercises In Bal...</td>\n",
              "      <td>Alex Ansary</td>\n",
              "      <td>NATO, Russia To Hold Parallel Exercises In Bal...</td>\n",
              "      <td>1</td>\n",
              "      <td>nato russia hold parallel exercises balkans pr...</td>\n",
              "    </tr>\n",
              "    <tr>\n",
              "      <th>20799</th>\n",
              "      <td>20799</td>\n",
              "      <td>What Keeps the F-35 Alive</td>\n",
              "      <td>David Swanson</td>\n",
              "      <td>David Swanson is an author, activist, journa...</td>\n",
              "      <td>1</td>\n",
              "      <td>david swanson author activist journalist radio...</td>\n",
              "    </tr>\n",
              "  </tbody>\n",
              "</table>\n",
              "<p>18285 rows × 6 columns</p>\n",
              "</div>\n",
              "    <div class=\"colab-df-buttons\">\n",
              "\n",
              "  <div class=\"colab-df-container\">\n",
              "    <button class=\"colab-df-convert\" onclick=\"convertToInteractive('df-aa1d6634-0feb-4470-9dd4-a546c36a1fe3')\"\n",
              "            title=\"Convert this dataframe to an interactive table.\"\n",
              "            style=\"display:none;\">\n",
              "\n",
              "  <svg xmlns=\"http://www.w3.org/2000/svg\" height=\"24px\" viewBox=\"0 -960 960 960\">\n",
              "    <path d=\"M120-120v-720h720v720H120Zm60-500h600v-160H180v160Zm220 220h160v-160H400v160Zm0 220h160v-160H400v160ZM180-400h160v-160H180v160Zm440 0h160v-160H620v160ZM180-180h160v-160H180v160Zm440 0h160v-160H620v160Z\"/>\n",
              "  </svg>\n",
              "    </button>\n",
              "\n",
              "  <style>\n",
              "    .colab-df-container {\n",
              "      display:flex;\n",
              "      gap: 12px;\n",
              "    }\n",
              "\n",
              "    .colab-df-convert {\n",
              "      background-color: #E8F0FE;\n",
              "      border: none;\n",
              "      border-radius: 50%;\n",
              "      cursor: pointer;\n",
              "      display: none;\n",
              "      fill: #1967D2;\n",
              "      height: 32px;\n",
              "      padding: 0 0 0 0;\n",
              "      width: 32px;\n",
              "    }\n",
              "\n",
              "    .colab-df-convert:hover {\n",
              "      background-color: #E2EBFA;\n",
              "      box-shadow: 0px 1px 2px rgba(60, 64, 67, 0.3), 0px 1px 3px 1px rgba(60, 64, 67, 0.15);\n",
              "      fill: #174EA6;\n",
              "    }\n",
              "\n",
              "    .colab-df-buttons div {\n",
              "      margin-bottom: 4px;\n",
              "    }\n",
              "\n",
              "    [theme=dark] .colab-df-convert {\n",
              "      background-color: #3B4455;\n",
              "      fill: #D2E3FC;\n",
              "    }\n",
              "\n",
              "    [theme=dark] .colab-df-convert:hover {\n",
              "      background-color: #434B5C;\n",
              "      box-shadow: 0px 1px 3px 1px rgba(0, 0, 0, 0.15);\n",
              "      filter: drop-shadow(0px 1px 2px rgba(0, 0, 0, 0.3));\n",
              "      fill: #FFFFFF;\n",
              "    }\n",
              "  </style>\n",
              "\n",
              "    <script>\n",
              "      const buttonEl =\n",
              "        document.querySelector('#df-aa1d6634-0feb-4470-9dd4-a546c36a1fe3 button.colab-df-convert');\n",
              "      buttonEl.style.display =\n",
              "        google.colab.kernel.accessAllowed ? 'block' : 'none';\n",
              "\n",
              "      async function convertToInteractive(key) {\n",
              "        const element = document.querySelector('#df-aa1d6634-0feb-4470-9dd4-a546c36a1fe3');\n",
              "        const dataTable =\n",
              "          await google.colab.kernel.invokeFunction('convertToInteractive',\n",
              "                                                    [key], {});\n",
              "        if (!dataTable) return;\n",
              "\n",
              "        const docLinkHtml = 'Like what you see? Visit the ' +\n",
              "          '<a target=\"_blank\" href=https://colab.research.google.com/notebooks/data_table.ipynb>data table notebook</a>'\n",
              "          + ' to learn more about interactive tables.';\n",
              "        element.innerHTML = '';\n",
              "        dataTable['output_type'] = 'display_data';\n",
              "        await google.colab.output.renderOutput(dataTable, element);\n",
              "        const docLink = document.createElement('div');\n",
              "        docLink.innerHTML = docLinkHtml;\n",
              "        element.appendChild(docLink);\n",
              "      }\n",
              "    </script>\n",
              "  </div>\n",
              "\n",
              "\n",
              "<div id=\"df-c4a417f0-d2f5-4a76-93a1-545727d164b5\">\n",
              "  <button class=\"colab-df-quickchart\" onclick=\"quickchart('df-c4a417f0-d2f5-4a76-93a1-545727d164b5')\"\n",
              "            title=\"Suggest charts\"\n",
              "            style=\"display:none;\">\n",
              "\n",
              "<svg xmlns=\"http://www.w3.org/2000/svg\" height=\"24px\"viewBox=\"0 0 24 24\"\n",
              "     width=\"24px\">\n",
              "    <g>\n",
              "        <path d=\"M19 3H5c-1.1 0-2 .9-2 2v14c0 1.1.9 2 2 2h14c1.1 0 2-.9 2-2V5c0-1.1-.9-2-2-2zM9 17H7v-7h2v7zm4 0h-2V7h2v10zm4 0h-2v-4h2v4z\"/>\n",
              "    </g>\n",
              "</svg>\n",
              "  </button>\n",
              "\n",
              "<style>\n",
              "  .colab-df-quickchart {\n",
              "      --bg-color: #E8F0FE;\n",
              "      --fill-color: #1967D2;\n",
              "      --hover-bg-color: #E2EBFA;\n",
              "      --hover-fill-color: #174EA6;\n",
              "      --disabled-fill-color: #AAA;\n",
              "      --disabled-bg-color: #DDD;\n",
              "  }\n",
              "\n",
              "  [theme=dark] .colab-df-quickchart {\n",
              "      --bg-color: #3B4455;\n",
              "      --fill-color: #D2E3FC;\n",
              "      --hover-bg-color: #434B5C;\n",
              "      --hover-fill-color: #FFFFFF;\n",
              "      --disabled-bg-color: #3B4455;\n",
              "      --disabled-fill-color: #666;\n",
              "  }\n",
              "\n",
              "  .colab-df-quickchart {\n",
              "    background-color: var(--bg-color);\n",
              "    border: none;\n",
              "    border-radius: 50%;\n",
              "    cursor: pointer;\n",
              "    display: none;\n",
              "    fill: var(--fill-color);\n",
              "    height: 32px;\n",
              "    padding: 0;\n",
              "    width: 32px;\n",
              "  }\n",
              "\n",
              "  .colab-df-quickchart:hover {\n",
              "    background-color: var(--hover-bg-color);\n",
              "    box-shadow: 0 1px 2px rgba(60, 64, 67, 0.3), 0 1px 3px 1px rgba(60, 64, 67, 0.15);\n",
              "    fill: var(--button-hover-fill-color);\n",
              "  }\n",
              "\n",
              "  .colab-df-quickchart-complete:disabled,\n",
              "  .colab-df-quickchart-complete:disabled:hover {\n",
              "    background-color: var(--disabled-bg-color);\n",
              "    fill: var(--disabled-fill-color);\n",
              "    box-shadow: none;\n",
              "  }\n",
              "\n",
              "  .colab-df-spinner {\n",
              "    border: 2px solid var(--fill-color);\n",
              "    border-color: transparent;\n",
              "    border-bottom-color: var(--fill-color);\n",
              "    animation:\n",
              "      spin 1s steps(1) infinite;\n",
              "  }\n",
              "\n",
              "  @keyframes spin {\n",
              "    0% {\n",
              "      border-color: transparent;\n",
              "      border-bottom-color: var(--fill-color);\n",
              "      border-left-color: var(--fill-color);\n",
              "    }\n",
              "    20% {\n",
              "      border-color: transparent;\n",
              "      border-left-color: var(--fill-color);\n",
              "      border-top-color: var(--fill-color);\n",
              "    }\n",
              "    30% {\n",
              "      border-color: transparent;\n",
              "      border-left-color: var(--fill-color);\n",
              "      border-top-color: var(--fill-color);\n",
              "      border-right-color: var(--fill-color);\n",
              "    }\n",
              "    40% {\n",
              "      border-color: transparent;\n",
              "      border-right-color: var(--fill-color);\n",
              "      border-top-color: var(--fill-color);\n",
              "    }\n",
              "    60% {\n",
              "      border-color: transparent;\n",
              "      border-right-color: var(--fill-color);\n",
              "    }\n",
              "    80% {\n",
              "      border-color: transparent;\n",
              "      border-right-color: var(--fill-color);\n",
              "      border-bottom-color: var(--fill-color);\n",
              "    }\n",
              "    90% {\n",
              "      border-color: transparent;\n",
              "      border-bottom-color: var(--fill-color);\n",
              "    }\n",
              "  }\n",
              "</style>\n",
              "\n",
              "  <script>\n",
              "    async function quickchart(key) {\n",
              "      const quickchartButtonEl =\n",
              "        document.querySelector('#' + key + ' button');\n",
              "      quickchartButtonEl.disabled = true;  // To prevent multiple clicks.\n",
              "      quickchartButtonEl.classList.add('colab-df-spinner');\n",
              "      try {\n",
              "        const charts = await google.colab.kernel.invokeFunction(\n",
              "            'suggestCharts', [key], {});\n",
              "      } catch (error) {\n",
              "        console.error('Error during call to suggestCharts:', error);\n",
              "      }\n",
              "      quickchartButtonEl.classList.remove('colab-df-spinner');\n",
              "      quickchartButtonEl.classList.add('colab-df-quickchart-complete');\n",
              "    }\n",
              "    (() => {\n",
              "      let quickchartButtonEl =\n",
              "        document.querySelector('#df-c4a417f0-d2f5-4a76-93a1-545727d164b5 button');\n",
              "      quickchartButtonEl.style.display =\n",
              "        google.colab.kernel.accessAllowed ? 'block' : 'none';\n",
              "    })();\n",
              "  </script>\n",
              "</div>\n",
              "\n",
              "  <div id=\"id_c04453bd-a1dd-421a-b1d3-be1d81e70ca7\">\n",
              "    <style>\n",
              "      .colab-df-generate {\n",
              "        background-color: #E8F0FE;\n",
              "        border: none;\n",
              "        border-radius: 50%;\n",
              "        cursor: pointer;\n",
              "        display: none;\n",
              "        fill: #1967D2;\n",
              "        height: 32px;\n",
              "        padding: 0 0 0 0;\n",
              "        width: 32px;\n",
              "      }\n",
              "\n",
              "      .colab-df-generate:hover {\n",
              "        background-color: #E2EBFA;\n",
              "        box-shadow: 0px 1px 2px rgba(60, 64, 67, 0.3), 0px 1px 3px 1px rgba(60, 64, 67, 0.15);\n",
              "        fill: #174EA6;\n",
              "      }\n",
              "\n",
              "      [theme=dark] .colab-df-generate {\n",
              "        background-color: #3B4455;\n",
              "        fill: #D2E3FC;\n",
              "      }\n",
              "\n",
              "      [theme=dark] .colab-df-generate:hover {\n",
              "        background-color: #434B5C;\n",
              "        box-shadow: 0px 1px 3px 1px rgba(0, 0, 0, 0.15);\n",
              "        filter: drop-shadow(0px 1px 2px rgba(0, 0, 0, 0.3));\n",
              "        fill: #FFFFFF;\n",
              "      }\n",
              "    </style>\n",
              "    <button class=\"colab-df-generate\" onclick=\"generateWithVariable('dat')\"\n",
              "            title=\"Generate code using this dataframe.\"\n",
              "            style=\"display:none;\">\n",
              "\n",
              "  <svg xmlns=\"http://www.w3.org/2000/svg\" height=\"24px\"viewBox=\"0 0 24 24\"\n",
              "       width=\"24px\">\n",
              "    <path d=\"M7,19H8.4L18.45,9,17,7.55,7,17.6ZM5,21V16.75L18.45,3.32a2,2,0,0,1,2.83,0l1.4,1.43a1.91,1.91,0,0,1,.58,1.4,1.91,1.91,0,0,1-.58,1.4L9.25,21ZM18.45,9,17,7.55Zm-12,3A5.31,5.31,0,0,0,4.9,8.1,5.31,5.31,0,0,0,1,6.5,5.31,5.31,0,0,0,4.9,4.9,5.31,5.31,0,0,0,6.5,1,5.31,5.31,0,0,0,8.1,4.9,5.31,5.31,0,0,0,12,6.5,5.46,5.46,0,0,0,6.5,12Z\"/>\n",
              "  </svg>\n",
              "    </button>\n",
              "    <script>\n",
              "      (() => {\n",
              "      const buttonEl =\n",
              "        document.querySelector('#id_c04453bd-a1dd-421a-b1d3-be1d81e70ca7 button.colab-df-generate');\n",
              "      buttonEl.style.display =\n",
              "        google.colab.kernel.accessAllowed ? 'block' : 'none';\n",
              "\n",
              "      buttonEl.onclick = () => {\n",
              "        google.colab.notebook.generateWithVariable('dat');\n",
              "      }\n",
              "      })();\n",
              "    </script>\n",
              "  </div>\n",
              "\n",
              "    </div>\n",
              "  </div>\n"
            ]
          },
          "metadata": {},
          "execution_count": 13
        }
      ]
    },
    {
      "cell_type": "markdown",
      "source": [
        "Para reducir aún más el número de palabras usaremos el proceso stemming que lo que realizará es la reducción de palabras a su raíz, por ejemplo:\n",
        "actor, actriz, actuar -> acto"
      ],
      "metadata": {
        "id": "qyBMzqC8VvT5"
      }
    },
    {
      "cell_type": "code",
      "source": [
        "port_stem = PorterStemmer()"
      ],
      "metadata": {
        "id": "vI0afHTzbNrT"
      },
      "execution_count": 14,
      "outputs": []
    },
    {
      "cell_type": "code",
      "source": [
        "def stemming(contenido):\n",
        "  stemmed_contenido = contenido.split()\n",
        "  stemmed_contenido = [port_stem.stem(word) for word in stemmed_contenido]\n",
        "  stemmed_contenido = ' '.join(stemmed_contenido)\n",
        "  return stemmed_contenido"
      ],
      "metadata": {
        "id": "UMV_VtYmbkFW"
      },
      "execution_count": 15,
      "outputs": []
    },
    {
      "cell_type": "code",
      "source": [
        "dat['limpio'] = dat['limpio'].apply(stemming)"
      ],
      "metadata": {
        "colab": {
          "base_uri": "https://localhost:8080/"
        },
        "id": "kJ2F_srfb1JR",
        "outputId": "4661ee77-9fc5-4d46-f1ed-0328029b8ea4"
      },
      "execution_count": 16,
      "outputs": [
        {
          "output_type": "stream",
          "name": "stderr",
          "text": [
            "<ipython-input-16-15422f8e2b9c>:1: SettingWithCopyWarning: \n",
            "A value is trying to be set on a copy of a slice from a DataFrame.\n",
            "Try using .loc[row_indexer,col_indexer] = value instead\n",
            "\n",
            "See the caveats in the documentation: https://pandas.pydata.org/pandas-docs/stable/user_guide/indexing.html#returning-a-view-versus-a-copy\n",
            "  dat['limpio'] = dat['limpio'].apply(stemming)\n"
          ]
        }
      ]
    },
    {
      "cell_type": "code",
      "source": [
        "corpus = dat.limpio.values"
      ],
      "metadata": {
        "id": "BuQ8vffPSX4K"
      },
      "execution_count": 17,
      "outputs": []
    },
    {
      "cell_type": "markdown",
      "source": [
        "El siguiente paso es convertir cada texto en una lista, se usará la paquetería nltk y la función TweetTokenizer"
      ],
      "metadata": {
        "id": "yO0LJUbtWa5e"
      }
    },
    {
      "cell_type": "code",
      "source": [
        "tknzr=TweetTokenizer()\n",
        "tknzr.tokenize(corpus[0])"
      ],
      "metadata": {
        "colab": {
          "base_uri": "https://localhost:8080/"
        },
        "id": "eEyJRTFScrv5",
        "outputId": "22dcdbee-4f4c-43b1-e8d8-f58066278994"
      },
      "execution_count": 18,
      "outputs": [
        {
          "output_type": "execute_result",
          "data": {
            "text/plain": [
              "['hous',\n",
              " 'dem',\n",
              " 'aid',\n",
              " 'didn',\n",
              " 't',\n",
              " 'even',\n",
              " 'see',\n",
              " 'comey',\n",
              " 's',\n",
              " 'letter',\n",
              " 'jason',\n",
              " 'chaffetz',\n",
              " 'tweet',\n",
              " 'darrel',\n",
              " 'lucu',\n",
              " 'octob',\n",
              " 'subscrib',\n",
              " 'jason',\n",
              " 'chaffetz',\n",
              " 'stump',\n",
              " 'american',\n",
              " 'fork',\n",
              " 'utah',\n",
              " 'imag',\n",
              " 'courtesi',\n",
              " 'michael',\n",
              " 'jolley',\n",
              " 'avail',\n",
              " 'creativ',\n",
              " 'common',\n",
              " 'licens',\n",
              " 'apolog',\n",
              " 'keith',\n",
              " 'olbermann',\n",
              " 'doubt',\n",
              " 'worst',\n",
              " 'person',\n",
              " 'world',\n",
              " 'week',\n",
              " 'fbi',\n",
              " 'director',\n",
              " 'jame',\n",
              " 'comey',\n",
              " 'accord',\n",
              " 'hous',\n",
              " 'democrat',\n",
              " 'aid',\n",
              " 'look',\n",
              " 'like',\n",
              " 'also',\n",
              " 'know',\n",
              " 'second',\n",
              " 'worst',\n",
              " 'person',\n",
              " 'well',\n",
              " 'turn',\n",
              " 'comey',\n",
              " 'sent',\n",
              " 'now',\n",
              " 'infam',\n",
              " 'letter',\n",
              " 'announc',\n",
              " 'fbi',\n",
              " 'look',\n",
              " 'email',\n",
              " 'may',\n",
              " 'relat',\n",
              " 'hillari',\n",
              " 'clinton',\n",
              " 's',\n",
              " 'email',\n",
              " 'server',\n",
              " 'rank',\n",
              " 'democrat',\n",
              " 'relev',\n",
              " 'committe',\n",
              " 'didn',\n",
              " 't',\n",
              " 'hear',\n",
              " 'comey',\n",
              " 'found',\n",
              " 'via',\n",
              " 'tweet',\n",
              " 'one',\n",
              " 'republican',\n",
              " 'committe',\n",
              " 'chairmen',\n",
              " 'now',\n",
              " 'know',\n",
              " 'comey',\n",
              " 'notifi',\n",
              " 'republican',\n",
              " 'chairmen',\n",
              " 'democrat',\n",
              " 'rank',\n",
              " 'member',\n",
              " 'hous',\n",
              " 'intellig',\n",
              " 'judiciari',\n",
              " 'oversight',\n",
              " 'committe',\n",
              " 'agenc',\n",
              " 'review',\n",
              " 'email',\n",
              " 'recent',\n",
              " 'discov',\n",
              " 'order',\n",
              " 'see',\n",
              " 'contain',\n",
              " 'classifi',\n",
              " 'inform',\n",
              " 'long',\n",
              " 'letter',\n",
              " 'went',\n",
              " 'oversight',\n",
              " 'committe',\n",
              " 'chairman',\n",
              " 'jason',\n",
              " 'chaffetz',\n",
              " 'set',\n",
              " 'polit',\n",
              " 'world',\n",
              " 'ablaz',\n",
              " 'tweet',\n",
              " 'fbi',\n",
              " 'dir',\n",
              " 'just',\n",
              " 'inform',\n",
              " 'fbi',\n",
              " 'learn',\n",
              " 'exist',\n",
              " 'email',\n",
              " 'appear',\n",
              " 'pertin',\n",
              " 'investig',\n",
              " 'case',\n",
              " 'reopen',\n",
              " 'jason',\n",
              " 'chaffetz',\n",
              " 'jasoninthehous',\n",
              " 'octob',\n",
              " 'cours',\n",
              " 'now',\n",
              " 'know',\n",
              " 'case',\n",
              " 'comey',\n",
              " 'actual',\n",
              " 'say',\n",
              " 'review',\n",
              " 'email',\n",
              " 'light',\n",
              " 'unrel',\n",
              " 'case',\n",
              " 'now',\n",
              " 'know',\n",
              " 'anthoni',\n",
              " 'weiner',\n",
              " 's',\n",
              " 'sext',\n",
              " 'teenag',\n",
              " 'appar',\n",
              " 'littl',\n",
              " 'thing',\n",
              " 'fact',\n",
              " 'didn',\n",
              " 't',\n",
              " 'matter',\n",
              " 'chaffetz',\n",
              " 'utah',\n",
              " 'republican',\n",
              " 'alreadi',\n",
              " 'vow',\n",
              " 'initi',\n",
              " 'raft',\n",
              " 'investig',\n",
              " 'hillari',\n",
              " 'win',\n",
              " 'least',\n",
              " 'two',\n",
              " 'year',\n",
              " 'worth',\n",
              " 'possibl',\n",
              " 'entir',\n",
              " 'term',\n",
              " 's',\n",
              " 'worth',\n",
              " 'appar',\n",
              " 'chaffetz',\n",
              " 'thought',\n",
              " 'fbi',\n",
              " 'alreadi',\n",
              " 'work',\n",
              " 'result',\n",
              " 'tweet',\n",
              " 'briefli',\n",
              " 'roil',\n",
              " 'nation',\n",
              " 'cooler',\n",
              " 'head',\n",
              " 'realiz',\n",
              " 'dud',\n",
              " 'accord',\n",
              " 'senior',\n",
              " 'hous',\n",
              " 'democrat',\n",
              " 'aid',\n",
              " 'misread',\n",
              " 'letter',\n",
              " 'may',\n",
              " 'least',\n",
              " 'chaffetz',\n",
              " 'sin',\n",
              " 'aid',\n",
              " 'told',\n",
              " 'shareblu',\n",
              " 'boss',\n",
              " 'democrat',\n",
              " 'didn',\n",
              " 't',\n",
              " 'even',\n",
              " 'know',\n",
              " 'comey',\n",
              " 's',\n",
              " 'letter',\n",
              " 'time',\n",
              " 'found',\n",
              " 'check',\n",
              " 'twitter',\n",
              " 'democrat',\n",
              " 'rank',\n",
              " 'member',\n",
              " 'relev',\n",
              " 'committe',\n",
              " 'didn',\n",
              " 't',\n",
              " 'receiv',\n",
              " 'comey',\n",
              " 's',\n",
              " 'letter',\n",
              " 'republican',\n",
              " 'chairmen',\n",
              " 'fact',\n",
              " 'democrat',\n",
              " 'rank',\n",
              " 'member',\n",
              " 'didn',\n",
              " 'receiv',\n",
              " 'chairman',\n",
              " 'oversight',\n",
              " 'govern',\n",
              " 'reform',\n",
              " 'committe',\n",
              " 'jason',\n",
              " 'chaffetz',\n",
              " 'tweet',\n",
              " 'made',\n",
              " 'public',\n",
              " 'let',\n",
              " 's',\n",
              " 'see',\n",
              " 've',\n",
              " 'got',\n",
              " 'right',\n",
              " 'fbi',\n",
              " 'director',\n",
              " 'tell',\n",
              " 'chaffetz',\n",
              " 'gop',\n",
              " 'committe',\n",
              " 'chairmen',\n",
              " 'major',\n",
              " 'develop',\n",
              " 'potenti',\n",
              " 'polit',\n",
              " 'explos',\n",
              " 'investig',\n",
              " 'neither',\n",
              " 'chaffetz',\n",
              " 'colleagu',\n",
              " 'courtesi',\n",
              " 'let',\n",
              " 'democrat',\n",
              " 'counterpart',\n",
              " 'know',\n",
              " 'instead',\n",
              " 'accord',\n",
              " 'aid',\n",
              " 'made',\n",
              " 'find',\n",
              " 'twitter',\n",
              " 'alreadi',\n",
              " 'talk',\n",
              " 'daili',\n",
              " 'ko',\n",
              " 'comey',\n",
              " 'provid',\n",
              " 'advanc',\n",
              " 'notic',\n",
              " 'letter',\n",
              " 'chaffetz',\n",
              " 'republican',\n",
              " 'give',\n",
              " 'time',\n",
              " 'turn',\n",
              " 'spin',\n",
              " 'machin',\n",
              " 'may',\n",
              " 'make',\n",
              " 'good',\n",
              " 'theater',\n",
              " 'noth',\n",
              " 'far',\n",
              " 'even',\n",
              " 'suggest',\n",
              " 'case',\n",
              " 'noth',\n",
              " 'far',\n",
              " 'suggest',\n",
              " 'comey',\n",
              " 'anyth',\n",
              " 'grossli',\n",
              " 'incompet',\n",
              " 'tone',\n",
              " 'deaf',\n",
              " 'suggest',\n",
              " 'howev',\n",
              " 'chaffetz',\n",
              " 'act',\n",
              " 'way',\n",
              " 'make',\n",
              " 'dan',\n",
              " 'burton',\n",
              " 'darrel',\n",
              " 'issa',\n",
              " 'look',\n",
              " 'like',\n",
              " 'model',\n",
              " 'respons',\n",
              " 'bipartisanship',\n",
              " 'didn',\n",
              " 't',\n",
              " 'even',\n",
              " 'decenc',\n",
              " 'notifi',\n",
              " 'rank',\n",
              " 'member',\n",
              " 'elijah',\n",
              " 'cum',\n",
              " 'someth',\n",
              " 'explos',\n",
              " 'doesn',\n",
              " 't',\n",
              " 'trampl',\n",
              " 'basic',\n",
              " 'standard',\n",
              " 'fair',\n",
              " 'don',\n",
              " 't',\n",
              " 'know',\n",
              " 'grant',\n",
              " 's',\n",
              " 'like',\n",
              " 'chaffetz',\n",
              " 'will',\n",
              " 'answer',\n",
              " 'sit',\n",
              " 'ridicul',\n",
              " 'republican',\n",
              " 'district',\n",
              " 'anchor',\n",
              " 'provo',\n",
              " 'orem',\n",
              " 'cook',\n",
              " 'partisan',\n",
              " 'vote',\n",
              " 'index',\n",
              " 'r',\n",
              " 'gave',\n",
              " 'mitt',\n",
              " 'romney',\n",
              " 'punish',\n",
              " 'percent',\n",
              " 'vote',\n",
              " 'moreov',\n",
              " 'republican',\n",
              " 'hous',\n",
              " 'leadership',\n",
              " 'given',\n",
              " 'full',\n",
              " 'support',\n",
              " 'chaffetz',\n",
              " 'plan',\n",
              " 'fish',\n",
              " 'expedit',\n",
              " 'doesn',\n",
              " 't',\n",
              " 'mean',\n",
              " 'can',\n",
              " 't',\n",
              " 'turn',\n",
              " 'hot',\n",
              " 'light',\n",
              " 'textbook',\n",
              " 'exampl',\n",
              " 'hous',\n",
              " 'becom',\n",
              " 'republican',\n",
              " 'control',\n",
              " 'also',\n",
              " 'second',\n",
              " 'worst',\n",
              " 'person',\n",
              " 'world',\n",
              " 'darrel',\n",
              " 'lucu',\n",
              " 'darrel',\n",
              " 'someth',\n",
              " 'graduat',\n",
              " 'univers',\n",
              " 'north',\n",
              " 'carolina',\n",
              " 'consid',\n",
              " 'journalist',\n",
              " 'old',\n",
              " 'school',\n",
              " 'attempt',\n",
              " 'turn',\n",
              " 'member',\n",
              " 'religi',\n",
              " 'right',\n",
              " 'colleg',\n",
              " 'succeed',\n",
              " 'turn',\n",
              " 'religi',\n",
              " 'right',\n",
              " 's',\n",
              " 'worst',\n",
              " 'nightmar',\n",
              " 'charismat',\n",
              " 'christian',\n",
              " 'unapologet',\n",
              " 'liber',\n",
              " 'desir',\n",
              " 'stand',\n",
              " 'scare',\n",
              " 'silenc',\n",
              " 'increas',\n",
              " 'surviv',\n",
              " 'abus',\n",
              " 'three',\n",
              " 'year',\n",
              " 'marriag',\n",
              " 'may',\n",
              " 'know',\n",
              " 'daili',\n",
              " 'ko',\n",
              " 'christian',\n",
              " 'dem',\n",
              " 'nc',\n",
              " 'follow',\n",
              " 'twitter',\n",
              " 'darrelllucu',\n",
              " 'connect',\n",
              " 'facebook',\n",
              " 'click',\n",
              " 'buy',\n",
              " 'darrel',\n",
              " 'mello',\n",
              " 'yello',\n",
              " 'connect']"
            ]
          },
          "metadata": {},
          "execution_count": 18
        }
      ]
    },
    {
      "cell_type": "markdown",
      "source": [
        "Se usa un ciclo for para realizarlo en cada texto"
      ],
      "metadata": {
        "id": "T9WwdP4VWv_6"
      }
    },
    {
      "cell_type": "code",
      "source": [
        "corpus_tk=[]\n",
        "for i in corpus:\n",
        "  corpus_tk.append(tknzr.tokenize(i))"
      ],
      "metadata": {
        "id": "ps1BA1GYSiOz"
      },
      "execution_count": 19,
      "outputs": []
    },
    {
      "cell_type": "markdown",
      "source": [
        "El siguiente paso es convertir cada palabra a una representación vectorial esto se hace por un método llamado Word2Vec en la cual a una palabra se le da un vector y cada palabra se puede relacionar a otra similar por medio de suma o resta vectorial."
      ],
      "metadata": {
        "id": "ZHHhwMhGW2wU"
      }
    },
    {
      "cell_type": "code",
      "source": [
        "#Se da la entrada de los textos a representar, en min_count es la cantidad necesaria a repetirse una palabra para tomarse en cuenta\n",
        "#En window es una ventana de contexto\n",
        "#size representa el tamaño del vector de cada palabra\n",
        "model = Word2Vec(corpus_tk, min_count=50, window = 5, vector_size=100)"
      ],
      "metadata": {
        "id": "kM9aebcITCpx"
      },
      "execution_count": 20,
      "outputs": []
    },
    {
      "cell_type": "code",
      "source": [
        "X = model.wv.vectors"
      ],
      "metadata": {
        "id": "iIg_6b4jUlaV"
      },
      "execution_count": 21,
      "outputs": []
    },
    {
      "cell_type": "code",
      "source": [
        "X.shape"
      ],
      "metadata": {
        "colab": {
          "base_uri": "https://localhost:8080/"
        },
        "id": "W1Cqxi7GV4Rt",
        "outputId": "6c1850cb-c1bc-476b-a20e-83a609f60ab5"
      },
      "execution_count": 22,
      "outputs": [
        {
          "output_type": "execute_result",
          "data": {
            "text/plain": [
              "(10246, 100)"
            ]
          },
          "metadata": {},
          "execution_count": 22
        }
      ]
    },
    {
      "cell_type": "markdown",
      "source": [
        "Vamos a reducir la dimensionalidad del modelo de Word2Vec ya que al tener más componentes va a ser más complejo este en la red neuronal"
      ],
      "metadata": {
        "id": "Gpg-qfFAdgxE"
      }
    },
    {
      "cell_type": "markdown",
      "source": [
        "Usaremos PCA para reducir los componentes de los vectores, en el gráfico se presenta el porcentaje de varianza que se perderá en función al número de componentes principales"
      ],
      "metadata": {
        "id": "Fr2gB4wbd6nW"
      }
    },
    {
      "cell_type": "code",
      "source": [
        "pca = PCA(n_components=50, svd_solver='full')\n",
        "pca.fit(X)\n",
        "plt.plot((pca.explained_variance_ratio_).cumsum())\n",
        "plt.title('variance_ratio')\n",
        "plt.xlabel('PCA Componentes')"
      ],
      "metadata": {
        "colab": {
          "base_uri": "https://localhost:8080/",
          "height": 489
        },
        "id": "nq_AIedSZhBC",
        "outputId": "59d66131-0f9e-4a4b-a64a-196f5f3f2f8c"
      },
      "execution_count": 23,
      "outputs": [
        {
          "output_type": "execute_result",
          "data": {
            "text/plain": [
              "Text(0.5, 0, 'PCA Componentes')"
            ]
          },
          "metadata": {},
          "execution_count": 23
        },
        {
          "output_type": "display_data",
          "data": {
            "text/plain": [
              "<Figure size 640x480 with 1 Axes>"
            ],
            "image/png": "[encoded data removed]"
          },
          "metadata": {}
        }
      ]
    },
    {
      "cell_type": "markdown",
      "source": [
        "Se puede observar que con 30 componentes se queda con el 70% de la varianza que parece ser un buen punto para no tener mucha complejidad"
      ],
      "metadata": {
        "id": "tc1kvNQveUKt"
      }
    },
    {
      "cell_type": "code",
      "source": [
        "pca = PCA(n_components=30, svd_solver='full')\n",
        "pca.fit(X)"
      ],
      "metadata": {
        "colab": {
          "base_uri": "https://localhost:8080/",
          "height": 75
        },
        "id": "72iTFfgbdQzL",
        "outputId": "caf7d3eb-97d0-4800-9e41-abd3c9260b87"
      },
      "execution_count": 24,
      "outputs": [
        {
          "output_type": "execute_result",
          "data": {
            "text/plain": [
              "PCA(n_components=30, svd_solver='full')"
            ],
            "text/html": [
              "<style>#sk-container-id-1 {color: black;background-color: white;}#sk-container-id-1 pre{padding: 0;}#sk-container-id-1 div.sk-toggleable {background-color: white;}#sk-container-id-1 label.sk-toggleable__label {cursor: pointer;display: block;width: 100%;margin-bottom: 0;padding: 0.3em;box-sizing: border-box;text-align: center;}#sk-container-id-1 label.sk-toggleable__label-arrow:before {content: \"▸\";float: left;margin-right: 0.25em;color: #696969;}#sk-container-id-1 label.sk-toggleable__label-arrow:hover:before {color: black;}#sk-container-id-1 div.sk-estimator:hover label.sk-toggleable__label-arrow:before {color: black;}#sk-container-id-1 div.sk-toggleable__content {max-height: 0;max-width: 0;overflow: hidden;text-align: left;background-color: #f0f8ff;}#sk-container-id-1 div.sk-toggleable__content pre {margin: 0.2em;color: black;border-radius: 0.25em;background-color: #f0f8ff;}#sk-container-id-1 input.sk-toggleable__control:checked~div.sk-toggleable__content {max-height: 200px;max-width: 100%;overflow: auto;}#sk-container-id-1 input.sk-toggleable__control:checked~label.sk-toggleable__label-arrow:before {content: \"▾\";}#sk-container-id-1 div.sk-estimator input.sk-toggleable__control:checked~label.sk-toggleable__label {background-color: #d4ebff;}#sk-container-id-1 div.sk-label input.sk-toggleable__control:checked~label.sk-toggleable__label {background-color: #d4ebff;}#sk-container-id-1 input.sk-hidden--visually {border: 0;clip: rect(1px 1px 1px 1px);clip: rect(1px, 1px, 1px, 1px);height: 1px;margin: -1px;overflow: hidden;padding: 0;position: absolute;width: 1px;}#sk-container-id-1 div.sk-estimator {font-family: monospace;background-color: #f0f8ff;border: 1px dotted black;border-radius: 0.25em;box-sizing: border-box;margin-bottom: 0.5em;}#sk-container-id-1 div.sk-estimator:hover {background-color: #d4ebff;}#sk-container-id-1 div.sk-parallel-item::after {content: \"\";width: 100%;border-bottom: 1px solid gray;flex-grow: 1;}#sk-container-id-1 div.sk-label:hover label.sk-toggleable__label {background-color: #d4ebff;}#sk-container-id-1 div.sk-serial::before {content: \"\";position: absolute;border-left: 1px solid gray;box-sizing: border-box;top: 0;bottom: 0;left: 50%;z-index: 0;}#sk-container-id-1 div.sk-serial {display: flex;flex-direction: column;align-items: center;background-color: white;padding-right: 0.2em;padding-left: 0.2em;position: relative;}#sk-container-id-1 div.sk-item {position: relative;z-index: 1;}#sk-container-id-1 div.sk-parallel {display: flex;align-items: stretch;justify-content: center;background-color: white;position: relative;}#sk-container-id-1 div.sk-item::before, #sk-container-id-1 div.sk-parallel-item::before {content: \"\";position: absolute;border-left: 1px solid gray;box-sizing: border-box;top: 0;bottom: 0;left: 50%;z-index: -1;}#sk-container-id-1 div.sk-parallel-item {display: flex;flex-direction: column;z-index: 1;position: relative;background-color: white;}#sk-container-id-1 div.sk-parallel-item:first-child::after {align-self: flex-end;width: 50%;}#sk-container-id-1 div.sk-parallel-item:last-child::after {align-self: flex-start;width: 50%;}#sk-container-id-1 div.sk-parallel-item:only-child::after {width: 0;}#sk-container-id-1 div.sk-dashed-wrapped {border: 1px dashed gray;margin: 0 0.4em 0.5em 0.4em;box-sizing: border-box;padding-bottom: 0.4em;background-color: white;}#sk-container-id-1 div.sk-label label {font-family: monospace;font-weight: bold;display: inline-block;line-height: 1.2em;}#sk-container-id-1 div.sk-label-container {text-align: center;}#sk-container-id-1 div.sk-container {/* jupyter's `normalize.less` sets `[hidden] { display: none; }` but bootstrap.min.css set `[hidden] { display: none !important; }` so we also need the `!important` here to be able to override the default hidden behavior on the sphinx rendered scikit-learn.org. See: https://github.com/scikit-learn/scikit-learn/issues/21755 */display: inline-block !important;position: relative;}#sk-container-id-1 div.sk-text-repr-fallback {display: none;}</style><div id=\"sk-container-id-1\" class=\"sk-top-container\"><div class=\"sk-text-repr-fallback\"><pre>PCA(n_components=30, svd_solver=&#x27;full&#x27;)</pre><b>In a Jupyter environment, please rerun this cell to show the HTML representation or trust the notebook. <br />On GitHub, the HTML representation is unable to render, please try loading this page with nbviewer.org.</b></div><div class=\"sk-container\" hidden><div class=\"sk-item\"><div class=\"sk-estimator sk-toggleable\"><input class=\"sk-toggleable__control sk-hidden--visually\" id=\"sk-estimator-id-1\" type=\"checkbox\" checked><label for=\"sk-estimator-id-1\" class=\"sk-toggleable__label sk-toggleable__label-arrow\">PCA</label><div class=\"sk-toggleable__content\"><pre>PCA(n_components=30, svd_solver=&#x27;full&#x27;)</pre></div></div></div></div></div>"
            ]
          },
          "metadata": {},
          "execution_count": 24
        }
      ]
    },
    {
      "cell_type": "markdown",
      "source": [
        "Con lo que obtenemos una representación vectorial de cada palabra de 30 componentes"
      ],
      "metadata": {
        "id": "j1xgvAkDfq7i"
      }
    },
    {
      "cell_type": "markdown",
      "source": [
        "Para convertir un texto en su representación numérica lo que haremos calcular la media entre la representación numérica de cada palabra y lo que nos salga es la representación vectorial del texto"
      ],
      "metadata": {
        "id": "ae0kiVv0hHkh"
      }
    },
    {
      "cell_type": "code",
      "source": [
        "vectorizer = TfidfVectorizer(min_df=30)\n",
        "TF_IDF=vectorizer.fit_transform(corpus)"
      ],
      "metadata": {
        "id": "WgkwkUoPd7J2"
      },
      "execution_count": 25,
      "outputs": []
    },
    {
      "cell_type": "code",
      "source": [
        "TF_IDF.toarray().shape"
      ],
      "metadata": {
        "colab": {
          "base_uri": "https://localhost:8080/"
        },
        "id": "Ax_8EsRyeQbg",
        "outputId": "8dd40e96-fe71-4325-896a-ca75f545f74a"
      },
      "execution_count": 26,
      "outputs": [
        {
          "output_type": "execute_result",
          "data": {
            "text/plain": [
              "(18285, 10927)"
            ]
          },
          "metadata": {},
          "execution_count": 26
        }
      ]
    },
    {
      "cell_type": "markdown",
      "source": [
        "Se guardará la posición de cada palabra"
      ],
      "metadata": {
        "id": "bRHsiBguh0LE"
      }
    },
    {
      "cell_type": "code",
      "source": [
        "tf_idf=vectorizer.vocabulary_"
      ],
      "metadata": {
        "id": "SchPba6teanR"
      },
      "execution_count": 27,
      "outputs": []
    },
    {
      "cell_type": "code",
      "source": [
        "tf_idf['freedom']"
      ],
      "metadata": {
        "colab": {
          "base_uri": "https://localhost:8080/"
        },
        "id": "Suyh-mvreiX1",
        "outputId": "3b918ef4-edbc-448f-9607-986df55a5d66"
      },
      "execution_count": 28,
      "outputs": [
        {
          "output_type": "execute_result",
          "data": {
            "text/plain": [
              "3810"
            ]
          },
          "metadata": {},
          "execution_count": 28
        }
      ]
    },
    {
      "cell_type": "code",
      "source": [
        "TF_IDF[0, tf_idf['freedom']]"
      ],
      "metadata": {
        "colab": {
          "base_uri": "https://localhost:8080/"
        },
        "id": "8eOwwHwce2PF",
        "outputId": "673937e6-515a-4dc1-d5bc-12d8721897b1"
      },
      "execution_count": 29,
      "outputs": [
        {
          "output_type": "execute_result",
          "data": {
            "text/plain": [
              "0.0"
            ]
          },
          "metadata": {},
          "execution_count": 29
        }
      ]
    },
    {
      "cell_type": "code",
      "source": [
        "X.shape"
      ],
      "metadata": {
        "colab": {
          "base_uri": "https://localhost:8080/"
        },
        "id": "ILhya-8NluKL",
        "outputId": "04b3946b-d8fe-44b9-fc0e-9ed823a0af4b"
      },
      "execution_count": 30,
      "outputs": [
        {
          "output_type": "execute_result",
          "data": {
            "text/plain": [
              "(10246, 100)"
            ]
          },
          "metadata": {},
          "execution_count": 30
        }
      ]
    },
    {
      "cell_type": "code",
      "source": [
        "corpus[0].split(' ')"
      ],
      "metadata": {
        "colab": {
          "base_uri": "https://localhost:8080/"
        },
        "id": "d02z1z1lmyaR",
        "outputId": "39074a5b-f69d-482e-a407-4bbc52e1ff90"
      },
      "execution_count": 31,
      "outputs": [
        {
          "output_type": "execute_result",
          "data": {
            "text/plain": [
              "['hous',\n",
              " 'dem',\n",
              " 'aid',\n",
              " 'didn',\n",
              " 't',\n",
              " 'even',\n",
              " 'see',\n",
              " 'comey',\n",
              " 's',\n",
              " 'letter',\n",
              " 'jason',\n",
              " 'chaffetz',\n",
              " 'tweet',\n",
              " 'darrel',\n",
              " 'lucu',\n",
              " 'octob',\n",
              " 'subscrib',\n",
              " 'jason',\n",
              " 'chaffetz',\n",
              " 'stump',\n",
              " 'american',\n",
              " 'fork',\n",
              " 'utah',\n",
              " 'imag',\n",
              " 'courtesi',\n",
              " 'michael',\n",
              " 'jolley',\n",
              " 'avail',\n",
              " 'creativ',\n",
              " 'common',\n",
              " 'licens',\n",
              " 'apolog',\n",
              " 'keith',\n",
              " 'olbermann',\n",
              " 'doubt',\n",
              " 'worst',\n",
              " 'person',\n",
              " 'world',\n",
              " 'week',\n",
              " 'fbi',\n",
              " 'director',\n",
              " 'jame',\n",
              " 'comey',\n",
              " 'accord',\n",
              " 'hous',\n",
              " 'democrat',\n",
              " 'aid',\n",
              " 'look',\n",
              " 'like',\n",
              " 'also',\n",
              " 'know',\n",
              " 'second',\n",
              " 'worst',\n",
              " 'person',\n",
              " 'well',\n",
              " 'turn',\n",
              " 'comey',\n",
              " 'sent',\n",
              " 'now',\n",
              " 'infam',\n",
              " 'letter',\n",
              " 'announc',\n",
              " 'fbi',\n",
              " 'look',\n",
              " 'email',\n",
              " 'may',\n",
              " 'relat',\n",
              " 'hillari',\n",
              " 'clinton',\n",
              " 's',\n",
              " 'email',\n",
              " 'server',\n",
              " 'rank',\n",
              " 'democrat',\n",
              " 'relev',\n",
              " 'committe',\n",
              " 'didn',\n",
              " 't',\n",
              " 'hear',\n",
              " 'comey',\n",
              " 'found',\n",
              " 'via',\n",
              " 'tweet',\n",
              " 'one',\n",
              " 'republican',\n",
              " 'committe',\n",
              " 'chairmen',\n",
              " 'now',\n",
              " 'know',\n",
              " 'comey',\n",
              " 'notifi',\n",
              " 'republican',\n",
              " 'chairmen',\n",
              " 'democrat',\n",
              " 'rank',\n",
              " 'member',\n",
              " 'hous',\n",
              " 'intellig',\n",
              " 'judiciari',\n",
              " 'oversight',\n",
              " 'committe',\n",
              " 'agenc',\n",
              " 'review',\n",
              " 'email',\n",
              " 'recent',\n",
              " 'discov',\n",
              " 'order',\n",
              " 'see',\n",
              " 'contain',\n",
              " 'classifi',\n",
              " 'inform',\n",
              " 'long',\n",
              " 'letter',\n",
              " 'went',\n",
              " 'oversight',\n",
              " 'committe',\n",
              " 'chairman',\n",
              " 'jason',\n",
              " 'chaffetz',\n",
              " 'set',\n",
              " 'polit',\n",
              " 'world',\n",
              " 'ablaz',\n",
              " 'tweet',\n",
              " 'fbi',\n",
              " 'dir',\n",
              " 'just',\n",
              " 'inform',\n",
              " 'fbi',\n",
              " 'learn',\n",
              " 'exist',\n",
              " 'email',\n",
              " 'appear',\n",
              " 'pertin',\n",
              " 'investig',\n",
              " 'case',\n",
              " 'reopen',\n",
              " 'jason',\n",
              " 'chaffetz',\n",
              " 'jasoninthehous',\n",
              " 'octob',\n",
              " 'cours',\n",
              " 'now',\n",
              " 'know',\n",
              " 'case',\n",
              " 'comey',\n",
              " 'actual',\n",
              " 'say',\n",
              " 'review',\n",
              " 'email',\n",
              " 'light',\n",
              " 'unrel',\n",
              " 'case',\n",
              " 'now',\n",
              " 'know',\n",
              " 'anthoni',\n",
              " 'weiner',\n",
              " 's',\n",
              " 'sext',\n",
              " 'teenag',\n",
              " 'appar',\n",
              " 'littl',\n",
              " 'thing',\n",
              " 'fact',\n",
              " 'didn',\n",
              " 't',\n",
              " 'matter',\n",
              " 'chaffetz',\n",
              " 'utah',\n",
              " 'republican',\n",
              " 'alreadi',\n",
              " 'vow',\n",
              " 'initi',\n",
              " 'raft',\n",
              " 'investig',\n",
              " 'hillari',\n",
              " 'win',\n",
              " 'least',\n",
              " 'two',\n",
              " 'year',\n",
              " 'worth',\n",
              " 'possibl',\n",
              " 'entir',\n",
              " 'term',\n",
              " 's',\n",
              " 'worth',\n",
              " 'appar',\n",
              " 'chaffetz',\n",
              " 'thought',\n",
              " 'fbi',\n",
              " 'alreadi',\n",
              " 'work',\n",
              " 'result',\n",
              " 'tweet',\n",
              " 'briefli',\n",
              " 'roil',\n",
              " 'nation',\n",
              " 'cooler',\n",
              " 'head',\n",
              " 'realiz',\n",
              " 'dud',\n",
              " 'accord',\n",
              " 'senior',\n",
              " 'hous',\n",
              " 'democrat',\n",
              " 'aid',\n",
              " 'misread',\n",
              " 'letter',\n",
              " 'may',\n",
              " 'least',\n",
              " 'chaffetz',\n",
              " 'sin',\n",
              " 'aid',\n",
              " 'told',\n",
              " 'shareblu',\n",
              " 'boss',\n",
              " 'democrat',\n",
              " 'didn',\n",
              " 't',\n",
              " 'even',\n",
              " 'know',\n",
              " 'comey',\n",
              " 's',\n",
              " 'letter',\n",
              " 'time',\n",
              " 'found',\n",
              " 'check',\n",
              " 'twitter',\n",
              " 'democrat',\n",
              " 'rank',\n",
              " 'member',\n",
              " 'relev',\n",
              " 'committe',\n",
              " 'didn',\n",
              " 't',\n",
              " 'receiv',\n",
              " 'comey',\n",
              " 's',\n",
              " 'letter',\n",
              " 'republican',\n",
              " 'chairmen',\n",
              " 'fact',\n",
              " 'democrat',\n",
              " 'rank',\n",
              " 'member',\n",
              " 'didn',\n",
              " 'receiv',\n",
              " 'chairman',\n",
              " 'oversight',\n",
              " 'govern',\n",
              " 'reform',\n",
              " 'committe',\n",
              " 'jason',\n",
              " 'chaffetz',\n",
              " 'tweet',\n",
              " 'made',\n",
              " 'public',\n",
              " 'let',\n",
              " 's',\n",
              " 'see',\n",
              " 've',\n",
              " 'got',\n",
              " 'right',\n",
              " 'fbi',\n",
              " 'director',\n",
              " 'tell',\n",
              " 'chaffetz',\n",
              " 'gop',\n",
              " 'committe',\n",
              " 'chairmen',\n",
              " 'major',\n",
              " 'develop',\n",
              " 'potenti',\n",
              " 'polit',\n",
              " 'explos',\n",
              " 'investig',\n",
              " 'neither',\n",
              " 'chaffetz',\n",
              " 'colleagu',\n",
              " 'courtesi',\n",
              " 'let',\n",
              " 'democrat',\n",
              " 'counterpart',\n",
              " 'know',\n",
              " 'instead',\n",
              " 'accord',\n",
              " 'aid',\n",
              " 'made',\n",
              " 'find',\n",
              " 'twitter',\n",
              " 'alreadi',\n",
              " 'talk',\n",
              " 'daili',\n",
              " 'ko',\n",
              " 'comey',\n",
              " 'provid',\n",
              " 'advanc',\n",
              " 'notic',\n",
              " 'letter',\n",
              " 'chaffetz',\n",
              " 'republican',\n",
              " 'give',\n",
              " 'time',\n",
              " 'turn',\n",
              " 'spin',\n",
              " 'machin',\n",
              " 'may',\n",
              " 'make',\n",
              " 'good',\n",
              " 'theater',\n",
              " 'noth',\n",
              " 'far',\n",
              " 'even',\n",
              " 'suggest',\n",
              " 'case',\n",
              " 'noth',\n",
              " 'far',\n",
              " 'suggest',\n",
              " 'comey',\n",
              " 'anyth',\n",
              " 'grossli',\n",
              " 'incompet',\n",
              " 'tone',\n",
              " 'deaf',\n",
              " 'suggest',\n",
              " 'howev',\n",
              " 'chaffetz',\n",
              " 'act',\n",
              " 'way',\n",
              " 'make',\n",
              " 'dan',\n",
              " 'burton',\n",
              " 'darrel',\n",
              " 'issa',\n",
              " 'look',\n",
              " 'like',\n",
              " 'model',\n",
              " 'respons',\n",
              " 'bipartisanship',\n",
              " 'didn',\n",
              " 't',\n",
              " 'even',\n",
              " 'decenc',\n",
              " 'notifi',\n",
              " 'rank',\n",
              " 'member',\n",
              " 'elijah',\n",
              " 'cum',\n",
              " 'someth',\n",
              " 'explos',\n",
              " 'doesn',\n",
              " 't',\n",
              " 'trampl',\n",
              " 'basic',\n",
              " 'standard',\n",
              " 'fair',\n",
              " 'don',\n",
              " 't',\n",
              " 'know',\n",
              " 'grant',\n",
              " 's',\n",
              " 'like',\n",
              " 'chaffetz',\n",
              " 'will',\n",
              " 'answer',\n",
              " 'sit',\n",
              " 'ridicul',\n",
              " 'republican',\n",
              " 'district',\n",
              " 'anchor',\n",
              " 'provo',\n",
              " 'orem',\n",
              " 'cook',\n",
              " 'partisan',\n",
              " 'vote',\n",
              " 'index',\n",
              " 'r',\n",
              " 'gave',\n",
              " 'mitt',\n",
              " 'romney',\n",
              " 'punish',\n",
              " 'percent',\n",
              " 'vote',\n",
              " 'moreov',\n",
              " 'republican',\n",
              " 'hous',\n",
              " 'leadership',\n",
              " 'given',\n",
              " 'full',\n",
              " 'support',\n",
              " 'chaffetz',\n",
              " 'plan',\n",
              " 'fish',\n",
              " 'expedit',\n",
              " 'doesn',\n",
              " 't',\n",
              " 'mean',\n",
              " 'can',\n",
              " 't',\n",
              " 'turn',\n",
              " 'hot',\n",
              " 'light',\n",
              " 'textbook',\n",
              " 'exampl',\n",
              " 'hous',\n",
              " 'becom',\n",
              " 'republican',\n",
              " 'control',\n",
              " 'also',\n",
              " 'second',\n",
              " 'worst',\n",
              " 'person',\n",
              " 'world',\n",
              " 'darrel',\n",
              " 'lucu',\n",
              " 'darrel',\n",
              " 'someth',\n",
              " 'graduat',\n",
              " 'univers',\n",
              " 'north',\n",
              " 'carolina',\n",
              " 'consid',\n",
              " 'journalist',\n",
              " 'old',\n",
              " 'school',\n",
              " 'attempt',\n",
              " 'turn',\n",
              " 'member',\n",
              " 'religi',\n",
              " 'right',\n",
              " 'colleg',\n",
              " 'succeed',\n",
              " 'turn',\n",
              " 'religi',\n",
              " 'right',\n",
              " 's',\n",
              " 'worst',\n",
              " 'nightmar',\n",
              " 'charismat',\n",
              " 'christian',\n",
              " 'unapologet',\n",
              " 'liber',\n",
              " 'desir',\n",
              " 'stand',\n",
              " 'scare',\n",
              " 'silenc',\n",
              " 'increas',\n",
              " 'surviv',\n",
              " 'abus',\n",
              " 'three',\n",
              " 'year',\n",
              " 'marriag',\n",
              " 'may',\n",
              " 'know',\n",
              " 'daili',\n",
              " 'ko',\n",
              " 'christian',\n",
              " 'dem',\n",
              " 'nc',\n",
              " 'follow',\n",
              " 'twitter',\n",
              " 'darrelllucu',\n",
              " 'connect',\n",
              " 'facebook',\n",
              " 'click',\n",
              " 'buy',\n",
              " 'darrel',\n",
              " 'mello',\n",
              " 'yello',\n",
              " 'connect']"
            ]
          },
          "metadata": {},
          "execution_count": 31
        }
      ]
    },
    {
      "cell_type": "markdown",
      "source": [
        "Se creará un array de la representación numérica de cada noticia"
      ],
      "metadata": {
        "id": "cdqofS3-i-4K"
      }
    },
    {
      "cell_type": "code",
      "source": [
        "x=np.zeros((dat.shape[0],30))\n",
        "for i,corp in enumerate(corpus):\n",
        "  vect = np.zeros(100)\n",
        "  for num,word in enumerate(corp.split(' ')):\n",
        "    try:\n",
        "      vect+=model.wv[word]*TF_IDF[i,tf_idf[word]]\n",
        "    except:\n",
        "        pass\n",
        "  if num!=0:\n",
        "     vect=vect/num\n",
        "  else:\n",
        "      vect=vect*0\n",
        "  vect=vect.reshape(1,100)\n",
        "  vect_pca=pca.transform(vect)\n",
        "  x[i,:] = vect_pca"
      ],
      "metadata": {
        "id": "IKiuPYsqfI2_"
      },
      "execution_count": 32,
      "outputs": []
    },
    {
      "cell_type": "code",
      "source": [
        "model"
      ],
      "metadata": {
        "colab": {
          "base_uri": "https://localhost:8080/"
        },
        "id": "p3SK-TEIrgae",
        "outputId": "26ae8e7d-e93c-4c37-a4a9-aa4dc39cefd3"
      },
      "execution_count": 33,
      "outputs": [
        {
          "output_type": "execute_result",
          "data": {
            "text/plain": [
              "<gensim.models.word2vec.Word2Vec at 0x7e8508a11d20>"
            ]
          },
          "metadata": {},
          "execution_count": 33
        }
      ]
    },
    {
      "cell_type": "code",
      "source": [
        "model.wv['hous']*TF_IDF[i,tf_idf['hous']] +model.wv['email']*TF_IDF[i,tf_idf['email']]"
      ],
      "metadata": {
        "colab": {
          "base_uri": "https://localhost:8080/"
        },
        "id": "hE5pgRGoorr6",
        "outputId": "b558f160-afd3-46e4-aa44-66d311c97e09"
      },
      "execution_count": 34,
      "outputs": [
        {
          "output_type": "execute_result",
          "data": {
            "text/plain": [
              "array([-0.02658584, -0.18381885, -0.0544737 ,  0.0198129 , -0.10402332,\n",
              "        0.01004201, -0.03333048,  0.04854736, -0.01059467,  0.08211416,\n",
              "        0.21874323, -0.04432273,  0.02226654,  0.07966419, -0.13829188,\n",
              "       -0.01689285,  0.02522256,  0.02385174, -0.06096153,  0.10052948,\n",
              "        0.09283482, -0.1276231 ,  0.00433867,  0.11206315,  0.05254607,\n",
              "       -0.05438417,  0.0478726 ,  0.02205273, -0.03686892, -0.00414799,\n",
              "        0.06808697,  0.16969018, -0.0450829 ,  0.02678221, -0.01649553,\n",
              "       -0.02990444,  0.00891045,  0.05657113,  0.03861392,  0.09362694,\n",
              "        0.1255231 ,  0.02320699,  0.01701214,  0.05014506, -0.04435093,\n",
              "        0.02598468, -0.03239254,  0.02016114,  0.14435406,  0.01818715,\n",
              "       -0.0510228 ,  0.03052844,  0.1148803 , -0.09116289,  0.08775877,\n",
              "        0.03079541, -0.03768476,  0.05173916,  0.10948306,  0.06622   ,\n",
              "        0.01625424, -0.09261326,  0.08417284, -0.1283255 , -0.12239843,\n",
              "       -0.00295572, -0.04029753,  0.04118957, -0.07832833,  0.0048683 ,\n",
              "       -0.06828186, -0.00347011,  0.01433024,  0.04024894,  0.00225655,\n",
              "       -0.05606153,  0.09231392,  0.08880483,  0.00167492, -0.0430175 ,\n",
              "        0.12900439,  0.02467753, -0.08000246, -0.1132361 , -0.04065552,\n",
              "        0.10170082,  0.04990797,  0.03426978, -0.04811111,  0.03527336,\n",
              "       -0.04588151,  0.05853013,  0.00772234, -0.01596221, -0.01332986,\n",
              "       -0.1511014 , -0.07700751,  0.05429031,  0.04975533, -0.07732462],\n",
              "      dtype=float32)"
            ]
          },
          "metadata": {},
          "execution_count": 34
        }
      ]
    },
    {
      "cell_type": "code",
      "source": [
        "x"
      ],
      "metadata": {
        "colab": {
          "base_uri": "https://localhost:8080/"
        },
        "id": "XEztqcZjhFP4",
        "outputId": "ff06e803-5cb9-4fec-c831-70b522cd7873"
      },
      "execution_count": 35,
      "outputs": [
        {
          "output_type": "execute_result",
          "data": {
            "text/plain": [
              "array([[ 0.41314847,  0.407678  , -0.18144944, ..., -0.03332257,\n",
              "        -0.04722867,  0.05832228],\n",
              "       [ 0.41910753,  0.25049806, -0.1979712 , ..., -0.02186222,\n",
              "        -0.00679601,  0.06805385],\n",
              "       [ 0.49678224,  0.25132501, -0.09420724, ..., -0.0511062 ,\n",
              "        -0.00621295,  0.05732848],\n",
              "       ...,\n",
              "       [ 0.29408482,  0.16773414,  0.02274946, ...,  0.00088476,\n",
              "        -0.04020446,  0.08009413],\n",
              "       [ 0.65688323,  0.29615113,  0.10517302, ...,  0.01605698,\n",
              "         0.04491554,  0.09065122],\n",
              "       [ 0.37993114,  0.23505842, -0.07755281, ..., -0.03689967,\n",
              "        -0.0125135 ,  0.08512548]])"
            ]
          },
          "metadata": {},
          "execution_count": 35
        }
      ]
    },
    {
      "cell_type": "code",
      "source": [
        "Y = dat['label'].values"
      ],
      "metadata": {
        "id": "QFEcC5C9jka7"
      },
      "execution_count": 36,
      "outputs": []
    },
    {
      "cell_type": "code",
      "source": [
        "Y.shape"
      ],
      "metadata": {
        "colab": {
          "base_uri": "https://localhost:8080/"
        },
        "id": "c6dKun7ahxBY",
        "outputId": "95281436-03ae-453d-b16e-d54b0b7e016b"
      },
      "execution_count": 37,
      "outputs": [
        {
          "output_type": "execute_result",
          "data": {
            "text/plain": [
              "(18285,)"
            ]
          },
          "metadata": {},
          "execution_count": 37
        }
      ]
    },
    {
      "cell_type": "code",
      "source": [
        "x_train, x_test, y_train, y_test = train_test_split(x, Y, test_size = 0.2, stratify=Y, random_state=2)"
      ],
      "metadata": {
        "id": "pt6jXHQchmLL"
      },
      "execution_count": 38,
      "outputs": []
    },
    {
      "cell_type": "code",
      "source": [
        "x_train"
      ],
      "metadata": {
        "colab": {
          "base_uri": "https://localhost:8080/"
        },
        "id": "dMUuhnh2rBYD",
        "outputId": "87d57d70-f7a7-470a-aa80-4f056e95e82b"
      },
      "execution_count": 39,
      "outputs": [
        {
          "output_type": "execute_result",
          "data": {
            "text/plain": [
              "array([[ 0.39833273,  0.12728128, -0.07941898, ..., -0.04682483,\n",
              "        -0.01169362,  0.07699199],\n",
              "       [ 0.36212256,  0.20833167, -0.04332417, ..., -0.02735842,\n",
              "        -0.03685475,  0.07775874],\n",
              "       [ 0.30767703,  0.38465742, -0.17674158, ..., -0.01254051,\n",
              "        -0.05800662,  0.02977494],\n",
              "       ...,\n",
              "       [ 0.27732505,  0.19297121, -0.07410175, ..., -0.04004616,\n",
              "         0.14931014,  0.10016099],\n",
              "       [ 0.38054235,  0.18990717, -0.05737035, ..., -0.03004442,\n",
              "        -0.01215775,  0.06721466],\n",
              "       [ 0.27612348,  0.16483218, -0.10137404, ..., -0.01985905,\n",
              "         0.0032591 ,  0.07627616]])"
            ]
          },
          "metadata": {},
          "execution_count": 39
        }
      ]
    },
    {
      "cell_type": "code",
      "source": [
        "x_test"
      ],
      "metadata": {
        "colab": {
          "base_uri": "https://localhost:8080/"
        },
        "id": "KZKY6QpB1Myl",
        "outputId": "b792c154-519c-4e88-e7e5-e017878aca6a"
      },
      "execution_count": 40,
      "outputs": [
        {
          "output_type": "execute_result",
          "data": {
            "text/plain": [
              "array([[ 0.72761506,  0.21656712, -0.14785697, ..., -0.03663021,\n",
              "        -0.09868047,  0.03823733],\n",
              "       [ 0.75281782,  0.45954775, -0.03093452, ...,  0.00279579,\n",
              "         0.00270493,  0.00854019],\n",
              "       [ 0.31383953,  0.41725179,  0.00834511, ...,  0.051767  ,\n",
              "        -0.00492899, -0.01151945],\n",
              "       ...,\n",
              "       [ 0.57050427,  0.51964853, -0.09472599, ..., -0.03263345,\n",
              "         0.0089673 ,  0.0635275 ],\n",
              "       [ 0.38745408,  0.52536479, -0.1357112 , ..., -0.00713745,\n",
              "         0.00288973,  0.10798493],\n",
              "       [ 0.63845368,  0.3877685 , -0.10598608, ..., -0.00104429,\n",
              "         0.02491707,  0.04620772]])"
            ]
          },
          "metadata": {},
          "execution_count": 40
        }
      ]
    },
    {
      "cell_type": "markdown",
      "source": [
        "Normalización"
      ],
      "metadata": {
        "id": "-MRJFJsMiYtN"
      }
    },
    {
      "cell_type": "code",
      "source": [
        "scaler = StandardScaler()\n",
        "scaler.fit(x_train)\n",
        "x_train = scaler.transform(x_train)\n",
        "x_test = scaler.transform(x_test)"
      ],
      "metadata": {
        "id": "Hoxe8oTIhcPk"
      },
      "execution_count": 41,
      "outputs": []
    },
    {
      "cell_type": "code",
      "source": [
        "x_test"
      ],
      "metadata": {
        "colab": {
          "base_uri": "https://localhost:8080/"
        },
        "id": "4jqjXGXoqinF",
        "outputId": "be903753-a335-415f-fec0-bb6534618a77"
      },
      "execution_count": 42,
      "outputs": [
        {
          "output_type": "execute_result",
          "data": {
            "text/plain": [
              "array([[ 1.61283359e+00, -4.13398095e-01, -3.26903419e-01, ...,\n",
              "        -2.98969247e-01, -1.38409896e+00, -4.92282060e-01],\n",
              "       [ 1.74598051e+00,  1.23017803e+00,  5.87882402e-01, ...,\n",
              "         4.45238352e-01,  2.51372643e-01, -1.08443404e+00],\n",
              "       [-5.73154532e-01,  9.44078578e-01,  8.95201071e-01, ...,\n",
              "         1.36962200e+00,  1.28228052e-01, -1.48441721e+00],\n",
              "       ...,\n",
              "       [ 7.82812717e-01,  1.63671336e+00,  8.87863697e-02, ...,\n",
              "        -2.23526194e-01,  3.52392424e-01,  1.19962222e-02],\n",
              "       [-1.84246726e-01,  1.67537941e+00, -2.31876511e-01, ...,\n",
              "         2.57737956e-01,  2.54353582e-01,  8.98463932e-01],\n",
              "       [ 1.14179143e+00,  7.44646914e-01,  6.88851905e-04, ...,\n",
              "         3.72752747e-01,  6.09681827e-01, -3.33354862e-01]])"
            ]
          },
          "metadata": {},
          "execution_count": 42
        }
      ]
    },
    {
      "cell_type": "code",
      "source": [
        "print(Y)"
      ],
      "metadata": {
        "colab": {
          "base_uri": "https://localhost:8080/"
        },
        "id": "Mkj0plrejZEK",
        "outputId": "e65c76cc-797b-44fd-f2bb-30d2b7ae6d43"
      },
      "execution_count": 43,
      "outputs": [
        {
          "output_type": "stream",
          "name": "stdout",
          "text": [
            "[1 0 1 ... 0 1 1]\n"
          ]
        }
      ]
    },
    {
      "cell_type": "markdown",
      "source": [
        "# Modelo de Machine learning"
      ],
      "metadata": {
        "id": "tQlaUEXmRkZV"
      }
    },
    {
      "cell_type": "code",
      "source": [
        "import tensorflow as tf\n",
        "from tensorflow.keras.models import Sequential\n",
        "from tensorflow.keras.layers import Dense,Dropout"
      ],
      "metadata": {
        "id": "2yfYp6GcLNSO"
      },
      "execution_count": 44,
      "outputs": []
    },
    {
      "cell_type": "markdown",
      "source": [
        "Modelo 1 (3 capas ocultas"
      ],
      "metadata": {
        "id": "CNH40BvvyMFa"
      }
    },
    {
      "cell_type": "code",
      "source": [
        "tf.random.set_seed(1234)\n",
        "model = Sequential([\n",
        "  tf.keras.Input(shape=(x_train.shape[1])),\n",
        "  Dense(200, activation='relu'),\n",
        "  Dense(200, activation='relu'),\n",
        "  Dense(200, activation='relu'),\n",
        "  Dense(1,activation='sigmoid')\n",
        "])"
      ],
      "metadata": {
        "id": "ABV760UwT0G8"
      },
      "execution_count": 45,
      "outputs": []
    },
    {
      "cell_type": "code",
      "source": [
        "model.compile(optimizer='sgd', loss = tf.keras.losses.BinaryCrossentropy(), metrics=['accuracy'])"
      ],
      "metadata": {
        "id": "SR6p6wPgqsCC"
      },
      "execution_count": 46,
      "outputs": []
    },
    {
      "cell_type": "code",
      "source": [
        "historial = model.fit(x_train, y_train, epochs = 50)"
      ],
      "metadata": {
        "colab": {
          "base_uri": "https://localhost:8080/"
        },
        "id": "BkZ5cBULq4an",
        "outputId": "e7453493-c433-44b2-aa87-6f23782776d2"
      },
      "execution_count": 47,
      "outputs": [
        {
          "output_type": "stream",
          "name": "stdout",
          "text": [
            "Epoch 1/50\n",
            "458/458 [==============================] - 1s 2ms/step - loss: 0.5933 - accuracy: 0.7196\n",
            "Epoch 2/50\n",
            "458/458 [==============================] - 1s 2ms/step - loss: 0.4629 - accuracy: 0.8007\n",
            "Epoch 3/50\n",
            "458/458 [==============================] - 1s 2ms/step - loss: 0.4125 - accuracy: 0.8188\n",
            "Epoch 4/50\n",
            "458/458 [==============================] - 1s 2ms/step - loss: 0.3888 - accuracy: 0.8303\n",
            "Epoch 5/50\n",
            "458/458 [==============================] - 1s 2ms/step - loss: 0.3726 - accuracy: 0.8422\n",
            "Epoch 6/50\n",
            "458/458 [==============================] - 1s 1ms/step - loss: 0.3599 - accuracy: 0.8494\n",
            "Epoch 7/50\n",
            "458/458 [==============================] - 1s 1ms/step - loss: 0.3499 - accuracy: 0.8549\n",
            "Epoch 8/50\n",
            "458/458 [==============================] - 1s 2ms/step - loss: 0.3412 - accuracy: 0.8592\n",
            "Epoch 9/50\n",
            "458/458 [==============================] - 1s 2ms/step - loss: 0.3335 - accuracy: 0.8616\n",
            "Epoch 10/50\n",
            "458/458 [==============================] - 1s 2ms/step - loss: 0.3262 - accuracy: 0.8645\n",
            "Epoch 11/50\n",
            "458/458 [==============================] - 1s 2ms/step - loss: 0.3205 - accuracy: 0.8666\n",
            "Epoch 12/50\n",
            "458/458 [==============================] - 1s 2ms/step - loss: 0.3137 - accuracy: 0.8698\n",
            "Epoch 13/50\n",
            "458/458 [==============================] - 1s 1ms/step - loss: 0.3082 - accuracy: 0.8731\n",
            "Epoch 14/50\n",
            "458/458 [==============================] - 1s 2ms/step - loss: 0.3039 - accuracy: 0.8738\n",
            "Epoch 15/50\n",
            "458/458 [==============================] - 1s 2ms/step - loss: 0.2986 - accuracy: 0.8757\n",
            "Epoch 16/50\n",
            "458/458 [==============================] - 1s 2ms/step - loss: 0.2936 - accuracy: 0.8792\n",
            "Epoch 17/50\n",
            "458/458 [==============================] - 1s 2ms/step - loss: 0.2891 - accuracy: 0.8806\n",
            "Epoch 18/50\n",
            "458/458 [==============================] - 1s 1ms/step - loss: 0.2847 - accuracy: 0.8808\n",
            "Epoch 19/50\n",
            "458/458 [==============================] - 1s 2ms/step - loss: 0.2805 - accuracy: 0.8826\n",
            "Epoch 20/50\n",
            "458/458 [==============================] - 1s 1ms/step - loss: 0.2757 - accuracy: 0.8858\n",
            "Epoch 21/50\n",
            "458/458 [==============================] - 1s 2ms/step - loss: 0.2725 - accuracy: 0.8868\n",
            "Epoch 22/50\n",
            "458/458 [==============================] - 1s 1ms/step - loss: 0.2686 - accuracy: 0.8891\n",
            "Epoch 23/50\n",
            "458/458 [==============================] - 1s 2ms/step - loss: 0.2648 - accuracy: 0.8898\n",
            "Epoch 24/50\n",
            "458/458 [==============================] - 1s 2ms/step - loss: 0.2606 - accuracy: 0.8923\n",
            "Epoch 25/50\n",
            "458/458 [==============================] - 1s 2ms/step - loss: 0.2566 - accuracy: 0.8931\n",
            "Epoch 26/50\n",
            "458/458 [==============================] - 1s 2ms/step - loss: 0.2537 - accuracy: 0.8941\n",
            "Epoch 27/50\n",
            "458/458 [==============================] - 1s 2ms/step - loss: 0.2502 - accuracy: 0.8974\n",
            "Epoch 28/50\n",
            "458/458 [==============================] - 1s 2ms/step - loss: 0.2466 - accuracy: 0.8966\n",
            "Epoch 29/50\n",
            "458/458 [==============================] - 1s 2ms/step - loss: 0.2424 - accuracy: 0.8988\n",
            "Epoch 30/50\n",
            "458/458 [==============================] - 1s 2ms/step - loss: 0.2393 - accuracy: 0.9003\n",
            "Epoch 31/50\n",
            "458/458 [==============================] - 1s 2ms/step - loss: 0.2353 - accuracy: 0.9042\n",
            "Epoch 32/50\n",
            "458/458 [==============================] - 1s 2ms/step - loss: 0.2325 - accuracy: 0.9052\n",
            "Epoch 33/50\n",
            "458/458 [==============================] - 1s 2ms/step - loss: 0.2291 - accuracy: 0.9080\n",
            "Epoch 34/50\n",
            "458/458 [==============================] - 1s 2ms/step - loss: 0.2259 - accuracy: 0.9085\n",
            "Epoch 35/50\n",
            "458/458 [==============================] - 1s 2ms/step - loss: 0.2210 - accuracy: 0.9102\n",
            "Epoch 36/50\n",
            "458/458 [==============================] - 1s 2ms/step - loss: 0.2188 - accuracy: 0.9103\n",
            "Epoch 37/50\n",
            "458/458 [==============================] - 1s 2ms/step - loss: 0.2154 - accuracy: 0.9125\n",
            "Epoch 38/50\n",
            "458/458 [==============================] - 1s 2ms/step - loss: 0.2119 - accuracy: 0.9135\n",
            "Epoch 39/50\n",
            "458/458 [==============================] - 1s 1ms/step - loss: 0.2083 - accuracy: 0.9158\n",
            "Epoch 40/50\n",
            "458/458 [==============================] - 1s 2ms/step - loss: 0.2046 - accuracy: 0.9163\n",
            "Epoch 41/50\n",
            "458/458 [==============================] - 1s 2ms/step - loss: 0.2043 - accuracy: 0.9159\n",
            "Epoch 42/50\n",
            "458/458 [==============================] - 1s 2ms/step - loss: 0.1984 - accuracy: 0.9216\n",
            "Epoch 43/50\n",
            "458/458 [==============================] - 1s 2ms/step - loss: 0.1962 - accuracy: 0.9221\n",
            "Epoch 44/50\n",
            "458/458 [==============================] - 1s 2ms/step - loss: 0.1923 - accuracy: 0.9224\n",
            "Epoch 45/50\n",
            "458/458 [==============================] - 1s 1ms/step - loss: 0.1903 - accuracy: 0.9247\n",
            "Epoch 46/50\n",
            "458/458 [==============================] - 1s 2ms/step - loss: 0.1854 - accuracy: 0.9257\n",
            "Epoch 47/50\n",
            "458/458 [==============================] - 1s 2ms/step - loss: 0.1843 - accuracy: 0.9284\n",
            "Epoch 48/50\n",
            "458/458 [==============================] - 1s 2ms/step - loss: 0.1798 - accuracy: 0.9283\n",
            "Epoch 49/50\n",
            "458/458 [==============================] - 1s 2ms/step - loss: 0.1769 - accuracy: 0.9302\n",
            "Epoch 50/50\n",
            "458/458 [==============================] - 1s 2ms/step - loss: 0.1743 - accuracy: 0.9305\n"
          ]
        }
      ]
    },
    {
      "cell_type": "code",
      "source": [
        "cost, ac = model.evaluate(x_test, y_test)\n",
        "\n",
        "print('Cost: {}, Accuracy: {}'.format(cost, ac))"
      ],
      "metadata": {
        "colab": {
          "base_uri": "https://localhost:8080/"
        },
        "id": "39TL52etI_PN",
        "outputId": "1505f9f2-1f54-4689-b141-27898301d82f"
      },
      "execution_count": 48,
      "outputs": [
        {
          "output_type": "stream",
          "name": "stdout",
          "text": [
            "115/115 [==============================] - 0s 1ms/step - loss: 0.3441 - accuracy: 0.8660\n",
            "Cost: 0.3441498279571533, Accuracy: 0.8660103678703308\n"
          ]
        }
      ]
    },
    {
      "cell_type": "code",
      "source": [
        "plt.plot(historial.history['loss'], color = 'black')\n",
        "plt.xlabel('Epoch')\n",
        "plt.ylabel('Loss')\n",
        "plt.show()"
      ],
      "metadata": {
        "id": "GTDbypWeO8x4",
        "colab": {
          "base_uri": "https://localhost:8080/",
          "height": 449
        },
        "outputId": "2680169c-f6a9-4a44-eeaa-f7df7ddc7d73"
      },
      "execution_count": 49,
      "outputs": [
        {
          "output_type": "display_data",
          "data": {
            "text/plain": [
              "<Figure size 640x480 with 1 Axes>"
            ],
            "image/png": "[encoded data removed]"
          },
          "metadata": {}
        }
      ]
    },
    {
      "cell_type": "markdown",
      "source": [
        "Modelo 2( 2 capas ocultas de 500 neuronas)"
      ],
      "metadata": {
        "id": "-uNotXsjyovx"
      }
    },
    {
      "cell_type": "code",
      "source": [
        "tf.random.set_seed(1234)\n",
        "model2 = Sequential([\n",
        "  tf.keras.Input(shape=(x_train.shape[1])),\n",
        "  Dense(500, activation='relu'),\n",
        "  Dense(500, activation='relu'),\n",
        "  Dense(1,activation='sigmoid')\n",
        "])"
      ],
      "metadata": {
        "id": "NICveBJfyvjc"
      },
      "execution_count": 51,
      "outputs": []
    },
    {
      "cell_type": "code",
      "source": [
        "model2.compile(optimizer='sgd', loss = tf.keras.losses.BinaryCrossentropy(), metrics=['accuracy'])"
      ],
      "metadata": {
        "id": "nwOL92try1LF"
      },
      "execution_count": 52,
      "outputs": []
    },
    {
      "cell_type": "code",
      "source": [
        "historial2 = model2.fit(x_train, y_train, epochs = 50)"
      ],
      "metadata": {
        "colab": {
          "base_uri": "https://localhost:8080/"
        },
        "id": "LUaknVkay5jm",
        "outputId": "b187b936-1de2-4993-f76f-5362989704ec"
      },
      "execution_count": 53,
      "outputs": [
        {
          "output_type": "stream",
          "name": "stdout",
          "text": [
            "Epoch 1/50\n",
            "458/458 [==============================] - 3s 5ms/step - loss: 0.5734 - accuracy: 0.7512\n",
            "Epoch 2/50\n",
            "458/458 [==============================] - 2s 3ms/step - loss: 0.4557 - accuracy: 0.8080\n",
            "Epoch 3/50\n",
            "458/458 [==============================] - 1s 3ms/step - loss: 0.4137 - accuracy: 0.8214\n",
            "Epoch 4/50\n",
            "458/458 [==============================] - 1s 3ms/step - loss: 0.3933 - accuracy: 0.8298\n",
            "Epoch 5/50\n",
            "458/458 [==============================] - 1s 3ms/step - loss: 0.3794 - accuracy: 0.8367\n",
            "Epoch 6/50\n",
            "458/458 [==============================] - 2s 4ms/step - loss: 0.3688 - accuracy: 0.8415\n",
            "Epoch 7/50\n",
            "458/458 [==============================] - 1s 3ms/step - loss: 0.3607 - accuracy: 0.8486\n",
            "Epoch 8/50\n",
            "458/458 [==============================] - 1s 3ms/step - loss: 0.3532 - accuracy: 0.8505\n",
            "Epoch 9/50\n",
            "458/458 [==============================] - 1s 3ms/step - loss: 0.3465 - accuracy: 0.8547\n",
            "Epoch 10/50\n",
            "458/458 [==============================] - 1s 3ms/step - loss: 0.3405 - accuracy: 0.8582\n",
            "Epoch 11/50\n",
            "458/458 [==============================] - 1s 2ms/step - loss: 0.3355 - accuracy: 0.8607\n",
            "Epoch 12/50\n",
            "458/458 [==============================] - 1s 3ms/step - loss: 0.3299 - accuracy: 0.8629\n",
            "Epoch 13/50\n",
            "458/458 [==============================] - 1s 3ms/step - loss: 0.3250 - accuracy: 0.8657\n",
            "Epoch 14/50\n",
            "458/458 [==============================] - 1s 3ms/step - loss: 0.3208 - accuracy: 0.8654\n",
            "Epoch 15/50\n",
            "458/458 [==============================] - 1s 3ms/step - loss: 0.3167 - accuracy: 0.8689\n",
            "Epoch 16/50\n",
            "458/458 [==============================] - 2s 4ms/step - loss: 0.3124 - accuracy: 0.8710\n",
            "Epoch 17/50\n",
            "458/458 [==============================] - 1s 3ms/step - loss: 0.3086 - accuracy: 0.8711\n",
            "Epoch 18/50\n",
            "458/458 [==============================] - 1s 3ms/step - loss: 0.3053 - accuracy: 0.8732\n",
            "Epoch 19/50\n",
            "458/458 [==============================] - 1s 3ms/step - loss: 0.3019 - accuracy: 0.8747\n",
            "Epoch 20/50\n",
            "458/458 [==============================] - 1s 3ms/step - loss: 0.2984 - accuracy: 0.8766\n",
            "Epoch 21/50\n",
            "458/458 [==============================] - 1s 2ms/step - loss: 0.2956 - accuracy: 0.8767\n",
            "Epoch 22/50\n",
            "458/458 [==============================] - 1s 3ms/step - loss: 0.2927 - accuracy: 0.8788\n",
            "Epoch 23/50\n",
            "458/458 [==============================] - 1s 3ms/step - loss: 0.2898 - accuracy: 0.8802\n",
            "Epoch 24/50\n",
            "458/458 [==============================] - 1s 3ms/step - loss: 0.2870 - accuracy: 0.8822\n",
            "Epoch 25/50\n",
            "458/458 [==============================] - 2s 4ms/step - loss: 0.2843 - accuracy: 0.8812\n",
            "Epoch 26/50\n",
            "458/458 [==============================] - 1s 3ms/step - loss: 0.2821 - accuracy: 0.8823\n",
            "Epoch 27/50\n",
            "458/458 [==============================] - 1s 3ms/step - loss: 0.2800 - accuracy: 0.8843\n",
            "Epoch 28/50\n",
            "458/458 [==============================] - 2s 3ms/step - loss: 0.2771 - accuracy: 0.8855\n",
            "Epoch 29/50\n",
            "458/458 [==============================] - 1s 3ms/step - loss: 0.2747 - accuracy: 0.8865\n",
            "Epoch 30/50\n",
            "458/458 [==============================] - 1s 3ms/step - loss: 0.2726 - accuracy: 0.8886\n",
            "Epoch 31/50\n",
            "458/458 [==============================] - 1s 3ms/step - loss: 0.2698 - accuracy: 0.8877\n",
            "Epoch 32/50\n",
            "458/458 [==============================] - 1s 3ms/step - loss: 0.2681 - accuracy: 0.8919\n",
            "Epoch 33/50\n",
            "458/458 [==============================] - 1s 3ms/step - loss: 0.2657 - accuracy: 0.8901\n",
            "Epoch 34/50\n",
            "458/458 [==============================] - 2s 4ms/step - loss: 0.2639 - accuracy: 0.8910\n",
            "Epoch 35/50\n",
            "458/458 [==============================] - 2s 3ms/step - loss: 0.2609 - accuracy: 0.8934\n",
            "Epoch 36/50\n",
            "458/458 [==============================] - 1s 3ms/step - loss: 0.2587 - accuracy: 0.8935\n",
            "Epoch 37/50\n",
            "458/458 [==============================] - 1s 3ms/step - loss: 0.2570 - accuracy: 0.8946\n",
            "Epoch 38/50\n",
            "458/458 [==============================] - 1s 3ms/step - loss: 0.2546 - accuracy: 0.8955\n",
            "Epoch 39/50\n",
            "458/458 [==============================] - 1s 3ms/step - loss: 0.2526 - accuracy: 0.8967\n",
            "Epoch 40/50\n",
            "458/458 [==============================] - 1s 3ms/step - loss: 0.2504 - accuracy: 0.8979\n",
            "Epoch 41/50\n",
            "458/458 [==============================] - 1s 3ms/step - loss: 0.2494 - accuracy: 0.8965\n",
            "Epoch 42/50\n",
            "458/458 [==============================] - 1s 3ms/step - loss: 0.2463 - accuracy: 0.9001\n",
            "Epoch 43/50\n",
            "458/458 [==============================] - 2s 4ms/step - loss: 0.2438 - accuracy: 0.9011\n",
            "Epoch 44/50\n",
            "458/458 [==============================] - 2s 3ms/step - loss: 0.2418 - accuracy: 0.9024\n",
            "Epoch 45/50\n",
            "458/458 [==============================] - 1s 3ms/step - loss: 0.2398 - accuracy: 0.9025\n",
            "Epoch 46/50\n",
            "458/458 [==============================] - 1s 3ms/step - loss: 0.2376 - accuracy: 0.9039\n",
            "Epoch 47/50\n",
            "458/458 [==============================] - 1s 3ms/step - loss: 0.2366 - accuracy: 0.9020\n",
            "Epoch 48/50\n",
            "458/458 [==============================] - 1s 3ms/step - loss: 0.2336 - accuracy: 0.9040\n",
            "Epoch 49/50\n",
            "458/458 [==============================] - 1s 3ms/step - loss: 0.2317 - accuracy: 0.9069\n",
            "Epoch 50/50\n",
            "458/458 [==============================] - 1s 3ms/step - loss: 0.2300 - accuracy: 0.9065\n"
          ]
        }
      ]
    },
    {
      "cell_type": "code",
      "source": [
        "cost, ac = model2.evaluate(x_test, y_test)\n",
        "\n",
        "print('Cost: {}, Accuracy: {}'.format(cost, ac))"
      ],
      "metadata": {
        "colab": {
          "base_uri": "https://localhost:8080/"
        },
        "id": "i5WX5r8uy-Ol",
        "outputId": "d1470c05-92f7-4af9-94d5-3a93ac886ce3"
      },
      "execution_count": 54,
      "outputs": [
        {
          "output_type": "stream",
          "name": "stdout",
          "text": [
            "115/115 [==============================] - 1s 7ms/step - loss: 0.3275 - accuracy: 0.8646\n",
            "Cost: 0.32748329639434814, Accuracy: 0.8646431565284729\n"
          ]
        }
      ]
    },
    {
      "cell_type": "code",
      "source": [
        "plt.plot(historial2.history['loss'], color = 'black')\n",
        "plt.xlabel('Epoch')\n",
        "plt.ylabel('Loss')\n",
        "plt.show()"
      ],
      "metadata": {
        "colab": {
          "base_uri": "https://localhost:8080/",
          "height": 449
        },
        "id": "Y4OnlFd3zYfE",
        "outputId": "def1cc15-036f-41c3-9332-cf89a3566ec2"
      },
      "execution_count": 55,
      "outputs": [
        {
          "output_type": "display_data",
          "data": {
            "text/plain": [
              "<Figure size 640x480 with 1 Axes>"
            ],
            "image/png": "[encoded data removed]"
          },
          "metadata": {}
        }
      ]
    },
    {
      "cell_type": "markdown",
      "source": [
        "Modelo 3 (5 capas ocultas de 200' neuronas)"
      ],
      "metadata": {
        "id": "U6HPuzPezkkd"
      }
    },
    {
      "cell_type": "code",
      "source": [
        "tf.random.set_seed(1234)\n",
        "model3 = Sequential([\n",
        "  tf.keras.Input(shape=(x_train.shape[1])),\n",
        "  Dense(200, activation='relu'),\n",
        "  Dense(200, activation='relu'),\n",
        "  Dense(200, activation='relu'),\n",
        "  Dense(200, activation='relu'),\n",
        "  Dense(200, activation='relu'),\n",
        "  Dense(1,activation='sigmoid')\n",
        "])"
      ],
      "metadata": {
        "id": "q7--2mBnzaPI"
      },
      "execution_count": 57,
      "outputs": []
    },
    {
      "cell_type": "code",
      "source": [
        "model3.compile(optimizer='sgd', loss = tf.keras.losses.BinaryCrossentropy(), metrics=['accuracy'])"
      ],
      "metadata": {
        "id": "TRg3jQ8S0fuI"
      },
      "execution_count": 58,
      "outputs": []
    },
    {
      "cell_type": "code",
      "source": [
        "historial3 = model3.fit(x_train, y_train, epochs = 50)"
      ],
      "metadata": {
        "colab": {
          "base_uri": "https://localhost:8080/"
        },
        "id": "BnBemgMZ0wmB",
        "outputId": "d268485a-9b2f-4121-e998-fb10d8fe5877"
      },
      "execution_count": 59,
      "outputs": [
        {
          "output_type": "stream",
          "name": "stdout",
          "text": [
            "Epoch 1/50\n",
            "458/458 [==============================] - 2s 4ms/step - loss: 0.6404 - accuracy: 0.6596\n",
            "Epoch 2/50\n",
            "458/458 [==============================] - 1s 3ms/step - loss: 0.4733 - accuracy: 0.7914\n",
            "Epoch 3/50\n",
            "458/458 [==============================] - 1s 2ms/step - loss: 0.3981 - accuracy: 0.8278\n",
            "Epoch 4/50\n",
            "458/458 [==============================] - 1s 2ms/step - loss: 0.3710 - accuracy: 0.8440\n",
            "Epoch 5/50\n",
            "458/458 [==============================] - 1s 2ms/step - loss: 0.3521 - accuracy: 0.8514\n",
            "Epoch 6/50\n",
            "458/458 [==============================] - 1s 2ms/step - loss: 0.3366 - accuracy: 0.8594\n",
            "Epoch 7/50\n",
            "458/458 [==============================] - 1s 2ms/step - loss: 0.3240 - accuracy: 0.8677\n",
            "Epoch 8/50\n",
            "458/458 [==============================] - 1s 3ms/step - loss: 0.3139 - accuracy: 0.8692\n",
            "Epoch 9/50\n",
            "458/458 [==============================] - 2s 4ms/step - loss: 0.3037 - accuracy: 0.8756\n",
            "Epoch 10/50\n",
            "458/458 [==============================] - 1s 2ms/step - loss: 0.2949 - accuracy: 0.8790\n",
            "Epoch 11/50\n",
            "458/458 [==============================] - 1s 2ms/step - loss: 0.2863 - accuracy: 0.8812\n",
            "Epoch 12/50\n",
            "458/458 [==============================] - 1s 2ms/step - loss: 0.2783 - accuracy: 0.8848\n",
            "Epoch 13/50\n",
            "458/458 [==============================] - 1s 2ms/step - loss: 0.2698 - accuracy: 0.8896\n",
            "Epoch 14/50\n",
            "458/458 [==============================] - 1s 2ms/step - loss: 0.2642 - accuracy: 0.8912\n",
            "Epoch 15/50\n",
            "458/458 [==============================] - 1s 2ms/step - loss: 0.2553 - accuracy: 0.8942\n",
            "Epoch 16/50\n",
            "458/458 [==============================] - 1s 2ms/step - loss: 0.2492 - accuracy: 0.8982\n",
            "Epoch 17/50\n",
            "458/458 [==============================] - 1s 2ms/step - loss: 0.2411 - accuracy: 0.9019\n",
            "Epoch 18/50\n",
            "458/458 [==============================] - 1s 2ms/step - loss: 0.2348 - accuracy: 0.9033\n",
            "Epoch 19/50\n",
            "458/458 [==============================] - 1s 2ms/step - loss: 0.2285 - accuracy: 0.9055\n",
            "Epoch 20/50\n",
            "458/458 [==============================] - 1s 2ms/step - loss: 0.2211 - accuracy: 0.9090\n",
            "Epoch 21/50\n",
            "458/458 [==============================] - 1s 3ms/step - loss: 0.2159 - accuracy: 0.9138\n",
            "Epoch 22/50\n",
            "458/458 [==============================] - 1s 2ms/step - loss: 0.2108 - accuracy: 0.9151\n",
            "Epoch 23/50\n",
            "458/458 [==============================] - 1s 2ms/step - loss: 0.2035 - accuracy: 0.9192\n",
            "Epoch 24/50\n",
            "458/458 [==============================] - 1s 2ms/step - loss: 0.1962 - accuracy: 0.9222\n",
            "Epoch 25/50\n",
            "458/458 [==============================] - 1s 2ms/step - loss: 0.1903 - accuracy: 0.9242\n",
            "Epoch 26/50\n",
            "458/458 [==============================] - 1s 2ms/step - loss: 0.1872 - accuracy: 0.9256\n",
            "Epoch 27/50\n",
            "458/458 [==============================] - 1s 2ms/step - loss: 0.1810 - accuracy: 0.9268\n",
            "Epoch 28/50\n",
            "458/458 [==============================] - 1s 2ms/step - loss: 0.1740 - accuracy: 0.9289\n",
            "Epoch 29/50\n",
            "458/458 [==============================] - 1s 2ms/step - loss: 0.1699 - accuracy: 0.9327\n",
            "Epoch 30/50\n",
            "458/458 [==============================] - 1s 2ms/step - loss: 0.1661 - accuracy: 0.9316\n",
            "Epoch 31/50\n",
            "458/458 [==============================] - 1s 2ms/step - loss: 0.1627 - accuracy: 0.9352\n",
            "Epoch 32/50\n",
            "458/458 [==============================] - 1s 2ms/step - loss: 0.1559 - accuracy: 0.9385\n",
            "Epoch 33/50\n",
            "458/458 [==============================] - 1s 3ms/step - loss: 0.1842 - accuracy: 0.9283\n",
            "Epoch 34/50\n",
            "458/458 [==============================] - 1s 3ms/step - loss: 0.1535 - accuracy: 0.9407\n",
            "Epoch 35/50\n",
            "458/458 [==============================] - 1s 2ms/step - loss: 0.1426 - accuracy: 0.9445\n",
            "Epoch 36/50\n",
            "458/458 [==============================] - 1s 2ms/step - loss: 0.1407 - accuracy: 0.9462\n",
            "Epoch 37/50\n",
            "458/458 [==============================] - 1s 2ms/step - loss: 0.1391 - accuracy: 0.9451\n",
            "Epoch 38/50\n",
            "458/458 [==============================] - 1s 2ms/step - loss: 0.1324 - accuracy: 0.9473\n",
            "Epoch 39/50\n",
            "458/458 [==============================] - 1s 2ms/step - loss: 0.1231 - accuracy: 0.9516\n",
            "Epoch 40/50\n",
            "458/458 [==============================] - 1s 2ms/step - loss: 0.1181 - accuracy: 0.9556\n",
            "Epoch 41/50\n",
            "458/458 [==============================] - 1s 2ms/step - loss: 0.1181 - accuracy: 0.9543\n",
            "Epoch 42/50\n",
            "458/458 [==============================] - 1s 2ms/step - loss: 0.1121 - accuracy: 0.9586\n",
            "Epoch 43/50\n",
            "458/458 [==============================] - 1s 2ms/step - loss: 0.1085 - accuracy: 0.9588\n",
            "Epoch 44/50\n",
            "458/458 [==============================] - 1s 2ms/step - loss: 0.1040 - accuracy: 0.9609\n",
            "Epoch 45/50\n",
            "458/458 [==============================] - 1s 3ms/step - loss: 0.1057 - accuracy: 0.9592\n",
            "Epoch 46/50\n",
            "458/458 [==============================] - 1s 3ms/step - loss: 0.1002 - accuracy: 0.9600\n",
            "Epoch 47/50\n",
            "458/458 [==============================] - 1s 2ms/step - loss: 0.1029 - accuracy: 0.9616\n",
            "Epoch 48/50\n",
            "458/458 [==============================] - 1s 2ms/step - loss: 0.0892 - accuracy: 0.9674\n",
            "Epoch 49/50\n",
            "458/458 [==============================] - 1s 2ms/step - loss: 0.0872 - accuracy: 0.9675\n",
            "Epoch 50/50\n",
            "458/458 [==============================] - 1s 2ms/step - loss: 0.1018 - accuracy: 0.9613\n"
          ]
        }
      ]
    },
    {
      "cell_type": "code",
      "source": [
        "cost, ac = model3.evaluate(x_test, y_test)\n",
        "\n",
        "print('Cost: {}, Accuracy: {}'.format(cost, ac))"
      ],
      "metadata": {
        "colab": {
          "base_uri": "https://localhost:8080/"
        },
        "id": "3KOunqIJ01AD",
        "outputId": "265d2551-8af8-4edd-82f6-7f85bf2aba3b"
      },
      "execution_count": 60,
      "outputs": [
        {
          "output_type": "stream",
          "name": "stdout",
          "text": [
            "115/115 [==============================] - 1s 5ms/step - loss: 0.4756 - accuracy: 0.8611\n",
            "Cost: 0.4756406247615814, Accuracy: 0.8610883355140686\n"
          ]
        }
      ]
    },
    {
      "cell_type": "code",
      "source": [
        "plt.plot(historial3.history['loss'], color = 'black')\n",
        "plt.xlabel('Epoch')\n",
        "plt.ylabel('Loss')\n",
        "plt.show()"
      ],
      "metadata": {
        "colab": {
          "base_uri": "https://localhost:8080/",
          "height": 449
        },
        "id": "fJIxvZZV1a1h",
        "outputId": "29634047-ebde-43c4-d0bd-e889f4c27d06"
      },
      "execution_count": 61,
      "outputs": [
        {
          "output_type": "display_data",
          "data": {
            "text/plain": [
              "<Figure size 640x480 with 1 Axes>"
            ],
            "image/png": "[encoded data removed]"
          },
          "metadata": {}
        }
      ]
    },
    {
      "cell_type": "code",
      "source": [],
      "metadata": {
        "id": "lId9caQk1sbv"
      },
      "execution_count": null,
      "outputs": []
    }
  ]
}