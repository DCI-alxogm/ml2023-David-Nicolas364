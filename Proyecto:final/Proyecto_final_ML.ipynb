{
  "nbformat": 4,
  "nbformat_minor": 0,
  "metadata": {
    "colab": {
      "provenance": [],
      "mount_file_id": "1phAGnFeXJXTCEKdrS6h_Sj3J_pR2OxAt",
      "authorship_tag": "ABX9TyMm9xIaqUm+B5GJP90b8UXI",
      "include_colab_link": true
    },
    "kernelspec": {
      "name": "python3",
      "display_name": "Python 3"
    },
    "language_info": {
      "name": "python"
    }
  },
  "cells": [
    {
      "cell_type": "markdown",
      "metadata": {
        "id": "view-in-github",
        "colab_type": "text"
      },
      "source": [
        "<a href=\"https://colab.research.google.com/github/DCI-alxogm/ml2023-David-Nicolas364/blob/main/Proyecto%3Afinal/Proyecto_final_ML.ipynb\" target=\"_parent\"><img src=\"https://colab.research.google.com/assets/colab-badge.svg\" alt=\"Open In Colab\"/></a>"
      ]
    },
    {
      "cell_type": "markdown",
      "source": [
        "## Proyecto capaz de detectar noticias falsas\n",
        "David Nicolás Cruz Benítez"
      ],
      "metadata": {
        "id": "KeqxiKpfqUmW"
      }
    },
    {
      "cell_type": "markdown",
      "source": [
        "#Introducción"
      ],
      "metadata": {
        "id": "4wzEnNHXzuno"
      }
    },
    {
      "cell_type": "markdown",
      "source": [
        "Las noticias falsas son un problema notable en la sociedad que lleva bastante tiempo, la desinformación que producen pueden llevar a distintos conflictos además que la propagación de estás puede ser dibido a una ganancia propia o para perjudicar a alguien. El internet es una de las principales fuentes de información por lo que en esta es fácil encontrarnos noticias falsas, por esto mismo es importante encontrar una buena forma de clasificar las noticias falsas de las verdaderas."
      ],
      "metadata": {
        "id": "4ecciZCjzxOb"
      }
    },
    {
      "cell_type": "markdown",
      "source": [
        "Las redes neuronales que se usarán en este proyecto se basan en el entrenamiento de un modelo por medio de una entrada que serán nuestros datos, los cuales pasaran por distintas capas que contienen neuronas, estas dos cualidades de las redes neuronales se llaman hiperparámetros, que nosotros tendremos que cambiar en el programa. Además en cada capa le conforma una función de activación con la que cambiará el resultado de la capa y la taza de aprendizaje al tener que encontrar el mejor ajuste del modelo."
      ],
      "metadata": {
        "id": "xQlUORCC3tbx"
      }
    },
    {
      "cell_type": "markdown",
      "source": [
        "#Objetivo"
      ],
      "metadata": {
        "id": "Mw4yoNh45Tw2"
      }
    },
    {
      "cell_type": "markdown",
      "source": [
        "El objetivo de este proyecto es crear un modelo por medio de redes neuronales que sea capaz de detectar noticias verdaderas y noticias falsas. Este tipo de aprendizaje es supervisado ya que al programa se le darán noticias que ya se conocen como verdaderas o falsas y de estos datos podrá predecir de una noticia externa si es verdadera o falsa."
      ],
      "metadata": {
        "id": "ehkE1cLgqg5t"
      }
    },
    {
      "cell_type": "markdown",
      "source": [
        "##Imports e installs"
      ],
      "metadata": {
        "id": "_S4iNPl38SvV"
      }
    },
    {
      "cell_type": "markdown",
      "source": [
        "Se importarán todas las necesarias desde la obtención de datos y el proceso de llegar de texto a números para poder usar estos datos en nuestra red neuronal"
      ],
      "metadata": {
        "id": "dASp_9JPDLKz"
      }
    },
    {
      "cell_type": "code",
      "source": [
        "!pip install stop_words"
      ],
      "metadata": {
        "colab": {
          "base_uri": "https://localhost:8080/"
        },
        "id": "J3KP-ysJf56w",
        "outputId": "4a696f88-788a-4e33-daa1-df520c44b7b7"
      },
      "execution_count": null,
      "outputs": [
        {
          "output_type": "stream",
          "name": "stdout",
          "text": [
            "Collecting stop_words\n",
            "  Downloading stop-words-2018.7.23.tar.gz (31 kB)\n",
            "  Preparing metadata (setup.py) ... \u001b[?25l\u001b[?25hdone\n",
            "Building wheels for collected packages: stop_words\n",
            "  Building wheel for stop_words (setup.py) ... \u001b[?25l\u001b[?25hdone\n",
            "  Created wheel for stop_words: filename=stop_words-2018.7.23-py3-none-any.whl size=32895 sha256=f31cc7fbdf9b30de502b6687e656f816c850a2da3a45689b7eae4272cdce1bac\n",
            "  Stored in directory: /root/.cache/pip/wheels/d0/1a/23/f12552a50cb09bcc1694a5ebb6c2cd5f2a0311de2b8c3d9a89\n",
            "Successfully built stop_words\n",
            "Installing collected packages: stop_words\n",
            "Successfully installed stop_words-2018.7.23\n"
          ]
        }
      ]
    },
    {
      "cell_type": "code",
      "execution_count": null,
      "metadata": {
        "id": "QUY3g7hUn8DK"
      },
      "outputs": [],
      "source": [
        "import pandas as pd\n",
        "import numpy as np\n",
        "import re\n",
        "import matplotlib.pyplot as plt\n",
        "from stop_words import get_stop_words\n",
        "from nltk.stem.porter import PorterStemmer\n",
        "from sklearn.model_selection import train_test_split\n",
        "from gensim.models import Word2Vec\n",
        "from nltk.tokenize import TweetTokenizer\n",
        "from sklearn.feature_extraction.text import TfidfVectorizer\n",
        "from sklearn.decomposition import PCA\n",
        "from sklearn.preprocessing import StandardScaler"
      ]
    },
    {
      "cell_type": "markdown",
      "source": [
        "Imports utilizados en el modelo de Machine learning"
      ],
      "metadata": {
        "id": "BaynCnZCrP37"
      }
    },
    {
      "cell_type": "code",
      "source": [
        "import tensorflow as tf\n",
        "from tensorflow.keras.models import Sequential\n",
        "from tensorflow.keras.layers import Dense"
      ],
      "metadata": {
        "id": "2yfYp6GcLNSO"
      },
      "execution_count": null,
      "outputs": []
    },
    {
      "cell_type": "markdown",
      "source": [
        "# Procesado de datos"
      ],
      "metadata": {
        "id": "H9OZLU0dRsrt"
      }
    },
    {
      "cell_type": "markdown",
      "source": [
        "Datos obtenidos de: https://kaggle.com/competitions/fake-news."
      ],
      "metadata": {
        "id": "kS6RkXqHrx2d"
      }
    },
    {
      "cell_type": "code",
      "source": [
        "df = pd.read_csv(\"/content/drive/MyDrive/Cosas ML/train_set.csv/train.csv\")"
      ],
      "metadata": {
        "id": "AaKF8qi2sMxr"
      },
      "execution_count": null,
      "outputs": []
    },
    {
      "cell_type": "code",
      "source": [
        "df"
      ],
      "metadata": {
        "colab": {
          "base_uri": "https://localhost:8080/",
          "height": 424
        },
        "id": "b8AwjGCPwDC0",
        "outputId": "bb7f7d67-5d5c-4dfa-de54-592577302e02"
      },
      "execution_count": null,
      "outputs": [
        {
          "output_type": "execute_result",
          "data": {
            "text/plain": [
              "          id                                              title  \\\n",
              "0          0  House Dem Aide: We Didn’t Even See Comey’s Let...   \n",
              "1          1  FLYNN: Hillary Clinton, Big Woman on Campus - ...   \n",
              "2          2                  Why the Truth Might Get You Fired   \n",
              "3          3  15 Civilians Killed In Single US Airstrike Hav...   \n",
              "4          4  Iranian woman jailed for fictional unpublished...   \n",
              "...      ...                                                ...   \n",
              "20795  20795  Rapper T.I.: Trump a ’Poster Child For White S...   \n",
              "20796  20796  N.F.L. Playoffs: Schedule, Matchups and Odds -...   \n",
              "20797  20797  Macy’s Is Said to Receive Takeover Approach by...   \n",
              "20798  20798  NATO, Russia To Hold Parallel Exercises In Bal...   \n",
              "20799  20799                          What Keeps the F-35 Alive   \n",
              "\n",
              "                                          author  \\\n",
              "0                                  Darrell Lucus   \n",
              "1                                Daniel J. Flynn   \n",
              "2                             Consortiumnews.com   \n",
              "3                                Jessica Purkiss   \n",
              "4                                 Howard Portnoy   \n",
              "...                                          ...   \n",
              "20795                              Jerome Hudson   \n",
              "20796                           Benjamin Hoffman   \n",
              "20797  Michael J. de la Merced and Rachel Abrams   \n",
              "20798                                Alex Ansary   \n",
              "20799                              David Swanson   \n",
              "\n",
              "                                                    text  label  \n",
              "0      House Dem Aide: We Didn’t Even See Comey’s Let...      1  \n",
              "1      Ever get the feeling your life circles the rou...      0  \n",
              "2      Why the Truth Might Get You Fired October 29, ...      1  \n",
              "3      Videos 15 Civilians Killed In Single US Airstr...      1  \n",
              "4      Print \\nAn Iranian woman has been sentenced to...      1  \n",
              "...                                                  ...    ...  \n",
              "20795  Rapper T. I. unloaded on black celebrities who...      0  \n",
              "20796  When the Green Bay Packers lost to the Washing...      0  \n",
              "20797  The Macy’s of today grew from the union of sev...      0  \n",
              "20798  NATO, Russia To Hold Parallel Exercises In Bal...      1  \n",
              "20799    David Swanson is an author, activist, journa...      1  \n",
              "\n",
              "[20800 rows x 5 columns]"
            ],
            "text/html": [
              "\n",
              "  <div id=\"df-b1434abc-b5f9-42c7-9cb5-60cfb120aec0\" class=\"colab-df-container\">\n",
              "    <div>\n",
              "<style scoped>\n",
              "    .dataframe tbody tr th:only-of-type {\n",
              "        vertical-align: middle;\n",
              "    }\n",
              "\n",
              "    .dataframe tbody tr th {\n",
              "        vertical-align: top;\n",
              "    }\n",
              "\n",
              "    .dataframe thead th {\n",
              "        text-align: right;\n",
              "    }\n",
              "</style>\n",
              "<table border=\"1\" class=\"dataframe\">\n",
              "  <thead>\n",
              "    <tr style=\"text-align: right;\">\n",
              "      <th></th>\n",
              "      <th>id</th>\n",
              "      <th>title</th>\n",
              "      <th>author</th>\n",
              "      <th>text</th>\n",
              "      <th>label</th>\n",
              "    </tr>\n",
              "  </thead>\n",
              "  <tbody>\n",
              "    <tr>\n",
              "      <th>0</th>\n",
              "      <td>0</td>\n",
              "      <td>House Dem Aide: We Didn’t Even See Comey’s Let...</td>\n",
              "      <td>Darrell Lucus</td>\n",
              "      <td>House Dem Aide: We Didn’t Even See Comey’s Let...</td>\n",
              "      <td>1</td>\n",
              "    </tr>\n",
              "    <tr>\n",
              "      <th>1</th>\n",
              "      <td>1</td>\n",
              "      <td>FLYNN: Hillary Clinton, Big Woman on Campus - ...</td>\n",
              "      <td>Daniel J. Flynn</td>\n",
              "      <td>Ever get the feeling your life circles the rou...</td>\n",
              "      <td>0</td>\n",
              "    </tr>\n",
              "    <tr>\n",
              "      <th>2</th>\n",
              "      <td>2</td>\n",
              "      <td>Why the Truth Might Get You Fired</td>\n",
              "      <td>Consortiumnews.com</td>\n",
              "      <td>Why the Truth Might Get You Fired October 29, ...</td>\n",
              "      <td>1</td>\n",
              "    </tr>\n",
              "    <tr>\n",
              "      <th>3</th>\n",
              "      <td>3</td>\n",
              "      <td>15 Civilians Killed In Single US Airstrike Hav...</td>\n",
              "      <td>Jessica Purkiss</td>\n",
              "      <td>Videos 15 Civilians Killed In Single US Airstr...</td>\n",
              "      <td>1</td>\n",
              "    </tr>\n",
              "    <tr>\n",
              "      <th>4</th>\n",
              "      <td>4</td>\n",
              "      <td>Iranian woman jailed for fictional unpublished...</td>\n",
              "      <td>Howard Portnoy</td>\n",
              "      <td>Print \\nAn Iranian woman has been sentenced to...</td>\n",
              "      <td>1</td>\n",
              "    </tr>\n",
              "    <tr>\n",
              "      <th>...</th>\n",
              "      <td>...</td>\n",
              "      <td>...</td>\n",
              "      <td>...</td>\n",
              "      <td>...</td>\n",
              "      <td>...</td>\n",
              "    </tr>\n",
              "    <tr>\n",
              "      <th>20795</th>\n",
              "      <td>20795</td>\n",
              "      <td>Rapper T.I.: Trump a ’Poster Child For White S...</td>\n",
              "      <td>Jerome Hudson</td>\n",
              "      <td>Rapper T. I. unloaded on black celebrities who...</td>\n",
              "      <td>0</td>\n",
              "    </tr>\n",
              "    <tr>\n",
              "      <th>20796</th>\n",
              "      <td>20796</td>\n",
              "      <td>N.F.L. Playoffs: Schedule, Matchups and Odds -...</td>\n",
              "      <td>Benjamin Hoffman</td>\n",
              "      <td>When the Green Bay Packers lost to the Washing...</td>\n",
              "      <td>0</td>\n",
              "    </tr>\n",
              "    <tr>\n",
              "      <th>20797</th>\n",
              "      <td>20797</td>\n",
              "      <td>Macy’s Is Said to Receive Takeover Approach by...</td>\n",
              "      <td>Michael J. de la Merced and Rachel Abrams</td>\n",
              "      <td>The Macy’s of today grew from the union of sev...</td>\n",
              "      <td>0</td>\n",
              "    </tr>\n",
              "    <tr>\n",
              "      <th>20798</th>\n",
              "      <td>20798</td>\n",
              "      <td>NATO, Russia To Hold Parallel Exercises In Bal...</td>\n",
              "      <td>Alex Ansary</td>\n",
              "      <td>NATO, Russia To Hold Parallel Exercises In Bal...</td>\n",
              "      <td>1</td>\n",
              "    </tr>\n",
              "    <tr>\n",
              "      <th>20799</th>\n",
              "      <td>20799</td>\n",
              "      <td>What Keeps the F-35 Alive</td>\n",
              "      <td>David Swanson</td>\n",
              "      <td>David Swanson is an author, activist, journa...</td>\n",
              "      <td>1</td>\n",
              "    </tr>\n",
              "  </tbody>\n",
              "</table>\n",
              "<p>20800 rows × 5 columns</p>\n",
              "</div>\n",
              "    <div class=\"colab-df-buttons\">\n",
              "\n",
              "  <div class=\"colab-df-container\">\n",
              "    <button class=\"colab-df-convert\" onclick=\"convertToInteractive('df-b1434abc-b5f9-42c7-9cb5-60cfb120aec0')\"\n",
              "            title=\"Convert this dataframe to an interactive table.\"\n",
              "            style=\"display:none;\">\n",
              "\n",
              "  <svg xmlns=\"http://www.w3.org/2000/svg\" height=\"24px\" viewBox=\"0 -960 960 960\">\n",
              "    <path d=\"M120-120v-720h720v720H120Zm60-500h600v-160H180v160Zm220 220h160v-160H400v160Zm0 220h160v-160H400v160ZM180-400h160v-160H180v160Zm440 0h160v-160H620v160ZM180-180h160v-160H180v160Zm440 0h160v-160H620v160Z\"/>\n",
              "  </svg>\n",
              "    </button>\n",
              "\n",
              "  <style>\n",
              "    .colab-df-container {\n",
              "      display:flex;\n",
              "      gap: 12px;\n",
              "    }\n",
              "\n",
              "    .colab-df-convert {\n",
              "      background-color: #E8F0FE;\n",
              "      border: none;\n",
              "      border-radius: 50%;\n",
              "      cursor: pointer;\n",
              "      display: none;\n",
              "      fill: #1967D2;\n",
              "      height: 32px;\n",
              "      padding: 0 0 0 0;\n",
              "      width: 32px;\n",
              "    }\n",
              "\n",
              "    .colab-df-convert:hover {\n",
              "      background-color: #E2EBFA;\n",
              "      box-shadow: 0px 1px 2px rgba(60, 64, 67, 0.3), 0px 1px 3px 1px rgba(60, 64, 67, 0.15);\n",
              "      fill: #174EA6;\n",
              "    }\n",
              "\n",
              "    .colab-df-buttons div {\n",
              "      margin-bottom: 4px;\n",
              "    }\n",
              "\n",
              "    [theme=dark] .colab-df-convert {\n",
              "      background-color: #3B4455;\n",
              "      fill: #D2E3FC;\n",
              "    }\n",
              "\n",
              "    [theme=dark] .colab-df-convert:hover {\n",
              "      background-color: #434B5C;\n",
              "      box-shadow: 0px 1px 3px 1px rgba(0, 0, 0, 0.15);\n",
              "      filter: drop-shadow(0px 1px 2px rgba(0, 0, 0, 0.3));\n",
              "      fill: #FFFFFF;\n",
              "    }\n",
              "  </style>\n",
              "\n",
              "    <script>\n",
              "      const buttonEl =\n",
              "        document.querySelector('#df-b1434abc-b5f9-42c7-9cb5-60cfb120aec0 button.colab-df-convert');\n",
              "      buttonEl.style.display =\n",
              "        google.colab.kernel.accessAllowed ? 'block' : 'none';\n",
              "\n",
              "      async function convertToInteractive(key) {\n",
              "        const element = document.querySelector('#df-b1434abc-b5f9-42c7-9cb5-60cfb120aec0');\n",
              "        const dataTable =\n",
              "          await google.colab.kernel.invokeFunction('convertToInteractive',\n",
              "                                                    [key], {});\n",
              "        if (!dataTable) return;\n",
              "\n",
              "        const docLinkHtml = 'Like what you see? Visit the ' +\n",
              "          '<a target=\"_blank\" href=https://colab.research.google.com/notebooks/data_table.ipynb>data table notebook</a>'\n",
              "          + ' to learn more about interactive tables.';\n",
              "        element.innerHTML = '';\n",
              "        dataTable['output_type'] = 'display_data';\n",
              "        await google.colab.output.renderOutput(dataTable, element);\n",
              "        const docLink = document.createElement('div');\n",
              "        docLink.innerHTML = docLinkHtml;\n",
              "        element.appendChild(docLink);\n",
              "      }\n",
              "    </script>\n",
              "  </div>\n",
              "\n",
              "\n",
              "<div id=\"df-6063c5ce-baf8-4fcd-8a4c-104d3ca4afc9\">\n",
              "  <button class=\"colab-df-quickchart\" onclick=\"quickchart('df-6063c5ce-baf8-4fcd-8a4c-104d3ca4afc9')\"\n",
              "            title=\"Suggest charts\"\n",
              "            style=\"display:none;\">\n",
              "\n",
              "<svg xmlns=\"http://www.w3.org/2000/svg\" height=\"24px\"viewBox=\"0 0 24 24\"\n",
              "     width=\"24px\">\n",
              "    <g>\n",
              "        <path d=\"M19 3H5c-1.1 0-2 .9-2 2v14c0 1.1.9 2 2 2h14c1.1 0 2-.9 2-2V5c0-1.1-.9-2-2-2zM9 17H7v-7h2v7zm4 0h-2V7h2v10zm4 0h-2v-4h2v4z\"/>\n",
              "    </g>\n",
              "</svg>\n",
              "  </button>\n",
              "\n",
              "<style>\n",
              "  .colab-df-quickchart {\n",
              "      --bg-color: #E8F0FE;\n",
              "      --fill-color: #1967D2;\n",
              "      --hover-bg-color: #E2EBFA;\n",
              "      --hover-fill-color: #174EA6;\n",
              "      --disabled-fill-color: #AAA;\n",
              "      --disabled-bg-color: #DDD;\n",
              "  }\n",
              "\n",
              "  [theme=dark] .colab-df-quickchart {\n",
              "      --bg-color: #3B4455;\n",
              "      --fill-color: #D2E3FC;\n",
              "      --hover-bg-color: #434B5C;\n",
              "      --hover-fill-color: #FFFFFF;\n",
              "      --disabled-bg-color: #3B4455;\n",
              "      --disabled-fill-color: #666;\n",
              "  }\n",
              "\n",
              "  .colab-df-quickchart {\n",
              "    background-color: var(--bg-color);\n",
              "    border: none;\n",
              "    border-radius: 50%;\n",
              "    cursor: pointer;\n",
              "    display: none;\n",
              "    fill: var(--fill-color);\n",
              "    height: 32px;\n",
              "    padding: 0;\n",
              "    width: 32px;\n",
              "  }\n",
              "\n",
              "  .colab-df-quickchart:hover {\n",
              "    background-color: var(--hover-bg-color);\n",
              "    box-shadow: 0 1px 2px rgba(60, 64, 67, 0.3), 0 1px 3px 1px rgba(60, 64, 67, 0.15);\n",
              "    fill: var(--button-hover-fill-color);\n",
              "  }\n",
              "\n",
              "  .colab-df-quickchart-complete:disabled,\n",
              "  .colab-df-quickchart-complete:disabled:hover {\n",
              "    background-color: var(--disabled-bg-color);\n",
              "    fill: var(--disabled-fill-color);\n",
              "    box-shadow: none;\n",
              "  }\n",
              "\n",
              "  .colab-df-spinner {\n",
              "    border: 2px solid var(--fill-color);\n",
              "    border-color: transparent;\n",
              "    border-bottom-color: var(--fill-color);\n",
              "    animation:\n",
              "      spin 1s steps(1) infinite;\n",
              "  }\n",
              "\n",
              "  @keyframes spin {\n",
              "    0% {\n",
              "      border-color: transparent;\n",
              "      border-bottom-color: var(--fill-color);\n",
              "      border-left-color: var(--fill-color);\n",
              "    }\n",
              "    20% {\n",
              "      border-color: transparent;\n",
              "      border-left-color: var(--fill-color);\n",
              "      border-top-color: var(--fill-color);\n",
              "    }\n",
              "    30% {\n",
              "      border-color: transparent;\n",
              "      border-left-color: var(--fill-color);\n",
              "      border-top-color: var(--fill-color);\n",
              "      border-right-color: var(--fill-color);\n",
              "    }\n",
              "    40% {\n",
              "      border-color: transparent;\n",
              "      border-right-color: var(--fill-color);\n",
              "      border-top-color: var(--fill-color);\n",
              "    }\n",
              "    60% {\n",
              "      border-color: transparent;\n",
              "      border-right-color: var(--fill-color);\n",
              "    }\n",
              "    80% {\n",
              "      border-color: transparent;\n",
              "      border-right-color: var(--fill-color);\n",
              "      border-bottom-color: var(--fill-color);\n",
              "    }\n",
              "    90% {\n",
              "      border-color: transparent;\n",
              "      border-bottom-color: var(--fill-color);\n",
              "    }\n",
              "  }\n",
              "</style>\n",
              "\n",
              "  <script>\n",
              "    async function quickchart(key) {\n",
              "      const quickchartButtonEl =\n",
              "        document.querySelector('#' + key + ' button');\n",
              "      quickchartButtonEl.disabled = true;  // To prevent multiple clicks.\n",
              "      quickchartButtonEl.classList.add('colab-df-spinner');\n",
              "      try {\n",
              "        const charts = await google.colab.kernel.invokeFunction(\n",
              "            'suggestCharts', [key], {});\n",
              "      } catch (error) {\n",
              "        console.error('Error during call to suggestCharts:', error);\n",
              "      }\n",
              "      quickchartButtonEl.classList.remove('colab-df-spinner');\n",
              "      quickchartButtonEl.classList.add('colab-df-quickchart-complete');\n",
              "    }\n",
              "    (() => {\n",
              "      let quickchartButtonEl =\n",
              "        document.querySelector('#df-6063c5ce-baf8-4fcd-8a4c-104d3ca4afc9 button');\n",
              "      quickchartButtonEl.style.display =\n",
              "        google.colab.kernel.accessAllowed ? 'block' : 'none';\n",
              "    })();\n",
              "  </script>\n",
              "</div>\n",
              "\n",
              "  <div id=\"id_1911bb78-d974-4409-9c92-75b51a6d3bb6\">\n",
              "    <style>\n",
              "      .colab-df-generate {\n",
              "        background-color: #E8F0FE;\n",
              "        border: none;\n",
              "        border-radius: 50%;\n",
              "        cursor: pointer;\n",
              "        display: none;\n",
              "        fill: #1967D2;\n",
              "        height: 32px;\n",
              "        padding: 0 0 0 0;\n",
              "        width: 32px;\n",
              "      }\n",
              "\n",
              "      .colab-df-generate:hover {\n",
              "        background-color: #E2EBFA;\n",
              "        box-shadow: 0px 1px 2px rgba(60, 64, 67, 0.3), 0px 1px 3px 1px rgba(60, 64, 67, 0.15);\n",
              "        fill: #174EA6;\n",
              "      }\n",
              "\n",
              "      [theme=dark] .colab-df-generate {\n",
              "        background-color: #3B4455;\n",
              "        fill: #D2E3FC;\n",
              "      }\n",
              "\n",
              "      [theme=dark] .colab-df-generate:hover {\n",
              "        background-color: #434B5C;\n",
              "        box-shadow: 0px 1px 3px 1px rgba(0, 0, 0, 0.15);\n",
              "        filter: drop-shadow(0px 1px 2px rgba(0, 0, 0, 0.3));\n",
              "        fill: #FFFFFF;\n",
              "      }\n",
              "    </style>\n",
              "    <button class=\"colab-df-generate\" onclick=\"generateWithVariable('df')\"\n",
              "            title=\"Generate code using this dataframe.\"\n",
              "            style=\"display:none;\">\n",
              "\n",
              "  <svg xmlns=\"http://www.w3.org/2000/svg\" height=\"24px\"viewBox=\"0 0 24 24\"\n",
              "       width=\"24px\">\n",
              "    <path d=\"M7,19H8.4L18.45,9,17,7.55,7,17.6ZM5,21V16.75L18.45,3.32a2,2,0,0,1,2.83,0l1.4,1.43a1.91,1.91,0,0,1,.58,1.4,1.91,1.91,0,0,1-.58,1.4L9.25,21ZM18.45,9,17,7.55Zm-12,3A5.31,5.31,0,0,0,4.9,8.1,5.31,5.31,0,0,0,1,6.5,5.31,5.31,0,0,0,4.9,4.9,5.31,5.31,0,0,0,6.5,1,5.31,5.31,0,0,0,8.1,4.9,5.31,5.31,0,0,0,12,6.5,5.46,5.46,0,0,0,6.5,12Z\"/>\n",
              "  </svg>\n",
              "    </button>\n",
              "    <script>\n",
              "      (() => {\n",
              "      const buttonEl =\n",
              "        document.querySelector('#id_1911bb78-d974-4409-9c92-75b51a6d3bb6 button.colab-df-generate');\n",
              "      buttonEl.style.display =\n",
              "        google.colab.kernel.accessAllowed ? 'block' : 'none';\n",
              "\n",
              "      buttonEl.onclick = () => {\n",
              "        google.colab.notebook.generateWithVariable('df');\n",
              "      }\n",
              "      })();\n",
              "    </script>\n",
              "  </div>\n",
              "\n",
              "    </div>\n",
              "  </div>\n"
            ]
          },
          "metadata": {},
          "execution_count": 4
        }
      ]
    },
    {
      "cell_type": "markdown",
      "source": [
        "En este dataframe se presenta una identificación para cada noticia, así como: el título del artículo, el autor y el texto, además para este dataset se nos presenta si las noticias son verdaderas si en label contienen un 0 y es falsa si contiene un 1"
      ],
      "metadata": {
        "id": "zDjanFf-w_2E"
      }
    },
    {
      "cell_type": "markdown",
      "source": [
        "Dedibo a que los datos son texto lo primero que tenemos que hacer es cambiar los datos a número para que así se pueda entender en el programa y puedan ser usados en la red neuronal."
      ],
      "metadata": {
        "id": "MGKhIbJoUTuh"
      }
    },
    {
      "cell_type": "code",
      "source": [
        "df.shape"
      ],
      "metadata": {
        "colab": {
          "base_uri": "https://localhost:8080/"
        },
        "id": "pPBS42uFwToN",
        "outputId": "218aa9cd-ff41-4214-fd89-bce2e18e3f34"
      },
      "execution_count": null,
      "outputs": [
        {
          "output_type": "execute_result",
          "data": {
            "text/plain": [
              "(20800, 5)"
            ]
          },
          "metadata": {},
          "execution_count": 5
        }
      ]
    },
    {
      "cell_type": "markdown",
      "source": [
        "Verificamos que en nuestros datos no hayan datos vacios"
      ],
      "metadata": {
        "id": "MU3LjyCI1HXq"
      }
    },
    {
      "cell_type": "code",
      "source": [
        "df.isnull().sum()"
      ],
      "metadata": {
        "colab": {
          "base_uri": "https://localhost:8080/"
        },
        "id": "-9lgsnB10Z5f",
        "outputId": "e6d31fb8-ecab-41f2-ccae-770bfc6bb899"
      },
      "execution_count": null,
      "outputs": [
        {
          "output_type": "execute_result",
          "data": {
            "text/plain": [
              "id           0\n",
              "title      558\n",
              "author    1957\n",
              "text        39\n",
              "label        0\n",
              "dtype: int64"
            ]
          },
          "metadata": {},
          "execution_count": 6
        }
      ]
    },
    {
      "cell_type": "markdown",
      "source": [
        "Eliminamos estos renglones con datos faltantes"
      ],
      "metadata": {
        "id": "YmZPfCWTNVEW"
      }
    },
    {
      "cell_type": "code",
      "source": [
        "dat = df.dropna()"
      ],
      "metadata": {
        "id": "GLxW_DKM0rQh"
      },
      "execution_count": null,
      "outputs": []
    },
    {
      "cell_type": "code",
      "source": [
        "dat.isnull().sum()"
      ],
      "metadata": {
        "id": "LopYX8zE2GPT",
        "outputId": "1ece1f98-600e-4cdd-b0c8-3fdc49b84084",
        "colab": {
          "base_uri": "https://localhost:8080/"
        }
      },
      "execution_count": null,
      "outputs": [
        {
          "output_type": "execute_result",
          "data": {
            "text/plain": [
              "id        0\n",
              "title     0\n",
              "author    0\n",
              "text      0\n",
              "label     0\n",
              "dtype: int64"
            ]
          },
          "metadata": {},
          "execution_count": 8
        }
      ]
    },
    {
      "cell_type": "code",
      "source": [
        "dat.shape"
      ],
      "metadata": {
        "id": "0PHKBeLV2Jhh",
        "outputId": "bb10f8a1-9ae3-4c1c-88f8-c9918cacde22",
        "colab": {
          "base_uri": "https://localhost:8080/"
        }
      },
      "execution_count": null,
      "outputs": [
        {
          "output_type": "execute_result",
          "data": {
            "text/plain": [
              "(18285, 5)"
            ]
          },
          "metadata": {},
          "execution_count": 9
        }
      ]
    },
    {
      "cell_type": "markdown",
      "source": [
        "El siguiente paso es la eliminación de palabras que no nos aporten nada en el análisis del texto usando la librería stop_word, además de otros carácteres que no sean alfanuméricos."
      ],
      "metadata": {
        "id": "rnomNAL4hWbu"
      }
    },
    {
      "cell_type": "markdown",
      "source": [
        "Las stopwords en inglés son:"
      ],
      "metadata": {
        "id": "ZQ46TU-lU_AO"
      }
    },
    {
      "cell_type": "code",
      "source": [
        "print(get_stop_words(\"en\"))"
      ],
      "metadata": {
        "colab": {
          "base_uri": "https://localhost:8080/"
        },
        "id": "yEXEYXqzgKFk",
        "outputId": "0e295fff-38a9-40c0-ae38-477377f604ce"
      },
      "execution_count": null,
      "outputs": [
        {
          "output_type": "stream",
          "name": "stdout",
          "text": [
            "['a', 'about', 'above', 'after', 'again', 'against', 'all', 'am', 'an', 'and', 'any', 'are', \"aren't\", 'as', 'at', 'be', 'because', 'been', 'before', 'being', 'below', 'between', 'both', 'but', 'by', \"can't\", 'cannot', 'could', \"couldn't\", 'did', \"didn't\", 'do', 'does', \"doesn't\", 'doing', \"don't\", 'down', 'during', 'each', 'few', 'for', 'from', 'further', 'had', \"hadn't\", 'has', \"hasn't\", 'have', \"haven't\", 'having', 'he', \"he'd\", \"he'll\", \"he's\", 'her', 'here', \"here's\", 'hers', 'herself', 'him', 'himself', 'his', 'how', \"how's\", 'i', \"i'd\", \"i'll\", \"i'm\", \"i've\", 'if', 'in', 'into', 'is', \"isn't\", 'it', \"it's\", 'its', 'itself', \"let's\", 'me', 'more', 'most', \"mustn't\", 'my', 'myself', 'no', 'nor', 'not', 'of', 'off', 'on', 'once', 'only', 'or', 'other', 'ought', 'our', 'ours', 'ourselves', 'out', 'over', 'own', 'same', \"shan't\", 'she', \"she'd\", \"she'll\", \"she's\", 'should', \"shouldn't\", 'so', 'some', 'such', 'than', 'that', \"that's\", 'the', 'their', 'theirs', 'them', 'themselves', 'then', 'there', \"there's\", 'these', 'they', \"they'd\", \"they'll\", \"they're\", \"they've\", 'this', 'those', 'through', 'to', 'too', 'under', 'until', 'up', 'very', 'was', \"wasn't\", 'we', \"we'd\", \"we'll\", \"we're\", \"we've\", 'were', \"weren't\", 'what', \"what's\", 'when', \"when's\", 'where', \"where's\", 'which', 'while', 'who', \"who's\", 'whom', 'why', \"why's\", 'with', \"won't\", 'would', \"wouldn't\", 'you', \"you'd\", \"you'll\", \"you're\", \"you've\", 'your', 'yours', 'yourself', 'yourselves']\n"
          ]
        }
      ]
    },
    {
      "cell_type": "code",
      "source": [
        "#se usan las stop words en inglés\n",
        "#En este paso quitamos las stopwords y simbolos no alfanuméricos que no esten acompañados por carácters alfanuméricos\n",
        "stop_words = get_stop_words(\"en\")\n",
        "punctuations = \"'!()-[]{};:',#$%&/=?´+@^`~\\*.-\"\n",
        "def quitar_palabras(texto):\n",
        "  palabras = texto.split()\n",
        "  palabras_buenas =[]\n",
        "  for i in range(len(palabras)):\n",
        "    if palabras[i] not in stop_words and palabras[i] not in punctuations:\n",
        "      palabras_buenas.append(palabras[i])\n",
        "  good_words = ' '.join(palabras_buenas)\n",
        "  return good_words"
      ],
      "metadata": {
        "id": "c_Kjtigp2Iea"
      },
      "execution_count": null,
      "outputs": []
    },
    {
      "cell_type": "markdown",
      "source": [
        "Se usa la librería re, que su uso principal es para la identificación de tipos de caracterés, en este caso uso \\d para números \\W para caracterés no alfanúmericos que se encuentren acompañadas por carácteres alfanuméricos."
      ],
      "metadata": {
        "id": "UKo4sHcBOFcs"
      }
    },
    {
      "cell_type": "code",
      "source": [
        "def limpiar(cuerpo):\n",
        "  #se usa re.compile para tener un tipo de patrón\n",
        "  #en este se encuentran números\n",
        "  patron = re.compile('\\d' )\n",
        "  #aquí se encuentra carácteres no alfanúmericos\n",
        "  patron2 = re.compile('\\W' )\n",
        "  #se cambian a minúsculas\n",
        "  cuerpo = cuerpo.lower()\n",
        "  #Se sustituyen los carácteres del patrón1\n",
        "  cuerpo = patron.sub('', cuerpo)\n",
        "  #Se sustituyen los carácteres del patrón2\n",
        "  cuerpo = patron2.sub(' ', cuerpo)\n",
        "  #Se utilliza la función anterior para quitar stop-words y carácteres no alfanuméricos\n",
        "  cuerpo = quitar_palabras(cuerpo)\n",
        "  return cuerpo"
      ],
      "metadata": {
        "id": "d6VwNyS6KgNy"
      },
      "execution_count": null,
      "outputs": []
    },
    {
      "cell_type": "markdown",
      "source": [
        "Se crea otra columna que contenga el texto ya limpio de los artículos"
      ],
      "metadata": {
        "id": "HDdUwMHnPABL"
      }
    },
    {
      "cell_type": "code",
      "source": [
        "dat['limpio'] = dat.text.map(lambda x: limpiar(x))"
      ],
      "metadata": {
        "colab": {
          "base_uri": "https://localhost:8080/"
        },
        "id": "1KAn9D2aqzgd",
        "outputId": "1914bf80-fd4c-47f0-e150-06f74e0016dc"
      },
      "execution_count": null,
      "outputs": [
        {
          "output_type": "stream",
          "name": "stderr",
          "text": [
            "<ipython-input-13-2708f10d460e>:1: SettingWithCopyWarning: \n",
            "A value is trying to be set on a copy of a slice from a DataFrame.\n",
            "Try using .loc[row_indexer,col_indexer] = value instead\n",
            "\n",
            "See the caveats in the documentation: https://pandas.pydata.org/pandas-docs/stable/user_guide/indexing.html#returning-a-view-versus-a-copy\n",
            "  dat['limpio'] = dat.text.map(lambda x: limpiar(x))\n"
          ]
        }
      ]
    },
    {
      "cell_type": "code",
      "source": [
        "dat"
      ],
      "metadata": {
        "colab": {
          "base_uri": "https://localhost:8080/",
          "height": 424
        },
        "id": "SDxekUAzfMN2",
        "outputId": "6483f9db-2243-4d83-b348-92227d9337c7"
      },
      "execution_count": null,
      "outputs": [
        {
          "output_type": "execute_result",
          "data": {
            "text/plain": [
              "          id                                              title  \\\n",
              "0          0  House Dem Aide: We Didn’t Even See Comey’s Let...   \n",
              "1          1  FLYNN: Hillary Clinton, Big Woman on Campus - ...   \n",
              "2          2                  Why the Truth Might Get You Fired   \n",
              "3          3  15 Civilians Killed In Single US Airstrike Hav...   \n",
              "4          4  Iranian woman jailed for fictional unpublished...   \n",
              "...      ...                                                ...   \n",
              "20795  20795  Rapper T.I.: Trump a ’Poster Child For White S...   \n",
              "20796  20796  N.F.L. Playoffs: Schedule, Matchups and Odds -...   \n",
              "20797  20797  Macy’s Is Said to Receive Takeover Approach by...   \n",
              "20798  20798  NATO, Russia To Hold Parallel Exercises In Bal...   \n",
              "20799  20799                          What Keeps the F-35 Alive   \n",
              "\n",
              "                                          author  \\\n",
              "0                                  Darrell Lucus   \n",
              "1                                Daniel J. Flynn   \n",
              "2                             Consortiumnews.com   \n",
              "3                                Jessica Purkiss   \n",
              "4                                 Howard Portnoy   \n",
              "...                                          ...   \n",
              "20795                              Jerome Hudson   \n",
              "20796                           Benjamin Hoffman   \n",
              "20797  Michael J. de la Merced and Rachel Abrams   \n",
              "20798                                Alex Ansary   \n",
              "20799                              David Swanson   \n",
              "\n",
              "                                                    text  label  \\\n",
              "0      House Dem Aide: We Didn’t Even See Comey’s Let...      1   \n",
              "1      Ever get the feeling your life circles the rou...      0   \n",
              "2      Why the Truth Might Get You Fired October 29, ...      1   \n",
              "3      Videos 15 Civilians Killed In Single US Airstr...      1   \n",
              "4      Print \\nAn Iranian woman has been sentenced to...      1   \n",
              "...                                                  ...    ...   \n",
              "20795  Rapper T. I. unloaded on black celebrities who...      0   \n",
              "20796  When the Green Bay Packers lost to the Washing...      0   \n",
              "20797  The Macy’s of today grew from the union of sev...      0   \n",
              "20798  NATO, Russia To Hold Parallel Exercises In Bal...      1   \n",
              "20799    David Swanson is an author, activist, journa...      1   \n",
              "\n",
              "                                                  limpio  \n",
              "0      house dem aide didn t even see comey s letter ...  \n",
              "1      ever get feeling life circles roundabout rathe...  \n",
              "2      truth might get fired october tension intellig...  \n",
              "3      videos civilians killed single us airstrike id...  \n",
              "4      print iranian woman sentenced six years prison...  \n",
              "...                                                  ...  \n",
              "20795  rapper t unloaded black celebrities met donald...  \n",
              "20796  green bay packers lost washington redskins wee...  \n",
              "20797  macy s today grew union several great names am...  \n",
              "20798  nato russia hold parallel exercises balkans pr...  \n",
              "20799  david swanson author activist journalist radio...  \n",
              "\n",
              "[18285 rows x 6 columns]"
            ],
            "text/html": [
              "\n",
              "  <div id=\"df-f137f5ce-5258-4129-b8e1-c75f157a66fa\" class=\"colab-df-container\">\n",
              "    <div>\n",
              "<style scoped>\n",
              "    .dataframe tbody tr th:only-of-type {\n",
              "        vertical-align: middle;\n",
              "    }\n",
              "\n",
              "    .dataframe tbody tr th {\n",
              "        vertical-align: top;\n",
              "    }\n",
              "\n",
              "    .dataframe thead th {\n",
              "        text-align: right;\n",
              "    }\n",
              "</style>\n",
              "<table border=\"1\" class=\"dataframe\">\n",
              "  <thead>\n",
              "    <tr style=\"text-align: right;\">\n",
              "      <th></th>\n",
              "      <th>id</th>\n",
              "      <th>title</th>\n",
              "      <th>author</th>\n",
              "      <th>text</th>\n",
              "      <th>label</th>\n",
              "      <th>limpio</th>\n",
              "    </tr>\n",
              "  </thead>\n",
              "  <tbody>\n",
              "    <tr>\n",
              "      <th>0</th>\n",
              "      <td>0</td>\n",
              "      <td>House Dem Aide: We Didn’t Even See Comey’s Let...</td>\n",
              "      <td>Darrell Lucus</td>\n",
              "      <td>House Dem Aide: We Didn’t Even See Comey’s Let...</td>\n",
              "      <td>1</td>\n",
              "      <td>house dem aide didn t even see comey s letter ...</td>\n",
              "    </tr>\n",
              "    <tr>\n",
              "      <th>1</th>\n",
              "      <td>1</td>\n",
              "      <td>FLYNN: Hillary Clinton, Big Woman on Campus - ...</td>\n",
              "      <td>Daniel J. Flynn</td>\n",
              "      <td>Ever get the feeling your life circles the rou...</td>\n",
              "      <td>0</td>\n",
              "      <td>ever get feeling life circles roundabout rathe...</td>\n",
              "    </tr>\n",
              "    <tr>\n",
              "      <th>2</th>\n",
              "      <td>2</td>\n",
              "      <td>Why the Truth Might Get You Fired</td>\n",
              "      <td>Consortiumnews.com</td>\n",
              "      <td>Why the Truth Might Get You Fired October 29, ...</td>\n",
              "      <td>1</td>\n",
              "      <td>truth might get fired october tension intellig...</td>\n",
              "    </tr>\n",
              "    <tr>\n",
              "      <th>3</th>\n",
              "      <td>3</td>\n",
              "      <td>15 Civilians Killed In Single US Airstrike Hav...</td>\n",
              "      <td>Jessica Purkiss</td>\n",
              "      <td>Videos 15 Civilians Killed In Single US Airstr...</td>\n",
              "      <td>1</td>\n",
              "      <td>videos civilians killed single us airstrike id...</td>\n",
              "    </tr>\n",
              "    <tr>\n",
              "      <th>4</th>\n",
              "      <td>4</td>\n",
              "      <td>Iranian woman jailed for fictional unpublished...</td>\n",
              "      <td>Howard Portnoy</td>\n",
              "      <td>Print \\nAn Iranian woman has been sentenced to...</td>\n",
              "      <td>1</td>\n",
              "      <td>print iranian woman sentenced six years prison...</td>\n",
              "    </tr>\n",
              "    <tr>\n",
              "      <th>...</th>\n",
              "      <td>...</td>\n",
              "      <td>...</td>\n",
              "      <td>...</td>\n",
              "      <td>...</td>\n",
              "      <td>...</td>\n",
              "      <td>...</td>\n",
              "    </tr>\n",
              "    <tr>\n",
              "      <th>20795</th>\n",
              "      <td>20795</td>\n",
              "      <td>Rapper T.I.: Trump a ’Poster Child For White S...</td>\n",
              "      <td>Jerome Hudson</td>\n",
              "      <td>Rapper T. I. unloaded on black celebrities who...</td>\n",
              "      <td>0</td>\n",
              "      <td>rapper t unloaded black celebrities met donald...</td>\n",
              "    </tr>\n",
              "    <tr>\n",
              "      <th>20796</th>\n",
              "      <td>20796</td>\n",
              "      <td>N.F.L. Playoffs: Schedule, Matchups and Odds -...</td>\n",
              "      <td>Benjamin Hoffman</td>\n",
              "      <td>When the Green Bay Packers lost to the Washing...</td>\n",
              "      <td>0</td>\n",
              "      <td>green bay packers lost washington redskins wee...</td>\n",
              "    </tr>\n",
              "    <tr>\n",
              "      <th>20797</th>\n",
              "      <td>20797</td>\n",
              "      <td>Macy’s Is Said to Receive Takeover Approach by...</td>\n",
              "      <td>Michael J. de la Merced and Rachel Abrams</td>\n",
              "      <td>The Macy’s of today grew from the union of sev...</td>\n",
              "      <td>0</td>\n",
              "      <td>macy s today grew union several great names am...</td>\n",
              "    </tr>\n",
              "    <tr>\n",
              "      <th>20798</th>\n",
              "      <td>20798</td>\n",
              "      <td>NATO, Russia To Hold Parallel Exercises In Bal...</td>\n",
              "      <td>Alex Ansary</td>\n",
              "      <td>NATO, Russia To Hold Parallel Exercises In Bal...</td>\n",
              "      <td>1</td>\n",
              "      <td>nato russia hold parallel exercises balkans pr...</td>\n",
              "    </tr>\n",
              "    <tr>\n",
              "      <th>20799</th>\n",
              "      <td>20799</td>\n",
              "      <td>What Keeps the F-35 Alive</td>\n",
              "      <td>David Swanson</td>\n",
              "      <td>David Swanson is an author, activist, journa...</td>\n",
              "      <td>1</td>\n",
              "      <td>david swanson author activist journalist radio...</td>\n",
              "    </tr>\n",
              "  </tbody>\n",
              "</table>\n",
              "<p>18285 rows × 6 columns</p>\n",
              "</div>\n",
              "    <div class=\"colab-df-buttons\">\n",
              "\n",
              "  <div class=\"colab-df-container\">\n",
              "    <button class=\"colab-df-convert\" onclick=\"convertToInteractive('df-f137f5ce-5258-4129-b8e1-c75f157a66fa')\"\n",
              "            title=\"Convert this dataframe to an interactive table.\"\n",
              "            style=\"display:none;\">\n",
              "\n",
              "  <svg xmlns=\"http://www.w3.org/2000/svg\" height=\"24px\" viewBox=\"0 -960 960 960\">\n",
              "    <path d=\"M120-120v-720h720v720H120Zm60-500h600v-160H180v160Zm220 220h160v-160H400v160Zm0 220h160v-160H400v160ZM180-400h160v-160H180v160Zm440 0h160v-160H620v160ZM180-180h160v-160H180v160Zm440 0h160v-160H620v160Z\"/>\n",
              "  </svg>\n",
              "    </button>\n",
              "\n",
              "  <style>\n",
              "    .colab-df-container {\n",
              "      display:flex;\n",
              "      gap: 12px;\n",
              "    }\n",
              "\n",
              "    .colab-df-convert {\n",
              "      background-color: #E8F0FE;\n",
              "      border: none;\n",
              "      border-radius: 50%;\n",
              "      cursor: pointer;\n",
              "      display: none;\n",
              "      fill: #1967D2;\n",
              "      height: 32px;\n",
              "      padding: 0 0 0 0;\n",
              "      width: 32px;\n",
              "    }\n",
              "\n",
              "    .colab-df-convert:hover {\n",
              "      background-color: #E2EBFA;\n",
              "      box-shadow: 0px 1px 2px rgba(60, 64, 67, 0.3), 0px 1px 3px 1px rgba(60, 64, 67, 0.15);\n",
              "      fill: #174EA6;\n",
              "    }\n",
              "\n",
              "    .colab-df-buttons div {\n",
              "      margin-bottom: 4px;\n",
              "    }\n",
              "\n",
              "    [theme=dark] .colab-df-convert {\n",
              "      background-color: #3B4455;\n",
              "      fill: #D2E3FC;\n",
              "    }\n",
              "\n",
              "    [theme=dark] .colab-df-convert:hover {\n",
              "      background-color: #434B5C;\n",
              "      box-shadow: 0px 1px 3px 1px rgba(0, 0, 0, 0.15);\n",
              "      filter: drop-shadow(0px 1px 2px rgba(0, 0, 0, 0.3));\n",
              "      fill: #FFFFFF;\n",
              "    }\n",
              "  </style>\n",
              "\n",
              "    <script>\n",
              "      const buttonEl =\n",
              "        document.querySelector('#df-f137f5ce-5258-4129-b8e1-c75f157a66fa button.colab-df-convert');\n",
              "      buttonEl.style.display =\n",
              "        google.colab.kernel.accessAllowed ? 'block' : 'none';\n",
              "\n",
              "      async function convertToInteractive(key) {\n",
              "        const element = document.querySelector('#df-f137f5ce-5258-4129-b8e1-c75f157a66fa');\n",
              "        const dataTable =\n",
              "          await google.colab.kernel.invokeFunction('convertToInteractive',\n",
              "                                                    [key], {});\n",
              "        if (!dataTable) return;\n",
              "\n",
              "        const docLinkHtml = 'Like what you see? Visit the ' +\n",
              "          '<a target=\"_blank\" href=https://colab.research.google.com/notebooks/data_table.ipynb>data table notebook</a>'\n",
              "          + ' to learn more about interactive tables.';\n",
              "        element.innerHTML = '';\n",
              "        dataTable['output_type'] = 'display_data';\n",
              "        await google.colab.output.renderOutput(dataTable, element);\n",
              "        const docLink = document.createElement('div');\n",
              "        docLink.innerHTML = docLinkHtml;\n",
              "        element.appendChild(docLink);\n",
              "      }\n",
              "    </script>\n",
              "  </div>\n",
              "\n",
              "\n",
              "<div id=\"df-582c23b2-add7-4a6d-9c7f-098d3775d2c7\">\n",
              "  <button class=\"colab-df-quickchart\" onclick=\"quickchart('df-582c23b2-add7-4a6d-9c7f-098d3775d2c7')\"\n",
              "            title=\"Suggest charts\"\n",
              "            style=\"display:none;\">\n",
              "\n",
              "<svg xmlns=\"http://www.w3.org/2000/svg\" height=\"24px\"viewBox=\"0 0 24 24\"\n",
              "     width=\"24px\">\n",
              "    <g>\n",
              "        <path d=\"M19 3H5c-1.1 0-2 .9-2 2v14c0 1.1.9 2 2 2h14c1.1 0 2-.9 2-2V5c0-1.1-.9-2-2-2zM9 17H7v-7h2v7zm4 0h-2V7h2v10zm4 0h-2v-4h2v4z\"/>\n",
              "    </g>\n",
              "</svg>\n",
              "  </button>\n",
              "\n",
              "<style>\n",
              "  .colab-df-quickchart {\n",
              "      --bg-color: #E8F0FE;\n",
              "      --fill-color: #1967D2;\n",
              "      --hover-bg-color: #E2EBFA;\n",
              "      --hover-fill-color: #174EA6;\n",
              "      --disabled-fill-color: #AAA;\n",
              "      --disabled-bg-color: #DDD;\n",
              "  }\n",
              "\n",
              "  [theme=dark] .colab-df-quickchart {\n",
              "      --bg-color: #3B4455;\n",
              "      --fill-color: #D2E3FC;\n",
              "      --hover-bg-color: #434B5C;\n",
              "      --hover-fill-color: #FFFFFF;\n",
              "      --disabled-bg-color: #3B4455;\n",
              "      --disabled-fill-color: #666;\n",
              "  }\n",
              "\n",
              "  .colab-df-quickchart {\n",
              "    background-color: var(--bg-color);\n",
              "    border: none;\n",
              "    border-radius: 50%;\n",
              "    cursor: pointer;\n",
              "    display: none;\n",
              "    fill: var(--fill-color);\n",
              "    height: 32px;\n",
              "    padding: 0;\n",
              "    width: 32px;\n",
              "  }\n",
              "\n",
              "  .colab-df-quickchart:hover {\n",
              "    background-color: var(--hover-bg-color);\n",
              "    box-shadow: 0 1px 2px rgba(60, 64, 67, 0.3), 0 1px 3px 1px rgba(60, 64, 67, 0.15);\n",
              "    fill: var(--button-hover-fill-color);\n",
              "  }\n",
              "\n",
              "  .colab-df-quickchart-complete:disabled,\n",
              "  .colab-df-quickchart-complete:disabled:hover {\n",
              "    background-color: var(--disabled-bg-color);\n",
              "    fill: var(--disabled-fill-color);\n",
              "    box-shadow: none;\n",
              "  }\n",
              "\n",
              "  .colab-df-spinner {\n",
              "    border: 2px solid var(--fill-color);\n",
              "    border-color: transparent;\n",
              "    border-bottom-color: var(--fill-color);\n",
              "    animation:\n",
              "      spin 1s steps(1) infinite;\n",
              "  }\n",
              "\n",
              "  @keyframes spin {\n",
              "    0% {\n",
              "      border-color: transparent;\n",
              "      border-bottom-color: var(--fill-color);\n",
              "      border-left-color: var(--fill-color);\n",
              "    }\n",
              "    20% {\n",
              "      border-color: transparent;\n",
              "      border-left-color: var(--fill-color);\n",
              "      border-top-color: var(--fill-color);\n",
              "    }\n",
              "    30% {\n",
              "      border-color: transparent;\n",
              "      border-left-color: var(--fill-color);\n",
              "      border-top-color: var(--fill-color);\n",
              "      border-right-color: var(--fill-color);\n",
              "    }\n",
              "    40% {\n",
              "      border-color: transparent;\n",
              "      border-right-color: var(--fill-color);\n",
              "      border-top-color: var(--fill-color);\n",
              "    }\n",
              "    60% {\n",
              "      border-color: transparent;\n",
              "      border-right-color: var(--fill-color);\n",
              "    }\n",
              "    80% {\n",
              "      border-color: transparent;\n",
              "      border-right-color: var(--fill-color);\n",
              "      border-bottom-color: var(--fill-color);\n",
              "    }\n",
              "    90% {\n",
              "      border-color: transparent;\n",
              "      border-bottom-color: var(--fill-color);\n",
              "    }\n",
              "  }\n",
              "</style>\n",
              "\n",
              "  <script>\n",
              "    async function quickchart(key) {\n",
              "      const quickchartButtonEl =\n",
              "        document.querySelector('#' + key + ' button');\n",
              "      quickchartButtonEl.disabled = true;  // To prevent multiple clicks.\n",
              "      quickchartButtonEl.classList.add('colab-df-spinner');\n",
              "      try {\n",
              "        const charts = await google.colab.kernel.invokeFunction(\n",
              "            'suggestCharts', [key], {});\n",
              "      } catch (error) {\n",
              "        console.error('Error during call to suggestCharts:', error);\n",
              "      }\n",
              "      quickchartButtonEl.classList.remove('colab-df-spinner');\n",
              "      quickchartButtonEl.classList.add('colab-df-quickchart-complete');\n",
              "    }\n",
              "    (() => {\n",
              "      let quickchartButtonEl =\n",
              "        document.querySelector('#df-582c23b2-add7-4a6d-9c7f-098d3775d2c7 button');\n",
              "      quickchartButtonEl.style.display =\n",
              "        google.colab.kernel.accessAllowed ? 'block' : 'none';\n",
              "    })();\n",
              "  </script>\n",
              "</div>\n",
              "\n",
              "  <div id=\"id_9c1126bc-2200-4686-b0a9-5b53aa5aeb81\">\n",
              "    <style>\n",
              "      .colab-df-generate {\n",
              "        background-color: #E8F0FE;\n",
              "        border: none;\n",
              "        border-radius: 50%;\n",
              "        cursor: pointer;\n",
              "        display: none;\n",
              "        fill: #1967D2;\n",
              "        height: 32px;\n",
              "        padding: 0 0 0 0;\n",
              "        width: 32px;\n",
              "      }\n",
              "\n",
              "      .colab-df-generate:hover {\n",
              "        background-color: #E2EBFA;\n",
              "        box-shadow: 0px 1px 2px rgba(60, 64, 67, 0.3), 0px 1px 3px 1px rgba(60, 64, 67, 0.15);\n",
              "        fill: #174EA6;\n",
              "      }\n",
              "\n",
              "      [theme=dark] .colab-df-generate {\n",
              "        background-color: #3B4455;\n",
              "        fill: #D2E3FC;\n",
              "      }\n",
              "\n",
              "      [theme=dark] .colab-df-generate:hover {\n",
              "        background-color: #434B5C;\n",
              "        box-shadow: 0px 1px 3px 1px rgba(0, 0, 0, 0.15);\n",
              "        filter: drop-shadow(0px 1px 2px rgba(0, 0, 0, 0.3));\n",
              "        fill: #FFFFFF;\n",
              "      }\n",
              "    </style>\n",
              "    <button class=\"colab-df-generate\" onclick=\"generateWithVariable('dat')\"\n",
              "            title=\"Generate code using this dataframe.\"\n",
              "            style=\"display:none;\">\n",
              "\n",
              "  <svg xmlns=\"http://www.w3.org/2000/svg\" height=\"24px\"viewBox=\"0 0 24 24\"\n",
              "       width=\"24px\">\n",
              "    <path d=\"M7,19H8.4L18.45,9,17,7.55,7,17.6ZM5,21V16.75L18.45,3.32a2,2,0,0,1,2.83,0l1.4,1.43a1.91,1.91,0,0,1,.58,1.4,1.91,1.91,0,0,1-.58,1.4L9.25,21ZM18.45,9,17,7.55Zm-12,3A5.31,5.31,0,0,0,4.9,8.1,5.31,5.31,0,0,0,1,6.5,5.31,5.31,0,0,0,4.9,4.9,5.31,5.31,0,0,0,6.5,1,5.31,5.31,0,0,0,8.1,4.9,5.31,5.31,0,0,0,12,6.5,5.46,5.46,0,0,0,6.5,12Z\"/>\n",
              "  </svg>\n",
              "    </button>\n",
              "    <script>\n",
              "      (() => {\n",
              "      const buttonEl =\n",
              "        document.querySelector('#id_9c1126bc-2200-4686-b0a9-5b53aa5aeb81 button.colab-df-generate');\n",
              "      buttonEl.style.display =\n",
              "        google.colab.kernel.accessAllowed ? 'block' : 'none';\n",
              "\n",
              "      buttonEl.onclick = () => {\n",
              "        google.colab.notebook.generateWithVariable('dat');\n",
              "      }\n",
              "      })();\n",
              "    </script>\n",
              "  </div>\n",
              "\n",
              "    </div>\n",
              "  </div>\n"
            ]
          },
          "metadata": {},
          "execution_count": 14
        }
      ]
    },
    {
      "cell_type": "markdown",
      "source": [
        "Para reducir aún más el número de palabras usaremos el proceso stemming que lo que realizará es la reducción de palabras a su raíz, por ejemplo:\n",
        "actor, actriz, actuar -> acto"
      ],
      "metadata": {
        "id": "qyBMzqC8VvT5"
      }
    },
    {
      "cell_type": "code",
      "source": [
        "#Función para stemming\n",
        "port_stem = PorterStemmer()"
      ],
      "metadata": {
        "id": "vI0afHTzbNrT"
      },
      "execution_count": null,
      "outputs": []
    },
    {
      "cell_type": "code",
      "source": [
        "#Aplicando la función de stemming en cada palabra\n",
        "def stemming(contenido):\n",
        "  stemmed_contenido = contenido.split()\n",
        "  stemmed_contenido = [port_stem.stem(word) for word in stemmed_contenido]\n",
        "  stemmed_contenido = ' '.join(stemmed_contenido)\n",
        "  return stemmed_contenido"
      ],
      "metadata": {
        "id": "UMV_VtYmbkFW"
      },
      "execution_count": null,
      "outputs": []
    },
    {
      "cell_type": "code",
      "source": [
        "#Aplicando en la columna anteriormente limpiada\n",
        "dat['limpio'] = dat['limpio'].apply(stemming)"
      ],
      "metadata": {
        "colab": {
          "base_uri": "https://localhost:8080/"
        },
        "id": "kJ2F_srfb1JR",
        "outputId": "c4bd6c2a-7b0a-498b-9d41-6f733a48f372"
      },
      "execution_count": null,
      "outputs": [
        {
          "output_type": "stream",
          "name": "stderr",
          "text": [
            "<ipython-input-17-158a8a8d9a92>:2: SettingWithCopyWarning: \n",
            "A value is trying to be set on a copy of a slice from a DataFrame.\n",
            "Try using .loc[row_indexer,col_indexer] = value instead\n",
            "\n",
            "See the caveats in the documentation: https://pandas.pydata.org/pandas-docs/stable/user_guide/indexing.html#returning-a-view-versus-a-copy\n",
            "  dat['limpio'] = dat['limpio'].apply(stemming)\n"
          ]
        }
      ]
    },
    {
      "cell_type": "code",
      "source": [
        "corpus = dat.limpio.values"
      ],
      "metadata": {
        "id": "BuQ8vffPSX4K"
      },
      "execution_count": null,
      "outputs": []
    },
    {
      "cell_type": "markdown",
      "source": [
        "El siguiente paso es convertir cada texto en una lista, se usará la paquetería nltk y la función TweetTokenizer"
      ],
      "metadata": {
        "id": "yO0LJUbtWa5e"
      }
    },
    {
      "cell_type": "code",
      "source": [
        "tknzr=TweetTokenizer()\n",
        "#impresión del primer texto como ejemplo\n",
        "tknzr.tokenize(corpus[0])"
      ],
      "metadata": {
        "colab": {
          "base_uri": "https://localhost:8080/"
        },
        "id": "eEyJRTFScrv5",
        "outputId": "4b221416-8dca-4dc7-b7d3-8e2d1b931e00"
      },
      "execution_count": null,
      "outputs": [
        {
          "output_type": "execute_result",
          "data": {
            "text/plain": [
              "['hous',\n",
              " 'dem',\n",
              " 'aid',\n",
              " 'didn',\n",
              " 't',\n",
              " 'even',\n",
              " 'see',\n",
              " 'comey',\n",
              " 's',\n",
              " 'letter',\n",
              " 'jason',\n",
              " 'chaffetz',\n",
              " 'tweet',\n",
              " 'darrel',\n",
              " 'lucu',\n",
              " 'octob',\n",
              " 'subscrib',\n",
              " 'jason',\n",
              " 'chaffetz',\n",
              " 'stump',\n",
              " 'american',\n",
              " 'fork',\n",
              " 'utah',\n",
              " 'imag',\n",
              " 'courtesi',\n",
              " 'michael',\n",
              " 'jolley',\n",
              " 'avail',\n",
              " 'creativ',\n",
              " 'common',\n",
              " 'licens',\n",
              " 'apolog',\n",
              " 'keith',\n",
              " 'olbermann',\n",
              " 'doubt',\n",
              " 'worst',\n",
              " 'person',\n",
              " 'world',\n",
              " 'week',\n",
              " 'fbi',\n",
              " 'director',\n",
              " 'jame',\n",
              " 'comey',\n",
              " 'accord',\n",
              " 'hous',\n",
              " 'democrat',\n",
              " 'aid',\n",
              " 'look',\n",
              " 'like',\n",
              " 'also',\n",
              " 'know',\n",
              " 'second',\n",
              " 'worst',\n",
              " 'person',\n",
              " 'well',\n",
              " 'turn',\n",
              " 'comey',\n",
              " 'sent',\n",
              " 'now',\n",
              " 'infam',\n",
              " 'letter',\n",
              " 'announc',\n",
              " 'fbi',\n",
              " 'look',\n",
              " 'email',\n",
              " 'may',\n",
              " 'relat',\n",
              " 'hillari',\n",
              " 'clinton',\n",
              " 's',\n",
              " 'email',\n",
              " 'server',\n",
              " 'rank',\n",
              " 'democrat',\n",
              " 'relev',\n",
              " 'committe',\n",
              " 'didn',\n",
              " 't',\n",
              " 'hear',\n",
              " 'comey',\n",
              " 'found',\n",
              " 'via',\n",
              " 'tweet',\n",
              " 'one',\n",
              " 'republican',\n",
              " 'committe',\n",
              " 'chairmen',\n",
              " 'now',\n",
              " 'know',\n",
              " 'comey',\n",
              " 'notifi',\n",
              " 'republican',\n",
              " 'chairmen',\n",
              " 'democrat',\n",
              " 'rank',\n",
              " 'member',\n",
              " 'hous',\n",
              " 'intellig',\n",
              " 'judiciari',\n",
              " 'oversight',\n",
              " 'committe',\n",
              " 'agenc',\n",
              " 'review',\n",
              " 'email',\n",
              " 'recent',\n",
              " 'discov',\n",
              " 'order',\n",
              " 'see',\n",
              " 'contain',\n",
              " 'classifi',\n",
              " 'inform',\n",
              " 'long',\n",
              " 'letter',\n",
              " 'went',\n",
              " 'oversight',\n",
              " 'committe',\n",
              " 'chairman',\n",
              " 'jason',\n",
              " 'chaffetz',\n",
              " 'set',\n",
              " 'polit',\n",
              " 'world',\n",
              " 'ablaz',\n",
              " 'tweet',\n",
              " 'fbi',\n",
              " 'dir',\n",
              " 'just',\n",
              " 'inform',\n",
              " 'fbi',\n",
              " 'learn',\n",
              " 'exist',\n",
              " 'email',\n",
              " 'appear',\n",
              " 'pertin',\n",
              " 'investig',\n",
              " 'case',\n",
              " 'reopen',\n",
              " 'jason',\n",
              " 'chaffetz',\n",
              " 'jasoninthehous',\n",
              " 'octob',\n",
              " 'cours',\n",
              " 'now',\n",
              " 'know',\n",
              " 'case',\n",
              " 'comey',\n",
              " 'actual',\n",
              " 'say',\n",
              " 'review',\n",
              " 'email',\n",
              " 'light',\n",
              " 'unrel',\n",
              " 'case',\n",
              " 'now',\n",
              " 'know',\n",
              " 'anthoni',\n",
              " 'weiner',\n",
              " 's',\n",
              " 'sext',\n",
              " 'teenag',\n",
              " 'appar',\n",
              " 'littl',\n",
              " 'thing',\n",
              " 'fact',\n",
              " 'didn',\n",
              " 't',\n",
              " 'matter',\n",
              " 'chaffetz',\n",
              " 'utah',\n",
              " 'republican',\n",
              " 'alreadi',\n",
              " 'vow',\n",
              " 'initi',\n",
              " 'raft',\n",
              " 'investig',\n",
              " 'hillari',\n",
              " 'win',\n",
              " 'least',\n",
              " 'two',\n",
              " 'year',\n",
              " 'worth',\n",
              " 'possibl',\n",
              " 'entir',\n",
              " 'term',\n",
              " 's',\n",
              " 'worth',\n",
              " 'appar',\n",
              " 'chaffetz',\n",
              " 'thought',\n",
              " 'fbi',\n",
              " 'alreadi',\n",
              " 'work',\n",
              " 'result',\n",
              " 'tweet',\n",
              " 'briefli',\n",
              " 'roil',\n",
              " 'nation',\n",
              " 'cooler',\n",
              " 'head',\n",
              " 'realiz',\n",
              " 'dud',\n",
              " 'accord',\n",
              " 'senior',\n",
              " 'hous',\n",
              " 'democrat',\n",
              " 'aid',\n",
              " 'misread',\n",
              " 'letter',\n",
              " 'may',\n",
              " 'least',\n",
              " 'chaffetz',\n",
              " 'sin',\n",
              " 'aid',\n",
              " 'told',\n",
              " 'shareblu',\n",
              " 'boss',\n",
              " 'democrat',\n",
              " 'didn',\n",
              " 't',\n",
              " 'even',\n",
              " 'know',\n",
              " 'comey',\n",
              " 's',\n",
              " 'letter',\n",
              " 'time',\n",
              " 'found',\n",
              " 'check',\n",
              " 'twitter',\n",
              " 'democrat',\n",
              " 'rank',\n",
              " 'member',\n",
              " 'relev',\n",
              " 'committe',\n",
              " 'didn',\n",
              " 't',\n",
              " 'receiv',\n",
              " 'comey',\n",
              " 's',\n",
              " 'letter',\n",
              " 'republican',\n",
              " 'chairmen',\n",
              " 'fact',\n",
              " 'democrat',\n",
              " 'rank',\n",
              " 'member',\n",
              " 'didn',\n",
              " 'receiv',\n",
              " 'chairman',\n",
              " 'oversight',\n",
              " 'govern',\n",
              " 'reform',\n",
              " 'committe',\n",
              " 'jason',\n",
              " 'chaffetz',\n",
              " 'tweet',\n",
              " 'made',\n",
              " 'public',\n",
              " 'let',\n",
              " 's',\n",
              " 'see',\n",
              " 've',\n",
              " 'got',\n",
              " 'right',\n",
              " 'fbi',\n",
              " 'director',\n",
              " 'tell',\n",
              " 'chaffetz',\n",
              " 'gop',\n",
              " 'committe',\n",
              " 'chairmen',\n",
              " 'major',\n",
              " 'develop',\n",
              " 'potenti',\n",
              " 'polit',\n",
              " 'explos',\n",
              " 'investig',\n",
              " 'neither',\n",
              " 'chaffetz',\n",
              " 'colleagu',\n",
              " 'courtesi',\n",
              " 'let',\n",
              " 'democrat',\n",
              " 'counterpart',\n",
              " 'know',\n",
              " 'instead',\n",
              " 'accord',\n",
              " 'aid',\n",
              " 'made',\n",
              " 'find',\n",
              " 'twitter',\n",
              " 'alreadi',\n",
              " 'talk',\n",
              " 'daili',\n",
              " 'ko',\n",
              " 'comey',\n",
              " 'provid',\n",
              " 'advanc',\n",
              " 'notic',\n",
              " 'letter',\n",
              " 'chaffetz',\n",
              " 'republican',\n",
              " 'give',\n",
              " 'time',\n",
              " 'turn',\n",
              " 'spin',\n",
              " 'machin',\n",
              " 'may',\n",
              " 'make',\n",
              " 'good',\n",
              " 'theater',\n",
              " 'noth',\n",
              " 'far',\n",
              " 'even',\n",
              " 'suggest',\n",
              " 'case',\n",
              " 'noth',\n",
              " 'far',\n",
              " 'suggest',\n",
              " 'comey',\n",
              " 'anyth',\n",
              " 'grossli',\n",
              " 'incompet',\n",
              " 'tone',\n",
              " 'deaf',\n",
              " 'suggest',\n",
              " 'howev',\n",
              " 'chaffetz',\n",
              " 'act',\n",
              " 'way',\n",
              " 'make',\n",
              " 'dan',\n",
              " 'burton',\n",
              " 'darrel',\n",
              " 'issa',\n",
              " 'look',\n",
              " 'like',\n",
              " 'model',\n",
              " 'respons',\n",
              " 'bipartisanship',\n",
              " 'didn',\n",
              " 't',\n",
              " 'even',\n",
              " 'decenc',\n",
              " 'notifi',\n",
              " 'rank',\n",
              " 'member',\n",
              " 'elijah',\n",
              " 'cum',\n",
              " 'someth',\n",
              " 'explos',\n",
              " 'doesn',\n",
              " 't',\n",
              " 'trampl',\n",
              " 'basic',\n",
              " 'standard',\n",
              " 'fair',\n",
              " 'don',\n",
              " 't',\n",
              " 'know',\n",
              " 'grant',\n",
              " 's',\n",
              " 'like',\n",
              " 'chaffetz',\n",
              " 'will',\n",
              " 'answer',\n",
              " 'sit',\n",
              " 'ridicul',\n",
              " 'republican',\n",
              " 'district',\n",
              " 'anchor',\n",
              " 'provo',\n",
              " 'orem',\n",
              " 'cook',\n",
              " 'partisan',\n",
              " 'vote',\n",
              " 'index',\n",
              " 'r',\n",
              " 'gave',\n",
              " 'mitt',\n",
              " 'romney',\n",
              " 'punish',\n",
              " 'percent',\n",
              " 'vote',\n",
              " 'moreov',\n",
              " 'republican',\n",
              " 'hous',\n",
              " 'leadership',\n",
              " 'given',\n",
              " 'full',\n",
              " 'support',\n",
              " 'chaffetz',\n",
              " 'plan',\n",
              " 'fish',\n",
              " 'expedit',\n",
              " 'doesn',\n",
              " 't',\n",
              " 'mean',\n",
              " 'can',\n",
              " 't',\n",
              " 'turn',\n",
              " 'hot',\n",
              " 'light',\n",
              " 'textbook',\n",
              " 'exampl',\n",
              " 'hous',\n",
              " 'becom',\n",
              " 'republican',\n",
              " 'control',\n",
              " 'also',\n",
              " 'second',\n",
              " 'worst',\n",
              " 'person',\n",
              " 'world',\n",
              " 'darrel',\n",
              " 'lucu',\n",
              " 'darrel',\n",
              " 'someth',\n",
              " 'graduat',\n",
              " 'univers',\n",
              " 'north',\n",
              " 'carolina',\n",
              " 'consid',\n",
              " 'journalist',\n",
              " 'old',\n",
              " 'school',\n",
              " 'attempt',\n",
              " 'turn',\n",
              " 'member',\n",
              " 'religi',\n",
              " 'right',\n",
              " 'colleg',\n",
              " 'succeed',\n",
              " 'turn',\n",
              " 'religi',\n",
              " 'right',\n",
              " 's',\n",
              " 'worst',\n",
              " 'nightmar',\n",
              " 'charismat',\n",
              " 'christian',\n",
              " 'unapologet',\n",
              " 'liber',\n",
              " 'desir',\n",
              " 'stand',\n",
              " 'scare',\n",
              " 'silenc',\n",
              " 'increas',\n",
              " 'surviv',\n",
              " 'abus',\n",
              " 'three',\n",
              " 'year',\n",
              " 'marriag',\n",
              " 'may',\n",
              " 'know',\n",
              " 'daili',\n",
              " 'ko',\n",
              " 'christian',\n",
              " 'dem',\n",
              " 'nc',\n",
              " 'follow',\n",
              " 'twitter',\n",
              " 'darrelllucu',\n",
              " 'connect',\n",
              " 'facebook',\n",
              " 'click',\n",
              " 'buy',\n",
              " 'darrel',\n",
              " 'mello',\n",
              " 'yello',\n",
              " 'connect']"
            ]
          },
          "metadata": {},
          "execution_count": 19
        }
      ]
    },
    {
      "cell_type": "markdown",
      "source": [
        "Se usa un ciclo for para realizarlo en cada texto"
      ],
      "metadata": {
        "id": "T9WwdP4VWv_6"
      }
    },
    {
      "cell_type": "code",
      "source": [
        "corpus_tk=[]\n",
        "for i in corpus:\n",
        "  corpus_tk.append(tknzr.tokenize(i))"
      ],
      "metadata": {
        "id": "ps1BA1GYSiOz"
      },
      "execution_count": null,
      "outputs": []
    },
    {
      "cell_type": "markdown",
      "source": [
        "El siguiente paso es convertir cada palabra a una representación vectorial esto se hace por un método llamado Word2Vec en la cual a una palabra se le da un vector y cada palabra se puede relacionar a otra similar por medio de suma o resta vectorial."
      ],
      "metadata": {
        "id": "ZHHhwMhGW2wU"
      }
    },
    {
      "cell_type": "code",
      "source": [
        "#Se da la entrada de los textos a representar, en min_count es la cantidad necesaria a repetirse una palabra para tomarse en cuenta\n",
        "#En window es una ventana de contexto\n",
        "#size representa el tamaño del vector de cada palabra\n",
        "model = Word2Vec(corpus_tk, min_count=50, window = 5, vector_size=100)"
      ],
      "metadata": {
        "id": "kM9aebcITCpx"
      },
      "execution_count": null,
      "outputs": []
    },
    {
      "cell_type": "code",
      "source": [
        "X = model.wv.vectors"
      ],
      "metadata": {
        "id": "iIg_6b4jUlaV"
      },
      "execution_count": null,
      "outputs": []
    },
    {
      "cell_type": "code",
      "source": [
        "X.shape"
      ],
      "metadata": {
        "colab": {
          "base_uri": "https://localhost:8080/"
        },
        "id": "W1Cqxi7GV4Rt",
        "outputId": "8909d5b2-1205-4399-8c5e-9a74a92e1aa0"
      },
      "execution_count": null,
      "outputs": [
        {
          "output_type": "execute_result",
          "data": {
            "text/plain": [
              "(10246, 100)"
            ]
          },
          "metadata": {},
          "execution_count": 23
        }
      ]
    },
    {
      "cell_type": "markdown",
      "source": [
        "Vamos a reducir la dimensionalidad del modelo de Word2Vec ya que al tener más componentes va a ser más complejo al aplicarlo en la red neuronal"
      ],
      "metadata": {
        "id": "Gpg-qfFAdgxE"
      }
    },
    {
      "cell_type": "markdown",
      "source": [
        "Usaremos PCA para reducir los componentes de los vectores, en el gráfico se presenta el porcentaje de varianza que se perderá en función al número de componentes principales"
      ],
      "metadata": {
        "id": "Fr2gB4wbd6nW"
      }
    },
    {
      "cell_type": "code",
      "source": [
        "pca = PCA(n_components=50, svd_solver='full')\n",
        "pca.fit(X)\n",
        "plt.plot((pca.explained_variance_ratio_).cumsum())\n",
        "plt.title('Razón de varianza')\n",
        "plt.xlabel('Componentes PCA')"
      ],
      "metadata": {
        "colab": {
          "base_uri": "https://localhost:8080/",
          "height": 489
        },
        "id": "nq_AIedSZhBC",
        "outputId": "bedd30b1-d009-4dec-f2a7-70787944caee"
      },
      "execution_count": null,
      "outputs": [
        {
          "output_type": "execute_result",
          "data": {
            "text/plain": [
              "Text(0.5, 0, 'Componentes PCA')"
            ]
          },
          "metadata": {},
          "execution_count": 24
        },
        {
          "output_type": "display_data",
          "data": {
            "text/plain": [
              "<Figure size 640x480 with 1 Axes>"
            ],
            "image/png": "[encoded data removed]"
          },
          "metadata": {}
        }
      ]
    },
    {
      "cell_type": "markdown",
      "source": [
        "Se puede observar que con 30 componentes se queda con el 70% de la varianza que parece ser un buen punto para no tener mucha complejidad"
      ],
      "metadata": {
        "id": "tc1kvNQveUKt"
      }
    },
    {
      "cell_type": "code",
      "source": [
        "pca = PCA(n_components=30, svd_solver='full')\n",
        "pca.fit(X)"
      ],
      "metadata": {
        "colab": {
          "base_uri": "https://localhost:8080/",
          "height": 75
        },
        "id": "72iTFfgbdQzL",
        "outputId": "c8573502-83af-4f7e-8260-b578fc87133c"
      },
      "execution_count": null,
      "outputs": [
        {
          "output_type": "execute_result",
          "data": {
            "text/plain": [
              "PCA(n_components=30, svd_solver='full')"
            ],
            "text/html": [
              "<style>#sk-container-id-1 {color: black;background-color: white;}#sk-container-id-1 pre{padding: 0;}#sk-container-id-1 div.sk-toggleable {background-color: white;}#sk-container-id-1 label.sk-toggleable__label {cursor: pointer;display: block;width: 100%;margin-bottom: 0;padding: 0.3em;box-sizing: border-box;text-align: center;}#sk-container-id-1 label.sk-toggleable__label-arrow:before {content: \"▸\";float: left;margin-right: 0.25em;color: #696969;}#sk-container-id-1 label.sk-toggleable__label-arrow:hover:before {color: black;}#sk-container-id-1 div.sk-estimator:hover label.sk-toggleable__label-arrow:before {color: black;}#sk-container-id-1 div.sk-toggleable__content {max-height: 0;max-width: 0;overflow: hidden;text-align: left;background-color: #f0f8ff;}#sk-container-id-1 div.sk-toggleable__content pre {margin: 0.2em;color: black;border-radius: 0.25em;background-color: #f0f8ff;}#sk-container-id-1 input.sk-toggleable__control:checked~div.sk-toggleable__content {max-height: 200px;max-width: 100%;overflow: auto;}#sk-container-id-1 input.sk-toggleable__control:checked~label.sk-toggleable__label-arrow:before {content: \"▾\";}#sk-container-id-1 div.sk-estimator input.sk-toggleable__control:checked~label.sk-toggleable__label {background-color: #d4ebff;}#sk-container-id-1 div.sk-label input.sk-toggleable__control:checked~label.sk-toggleable__label {background-color: #d4ebff;}#sk-container-id-1 input.sk-hidden--visually {border: 0;clip: rect(1px 1px 1px 1px);clip: rect(1px, 1px, 1px, 1px);height: 1px;margin: -1px;overflow: hidden;padding: 0;position: absolute;width: 1px;}#sk-container-id-1 div.sk-estimator {font-family: monospace;background-color: #f0f8ff;border: 1px dotted black;border-radius: 0.25em;box-sizing: border-box;margin-bottom: 0.5em;}#sk-container-id-1 div.sk-estimator:hover {background-color: #d4ebff;}#sk-container-id-1 div.sk-parallel-item::after {content: \"\";width: 100%;border-bottom: 1px solid gray;flex-grow: 1;}#sk-container-id-1 div.sk-label:hover label.sk-toggleable__label {background-color: #d4ebff;}#sk-container-id-1 div.sk-serial::before {content: \"\";position: absolute;border-left: 1px solid gray;box-sizing: border-box;top: 0;bottom: 0;left: 50%;z-index: 0;}#sk-container-id-1 div.sk-serial {display: flex;flex-direction: column;align-items: center;background-color: white;padding-right: 0.2em;padding-left: 0.2em;position: relative;}#sk-container-id-1 div.sk-item {position: relative;z-index: 1;}#sk-container-id-1 div.sk-parallel {display: flex;align-items: stretch;justify-content: center;background-color: white;position: relative;}#sk-container-id-1 div.sk-item::before, #sk-container-id-1 div.sk-parallel-item::before {content: \"\";position: absolute;border-left: 1px solid gray;box-sizing: border-box;top: 0;bottom: 0;left: 50%;z-index: -1;}#sk-container-id-1 div.sk-parallel-item {display: flex;flex-direction: column;z-index: 1;position: relative;background-color: white;}#sk-container-id-1 div.sk-parallel-item:first-child::after {align-self: flex-end;width: 50%;}#sk-container-id-1 div.sk-parallel-item:last-child::after {align-self: flex-start;width: 50%;}#sk-container-id-1 div.sk-parallel-item:only-child::after {width: 0;}#sk-container-id-1 div.sk-dashed-wrapped {border: 1px dashed gray;margin: 0 0.4em 0.5em 0.4em;box-sizing: border-box;padding-bottom: 0.4em;background-color: white;}#sk-container-id-1 div.sk-label label {font-family: monospace;font-weight: bold;display: inline-block;line-height: 1.2em;}#sk-container-id-1 div.sk-label-container {text-align: center;}#sk-container-id-1 div.sk-container {/* jupyter's `normalize.less` sets `[hidden] { display: none; }` but bootstrap.min.css set `[hidden] { display: none !important; }` so we also need the `!important` here to be able to override the default hidden behavior on the sphinx rendered scikit-learn.org. See: https://github.com/scikit-learn/scikit-learn/issues/21755 */display: inline-block !important;position: relative;}#sk-container-id-1 div.sk-text-repr-fallback {display: none;}</style><div id=\"sk-container-id-1\" class=\"sk-top-container\"><div class=\"sk-text-repr-fallback\"><pre>PCA(n_components=30, svd_solver=&#x27;full&#x27;)</pre><b>In a Jupyter environment, please rerun this cell to show the HTML representation or trust the notebook. <br />On GitHub, the HTML representation is unable to render, please try loading this page with nbviewer.org.</b></div><div class=\"sk-container\" hidden><div class=\"sk-item\"><div class=\"sk-estimator sk-toggleable\"><input class=\"sk-toggleable__control sk-hidden--visually\" id=\"sk-estimator-id-1\" type=\"checkbox\" checked><label for=\"sk-estimator-id-1\" class=\"sk-toggleable__label sk-toggleable__label-arrow\">PCA</label><div class=\"sk-toggleable__content\"><pre>PCA(n_components=30, svd_solver=&#x27;full&#x27;)</pre></div></div></div></div></div>"
            ]
          },
          "metadata": {},
          "execution_count": 25
        }
      ]
    },
    {
      "cell_type": "markdown",
      "source": [
        "Con lo que obtenemos una representación vectorial de cada palabra de 30 componentes"
      ],
      "metadata": {
        "id": "j1xgvAkDfq7i"
      }
    },
    {
      "cell_type": "code",
      "source": [
        "#En este proseso se le asignan valores a las palabras en función de las veces que se repite una palabra y se le da un mínimo de repeticiones\n",
        "vectorizer = TfidfVectorizer(min_df=30)\n",
        "TF_IDF=vectorizer.fit_transform(corpus)"
      ],
      "metadata": {
        "id": "WgkwkUoPd7J2"
      },
      "execution_count": null,
      "outputs": []
    },
    {
      "cell_type": "code",
      "source": [
        "#Aquí se muestra el número de noticias y el número de palabras que encontró\n",
        "TF_IDF.toarray().shape"
      ],
      "metadata": {
        "colab": {
          "base_uri": "https://localhost:8080/"
        },
        "id": "Ax_8EsRyeQbg",
        "outputId": "f280a0dd-d67c-48ae-9a85-03b43e2a33fc"
      },
      "execution_count": null,
      "outputs": [
        {
          "output_type": "execute_result",
          "data": {
            "text/plain": [
              "(18285, 10927)"
            ]
          },
          "metadata": {},
          "execution_count": 27
        }
      ]
    },
    {
      "cell_type": "markdown",
      "source": [
        "Se guardará la posición de cada palabra"
      ],
      "metadata": {
        "id": "bRHsiBguh0LE"
      }
    },
    {
      "cell_type": "code",
      "source": [
        "#En este se guarda la posición de cada palabra de los textos\n",
        "tf_idf=vectorizer.vocabulary_"
      ],
      "metadata": {
        "id": "SchPba6teanR"
      },
      "execution_count": null,
      "outputs": []
    },
    {
      "cell_type": "code",
      "source": [
        "#La posición en el array TF_IDF\n",
        "tf_idf['usa']"
      ],
      "metadata": {
        "colab": {
          "base_uri": "https://localhost:8080/"
        },
        "id": "Suyh-mvreiX1",
        "outputId": "91a4080b-3c3b-4c53-d27f-de3b6c830565"
      },
      "execution_count": null,
      "outputs": [
        {
          "output_type": "execute_result",
          "data": {
            "text/plain": [
              "10325"
            ]
          },
          "metadata": {},
          "execution_count": 29
        }
      ]
    },
    {
      "cell_type": "code",
      "source": [
        "#El valor del tfidf de la palabra\n",
        "TF_IDF[0, tf_idf['usa']]"
      ],
      "metadata": {
        "colab": {
          "base_uri": "https://localhost:8080/"
        },
        "id": "8eOwwHwce2PF",
        "outputId": "00017fa2-89a2-4120-afcd-4ffec855e77c"
      },
      "execution_count": null,
      "outputs": [
        {
          "output_type": "execute_result",
          "data": {
            "text/plain": [
              "0.0"
            ]
          },
          "metadata": {},
          "execution_count": 30
        }
      ]
    },
    {
      "cell_type": "markdown",
      "source": [
        "Para convertir un texto en su representación numérica lo que haremos será que de la representación de cada palabra en nuestro modelo word2vec se multiplicará por el TF_IDF respectivo y se calculará la media del texto tomando en cuenta los vectores calculados de la forma anteriormente descrita para cada palabra del texto y el número de palabras que se encuentra en el texto"
      ],
      "metadata": {
        "id": "ae0kiVv0hHkh"
      }
    },
    {
      "cell_type": "markdown",
      "source": [
        "Se creará un array de la representación numérica de cada noticia"
      ],
      "metadata": {
        "id": "cdqofS3-i-4K"
      }
    },
    {
      "cell_type": "code",
      "source": [
        "#Aquí se van a guardar los valores\n",
        "x=np.zeros((dat.shape[0],30))\n",
        "for i,corp in enumerate(corpus):\n",
        "  vect = np.zeros(100)\n",
        "  for num,word in enumerate(corp.split(' ')):\n",
        "    try:\n",
        "      #Se multiplica el vector que representa la paabra según el modelo de Word2Vec por el valor de TFIDF que depende de la frecuencia de una palabra en el texto\n",
        "      vect+=model.wv[word]*TF_IDF[i,tf_idf[word]]\n",
        "    except:\n",
        "        pass\n",
        "  if num!=0:\n",
        "    #Se divide por el número de palabras del texto\n",
        "     vect=vect/num\n",
        "  else:\n",
        "      vect=vect*0\n",
        "  #Aquí se consigue el vector que representa al texto i\n",
        "  vect=vect.reshape(1,100)\n",
        "  #Con el PCA se cambia la cantdad de componentes de 100 a 30\n",
        "  vect_pca=pca.transform(vect)\n",
        "  x[i,:] = vect_pca"
      ],
      "metadata": {
        "id": "IKiuPYsqfI2_"
      },
      "execution_count": null,
      "outputs": []
    },
    {
      "cell_type": "code",
      "source": [
        "x"
      ],
      "metadata": {
        "colab": {
          "base_uri": "https://localhost:8080/"
        },
        "id": "XEztqcZjhFP4",
        "outputId": "17792e46-499b-43c5-ec83-b12ca7aa589f"
      },
      "execution_count": null,
      "outputs": [
        {
          "output_type": "execute_result",
          "data": {
            "text/plain": [
              "array([[ 0.40513673,  0.40416807, -0.18137174, ...,  0.03142311,\n",
              "        -0.03091989,  0.02663461],\n",
              "       [ 0.41449859,  0.24998049, -0.19932693, ...,  0.03290545,\n",
              "         0.0169173 ,  0.00441524],\n",
              "       [ 0.49177018,  0.25371063, -0.09904261, ...,  0.01783185,\n",
              "         0.0045773 , -0.00606375],\n",
              "       ...,\n",
              "       [ 0.29577095,  0.16843632,  0.02070618, ...,  0.04796151,\n",
              "        -0.02343196, -0.00077433],\n",
              "       [ 0.65999888,  0.29902923,  0.09904425, ..., -0.00327342,\n",
              "         0.0170306 , -0.01985328],\n",
              "       [ 0.37746244,  0.23850459, -0.07969333, ...,  0.02507583,\n",
              "        -0.00411057, -0.00333867]])"
            ]
          },
          "metadata": {},
          "execution_count": 32
        }
      ]
    },
    {
      "cell_type": "code",
      "source": [
        "#El label del dataframe nos muestra si la noticia es verdadera o falsa\n",
        "Y = dat['label'].values"
      ],
      "metadata": {
        "id": "QFEcC5C9jka7"
      },
      "execution_count": null,
      "outputs": []
    },
    {
      "cell_type": "code",
      "source": [
        "Y.shape"
      ],
      "metadata": {
        "colab": {
          "base_uri": "https://localhost:8080/"
        },
        "id": "c6dKun7ahxBY",
        "outputId": "cec40234-3a29-472a-bcbd-77f2a86a9b1d"
      },
      "execution_count": null,
      "outputs": [
        {
          "output_type": "execute_result",
          "data": {
            "text/plain": [
              "(18285,)"
            ]
          },
          "metadata": {},
          "execution_count": 34
        }
      ]
    },
    {
      "cell_type": "code",
      "source": [
        "#Se divide en los datos de pruebas y entrenamiento\n",
        "x_train, x_test, y_train, y_test = train_test_split(x, Y, test_size = 0.2, stratify=Y, random_state=2)"
      ],
      "metadata": {
        "id": "pt6jXHQchmLL"
      },
      "execution_count": null,
      "outputs": []
    },
    {
      "cell_type": "code",
      "source": [
        "x_train"
      ],
      "metadata": {
        "colab": {
          "base_uri": "https://localhost:8080/"
        },
        "id": "dMUuhnh2rBYD",
        "outputId": "3c605ba5-af51-43f7-ed13-a17296717661"
      },
      "execution_count": null,
      "outputs": [
        {
          "output_type": "execute_result",
          "data": {
            "text/plain": [
              "array([[ 0.39774549,  0.12787355, -0.07747742, ...,  0.01735107,\n",
              "         0.01292109, -0.00322702],\n",
              "       [ 0.35725274,  0.21109224, -0.045126  , ...,  0.01944357,\n",
              "        -0.02393516, -0.00054547],\n",
              "       [ 0.30738466,  0.39239176, -0.17006979, ...,  0.05958711,\n",
              "        -0.03309405,  0.13029844],\n",
              "       ...,\n",
              "       [ 0.2728069 ,  0.18894198, -0.07288731, ...,  0.05720049,\n",
              "         0.11750343, -0.0527607 ],\n",
              "       [ 0.37795497,  0.18810449, -0.05698517, ...,  0.01590746,\n",
              "         0.00067238,  0.01132246],\n",
              "       [ 0.27298127,  0.16458467, -0.10044675, ...,  0.02170281,\n",
              "         0.00754993, -0.01649983]])"
            ]
          },
          "metadata": {},
          "execution_count": 36
        }
      ]
    },
    {
      "cell_type": "code",
      "source": [
        "x_test"
      ],
      "metadata": {
        "colab": {
          "base_uri": "https://localhost:8080/"
        },
        "id": "KZKY6QpB1Myl",
        "outputId": "fb88a9c5-3b4a-4c4f-ad08-91150777d081"
      },
      "execution_count": null,
      "outputs": [
        {
          "output_type": "execute_result",
          "data": {
            "text/plain": [
              "array([[ 0.73297836,  0.21262173, -0.15444583, ...,  0.01076123,\n",
              "        -0.06044751,  0.00352902],\n",
              "       [ 0.75159456,  0.46684784, -0.04383242, ..., -0.01647684,\n",
              "        -0.02361039, -0.0155293 ],\n",
              "       [ 0.29904917,  0.40611262, -0.00481104, ...,  0.15978707,\n",
              "         0.06896982,  0.0930052 ],\n",
              "       ...,\n",
              "       [ 0.56904919,  0.51377832, -0.10145221, ...,  0.05520136,\n",
              "         0.03911078, -0.01253663],\n",
              "       [ 0.38633105,  0.51891738, -0.13935941, ...,  0.0272995 ,\n",
              "         0.00237363,  0.00733414],\n",
              "       [ 0.64364788,  0.39560972, -0.11078325, ...,  0.05231236,\n",
              "         0.05081054,  0.05342014]])"
            ]
          },
          "metadata": {},
          "execution_count": 37
        }
      ]
    },
    {
      "cell_type": "markdown",
      "source": [
        "Normalización de datos"
      ],
      "metadata": {
        "id": "-MRJFJsMiYtN"
      }
    },
    {
      "cell_type": "code",
      "source": [
        "scaler = StandardScaler()\n",
        "scaler.fit(x_train)\n",
        "x_train = scaler.transform(x_train)\n",
        "x_test = scaler.transform(x_test)"
      ],
      "metadata": {
        "id": "Hoxe8oTIhcPk"
      },
      "execution_count": null,
      "outputs": []
    },
    {
      "cell_type": "code",
      "source": [
        "x_test"
      ],
      "metadata": {
        "colab": {
          "base_uri": "https://localhost:8080/"
        },
        "id": "4jqjXGXoqinF",
        "outputId": "e54c8918-2db9-426c-cc2c-b2402b014d0b"
      },
      "execution_count": null,
      "outputs": [
        {
          "output_type": "execute_result",
          "data": {
            "text/plain": [
              "array([[ 1.66088294, -0.44987042, -0.3749134 , ..., -0.15244391,\n",
              "        -0.79786836,  0.03210529],\n",
              "       [ 1.7591997 ,  1.27566496,  0.49179855, ..., -0.53944796,\n",
              "        -0.30894698, -0.30849236],\n",
              "       [-0.63080436,  0.86343047,  0.79755077, ...,  1.96494527,\n",
              "         0.91982567,  1.63116468],\n",
              "       ...,\n",
              "       [ 0.79513252,  1.59420112,  0.04031839, ...,  0.47897037,\n",
              "         0.52352091, -0.25500942],\n",
              "       [-0.16984717,  1.62908201, -0.25670369, ...,  0.08253514,\n",
              "         0.03592641,  0.10010797],\n",
              "       [ 1.18910661,  0.79214308, -0.03279504, ...,  0.43792288,\n",
              "         0.67880618,  0.92372661]])"
            ]
          },
          "metadata": {},
          "execution_count": 39
        }
      ]
    },
    {
      "cell_type": "code",
      "source": [
        "print(Y)"
      ],
      "metadata": {
        "colab": {
          "base_uri": "https://localhost:8080/"
        },
        "id": "Mkj0plrejZEK",
        "outputId": "60757d47-33ad-4b2f-c31c-3cf39b84604b"
      },
      "execution_count": null,
      "outputs": [
        {
          "output_type": "stream",
          "name": "stdout",
          "text": [
            "[1 0 1 ... 0 1 1]\n"
          ]
        }
      ]
    },
    {
      "cell_type": "markdown",
      "source": [
        "# Modelos de Machine learning"
      ],
      "metadata": {
        "id": "tQlaUEXmRkZV"
      }
    },
    {
      "cell_type": "markdown",
      "source": [
        "El modelo número uno será propuesto por mí para ver el posible entrenamiento y salida de la red neuronal según los datos de entrada. Dependiendo de los resultados cambieré los hiperparámetros"
      ],
      "metadata": {
        "id": "2t2XMsS9SNG4"
      }
    },
    {
      "cell_type": "markdown",
      "source": [
        "#Modelo 1 (3 capas ocultas de 200 neuronas y una capa de salida de una neurona)"
      ],
      "metadata": {
        "id": "CNH40BvvyMFa"
      }
    },
    {
      "cell_type": "code",
      "source": [
        "tf.random.set_seed(1234)\n",
        "model1 = Sequential([\n",
        "  tf.keras.Input(shape=(x_train.shape[1])),\n",
        "  Dense(200, activation='relu'),\n",
        "  Dense(200, activation='relu'),\n",
        "  Dense(200, activation='relu'),\n",
        "  Dense(1,activation='sigmoid')\n",
        "])"
      ],
      "metadata": {
        "id": "ABV760UwT0G8"
      },
      "execution_count": null,
      "outputs": []
    },
    {
      "cell_type": "code",
      "source": [
        "model1.compile(optimizer='sgd', loss = tf.keras.losses.BinaryCrossentropy(), metrics=['accuracy'])"
      ],
      "metadata": {
        "id": "SR6p6wPgqsCC"
      },
      "execution_count": null,
      "outputs": []
    },
    {
      "cell_type": "code",
      "source": [
        "historial = model1.fit(x_train, y_train, epochs = 60)"
      ],
      "metadata": {
        "colab": {
          "base_uri": "https://localhost:8080/"
        },
        "id": "BkZ5cBULq4an",
        "outputId": "17a4549c-2f55-441a-da4b-9bcb07ee7c73"
      },
      "execution_count": null,
      "outputs": [
        {
          "output_type": "stream",
          "name": "stdout",
          "text": [
            "Epoch 1/60\n",
            "458/458 [==============================] - 2s 3ms/step - loss: 0.6049 - accuracy: 0.7073\n",
            "Epoch 2/60\n",
            "458/458 [==============================] - 2s 3ms/step - loss: 0.4690 - accuracy: 0.7983\n",
            "Epoch 3/60\n",
            "458/458 [==============================] - 3s 6ms/step - loss: 0.4156 - accuracy: 0.8211\n",
            "Epoch 4/60\n",
            "458/458 [==============================] - 3s 6ms/step - loss: 0.3919 - accuracy: 0.8316\n",
            "Epoch 5/60\n",
            "458/458 [==============================] - 2s 5ms/step - loss: 0.3753 - accuracy: 0.8412\n",
            "Epoch 6/60\n",
            "458/458 [==============================] - 2s 4ms/step - loss: 0.3630 - accuracy: 0.8464\n",
            "Epoch 7/60\n",
            "458/458 [==============================] - 2s 3ms/step - loss: 0.3532 - accuracy: 0.8521\n",
            "Epoch 8/60\n",
            "458/458 [==============================] - 1s 3ms/step - loss: 0.3441 - accuracy: 0.8556\n",
            "Epoch 9/60\n",
            "458/458 [==============================] - 2s 3ms/step - loss: 0.3360 - accuracy: 0.8580\n",
            "Epoch 10/60\n",
            "458/458 [==============================] - 2s 3ms/step - loss: 0.3285 - accuracy: 0.8623\n",
            "Epoch 11/60\n",
            "458/458 [==============================] - 2s 4ms/step - loss: 0.3219 - accuracy: 0.8658\n",
            "Epoch 12/60\n",
            "458/458 [==============================] - 2s 5ms/step - loss: 0.3156 - accuracy: 0.8676\n",
            "Epoch 13/60\n",
            "458/458 [==============================] - 2s 5ms/step - loss: 0.3098 - accuracy: 0.8708\n",
            "Epoch 14/60\n",
            "458/458 [==============================] - 2s 4ms/step - loss: 0.3049 - accuracy: 0.8734\n",
            "Epoch 15/60\n",
            "458/458 [==============================] - 1s 3ms/step - loss: 0.2997 - accuracy: 0.8765\n",
            "Epoch 16/60\n",
            "458/458 [==============================] - 2s 3ms/step - loss: 0.2947 - accuracy: 0.8803\n",
            "Epoch 17/60\n",
            "458/458 [==============================] - 1s 3ms/step - loss: 0.2896 - accuracy: 0.8807\n",
            "Epoch 18/60\n",
            "458/458 [==============================] - 2s 3ms/step - loss: 0.2853 - accuracy: 0.8818\n",
            "Epoch 19/60\n",
            "458/458 [==============================] - 2s 4ms/step - loss: 0.2811 - accuracy: 0.8830\n",
            "Epoch 20/60\n",
            "458/458 [==============================] - 2s 3ms/step - loss: 0.2764 - accuracy: 0.8861\n",
            "Epoch 21/60\n",
            "458/458 [==============================] - 3s 6ms/step - loss: 0.2727 - accuracy: 0.8865\n",
            "Epoch 22/60\n",
            "458/458 [==============================] - 2s 5ms/step - loss: 0.2690 - accuracy: 0.8885\n",
            "Epoch 23/60\n",
            "458/458 [==============================] - 2s 4ms/step - loss: 0.2647 - accuracy: 0.8903\n",
            "Epoch 24/60\n",
            "458/458 [==============================] - 2s 3ms/step - loss: 0.2608 - accuracy: 0.8919\n",
            "Epoch 25/60\n",
            "458/458 [==============================] - 2s 4ms/step - loss: 0.2568 - accuracy: 0.8942\n",
            "Epoch 26/60\n",
            "458/458 [==============================] - 2s 3ms/step - loss: 0.2541 - accuracy: 0.8957\n",
            "Epoch 27/60\n",
            "458/458 [==============================] - 1s 3ms/step - loss: 0.2501 - accuracy: 0.8964\n",
            "Epoch 28/60\n",
            "458/458 [==============================] - 2s 3ms/step - loss: 0.2458 - accuracy: 0.9005\n",
            "Epoch 29/60\n",
            "458/458 [==============================] - 2s 4ms/step - loss: 0.2426 - accuracy: 0.8994\n",
            "Epoch 30/60\n",
            "458/458 [==============================] - 3s 6ms/step - loss: 0.2391 - accuracy: 0.9027\n",
            "Epoch 31/60\n",
            "458/458 [==============================] - 2s 5ms/step - loss: 0.2352 - accuracy: 0.9042\n",
            "Epoch 32/60\n",
            "458/458 [==============================] - 2s 4ms/step - loss: 0.2323 - accuracy: 0.9048\n",
            "Epoch 33/60\n",
            "458/458 [==============================] - 1s 3ms/step - loss: 0.2288 - accuracy: 0.9057\n",
            "Epoch 34/60\n",
            "458/458 [==============================] - 2s 3ms/step - loss: 0.2259 - accuracy: 0.9099\n",
            "Epoch 35/60\n",
            "458/458 [==============================] - 1s 3ms/step - loss: 0.2206 - accuracy: 0.9107\n",
            "Epoch 36/60\n",
            "458/458 [==============================] - 2s 4ms/step - loss: 0.2184 - accuracy: 0.9131\n",
            "Epoch 37/60\n",
            "458/458 [==============================] - 2s 4ms/step - loss: 0.2150 - accuracy: 0.9115\n",
            "Epoch 38/60\n",
            "458/458 [==============================] - 2s 5ms/step - loss: 0.2105 - accuracy: 0.9154\n",
            "Epoch 39/60\n",
            "458/458 [==============================] - 2s 5ms/step - loss: 0.2082 - accuracy: 0.9135\n",
            "Epoch 40/60\n",
            "458/458 [==============================] - 3s 5ms/step - loss: 0.2045 - accuracy: 0.9169\n",
            "Epoch 41/60\n",
            "458/458 [==============================] - 2s 3ms/step - loss: 0.2039 - accuracy: 0.9169\n",
            "Epoch 42/60\n",
            "458/458 [==============================] - 2s 4ms/step - loss: 0.1974 - accuracy: 0.9211\n",
            "Epoch 43/60\n",
            "458/458 [==============================] - 2s 3ms/step - loss: 0.1953 - accuracy: 0.9219\n",
            "Epoch 44/60\n",
            "458/458 [==============================] - 2s 3ms/step - loss: 0.1920 - accuracy: 0.9250\n",
            "Epoch 45/60\n",
            "458/458 [==============================] - 1s 3ms/step - loss: 0.1894 - accuracy: 0.9232\n",
            "Epoch 46/60\n",
            "458/458 [==============================] - 2s 4ms/step - loss: 0.1848 - accuracy: 0.9266\n",
            "Epoch 47/60\n",
            "458/458 [==============================] - 2s 4ms/step - loss: 0.1838 - accuracy: 0.9275\n",
            "Epoch 48/60\n",
            "458/458 [==============================] - 2s 5ms/step - loss: 0.1796 - accuracy: 0.9301\n",
            "Epoch 49/60\n",
            "458/458 [==============================] - 2s 5ms/step - loss: 0.1763 - accuracy: 0.9298\n",
            "Epoch 50/60\n",
            "458/458 [==============================] - 2s 4ms/step - loss: 0.1747 - accuracy: 0.9311\n",
            "Epoch 51/60\n",
            "458/458 [==============================] - 2s 3ms/step - loss: 0.1718 - accuracy: 0.9334\n",
            "Epoch 52/60\n",
            "458/458 [==============================] - 1s 3ms/step - loss: 0.1669 - accuracy: 0.9344\n",
            "Epoch 53/60\n",
            "458/458 [==============================] - 1s 3ms/step - loss: 0.1630 - accuracy: 0.9364\n",
            "Epoch 54/60\n",
            "458/458 [==============================] - 2s 4ms/step - loss: 0.1617 - accuracy: 0.9363\n",
            "Epoch 55/60\n",
            "458/458 [==============================] - 2s 3ms/step - loss: 0.1596 - accuracy: 0.9378\n",
            "Epoch 56/60\n",
            "458/458 [==============================] - 1s 3ms/step - loss: 0.1567 - accuracy: 0.9404\n",
            "Epoch 57/60\n",
            "458/458 [==============================] - 2s 5ms/step - loss: 0.1527 - accuracy: 0.9416\n",
            "Epoch 58/60\n",
            "458/458 [==============================] - 2s 5ms/step - loss: 0.1503 - accuracy: 0.9410\n",
            "Epoch 59/60\n",
            "458/458 [==============================] - 2s 5ms/step - loss: 0.1480 - accuracy: 0.9441\n",
            "Epoch 60/60\n",
            "458/458 [==============================] - 1s 3ms/step - loss: 0.1449 - accuracy: 0.9431\n"
          ]
        }
      ]
    },
    {
      "cell_type": "code",
      "source": [
        "cost, ac = model1.evaluate(x_test, y_test)\n",
        "\n",
        "print('Cost: {}, Accuracy: {}'.format(cost, ac))"
      ],
      "metadata": {
        "colab": {
          "base_uri": "https://localhost:8080/"
        },
        "id": "39TL52etI_PN",
        "outputId": "eeeee758-e710-43b9-cd77-3f2214658e72"
      },
      "execution_count": null,
      "outputs": [
        {
          "output_type": "stream",
          "name": "stdout",
          "text": [
            "115/115 [==============================] - 1s 3ms/step - loss: 0.3891 - accuracy: 0.8611\n",
            "Cost: 0.38907888531684875, Accuracy: 0.8610883355140686\n"
          ]
        }
      ]
    },
    {
      "cell_type": "code",
      "source": [
        "plt.plot(historial.history['loss'], color = 'black')\n",
        "plt.xlabel('Epoch')\n",
        "plt.ylabel('Loss')\n",
        "plt.show()"
      ],
      "metadata": {
        "id": "GTDbypWeO8x4",
        "colab": {
          "base_uri": "https://localhost:8080/",
          "height": 449
        },
        "outputId": "e559ef34-7fb7-4d4d-88b2-30f9f9487379"
      },
      "execution_count": null,
      "outputs": [
        {
          "output_type": "display_data",
          "data": {
            "text/plain": [
              "<Figure size 640x480 with 1 Axes>"
            ],
            "image/png": "[encoded data removed]"
          },
          "metadata": {}
        }
      ]
    },
    {
      "cell_type": "markdown",
      "source": [
        "En este primer modelo use 3 capas ocultas con una función de activación de tipo Relu para que tenga una buena taza de aprendizaje y en la capa de salida usé una de tipo sigmoide debido a que como mi resultado será un 1 o un 0 que nos representará si la noticia es verdadera o falsa yu como la función sigmoide beneficia ya que mayormente nos puede dar valores entre 0 y 1. Empiezo con 60 epocas para mi primer modelo y aunque la perdida sigue disminuyendo y la presición aumenta en la prueba con los datos de prueba  el costo es significativo por lo que puede ser que se haya sobre ajustado ya que la presición es muy alta en el modelo de entrenamiento."
      ],
      "metadata": {
        "id": "JxjXt_Z656Bb"
      }
    },
    {
      "cell_type": "markdown",
      "source": [
        "#Modelo 2( 2 capas ocultas de 500 neuronas y una capa de salida de una neurona)"
      ],
      "metadata": {
        "id": "-uNotXsjyovx"
      }
    },
    {
      "cell_type": "code",
      "source": [
        "tf.random.set_seed(1234)\n",
        "model2 = Sequential([\n",
        "  tf.keras.Input(shape=(x_train.shape[1])),\n",
        "  Dense(500, activation='relu'),\n",
        "  Dense(500, activation='relu'),\n",
        "  Dense(1,activation='sigmoid')\n",
        "])"
      ],
      "metadata": {
        "id": "NICveBJfyvjc"
      },
      "execution_count": null,
      "outputs": []
    },
    {
      "cell_type": "code",
      "source": [
        "model2.compile(optimizer='sgd', loss = tf.keras.losses.BinaryCrossentropy(), metrics=['accuracy'])"
      ],
      "metadata": {
        "id": "nwOL92try1LF"
      },
      "execution_count": null,
      "outputs": []
    },
    {
      "cell_type": "code",
      "source": [
        "historial2 = model2.fit(x_train, y_train, epochs = 60)"
      ],
      "metadata": {
        "colab": {
          "base_uri": "https://localhost:8080/"
        },
        "id": "LUaknVkay5jm",
        "outputId": "4fa6d6ff-1748-4847-d03f-9dc08be10e7b"
      },
      "execution_count": null,
      "outputs": [
        {
          "output_type": "stream",
          "name": "stdout",
          "text": [
            "Epoch 1/60\n",
            "458/458 [==============================] - 4s 7ms/step - loss: 0.5866 - accuracy: 0.7363\n",
            "Epoch 2/60\n",
            "458/458 [==============================] - 4s 9ms/step - loss: 0.4620 - accuracy: 0.8038\n",
            "Epoch 3/60\n",
            "458/458 [==============================] - 4s 9ms/step - loss: 0.4147 - accuracy: 0.8209\n",
            "Epoch 4/60\n",
            "458/458 [==============================] - 3s 7ms/step - loss: 0.3940 - accuracy: 0.8270\n",
            "Epoch 5/60\n",
            "458/458 [==============================] - 3s 6ms/step - loss: 0.3808 - accuracy: 0.8345\n",
            "Epoch 6/60\n",
            "458/458 [==============================] - 3s 7ms/step - loss: 0.3707 - accuracy: 0.8383\n",
            "Epoch 7/60\n",
            "458/458 [==============================] - 4s 9ms/step - loss: 0.3630 - accuracy: 0.8425\n",
            "Epoch 8/60\n",
            "458/458 [==============================] - 4s 9ms/step - loss: 0.3559 - accuracy: 0.8476\n",
            "Epoch 9/60\n",
            "458/458 [==============================] - 3s 7ms/step - loss: 0.3496 - accuracy: 0.8527\n",
            "Epoch 10/60\n",
            "458/458 [==============================] - 3s 6ms/step - loss: 0.3438 - accuracy: 0.8571\n",
            "Epoch 11/60\n",
            "458/458 [==============================] - 3s 6ms/step - loss: 0.3384 - accuracy: 0.8575\n",
            "Epoch 12/60\n",
            "458/458 [==============================] - 4s 10ms/step - loss: 0.3334 - accuracy: 0.8613\n",
            "Epoch 13/60\n",
            "458/458 [==============================] - 4s 9ms/step - loss: 0.3284 - accuracy: 0.8634\n",
            "Epoch 14/60\n",
            "458/458 [==============================] - 3s 7ms/step - loss: 0.3240 - accuracy: 0.8658\n",
            "Epoch 15/60\n",
            "458/458 [==============================] - 3s 7ms/step - loss: 0.3199 - accuracy: 0.8686\n",
            "Epoch 16/60\n",
            "458/458 [==============================] - 4s 8ms/step - loss: 0.3155 - accuracy: 0.8696\n",
            "Epoch 17/60\n",
            "458/458 [==============================] - 5s 10ms/step - loss: 0.3116 - accuracy: 0.8706\n",
            "Epoch 18/60\n",
            "458/458 [==============================] - 3s 7ms/step - loss: 0.3082 - accuracy: 0.8722\n",
            "Epoch 19/60\n",
            "458/458 [==============================] - 3s 7ms/step - loss: 0.3045 - accuracy: 0.8739\n",
            "Epoch 20/60\n",
            "458/458 [==============================] - 3s 7ms/step - loss: 0.3008 - accuracy: 0.8766\n",
            "Epoch 21/60\n",
            "458/458 [==============================] - 4s 9ms/step - loss: 0.2979 - accuracy: 0.8769\n",
            "Epoch 22/60\n",
            "458/458 [==============================] - 4s 9ms/step - loss: 0.2948 - accuracy: 0.8782\n",
            "Epoch 23/60\n",
            "458/458 [==============================] - 3s 7ms/step - loss: 0.2918 - accuracy: 0.8794\n",
            "Epoch 24/60\n",
            "458/458 [==============================] - 3s 7ms/step - loss: 0.2889 - accuracy: 0.8809\n",
            "Epoch 25/60\n",
            "458/458 [==============================] - 3s 7ms/step - loss: 0.2861 - accuracy: 0.8817\n",
            "Epoch 26/60\n",
            "458/458 [==============================] - 5s 10ms/step - loss: 0.2838 - accuracy: 0.8817\n",
            "Epoch 27/60\n",
            "458/458 [==============================] - 4s 8ms/step - loss: 0.2815 - accuracy: 0.8836\n",
            "Epoch 28/60\n",
            "458/458 [==============================] - 3s 7ms/step - loss: 0.2785 - accuracy: 0.8851\n",
            "Epoch 29/60\n",
            "458/458 [==============================] - 3s 6ms/step - loss: 0.2760 - accuracy: 0.8856\n",
            "Epoch 30/60\n",
            "458/458 [==============================] - 3s 6ms/step - loss: 0.2737 - accuracy: 0.8871\n",
            "Epoch 31/60\n",
            "458/458 [==============================] - 4s 9ms/step - loss: 0.2710 - accuracy: 0.8871\n",
            "Epoch 32/60\n",
            "458/458 [==============================] - 3s 7ms/step - loss: 0.2690 - accuracy: 0.8893\n",
            "Epoch 33/60\n",
            "458/458 [==============================] - 2s 5ms/step - loss: 0.2667 - accuracy: 0.8901\n",
            "Epoch 34/60\n",
            "458/458 [==============================] - 2s 5ms/step - loss: 0.2648 - accuracy: 0.8902\n",
            "Epoch 35/60\n",
            "458/458 [==============================] - 3s 6ms/step - loss: 0.2616 - accuracy: 0.8922\n",
            "Epoch 36/60\n",
            "458/458 [==============================] - 3s 7ms/step - loss: 0.2596 - accuracy: 0.8919\n",
            "Epoch 37/60\n",
            "458/458 [==============================] - 4s 9ms/step - loss: 0.2575 - accuracy: 0.8921\n",
            "Epoch 38/60\n",
            "458/458 [==============================] - 2s 5ms/step - loss: 0.2549 - accuracy: 0.8942\n",
            "Epoch 39/60\n",
            "458/458 [==============================] - 2s 5ms/step - loss: 0.2530 - accuracy: 0.8959\n",
            "Epoch 40/60\n",
            "458/458 [==============================] - 2s 5ms/step - loss: 0.2506 - accuracy: 0.8981\n",
            "Epoch 41/60\n",
            "458/458 [==============================] - 2s 5ms/step - loss: 0.2497 - accuracy: 0.8980\n",
            "Epoch 42/60\n",
            "458/458 [==============================] - 3s 8ms/step - loss: 0.2462 - accuracy: 0.8994\n",
            "Epoch 43/60\n",
            "458/458 [==============================] - 4s 8ms/step - loss: 0.2438 - accuracy: 0.9005\n",
            "Epoch 44/60\n",
            "458/458 [==============================] - 2s 5ms/step - loss: 0.2417 - accuracy: 0.9010\n",
            "Epoch 45/60\n",
            "458/458 [==============================] - 3s 7ms/step - loss: 0.2397 - accuracy: 0.9003\n",
            "Epoch 46/60\n",
            "458/458 [==============================] - 3s 7ms/step - loss: 0.2374 - accuracy: 0.9029\n",
            "Epoch 47/60\n",
            "458/458 [==============================] - 5s 12ms/step - loss: 0.2364 - accuracy: 0.9027\n",
            "Epoch 48/60\n",
            "458/458 [==============================] - 4s 9ms/step - loss: 0.2334 - accuracy: 0.9041\n",
            "Epoch 49/60\n",
            "458/458 [==============================] - 3s 6ms/step - loss: 0.2313 - accuracy: 0.9051\n",
            "Epoch 50/60\n",
            "458/458 [==============================] - 3s 6ms/step - loss: 0.2296 - accuracy: 0.9068\n",
            "Epoch 51/60\n",
            "458/458 [==============================] - 3s 7ms/step - loss: 0.2270 - accuracy: 0.9074\n",
            "Epoch 52/60\n",
            "458/458 [==============================] - 4s 8ms/step - loss: 0.2252 - accuracy: 0.9060\n",
            "Epoch 53/60\n",
            "458/458 [==============================] - 5s 11ms/step - loss: 0.2232 - accuracy: 0.9085\n",
            "Epoch 54/60\n",
            "458/458 [==============================] - 3s 6ms/step - loss: 0.2211 - accuracy: 0.9091\n",
            "Epoch 55/60\n",
            "458/458 [==============================] - 4s 9ms/step - loss: 0.2186 - accuracy: 0.9117\n",
            "Epoch 56/60\n",
            "458/458 [==============================] - 4s 8ms/step - loss: 0.2171 - accuracy: 0.9132\n",
            "Epoch 57/60\n",
            "458/458 [==============================] - 5s 12ms/step - loss: 0.2149 - accuracy: 0.9119\n",
            "Epoch 58/60\n",
            "458/458 [==============================] - 3s 7ms/step - loss: 0.2120 - accuracy: 0.9139\n",
            "Epoch 59/60\n",
            "458/458 [==============================] - 3s 6ms/step - loss: 0.2105 - accuracy: 0.9150\n",
            "Epoch 60/60\n",
            "458/458 [==============================] - 3s 6ms/step - loss: 0.2086 - accuracy: 0.9158\n"
          ]
        }
      ]
    },
    {
      "cell_type": "code",
      "source": [
        "cost, ac = model2.evaluate(x_test, y_test)\n",
        "\n",
        "print('Cost: {}, Accuracy: {}'.format(cost, ac))"
      ],
      "metadata": {
        "colab": {
          "base_uri": "https://localhost:8080/"
        },
        "id": "i5WX5r8uy-Ol",
        "outputId": "c7b489df-5c9b-48c9-afe0-6a67c4084e2b"
      },
      "execution_count": null,
      "outputs": [
        {
          "output_type": "stream",
          "name": "stdout",
          "text": [
            "115/115 [==============================] - 1s 3ms/step - loss: 0.3416 - accuracy: 0.8594\n",
            "Cost: 0.3416244685649872, Accuracy: 0.8594476580619812\n"
          ]
        }
      ]
    },
    {
      "cell_type": "code",
      "source": [
        "plt.plot(historial2.history['loss'], color = 'black')\n",
        "plt.xlabel('Epoch')\n",
        "plt.ylabel('Loss')\n",
        "plt.show()"
      ],
      "metadata": {
        "colab": {
          "base_uri": "https://localhost:8080/",
          "height": 450
        },
        "id": "Y4OnlFd3zYfE",
        "outputId": "39afea17-9345-468e-f418-d7207b9fd31e"
      },
      "execution_count": null,
      "outputs": [
        {
          "output_type": "display_data",
          "data": {
            "text/plain": [
              "<Figure size 640x480 with 1 Axes>"
            ],
            "image/png": "[encoded data removed]"
          },
          "metadata": {}
        }
      ]
    },
    {
      "cell_type": "markdown",
      "source": [
        "En mi segundo modelo se disminiyó la cantidad de capas y se aumento el número de neuronas en cada una de 200 a 500, considero que que la presición es demasiada alta por que pueda a llevar a un sobreajuste, por lo que para los siguientes modelos cambiaré el número de epocas también. En este modelo mejoró  el costo en los datos de prueba, aunque fueran menos capas ocultas."
      ],
      "metadata": {
        "id": "YjDIp5qX60q7"
      }
    },
    {
      "cell_type": "markdown",
      "source": [
        "#Modelo 3 (5 capas ocultas de 200 neuronas y una capa de salida de una neurona)"
      ],
      "metadata": {
        "id": "U6HPuzPezkkd"
      }
    },
    {
      "cell_type": "code",
      "source": [
        "tf.random.set_seed(1234)\n",
        "model3 = Sequential([\n",
        "  tf.keras.Input(shape=(x_train.shape[1])),\n",
        "  Dense(200, activation='relu'),\n",
        "  Dense(200, activation='relu'),\n",
        "  Dense(200, activation='relu'),\n",
        "  Dense(200, activation='relu'),\n",
        "  Dense(200, activation='relu'),\n",
        "  Dense(1,activation='sigmoid')\n",
        "])"
      ],
      "metadata": {
        "id": "q7--2mBnzaPI"
      },
      "execution_count": null,
      "outputs": []
    },
    {
      "cell_type": "code",
      "source": [
        "model3.compile(optimizer='sgd', loss = tf.keras.losses.BinaryCrossentropy(), metrics=['accuracy'])"
      ],
      "metadata": {
        "id": "TRg3jQ8S0fuI"
      },
      "execution_count": null,
      "outputs": []
    },
    {
      "cell_type": "code",
      "source": [
        "historial3 = model3.fit(x_train, y_train, epochs = 50)"
      ],
      "metadata": {
        "colab": {
          "base_uri": "https://localhost:8080/"
        },
        "id": "BnBemgMZ0wmB",
        "outputId": "d3a58cba-622e-46f9-f61a-40e5d4c287d4"
      },
      "execution_count": null,
      "outputs": [
        {
          "output_type": "stream",
          "name": "stdout",
          "text": [
            "Epoch 1/50\n",
            "458/458 [==============================] - 4s 6ms/step - loss: 0.6357 - accuracy: 0.6813\n",
            "Epoch 2/50\n",
            "458/458 [==============================] - 3s 6ms/step - loss: 0.4578 - accuracy: 0.8034\n",
            "Epoch 3/50\n",
            "458/458 [==============================] - 2s 4ms/step - loss: 0.3898 - accuracy: 0.8303\n",
            "Epoch 4/50\n",
            "458/458 [==============================] - 2s 4ms/step - loss: 0.3610 - accuracy: 0.8428\n",
            "Epoch 5/50\n",
            "458/458 [==============================] - 2s 4ms/step - loss: 0.3428 - accuracy: 0.8549\n",
            "Epoch 6/50\n",
            "458/458 [==============================] - 2s 4ms/step - loss: 0.3280 - accuracy: 0.8637\n",
            "Epoch 7/50\n",
            "458/458 [==============================] - 2s 4ms/step - loss: 0.3167 - accuracy: 0.8699\n",
            "Epoch 8/50\n",
            "458/458 [==============================] - 2s 5ms/step - loss: 0.3066 - accuracy: 0.8711\n",
            "Epoch 9/50\n",
            "458/458 [==============================] - 3s 6ms/step - loss: 0.2979 - accuracy: 0.8754\n",
            "Epoch 10/50\n",
            "458/458 [==============================] - 3s 7ms/step - loss: 0.2885 - accuracy: 0.8804\n",
            "Epoch 11/50\n",
            "458/458 [==============================] - 2s 4ms/step - loss: 0.2804 - accuracy: 0.8823\n",
            "Epoch 12/50\n",
            "458/458 [==============================] - 2s 4ms/step - loss: 0.2735 - accuracy: 0.8845\n",
            "Epoch 13/50\n",
            "458/458 [==============================] - 2s 5ms/step - loss: 0.2647 - accuracy: 0.8888\n",
            "Epoch 14/50\n",
            "458/458 [==============================] - 2s 5ms/step - loss: 0.2593 - accuracy: 0.8901\n",
            "Epoch 15/50\n",
            "458/458 [==============================] - 3s 6ms/step - loss: 0.2513 - accuracy: 0.8957\n",
            "Epoch 16/50\n",
            "458/458 [==============================] - 3s 7ms/step - loss: 0.2436 - accuracy: 0.9011\n",
            "Epoch 17/50\n",
            "458/458 [==============================] - 3s 6ms/step - loss: 0.2361 - accuracy: 0.9046\n",
            "Epoch 18/50\n",
            "458/458 [==============================] - 2s 4ms/step - loss: 0.2288 - accuracy: 0.9048\n",
            "Epoch 19/50\n",
            "458/458 [==============================] - 2s 4ms/step - loss: 0.2241 - accuracy: 0.9058\n",
            "Epoch 20/50\n",
            "458/458 [==============================] - 2s 4ms/step - loss: 0.2163 - accuracy: 0.9113\n",
            "Epoch 21/50\n",
            "458/458 [==============================] - 2s 4ms/step - loss: 0.2113 - accuracy: 0.9149\n",
            "Epoch 22/50\n",
            "458/458 [==============================] - 2s 4ms/step - loss: 0.2046 - accuracy: 0.9180\n",
            "Epoch 23/50\n",
            "458/458 [==============================] - 3s 6ms/step - loss: 0.1997 - accuracy: 0.9210\n",
            "Epoch 24/50\n",
            "458/458 [==============================] - 3s 6ms/step - loss: 0.1931 - accuracy: 0.9225\n",
            "Epoch 25/50\n",
            "458/458 [==============================] - 2s 4ms/step - loss: 0.1871 - accuracy: 0.9246\n",
            "Epoch 26/50\n",
            "458/458 [==============================] - 2s 4ms/step - loss: 0.1812 - accuracy: 0.9282\n",
            "Epoch 27/50\n",
            "458/458 [==============================] - 2s 4ms/step - loss: 0.1768 - accuracy: 0.9305\n",
            "Epoch 28/50\n",
            "458/458 [==============================] - 2s 4ms/step - loss: 0.1715 - accuracy: 0.9309\n",
            "Epoch 29/50\n",
            "458/458 [==============================] - 2s 4ms/step - loss: 0.1652 - accuracy: 0.9331\n",
            "Epoch 30/50\n",
            "458/458 [==============================] - 3s 6ms/step - loss: 0.1586 - accuracy: 0.9373\n",
            "Epoch 31/50\n",
            "458/458 [==============================] - 4s 8ms/step - loss: 0.1580 - accuracy: 0.9378\n",
            "Epoch 32/50\n",
            "458/458 [==============================] - 2s 5ms/step - loss: 0.1543 - accuracy: 0.9367\n",
            "Epoch 33/50\n",
            "458/458 [==============================] - 2s 4ms/step - loss: 0.1496 - accuracy: 0.9403\n",
            "Epoch 34/50\n",
            "458/458 [==============================] - 2s 4ms/step - loss: 0.1430 - accuracy: 0.9478\n",
            "Epoch 35/50\n",
            "458/458 [==============================] - 2s 4ms/step - loss: 0.1358 - accuracy: 0.9478\n",
            "Epoch 36/50\n",
            "458/458 [==============================] - 2s 4ms/step - loss: 0.1349 - accuracy: 0.9466\n",
            "Epoch 37/50\n",
            "458/458 [==============================] - 2s 5ms/step - loss: 0.1283 - accuracy: 0.9493\n",
            "Epoch 38/50\n",
            "458/458 [==============================] - 3s 6ms/step - loss: 0.1238 - accuracy: 0.9515\n",
            "Epoch 39/50\n",
            "458/458 [==============================] - 3s 6ms/step - loss: 0.1212 - accuracy: 0.9522\n",
            "Epoch 40/50\n",
            "458/458 [==============================] - 2s 4ms/step - loss: 0.1219 - accuracy: 0.9524\n",
            "Epoch 41/50\n",
            "458/458 [==============================] - 2s 4ms/step - loss: 0.1286 - accuracy: 0.9506\n",
            "Epoch 42/50\n",
            "458/458 [==============================] - 2s 4ms/step - loss: 0.1087 - accuracy: 0.9596\n",
            "Epoch 43/50\n",
            "458/458 [==============================] - 2s 4ms/step - loss: 0.1022 - accuracy: 0.9618\n",
            "Epoch 44/50\n",
            "458/458 [==============================] - 2s 4ms/step - loss: 0.1030 - accuracy: 0.9607\n",
            "Epoch 45/50\n",
            "458/458 [==============================] - 3s 6ms/step - loss: 0.1005 - accuracy: 0.9638\n",
            "Epoch 46/50\n",
            "458/458 [==============================] - 3s 6ms/step - loss: 0.0887 - accuracy: 0.9698\n",
            "Epoch 47/50\n",
            "458/458 [==============================] - 2s 5ms/step - loss: 0.0909 - accuracy: 0.9675\n",
            "Epoch 48/50\n",
            "458/458 [==============================] - 2s 4ms/step - loss: 0.0833 - accuracy: 0.9688\n",
            "Epoch 49/50\n",
            "458/458 [==============================] - 2s 4ms/step - loss: 0.0798 - accuracy: 0.9706\n",
            "Epoch 50/50\n",
            "458/458 [==============================] - 2s 4ms/step - loss: 0.0853 - accuracy: 0.9693\n"
          ]
        }
      ]
    },
    {
      "cell_type": "code",
      "source": [
        "cost, ac = model3.evaluate(x_test, y_test)\n",
        "\n",
        "print('Cost: {}, Accuracy: {}'.format(cost, ac))"
      ],
      "metadata": {
        "colab": {
          "base_uri": "https://localhost:8080/"
        },
        "id": "3KOunqIJ01AD",
        "outputId": "aa81ea19-70c4-4b45-98bc-9cb69d99e59b"
      },
      "execution_count": null,
      "outputs": [
        {
          "output_type": "stream",
          "name": "stdout",
          "text": [
            "115/115 [==============================] - 0s 3ms/step - loss: 0.5510 - accuracy: 0.8570\n",
            "Cost: 0.5509716272354126, Accuracy: 0.8569865822792053\n"
          ]
        }
      ]
    },
    {
      "cell_type": "code",
      "source": [
        "plt.plot(historial3.history['loss'], color = 'black')\n",
        "plt.xlabel('Epoch')\n",
        "plt.ylabel('Loss')\n",
        "plt.show()"
      ],
      "metadata": {
        "colab": {
          "base_uri": "https://localhost:8080/",
          "height": 449
        },
        "id": "fJIxvZZV1a1h",
        "outputId": "e087b9f2-cdff-4b52-947a-e9c1c20907c2"
      },
      "execution_count": null,
      "outputs": [
        {
          "output_type": "display_data",
          "data": {
            "text/plain": [
              "<Figure size 640x480 with 1 Axes>"
            ],
            "image/png": "[encoded data removed]"
          },
          "metadata": {}
        }
      ]
    },
    {
      "cell_type": "markdown",
      "source": [
        "Este modelo salió bastante malo al usarse 5 capas con 200 neuronas, la pérdida es bastante alta en comparación de los modelos anteriores por lo que concluyo que no es necesario tener una alta cantidad de capas para mejorar la perdida al aplicar el modelo, en el siguiente modelo aumentare la cantidad de neuronas y evitaré tener una alta cantidad de capas"
      ],
      "metadata": {
        "id": "5quxnT1MtjZA"
      }
    },
    {
      "cell_type": "markdown",
      "source": [
        "#Modelo 4 (2 capas ocultas de 1000 neuronas y una capa de salida de una neurona)"
      ],
      "metadata": {
        "id": "bz66TbAeu9Jp"
      }
    },
    {
      "cell_type": "code",
      "source": [
        "tf.random.set_seed(1234)\n",
        "model4 = Sequential([\n",
        "  tf.keras.Input(shape=(x_train.shape[1])),\n",
        "  Dense(1000, activation='relu'),\n",
        "  Dense(1000, activation='relu'),\n",
        "  Dense(1,activation='sigmoid')\n",
        "])"
      ],
      "metadata": {
        "id": "lId9caQk1sbv"
      },
      "execution_count": null,
      "outputs": []
    },
    {
      "cell_type": "code",
      "source": [
        "model4.compile(optimizer='sgd', loss = tf.keras.losses.BinaryCrossentropy(), metrics=['accuracy'])"
      ],
      "metadata": {
        "id": "FxIMDRqnvPZh"
      },
      "execution_count": null,
      "outputs": []
    },
    {
      "cell_type": "code",
      "source": [
        "historial4 = model4.fit(x_train, y_train, epochs = 50)"
      ],
      "metadata": {
        "colab": {
          "base_uri": "https://localhost:8080/"
        },
        "id": "rczsuKIwvUF8",
        "outputId": "d7123d73-22ec-40b3-f18d-2f5c8d02be6b"
      },
      "execution_count": null,
      "outputs": [
        {
          "output_type": "stream",
          "name": "stdout",
          "text": [
            "Epoch 1/50\n",
            "458/458 [==============================] - 9s 18ms/step - loss: 0.5735 - accuracy: 0.7616\n",
            "Epoch 2/50\n",
            "458/458 [==============================] - 6s 13ms/step - loss: 0.4515 - accuracy: 0.8113\n",
            "Epoch 3/50\n",
            "458/458 [==============================] - 7s 16ms/step - loss: 0.4107 - accuracy: 0.8244\n",
            "Epoch 4/50\n",
            "458/458 [==============================] - 7s 16ms/step - loss: 0.3910 - accuracy: 0.8314\n",
            "Epoch 5/50\n",
            "458/458 [==============================] - 6s 14ms/step - loss: 0.3777 - accuracy: 0.8360\n",
            "Epoch 6/50\n",
            "458/458 [==============================] - 8s 17ms/step - loss: 0.3675 - accuracy: 0.8395\n",
            "Epoch 7/50\n",
            "458/458 [==============================] - 6s 13ms/step - loss: 0.3595 - accuracy: 0.8469\n",
            "Epoch 8/50\n",
            "458/458 [==============================] - 8s 17ms/step - loss: 0.3521 - accuracy: 0.8493\n",
            "Epoch 9/50\n",
            "458/458 [==============================] - 7s 14ms/step - loss: 0.3458 - accuracy: 0.8547\n",
            "Epoch 10/50\n",
            "458/458 [==============================] - 7s 15ms/step - loss: 0.3397 - accuracy: 0.8580\n",
            "Epoch 11/50\n",
            "458/458 [==============================] - 7s 15ms/step - loss: 0.3347 - accuracy: 0.8595\n",
            "Epoch 12/50\n",
            "458/458 [==============================] - 6s 13ms/step - loss: 0.3292 - accuracy: 0.8636\n",
            "Epoch 13/50\n",
            "458/458 [==============================] - 9s 19ms/step - loss: 0.3243 - accuracy: 0.8677\n",
            "Epoch 14/50\n",
            "458/458 [==============================] - 8s 18ms/step - loss: 0.3200 - accuracy: 0.8689\n",
            "Epoch 15/50\n",
            "458/458 [==============================] - 8s 18ms/step - loss: 0.3159 - accuracy: 0.8709\n",
            "Epoch 16/50\n",
            "458/458 [==============================] - 6s 13ms/step - loss: 0.3117 - accuracy: 0.8724\n",
            "Epoch 17/50\n",
            "458/458 [==============================] - 7s 15ms/step - loss: 0.3078 - accuracy: 0.8731\n",
            "Epoch 18/50\n",
            "458/458 [==============================] - 7s 15ms/step - loss: 0.3045 - accuracy: 0.8746\n",
            "Epoch 19/50\n",
            "458/458 [==============================] - 6s 13ms/step - loss: 0.3008 - accuracy: 0.8756\n",
            "Epoch 20/50\n",
            "458/458 [==============================] - 8s 18ms/step - loss: 0.2972 - accuracy: 0.8782\n",
            "Epoch 21/50\n",
            "458/458 [==============================] - 6s 13ms/step - loss: 0.2945 - accuracy: 0.8776\n",
            "Epoch 22/50\n",
            "458/458 [==============================] - 8s 17ms/step - loss: 0.2914 - accuracy: 0.8781\n",
            "Epoch 23/50\n",
            "458/458 [==============================] - 7s 14ms/step - loss: 0.2884 - accuracy: 0.8814\n",
            "Epoch 24/50\n",
            "458/458 [==============================] - 7s 16ms/step - loss: 0.2855 - accuracy: 0.8824\n",
            "Epoch 25/50\n",
            "458/458 [==============================] - 8s 16ms/step - loss: 0.2827 - accuracy: 0.8839\n",
            "Epoch 26/50\n",
            "458/458 [==============================] - 6s 13ms/step - loss: 0.2805 - accuracy: 0.8854\n",
            "Epoch 27/50\n",
            "458/458 [==============================] - 8s 18ms/step - loss: 0.2780 - accuracy: 0.8856\n",
            "Epoch 28/50\n",
            "458/458 [==============================] - 6s 13ms/step - loss: 0.2751 - accuracy: 0.8869\n",
            "Epoch 29/50\n",
            "458/458 [==============================] - 7s 15ms/step - loss: 0.2725 - accuracy: 0.8880\n",
            "Epoch 30/50\n",
            "458/458 [==============================] - 9s 20ms/step - loss: 0.2701 - accuracy: 0.8892\n",
            "Epoch 31/50\n",
            "458/458 [==============================] - 7s 15ms/step - loss: 0.2673 - accuracy: 0.8885\n",
            "Epoch 32/50\n",
            "458/458 [==============================] - 8s 17ms/step - loss: 0.2654 - accuracy: 0.8925\n",
            "Epoch 33/50\n",
            "458/458 [==============================] - 6s 13ms/step - loss: 0.2629 - accuracy: 0.8924\n",
            "Epoch 34/50\n",
            "458/458 [==============================] - 8s 18ms/step - loss: 0.2611 - accuracy: 0.8946\n",
            "Epoch 35/50\n",
            "458/458 [==============================] - 6s 13ms/step - loss: 0.2576 - accuracy: 0.8957\n",
            "Epoch 36/50\n",
            "458/458 [==============================] - 8s 17ms/step - loss: 0.2556 - accuracy: 0.8953\n",
            "Epoch 37/50\n",
            "458/458 [==============================] - 7s 16ms/step - loss: 0.2535 - accuracy: 0.8942\n",
            "Epoch 38/50\n",
            "458/458 [==============================] - 7s 15ms/step - loss: 0.2509 - accuracy: 0.8977\n",
            "Epoch 39/50\n",
            "458/458 [==============================] - 8s 17ms/step - loss: 0.2487 - accuracy: 0.8985\n",
            "Epoch 40/50\n",
            "458/458 [==============================] - 6s 13ms/step - loss: 0.2464 - accuracy: 0.9016\n",
            "Epoch 41/50\n",
            "458/458 [==============================] - 8s 18ms/step - loss: 0.2454 - accuracy: 0.8990\n",
            "Epoch 42/50\n",
            "458/458 [==============================] - 6s 14ms/step - loss: 0.2419 - accuracy: 0.9020\n",
            "Epoch 43/50\n",
            "458/458 [==============================] - 7s 16ms/step - loss: 0.2395 - accuracy: 0.9024\n",
            "Epoch 44/50\n",
            "458/458 [==============================] - 7s 16ms/step - loss: 0.2374 - accuracy: 0.9040\n",
            "Epoch 45/50\n",
            "458/458 [==============================] - 6s 13ms/step - loss: 0.2352 - accuracy: 0.9040\n",
            "Epoch 46/50\n",
            "458/458 [==============================] - 9s 19ms/step - loss: 0.2328 - accuracy: 0.9059\n",
            "Epoch 47/50\n",
            "458/458 [==============================] - 6s 14ms/step - loss: 0.2316 - accuracy: 0.9064\n",
            "Epoch 48/50\n",
            "458/458 [==============================] - 8s 18ms/step - loss: 0.2284 - accuracy: 0.9074\n",
            "Epoch 49/50\n",
            "458/458 [==============================] - 6s 14ms/step - loss: 0.2263 - accuracy: 0.9096\n",
            "Epoch 50/50\n",
            "458/458 [==============================] - 7s 15ms/step - loss: 0.2244 - accuracy: 0.9102\n"
          ]
        }
      ]
    },
    {
      "cell_type": "code",
      "source": [
        "cost, ac = model4.evaluate(x_test, y_test)\n",
        "\n",
        "print('Cost: {}, Accuracy: {}'.format(cost, ac))"
      ],
      "metadata": {
        "colab": {
          "base_uri": "https://localhost:8080/"
        },
        "id": "ODFAaCqovXzU",
        "outputId": "5cae6eeb-be79-4fca-d08a-ded07a1ee976"
      },
      "execution_count": null,
      "outputs": [
        {
          "output_type": "stream",
          "name": "stdout",
          "text": [
            "115/115 [==============================] - 1s 8ms/step - loss: 0.3248 - accuracy: 0.8633\n",
            "Cost: 0.3248288035392761, Accuracy: 0.8632758855819702\n"
          ]
        }
      ]
    },
    {
      "cell_type": "code",
      "source": [
        "plt.plot(historial4.history['loss'], color = 'black')\n",
        "plt.xlabel('Epoch')\n",
        "plt.ylabel('Loss')\n",
        "plt.show()"
      ],
      "metadata": {
        "colab": {
          "base_uri": "https://localhost:8080/",
          "height": 449
        },
        "id": "x7_VRVh9wv9N",
        "outputId": "61cd878b-0de1-414b-cc64-864dad76a872"
      },
      "execution_count": null,
      "outputs": [
        {
          "output_type": "display_data",
          "data": {
            "text/plain": [
              "<Figure size 640x480 with 1 Axes>"
            ],
            "image/png": "[encoded data removed]"
          },
          "metadata": {}
        }
      ]
    },
    {
      "cell_type": "markdown",
      "source": [
        "En este modelo se obtiene el mejor resultado de todos los modelos pero la diferencia no es mucha la que tiene una aproximación a este resultado tomando en cuenta la pérdida y la precisión pero la diferencia entre estos es que que le agregé 500 neuronas más y el resultado no cambió por mucho."
      ],
      "metadata": {
        "id": "AbXS6LS1UsZA"
      }
    },
    {
      "cell_type": "markdown",
      "source": [
        "#Modelo 5(mismas capas y neuronas anteriores pero cambiando el optimizador a adam)"
      ],
      "metadata": {
        "id": "1actPIOFhHuH"
      }
    },
    {
      "cell_type": "code",
      "source": [
        "tf.random.set_seed(1234)\n",
        "model5 = Sequential([\n",
        "  tf.keras.Input(shape=(x_train.shape[1])),\n",
        "  Dense(1000, activation='relu'),\n",
        "  Dense(1000, activation='relu'),\n",
        "  Dense(1,activation='sigmoid')\n",
        "])"
      ],
      "metadata": {
        "id": "SNZqiAMlbTZv"
      },
      "execution_count": null,
      "outputs": []
    },
    {
      "cell_type": "code",
      "source": [
        "model5.compile(optimizer='adam', loss = tf.keras.losses.BinaryCrossentropy(), metrics=['accuracy'])"
      ],
      "metadata": {
        "id": "V1YiXv3Abctq"
      },
      "execution_count": null,
      "outputs": []
    },
    {
      "cell_type": "code",
      "source": [
        "historial5 = model5.fit(x_train, y_train, epochs = 5)"
      ],
      "metadata": {
        "colab": {
          "base_uri": "https://localhost:8080/"
        },
        "id": "NXhaXotDbktr",
        "outputId": "8e2ef560-43b4-4331-a37f-185920b4745d"
      },
      "execution_count": null,
      "outputs": [
        {
          "output_type": "stream",
          "name": "stdout",
          "text": [
            "Epoch 1/5\n",
            "458/458 [==============================] - 12s 24ms/step - loss: 0.3933 - accuracy: 0.8298\n",
            "Epoch 2/5\n",
            "458/458 [==============================] - 8s 18ms/step - loss: 0.3237 - accuracy: 0.8619\n",
            "Epoch 3/5\n",
            "458/458 [==============================] - 11s 23ms/step - loss: 0.2977 - accuracy: 0.8713\n",
            "Epoch 4/5\n",
            "458/458 [==============================] - 9s 20ms/step - loss: 0.2784 - accuracy: 0.8804\n",
            "Epoch 5/5\n",
            "458/458 [==============================] - 10s 22ms/step - loss: 0.2596 - accuracy: 0.8896\n"
          ]
        }
      ]
    },
    {
      "cell_type": "code",
      "source": [
        "cost, ac = model5.evaluate(x_test, y_test)\n",
        "\n",
        "print('Cost: {}, Accuracy: {}'.format(cost, ac))"
      ],
      "metadata": {
        "colab": {
          "base_uri": "https://localhost:8080/"
        },
        "id": "gU_9mE3ad2-Q",
        "outputId": "f940445a-ce0b-45ab-e855-b5257d154614"
      },
      "execution_count": null,
      "outputs": [
        {
          "output_type": "stream",
          "name": "stdout",
          "text": [
            "115/115 [==============================] - 1s 9ms/step - loss: 0.3356 - accuracy: 0.8608\n",
            "Cost: 0.33563169836997986, Accuracy: 0.8608148694038391\n"
          ]
        }
      ]
    },
    {
      "cell_type": "code",
      "source": [
        "plt.plot(historial5.history['loss'], color = 'black')\n",
        "plt.xlabel('Epoch')\n",
        "plt.ylabel('Loss')\n",
        "plt.show()"
      ],
      "metadata": {
        "colab": {
          "base_uri": "https://localhost:8080/",
          "height": 455
        },
        "id": "VFTU5UV_g_rn",
        "outputId": "65923b24-95d5-41f2-a8a8-c8e11b802ed2"
      },
      "execution_count": null,
      "outputs": [
        {
          "output_type": "display_data",
          "data": {
            "text/plain": [
              "<Figure size 640x480 with 1 Axes>"
            ],
            "image/png": "[encoded data removed]"
          },
          "metadata": {}
        }
      ]
    },
    {
      "cell_type": "markdown",
      "source": [
        "En este modelo como se cambia al optimizador adam que es más rápido que sgd cambié también el número de épocas ya que si es un número muy grande se sobreajustará, el resultado obtenido es similar al obtenido al modelo 4, por lo que pareciera ser el modelo 4 el que da los mejores resultados."
      ],
      "metadata": {
        "id": "XcUqs0bLhkuK"
      }
    },
    {
      "cell_type": "markdown",
      "source": [
        "Viendo algunos datos de la predicción usando el modelo 4:"
      ],
      "metadata": {
        "id": "46ZD0YOEVcvY"
      }
    },
    {
      "cell_type": "code",
      "source": [
        "model4.predict(x_test)"
      ],
      "metadata": {
        "colab": {
          "base_uri": "https://localhost:8080/"
        },
        "id": "J5anNPSYVggN",
        "outputId": "99f19fd7-bfc2-4301-dd3b-3858c4b711ee"
      },
      "execution_count": null,
      "outputs": [
        {
          "output_type": "stream",
          "name": "stdout",
          "text": [
            "115/115 [==============================] - 1s 12ms/step\n"
          ]
        },
        {
          "output_type": "execute_result",
          "data": {
            "text/plain": [
              "array([[0.99998397],\n",
              "       [0.00297229],\n",
              "       [0.00355541],\n",
              "       ...,\n",
              "       [0.00114265],\n",
              "       [0.00161388],\n",
              "       [0.94652385]], dtype=float32)"
            ]
          },
          "metadata": {},
          "execution_count": 77
        }
      ]
    },
    {
      "cell_type": "code",
      "source": [
        "y_test"
      ],
      "metadata": {
        "colab": {
          "base_uri": "https://localhost:8080/"
        },
        "id": "3cUytknQWZXj",
        "outputId": "318d7a02-390f-4fd3-a52b-2df069eb2cee"
      },
      "execution_count": null,
      "outputs": [
        {
          "output_type": "execute_result",
          "data": {
            "text/plain": [
              "array([1, 0, 0, ..., 0, 0, 1])"
            ]
          },
          "metadata": {},
          "execution_count": 75
        }
      ]
    },
    {
      "cell_type": "markdown",
      "source": [
        "Pareciera ser que con este modelo se pueden obtener bastantes acertados debido a que tiene un porcentaje de precisión bastante bueno"
      ],
      "metadata": {
        "id": "mlU9V-DiWcB4"
      }
    },
    {
      "cell_type": "markdown",
      "source": [
        "#Conclusión"
      ],
      "metadata": {
        "id": "C_cCMhwCyTs6"
      }
    },
    {
      "cell_type": "markdown",
      "source": [
        "El resultado que obtenemos del modelo 4 fue bastante satisfactorio, el único problema que tiene es la pérdida que puede ser relativamente considerable. Tomando en cuenta que la cantidad de datos fue bastante alta  ya que cada noticia tenía una alta cantidad de palabras y se hicieron bastantes procesos para obtener datos que pudieran ser utilizados en una red neuronal, los resultados obtenidos fueron bastante buenos. Del resultado de este proyecto me pregunto que tal serían los resultados si en vez del texto de la noticia se hubieran usado sólamente los títulos de las noticias. Tomé el texto completo porque consideré que de este se podría tomar los datos que mejor describirían cada"
      ],
      "metadata": {
        "id": "jbsEp3zaXZlk"
      }
    }
  ]
}