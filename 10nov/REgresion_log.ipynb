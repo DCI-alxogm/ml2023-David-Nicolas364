{
  "cells": [
    {
      "cell_type": "markdown",
      "metadata": {
        "id": "view-in-github",
        "colab_type": "text"
      },
      "source": [
        "<a href=\"https://colab.research.google.com/github/DCI-alxogm/ml2023-David-Nicolas364/blob/main/10nov/REgresion_log.ipynb\" target=\"_parent\"><img src=\"https://colab.research.google.com/assets/colab-badge.svg\" alt=\"Open In Colab\"/></a>"
      ]
    },
    {
      "cell_type": "code",
      "execution_count": 2,
      "metadata": {
        "id": "mwu6BNQSLE-Y"
      },
      "outputs": [],
      "source": [
        "import glob\n",
        "import numpy as np\n",
        "import copy\n",
        "import matplotlib.pyplot as plt\n",
        "import h5py\n",
        "import scipy\n",
        "from PIL import Image\n",
        "from scipy import ndimage\n",
        "\n",
        "%matplotlib inline"
      ]
    },
    {
      "cell_type": "code",
      "execution_count": 3,
      "metadata": {
        "colab": {
          "base_uri": "https://localhost:8080/"
        },
        "id": "R66ecBcvGPWQ",
        "outputId": "57918918-39f2-4bbd-e9f6-be8d0e378561"
      },
      "outputs": [
        {
          "output_type": "stream",
          "name": "stdout",
          "text": [
            "Drive already mounted at /content/drive; to attempt to forcibly remount, call drive.mount(\"/content/drive\", force_remount=True).\n"
          ]
        }
      ],
      "source": [
        "from google.colab import drive\n",
        "drive.mount('/content/drive')"
      ]
    },
    {
      "cell_type": "code",
      "execution_count": 4,
      "metadata": {
        "id": "pBXV9CqGl0v0"
      },
      "outputs": [],
      "source": [
        "import random"
      ]
    },
    {
      "cell_type": "markdown",
      "metadata": {
        "id": "8x0MULc5TteW"
      },
      "source": [
        "Cargamos los datos que vamos a trabajar."
      ]
    },
    {
      "cell_type": "code",
      "execution_count": 5,
      "metadata": {
        "id": "pKNUwdrHL1HZ"
      },
      "outputs": [],
      "source": [
        "#Los datos corresponden a un subset del dataset cats vs dogs de https://www.kaggle.com/c/dogs-vs-cats\n",
        "filess=glob.glob('/content/drive/MyDrive/Cosas ML/train/*')"
      ]
    },
    {
      "cell_type": "code",
      "execution_count": 6,
      "metadata": {
        "id": "wEIhSKSjlzi1"
      },
      "outputs": [],
      "source": [
        "files = random.sample(filess, len(filess))"
      ]
    },
    {
      "cell_type": "code",
      "execution_count": 7,
      "metadata": {
        "colab": {
          "base_uri": "https://localhost:8080/"
        },
        "id": "8srYji0kUSfN",
        "outputId": "c2a8abec-6520-4e28-e5e0-1c40a8a83e05"
      },
      "outputs": [
        {
          "output_type": "execute_result",
          "data": {
            "text/plain": [
              "4340"
            ]
          },
          "metadata": {},
          "execution_count": 7
        }
      ],
      "source": [
        "len(files)"
      ]
    },
    {
      "cell_type": "code",
      "execution_count": 8,
      "metadata": {
        "id": "1eGEJ3jVL49a"
      },
      "outputs": [],
      "source": [
        "#numero de pixeles para nuestras imágenes.\n",
        "num_px=64"
      ]
    },
    {
      "cell_type": "markdown",
      "metadata": {
        "id": "feEz9FsvP_u5"
      },
      "source": [
        "Veamos algunas de las imagenes"
      ]
    },
    {
      "cell_type": "markdown",
      "metadata": {
        "id": "f8WXRwMML-7s"
      },
      "source": [
        "Preparamos el dataset de entrenamiento."
      ]
    },
    {
      "cell_type": "code",
      "execution_count": 9,
      "metadata": {
        "id": "lV-d7cPfL2Vf"
      },
      "outputs": [],
      "source": [
        "train_x=[]\n",
        "train_y=[]\n",
        "for file in files[:100]:\n",
        "    img=Image.open(file)\n",
        "    img=img.resize((num_px,num_px))\n",
        "    data=np.asarray(img)\n",
        "    train_x.append(data)\n",
        "    img.close()\n",
        "    if 'dog' in file:\n",
        "        train_y.append(1)\n",
        "    if 'cat' in file:\n",
        "        train_y.append(0)\n",
        "train_y=np.asarray(train_y)\n",
        "train_x=np.asarray(train_x)"
      ]
    },
    {
      "cell_type": "code",
      "execution_count": 10,
      "metadata": {
        "colab": {
          "base_uri": "https://localhost:8080/",
          "height": 449
        },
        "id": "QJdKqlorQUpa",
        "outputId": "94616374-58c4-4161-864a-6548ef79086f"
      },
      "outputs": [
        {
          "output_type": "execute_result",
          "data": {
            "text/plain": [
              "<matplotlib.image.AxesImage at 0x7f3e1439e3b0>"
            ]
          },
          "metadata": {},
          "execution_count": 10
        },
        {
          "output_type": "display_data",
          "data": {
            "text/plain": [
              "<Figure size 640x480 with 1 Axes>"
            ],
            "image/png": "[encoded data removed]"
          },
          "metadata": {}
        }
      ],
      "source": [
        "plt.imshow(train_x[0])\n"
      ]
    },
    {
      "cell_type": "markdown",
      "metadata": {
        "id": "5Ac-PMrAMHJy"
      },
      "source": [
        "Preparamos el dataset de prueba"
      ]
    },
    {
      "cell_type": "code",
      "execution_count": 11,
      "metadata": {
        "id": "IEtmschUL8kK"
      },
      "outputs": [],
      "source": [
        "test_x=[]\n",
        "test_y=[]\n",
        "for file in files[4240:]:\n",
        "    #print(file)\n",
        "    img=Image.open(file)\n",
        "    img=img.resize((num_px,num_px))\n",
        "    data=np.asarray(img)\n",
        "    test_x.append(data)\n",
        "    img.close()\n",
        "    if 'dog' in file:\n",
        "        test_y.append(1)\n",
        "    if 'cat' in file:\n",
        "        test_y.append(0)\n",
        "test_y=np.asarray(test_y)\n",
        "test_x=np.asarray(test_x)"
      ]
    },
    {
      "cell_type": "code",
      "execution_count": 12,
      "metadata": {
        "colab": {
          "base_uri": "https://localhost:8080/",
          "height": 449
        },
        "id": "l9bh3jcTM4ui",
        "outputId": "86ee0681-b4ed-4e1d-c6af-e4e9b3101dc9"
      },
      "outputs": [
        {
          "output_type": "execute_result",
          "data": {
            "text/plain": [
              "<matplotlib.image.AxesImage at 0x7f3e142a8520>"
            ]
          },
          "metadata": {},
          "execution_count": 12
        },
        {
          "output_type": "display_data",
          "data": {
            "text/plain": [
              "<Figure size 640x480 with 1 Axes>"
            ],
            "image/png": "[encoded data removed]"
          },
          "metadata": {}
        }
      ],
      "source": [
        "plt.imshow(test_x[1])"
      ]
    },
    {
      "cell_type": "markdown",
      "metadata": {
        "id": "JTrOe-91RjgN"
      },
      "source": [
        "Hacemos una transformación de los arreglos que contienen las imagenes para que sean arreglos de una dimensión."
      ]
    },
    {
      "cell_type": "code",
      "execution_count": 13,
      "metadata": {
        "id": "vPiJd5HVMIWF"
      },
      "outputs": [],
      "source": [
        "train_x_flatten = train_x.reshape(train_x.shape[0], -1).T\n",
        "\n",
        "test_x_flatten = test_x.reshape(test_x.shape[0], -1).T\n",
        "\n",
        "train_set_y=train_y.reshape((1,train_y.shape[0]))\n",
        "test_set_y=test_y.reshape((1,test_y.shape[0]))"
      ]
    },
    {
      "cell_type": "code",
      "execution_count": 14,
      "metadata": {
        "colab": {
          "base_uri": "https://localhost:8080/"
        },
        "id": "JQPW09XQdU92",
        "outputId": "3b7517c7-ab03-451e-a6f9-076ba66c8d18"
      },
      "outputs": [
        {
          "output_type": "execute_result",
          "data": {
            "text/plain": [
              "(1, 100)"
            ]
          },
          "metadata": {},
          "execution_count": 14
        }
      ],
      "source": [
        "np.shape(train_set_y)"
      ]
    },
    {
      "cell_type": "code",
      "execution_count": 15,
      "metadata": {
        "colab": {
          "base_uri": "https://localhost:8080/"
        },
        "id": "fZbxGPTDdowJ",
        "outputId": "2158788e-2c64-4ddc-e92a-13b11c521817"
      },
      "outputs": [
        {
          "output_type": "execute_result",
          "data": {
            "text/plain": [
              "0.01"
            ]
          },
          "metadata": {},
          "execution_count": 15
        }
      ],
      "source": [
        "1/len(train_set_y[0,:])"
      ]
    },
    {
      "cell_type": "code",
      "execution_count": 16,
      "metadata": {
        "colab": {
          "base_uri": "https://localhost:8080/"
        },
        "id": "Sg2rPN9MpstI",
        "outputId": "44752c2b-50d9-4ae0-c96b-de508a9ec57d"
      },
      "outputs": [
        {
          "output_type": "execute_result",
          "data": {
            "text/plain": [
              "array([[1, 1, 0, 0, 1, 1, 1, 0, 0, 1, 1, 0, 0, 1, 1, 1, 1, 0, 1, 1, 0, 1,\n",
              "        0, 0, 1, 1, 0, 0, 1, 1, 0, 0, 0, 1, 0, 1, 1, 0, 1, 1, 1, 0, 0, 0,\n",
              "        0, 0, 0, 0, 1, 1, 1, 0, 0, 1, 0, 1, 1, 0, 1, 0, 1, 0, 0, 0, 0, 1,\n",
              "        0, 1, 0, 0, 1, 1, 0, 0, 0, 1, 1, 0, 1, 1, 1, 1, 1, 0, 0, 0, 1, 0,\n",
              "        0, 0, 1, 0, 1, 1, 1, 1, 1, 1, 1, 0]])"
            ]
          },
          "metadata": {},
          "execution_count": 16
        }
      ],
      "source": [
        "test_set_y"
      ]
    },
    {
      "cell_type": "markdown",
      "metadata": {
        "id": "XnFBW_i3RwVy"
      },
      "source": [
        "Normalizamos las imágenes"
      ]
    },
    {
      "cell_type": "code",
      "execution_count": 17,
      "metadata": {
        "id": "LOEUc9g1Rt2v"
      },
      "outputs": [],
      "source": [
        "train_set_x= train_x_flatten/255\n",
        "test_set_x= test_x_flatten/255"
      ]
    },
    {
      "cell_type": "markdown",
      "metadata": {
        "id": "aNl0jG5KR5P5"
      },
      "source": [
        "Ya esta listo nuestro set de datos para poder trabajar con el."
      ]
    },
    {
      "cell_type": "code",
      "execution_count": 18,
      "metadata": {
        "colab": {
          "base_uri": "https://localhost:8080/"
        },
        "id": "eKKqTZlSZe3f",
        "outputId": "cc6caea8-8729-4a92-d20a-6ed7a1f2341a"
      },
      "outputs": [
        {
          "output_type": "execute_result",
          "data": {
            "text/plain": [
              "(12288, 100)"
            ]
          },
          "metadata": {},
          "execution_count": 18
        }
      ],
      "source": [
        "np.shape(train_set_x)"
      ]
    },
    {
      "cell_type": "code",
      "execution_count": 19,
      "metadata": {
        "id": "t2b5td_Y39bS"
      },
      "outputs": [],
      "source": [
        "#y_hat\n",
        "def y_gorrito(z):\n",
        "  sig = 1/(1+np.exp(-(z)))\n",
        "  return sig"
      ]
    },
    {
      "cell_type": "code",
      "execution_count": 40,
      "metadata": {
        "id": "-UrVMA7DU4iV"
      },
      "outputs": [],
      "source": [
        "#Calculo del costo\n",
        "def costo(y_hat,y):\n",
        "  y=np.squeeze(y)\n",
        "  cst = -(1/len(y))*(np.sum(y*np.log(y_hat)+(1-y)*np.log(1-y_hat)))\n",
        "  return cst"
      ]
    },
    {
      "cell_type": "code",
      "execution_count": 41,
      "metadata": {
        "id": "416LLAhZZNob"
      },
      "outputs": [],
      "source": [
        "#Gradiente Descendiente\n",
        "def  grad(alph,x,y,iter):\n",
        "  y=np.squeeze(y)\n",
        "  cost=[]\n",
        "  w = np.zeros(train_set_x.shape[0])\n",
        "  b = 0\n",
        "  z=w@x+b\n",
        "  for i in range(iter):\n",
        "    w=w-alph*(1/len(y))*x@(y_gorrito(z)-y)\n",
        "    b=b-alph*(1/len(y))*np.sum(y_gorrito(z)-y)\n",
        "    cost.append(costo(y_gorrito(z),y))\n",
        "    z=w@x+b\n",
        "  return w,b,cost"
      ]
    },
    {
      "cell_type": "code",
      "execution_count": 47,
      "metadata": {
        "id": "arN3kJG-XlXM"
      },
      "outputs": [],
      "source": [
        "w,b,costot = grad(1e-2,train_set_x,train_set_y, 10000)"
      ]
    },
    {
      "cell_type": "code",
      "execution_count": 52,
      "metadata": {
        "colab": {
          "base_uri": "https://localhost:8080/",
          "height": 447
        },
        "id": "1Cy8Cg8th4M8",
        "outputId": "1f50add7-0530-4ca6-d01c-01b88a781eb0"
      },
      "outputs": [
        {
          "output_type": "execute_result",
          "data": {
            "text/plain": [
              "[<matplotlib.lines.Line2D at 0x7f3dfef6b400>]"
            ]
          },
          "metadata": {},
          "execution_count": 52
        },
        {
          "output_type": "display_data",
          "data": {
            "text/plain": [
              "<Figure size 640x480 with 1 Axes>"
            ],
            "image/png": "[encoded data removed]"
          },
          "metadata": {}
        }
      ],
      "source": [
        "plt.plot(range(10000),costot)"
      ]
    },
    {
      "cell_type": "code",
      "execution_count": 53,
      "metadata": {
        "colab": {
          "base_uri": "https://localhost:8080/"
        },
        "id": "ZDNjfil_nae6",
        "outputId": "2db742a8-01e6-47a2-cf74-b82bbddfc090"
      },
      "outputs": [
        {
          "output_type": "execute_result",
          "data": {
            "text/plain": [
              "(12288,)"
            ]
          },
          "metadata": {},
          "execution_count": 53
        }
      ],
      "source": [
        "np.shape(w)"
      ]
    },
    {
      "cell_type": "code",
      "source": [
        "z=w@test_set_x+b"
      ],
      "metadata": {
        "id": "Y1a9wVz6j1CP"
      },
      "execution_count": 55,
      "outputs": []
    },
    {
      "cell_type": "code",
      "execution_count": 58,
      "metadata": {
        "id": "_DTH7WJEnluB"
      },
      "outputs": [],
      "source": [
        "def test(z):\n",
        "  tes = y_gorrito(z)\n",
        "\n",
        "  tes[tes > .5] = 1\n",
        "  tes[tes < .5] = 0\n",
        "\n",
        "  return tes"
      ]
    },
    {
      "cell_type": "code",
      "source": [
        "Testt = test(z)"
      ],
      "metadata": {
        "id": "joD2ttqkj5qt"
      },
      "execution_count": 61,
      "outputs": []
    },
    {
      "cell_type": "code",
      "source": [
        "test_set_y"
      ],
      "metadata": {
        "colab": {
          "base_uri": "https://localhost:8080/"
        },
        "id": "_Z3nv0-AkfgK",
        "outputId": "5c94dadf-4eaa-4af4-9fa1-b8a1e7d90cad"
      },
      "execution_count": 60,
      "outputs": [
        {
          "output_type": "execute_result",
          "data": {
            "text/plain": [
              "array([[1, 1, 0, 0, 1, 1, 1, 0, 0, 1, 1, 0, 0, 1, 1, 1, 1, 0, 1, 1, 0, 1,\n",
              "        0, 0, 1, 1, 0, 0, 1, 1, 0, 0, 0, 1, 0, 1, 1, 0, 1, 1, 1, 0, 0, 0,\n",
              "        0, 0, 0, 0, 1, 1, 1, 0, 0, 1, 0, 1, 1, 0, 1, 0, 1, 0, 0, 0, 0, 1,\n",
              "        0, 1, 0, 0, 1, 1, 0, 0, 0, 1, 1, 0, 1, 1, 1, 1, 1, 0, 0, 0, 1, 0,\n",
              "        0, 0, 1, 0, 1, 1, 1, 1, 1, 1, 1, 0]])"
            ]
          },
          "metadata": {},
          "execution_count": 60
        }
      ]
    },
    {
      "cell_type": "code",
      "source": [
        "k=0\n",
        "for i in range(len(test_set_y[0,:])):\n",
        "  if Testt[i] == test_set_y[:,i]:\n",
        "    k += 1\n",
        "percentage = k/len(test_set_y[0,:])"
      ],
      "metadata": {
        "id": "5ZH0pJFDkk75"
      },
      "execution_count": 98,
      "outputs": []
    },
    {
      "cell_type": "code",
      "source": [
        "print(\" El porcentaje de acierto es de :\", percentage)"
      ],
      "metadata": {
        "colab": {
          "base_uri": "https://localhost:8080/"
        },
        "id": "9IrXA5IJlQ8t",
        "outputId": "07b363bf-b1dd-4468-a928-aed84a9f9e7f"
      },
      "execution_count": 101,
      "outputs": [
        {
          "output_type": "stream",
          "name": "stdout",
          "text": [
            " El porcentaje de acierto es de : 0.49\n"
          ]
        }
      ]
    },
    {
      "cell_type": "code",
      "source": [],
      "metadata": {
        "id": "9BsN8rsrmLuM"
      },
      "execution_count": null,
      "outputs": []
    }
  ],
  "metadata": {
    "colab": {
      "provenance": [],
      "mount_file_id": "1cpLgGruNEbx-djm-6Yxwiob-nicchfx7",
      "authorship_tag": "ABX9TyOEZhxOZpJ387F73wCYmzal",
      "include_colab_link": true
    },
    "kernelspec": {
      "display_name": "Python 3",
      "name": "python3"
    },
    "language_info": {
      "name": "python"
    }
  },
  "nbformat": 4,
  "nbformat_minor": 0
}