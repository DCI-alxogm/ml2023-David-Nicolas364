{
  "nbformat": 4,
  "nbformat_minor": 0,
  "metadata": {
    "colab": {
      "provenance": [],
      "mount_file_id": "1cpLgGruNEbx-djm-6Yxwiob-nicchfx7",
      "authorship_tag": "ABX9TyNp+davYzjyZtIWHmLIWg4Y",
      "include_colab_link": true
    },
    "kernelspec": {
      "name": "python3",
      "display_name": "Python 3"
    },
    "language_info": {
      "name": "python"
    }
  },
  "cells": [
    {
      "cell_type": "markdown",
      "metadata": {
        "id": "view-in-github",
        "colab_type": "text"
      },
      "source": [
        "<a href=\"https://colab.research.google.com/github/DCI-alxogm/ml2023-David-Nicolas364/blob/main/10nov/REgresion_log.ipynb\" target=\"_parent\"><img src=\"https://colab.research.google.com/assets/colab-badge.svg\" alt=\"Open In Colab\"/></a>"
      ]
    },
    {
      "cell_type": "code",
      "execution_count": 1,
      "metadata": {
        "id": "mwu6BNQSLE-Y"
      },
      "outputs": [],
      "source": [
        "import glob\n",
        "import numpy as np\n",
        "import copy\n",
        "import matplotlib.pyplot as plt\n",
        "import h5py\n",
        "import scipy\n",
        "from PIL import Image\n",
        "from scipy import ndimage\n",
        "\n",
        "%matplotlib inline"
      ]
    },
    {
      "cell_type": "code",
      "source": [
        "from google.colab import drive\n",
        "drive.mount('/content/drive')"
      ],
      "metadata": {
        "id": "R66ecBcvGPWQ",
        "colab": {
          "base_uri": "https://localhost:8080/"
        },
        "outputId": "a8b47312-2d0e-4147-ecfe-3dd467fa5f6b"
      },
      "execution_count": 2,
      "outputs": [
        {
          "output_type": "stream",
          "name": "stdout",
          "text": [
            "Drive already mounted at /content/drive; to attempt to forcibly remount, call drive.mount(\"/content/drive\", force_remount=True).\n"
          ]
        }
      ]
    },
    {
      "cell_type": "markdown",
      "source": [
        "Cargamos los datos que vamos a trabajar."
      ],
      "metadata": {
        "id": "8x0MULc5TteW"
      }
    },
    {
      "cell_type": "code",
      "source": [
        "#Los datos corresponden a un subset del dataset cats vs dogs de https://www.kaggle.com/c/dogs-vs-cats\n",
        "files=glob.glob('/content/drive/MyDrive/Cosas ML/train/*')"
      ],
      "metadata": {
        "id": "pKNUwdrHL1HZ"
      },
      "execution_count": 3,
      "outputs": []
    },
    {
      "cell_type": "code",
      "source": [
        "len(files)"
      ],
      "metadata": {
        "id": "8srYji0kUSfN",
        "colab": {
          "base_uri": "https://localhost:8080/"
        },
        "outputId": "9c266609-0113-4954-fdec-37f93e2f9557"
      },
      "execution_count": 4,
      "outputs": [
        {
          "output_type": "execute_result",
          "data": {
            "text/plain": [
              "4340"
            ]
          },
          "metadata": {},
          "execution_count": 4
        }
      ]
    },
    {
      "cell_type": "code",
      "source": [
        "#numero de pixeles para nuestras imágenes.\n",
        "num_px=64"
      ],
      "metadata": {
        "id": "1eGEJ3jVL49a"
      },
      "execution_count": 5,
      "outputs": []
    },
    {
      "cell_type": "markdown",
      "source": [
        "Veamos algunas de las imagenes"
      ],
      "metadata": {
        "id": "feEz9FsvP_u5"
      }
    },
    {
      "cell_type": "markdown",
      "source": [
        "Preparamos el dataset de entrenamiento."
      ],
      "metadata": {
        "id": "f8WXRwMML-7s"
      }
    },
    {
      "cell_type": "code",
      "source": [
        "train_x=[]\n",
        "train_y=[]\n",
        "for file in files[:100]:\n",
        "    img=Image.open(file)\n",
        "    img=img.resize((num_px,num_px))\n",
        "    data=np.asarray(img)\n",
        "    train_x.append(data)\n",
        "    img.close()\n",
        "    if 'dog' in file:\n",
        "        train_y.append(1)\n",
        "    if 'cat' in file:\n",
        "        train_y.append(0)\n",
        "train_y=np.asarray(train_y)\n",
        "train_x=np.asarray(train_x)"
      ],
      "metadata": {
        "id": "lV-d7cPfL2Vf"
      },
      "execution_count": 6,
      "outputs": []
    },
    {
      "cell_type": "code",
      "source": [
        "plt.imshow(train_x[0])\n"
      ],
      "metadata": {
        "id": "QJdKqlorQUpa",
        "colab": {
          "base_uri": "https://localhost:8080/",
          "height": 449
        },
        "outputId": "0a7ec416-4f29-4373-9fa5-38327df1a133"
      },
      "execution_count": 7,
      "outputs": [
        {
          "output_type": "execute_result",
          "data": {
            "text/plain": [
              "<matplotlib.image.AxesImage at 0x78c629a21450>"
            ]
          },
          "metadata": {},
          "execution_count": 7
        },
        {
          "output_type": "display_data",
          "data": {
            "text/plain": [
              "<Figure size 640x480 with 1 Axes>"
            ],
            "image/png": "[encoded data removed]"
          },
          "metadata": {}
        }
      ]
    },
    {
      "cell_type": "markdown",
      "source": [
        "Preparamos el dataset de prueba"
      ],
      "metadata": {
        "id": "5Ac-PMrAMHJy"
      }
    },
    {
      "cell_type": "code",
      "source": [
        "test_x=[]\n",
        "test_y=[]\n",
        "for file in files[100:]:\n",
        "    #print(file)\n",
        "    img=Image.open(file)\n",
        "    img=img.resize((num_px,num_px))\n",
        "    data=np.asarray(img)\n",
        "    test_x.append(data)\n",
        "    img.close()\n",
        "    if 'dog' in file:\n",
        "        test_y.append(1)\n",
        "    if 'cat' in file:\n",
        "        test_y.append(0)\n",
        "test_y=np.asarray(test_y)\n",
        "test_x=np.asarray(test_x)"
      ],
      "metadata": {
        "id": "IEtmschUL8kK"
      },
      "execution_count": 9,
      "outputs": []
    },
    {
      "cell_type": "code",
      "source": [
        "plt.imshow(test_x[1])"
      ],
      "metadata": {
        "id": "l9bh3jcTM4ui",
        "colab": {
          "base_uri": "https://localhost:8080/",
          "height": 449
        },
        "outputId": "6c8d0992-c069-446e-c184-7657f315243f"
      },
      "execution_count": 10,
      "outputs": [
        {
          "output_type": "execute_result",
          "data": {
            "text/plain": [
              "<matplotlib.image.AxesImage at 0x78c62992cfd0>"
            ]
          },
          "metadata": {},
          "execution_count": 10
        },
        {
          "output_type": "display_data",
          "data": {
            "text/plain": [
              "<Figure size 640x480 with 1 Axes>"
            ],
            "image/png": "[encoded data removed]"
          },
          "metadata": {}
        }
      ]
    },
    {
      "cell_type": "markdown",
      "source": [
        "Hacemos una transformación de los arreglos que contienen las imagenes para que sean arreglos de una dimensión."
      ],
      "metadata": {
        "id": "JTrOe-91RjgN"
      }
    },
    {
      "cell_type": "code",
      "source": [
        "train_x_flatten = train_x.reshape(train_x.shape[0], -1).T\n",
        "\n",
        "test_x_flatten = test_x.reshape(test_x.shape[0], -1).T\n",
        "\n",
        "train_set_y=train_y.reshape((1,train_y.shape[0]))\n",
        "test_set_y=test_y.reshape((1,test_y.shape[0]))"
      ],
      "metadata": {
        "id": "vPiJd5HVMIWF"
      },
      "execution_count": 11,
      "outputs": []
    },
    {
      "cell_type": "code",
      "source": [
        "np.shape(train_set_y)"
      ],
      "metadata": {
        "colab": {
          "base_uri": "https://localhost:8080/"
        },
        "id": "JQPW09XQdU92",
        "outputId": "77f0296a-032d-4918-b9b2-7b83f1ec7350"
      },
      "execution_count": 91,
      "outputs": [
        {
          "output_type": "execute_result",
          "data": {
            "text/plain": [
              "(1, 100)"
            ]
          },
          "metadata": {},
          "execution_count": 91
        }
      ]
    },
    {
      "cell_type": "code",
      "source": [
        "1/len(train_set_y[0,:])"
      ],
      "metadata": {
        "colab": {
          "base_uri": "https://localhost:8080/"
        },
        "id": "fZbxGPTDdowJ",
        "outputId": "ae934516-962e-44d5-84b0-114d5373c575"
      },
      "execution_count": 96,
      "outputs": [
        {
          "output_type": "execute_result",
          "data": {
            "text/plain": [
              "0.01"
            ]
          },
          "metadata": {},
          "execution_count": 96
        }
      ]
    },
    {
      "cell_type": "markdown",
      "source": [
        "Normalizamos las imágenes"
      ],
      "metadata": {
        "id": "XnFBW_i3RwVy"
      }
    },
    {
      "cell_type": "code",
      "source": [
        "train_set_x= train_x_flatten/255\n",
        "test_set_x= test_x_flatten/255"
      ],
      "metadata": {
        "id": "LOEUc9g1Rt2v"
      },
      "execution_count": 12,
      "outputs": []
    },
    {
      "cell_type": "markdown",
      "source": [
        "Ya esta listo nuestro set de datos para poder trabajar con el."
      ],
      "metadata": {
        "id": "aNl0jG5KR5P5"
      }
    },
    {
      "cell_type": "code",
      "source": [
        "np.shape(train_set_x)"
      ],
      "metadata": {
        "id": "eKKqTZlSZe3f",
        "colab": {
          "base_uri": "https://localhost:8080/"
        },
        "outputId": "b31f9a8a-49d7-48e6-ae16-39cacaa2be93"
      },
      "execution_count": 13,
      "outputs": [
        {
          "output_type": "execute_result",
          "data": {
            "text/plain": [
              "(12288, 100)"
            ]
          },
          "metadata": {},
          "execution_count": 13
        }
      ]
    },
    {
      "cell_type": "code",
      "source": [
        "#y_hat\n",
        "def y_gorrito(x,w,b):\n",
        "  sig = 1/(1+np.exp(-(w*x+b)))\n",
        "  return sig"
      ],
      "metadata": {
        "id": "t2b5td_Y39bS"
      },
      "execution_count": 72,
      "outputs": []
    },
    {
      "cell_type": "code",
      "source": [
        "#z\n",
        "def z(x):\n",
        "  weights = np.random.rand(x.shape[0])\n",
        "  b = np.zeros(x.shape[1])\n",
        "  z=weights*x + b\n",
        "  return z"
      ],
      "metadata": {
        "id": "L5aa8GzgTPjN"
      },
      "execution_count": 46,
      "outputs": []
    },
    {
      "cell_type": "code",
      "source": [
        "#Calculo del costo\n",
        "def costo(y_hat,y):\n",
        "  cst = (1/len(y[0,:]))*(np.sum(y*np.log(y_hat)+(1-y)*np.log(1-y_hat)))\n",
        "  return -cst"
      ],
      "metadata": {
        "id": "-UrVMA7DU4iV"
      },
      "execution_count": 125,
      "outputs": []
    },
    {
      "cell_type": "code",
      "source": [
        "#Gradiente Descendiente\n",
        "def  grad(alph,x,y,iter):\n",
        "  cost=[]\n",
        "  w = np.atleast_2d(np.random.rand(x.shape[0])).T\n",
        "  b = np.zeros(x.shape[1])\n",
        "  for i in range(iter):\n",
        "    w=w-alph*(1/len(y))*x*(y_gorrito(x,w,b)-y)\n",
        "    b=b-alph*(1/len(y))*(y_gorrito(x,w,b)-y)\n",
        "    cost.append(costo(y_gorrito(x,w,b),y))\n",
        "  return w,b,cost"
      ],
      "metadata": {
        "id": "416LLAhZZNob"
      },
      "execution_count": 126,
      "outputs": []
    },
    {
      "cell_type": "code",
      "source": [
        "w,b,costot = grad(1e-2,train_set_x,train_set_y, 1000)"
      ],
      "metadata": {
        "id": "arN3kJG-XlXM"
      },
      "execution_count": 146,
      "outputs": []
    },
    {
      "cell_type": "code",
      "source": [
        "w"
      ],
      "metadata": {
        "colab": {
          "base_uri": "https://localhost:8080/"
        },
        "id": "QXbgntCcjSBB",
        "outputId": "4d385eb1-1922-4a27-e100-4d9731e34837"
      },
      "execution_count": 147,
      "outputs": [
        {
          "output_type": "execute_result",
          "data": {
            "text/plain": [
              "array([[-1.30261268, -0.8829442 , -0.4911188 , ..., -0.38932728,\n",
              "        -0.98531719, -0.78947305],\n",
              "       [-1.33480481, -0.97031426, -0.81618057, ..., -0.52946844,\n",
              "        -1.02070703, -0.83575549],\n",
              "       [-0.57846071, -0.11098995, -0.2225997 , ...,  0.33263431,\n",
              "        -0.12726178,  0.27829742],\n",
              "       ...,\n",
              "       [-0.90670427, -0.42976939, -1.03933556, ..., -0.51990619,\n",
              "        -0.80008889, -0.31933617],\n",
              "       [-1.23778854, -0.86894389, -1.33308473, ..., -0.95312208,\n",
              "        -1.05853119, -0.52884034],\n",
              "       [-1.11892823, -0.68224463, -1.22752826, ..., -0.75748708,\n",
              "        -0.83371466, -0.17654866]])"
            ]
          },
          "metadata": {},
          "execution_count": 147
        }
      ]
    },
    {
      "cell_type": "code",
      "source": [
        "b"
      ],
      "metadata": {
        "colab": {
          "base_uri": "https://localhost:8080/"
        },
        "id": "X54F_gY1jXCT",
        "outputId": "d9c879c2-943b-4891-9c93-2c9b6ead9027"
      },
      "execution_count": 148,
      "outputs": [
        {
          "output_type": "execute_result",
          "data": {
            "text/plain": [
              "array([[-1.61219685, -1.95474184, -2.11149284, ..., -2.13612924,\n",
              "        -1.89347612, -2.00232308],\n",
              "       [-1.6075285 , -1.91864353, -2.00083552, ..., -2.10643706,\n",
              "        -1.88693109, -1.99151362],\n",
              "       [-2.11096134, -2.26200225, -2.23792475, ..., -2.29530626,\n",
              "        -2.25891015, -2.2963277 ],\n",
              "       ...,\n",
              "       [-1.90272567, -2.15134633, -1.78823376, ..., -2.11847384,\n",
              "        -1.97674958, -2.18459202],\n",
              "       [-1.66296191, -1.95346828, -1.54237504, ..., -1.90294239,\n",
              "        -1.8286105 , -2.09798161],\n",
              "       [-1.74829165, -2.03770738, -1.62988577, ..., -2.00188069,\n",
              "        -1.96069166, -2.18085614]])"
            ]
          },
          "metadata": {},
          "execution_count": 148
        }
      ]
    },
    {
      "cell_type": "code",
      "source": [
        "plt.plot(range(1000),costot)"
      ],
      "metadata": {
        "colab": {
          "base_uri": "https://localhost:8080/",
          "height": 447
        },
        "id": "1Cy8Cg8th4M8",
        "outputId": "85cb17e7-e459-4b2f-f2b0-3553fe15f5e3"
      },
      "execution_count": 150,
      "outputs": [
        {
          "output_type": "execute_result",
          "data": {
            "text/plain": [
              "[<matplotlib.lines.Line2D at 0x78c5fbbfbac0>]"
            ]
          },
          "metadata": {},
          "execution_count": 150
        },
        {
          "output_type": "display_data",
          "data": {
            "text/plain": [
              "<Figure size 640x480 with 1 Axes>"
            ],
            "image/png": "[encoded data removed]"
          },
          "metadata": {}
        }
      ]
    }
  ]
}