{
  "cells": [
    {
      "cell_type": "markdown",
      "metadata": {
        "id": "view-in-github",
        "colab_type": "text"
      },
      "source": [
        "<a href=\"https://colab.research.google.com/github/DCI-alxogm/ml2023-David-Nicolas364/blob/main/Nov11/11nov.ipynb\" target=\"_parent\"><img src=\"https://colab.research.google.com/assets/colab-badge.svg\" alt=\"Open In Colab\"/></a>"
      ]
    },
    {
      "cell_type": "code",
      "execution_count": null,
      "metadata": {
        "id": "mwu6BNQSLE-Y"
      },
      "outputs": [],
      "source": [
        "import glob\n",
        "import numpy as np\n",
        "import copy\n",
        "import matplotlib.pyplot as plt\n",
        "import h5py\n",
        "import scipy\n",
        "from PIL import Image\n",
        "from scipy import ndimage\n",
        "\n",
        "%matplotlib inline"
      ]
    },
    {
      "cell_type": "code",
      "execution_count": null,
      "metadata": {
        "id": "R66ecBcvGPWQ",
        "colab": {
          "base_uri": "https://localhost:8080/"
        },
        "outputId": "29f49df8-dd09-4c51-a537-2474bc928b24"
      },
      "outputs": [
        {
          "output_type": "stream",
          "name": "stdout",
          "text": [
            "Mounted at /content/drive\n"
          ]
        }
      ],
      "source": [
        "from google.colab import drive\n",
        "drive.mount('/content/drive')"
      ]
    },
    {
      "cell_type": "code",
      "execution_count": null,
      "metadata": {
        "id": "pBXV9CqGl0v0"
      },
      "outputs": [],
      "source": [
        "import random"
      ]
    },
    {
      "cell_type": "markdown",
      "metadata": {
        "id": "8x0MULc5TteW"
      },
      "source": [
        "Cargamos los datos que vamos a trabajar."
      ]
    },
    {
      "cell_type": "code",
      "execution_count": null,
      "metadata": {
        "id": "pKNUwdrHL1HZ"
      },
      "outputs": [],
      "source": [
        "#Los datos corresponden a un subset del dataset cats vs dogs de https://www.kaggle.com/c/dogs-vs-cats\n",
        "filess=glob.glob('/content/drive/MyDrive/Cosas ML/train/*')"
      ]
    },
    {
      "cell_type": "code",
      "execution_count": null,
      "metadata": {
        "id": "wEIhSKSjlzi1"
      },
      "outputs": [],
      "source": [
        "files = random.sample(filess, len(filess))"
      ]
    },
    {
      "cell_type": "code",
      "execution_count": null,
      "metadata": {
        "colab": {
          "base_uri": "https://localhost:8080/"
        },
        "id": "8srYji0kUSfN",
        "outputId": "ef8ee519-8751-44a1-8169-da72a2dabbe7"
      },
      "outputs": [
        {
          "output_type": "execute_result",
          "data": {
            "text/plain": [
              "4340"
            ]
          },
          "metadata": {},
          "execution_count": 6
        }
      ],
      "source": [
        "len(files)"
      ]
    },
    {
      "cell_type": "code",
      "execution_count": null,
      "metadata": {
        "id": "1eGEJ3jVL49a"
      },
      "outputs": [],
      "source": [
        "#numero de pixeles para nuestras imágenes.\n",
        "num_px=64"
      ]
    },
    {
      "cell_type": "markdown",
      "metadata": {
        "id": "feEz9FsvP_u5"
      },
      "source": [
        "Veamos algunas de las imagenes"
      ]
    },
    {
      "cell_type": "markdown",
      "metadata": {
        "id": "f8WXRwMML-7s"
      },
      "source": [
        "Preparamos el dataset de entrenamiento."
      ]
    },
    {
      "cell_type": "code",
      "execution_count": null,
      "metadata": {
        "id": "lV-d7cPfL2Vf"
      },
      "outputs": [],
      "source": [
        "train_x=[]\n",
        "train_y=[]\n",
        "for file in files[:100]:\n",
        "    img=Image.open(file)\n",
        "    img=img.resize((num_px,num_px))\n",
        "    data=np.asarray(img)\n",
        "    train_x.append(data)\n",
        "    img.close()\n",
        "    if 'dog' in file:\n",
        "        train_y.append(1)\n",
        "    if 'cat' in file:\n",
        "        train_y.append(0)\n",
        "train_y=np.asarray(train_y)\n",
        "train_x=np.asarray(train_x)"
      ]
    },
    {
      "cell_type": "code",
      "execution_count": null,
      "metadata": {
        "colab": {
          "base_uri": "https://localhost:8080/",
          "height": 355
        },
        "id": "QJdKqlorQUpa",
        "outputId": "cb5e5500-1099-490b-9af5-2b52cc466a55"
      },
      "outputs": [
        {
          "output_type": "execute_result",
          "data": {
            "text/plain": [
              "<matplotlib.image.AxesImage at 0x7d5cb81420e0>"
            ]
          },
          "metadata": {},
          "execution_count": 9
        },
        {
          "output_type": "display_data",
          "data": {
            "text/plain": [
              "<Figure size 640x480 with 1 Axes>"
            ],
            "image/png": "[encoded data removed]"
          },
          "metadata": {}
        }
      ],
      "source": [
        "plt.imshow(train_x[0])\n"
      ]
    },
    {
      "cell_type": "markdown",
      "metadata": {
        "id": "5Ac-PMrAMHJy"
      },
      "source": [
        "Preparamos el dataset de prueba"
      ]
    },
    {
      "cell_type": "code",
      "execution_count": null,
      "metadata": {
        "id": "IEtmschUL8kK"
      },
      "outputs": [],
      "source": [
        "test_x=[]\n",
        "test_y=[]\n",
        "for file in files[4240:]:\n",
        "    #print(file)\n",
        "    img=Image.open(file)\n",
        "    img=img.resize((num_px,num_px))\n",
        "    data=np.asarray(img)\n",
        "    test_x.append(data)\n",
        "    img.close()\n",
        "    if 'dog' in file:\n",
        "        test_y.append(1)\n",
        "    if 'cat' in file:\n",
        "        test_y.append(0)\n",
        "test_y=np.asarray(test_y)\n",
        "test_x=np.asarray(test_x)"
      ]
    },
    {
      "cell_type": "code",
      "execution_count": null,
      "metadata": {
        "colab": {
          "base_uri": "https://localhost:8080/",
          "height": 355
        },
        "id": "l9bh3jcTM4ui",
        "outputId": "4ece74c2-9392-4b4c-97ba-b52b6f12dcd3"
      },
      "outputs": [
        {
          "output_type": "execute_result",
          "data": {
            "text/plain": [
              "<matplotlib.image.AxesImage at 0x7d5cb387c910>"
            ]
          },
          "metadata": {},
          "execution_count": 11
        },
        {
          "output_type": "display_data",
          "data": {
            "text/plain": [
              "<Figure size 640x480 with 1 Axes>"
            ],
            "image/png": "[encoded data removed]"
          },
          "metadata": {}
        }
      ],
      "source": [
        "plt.imshow(test_x[1])"
      ]
    },
    {
      "cell_type": "markdown",
      "metadata": {
        "id": "JTrOe-91RjgN"
      },
      "source": [
        "Hacemos una transformación de los arreglos que contienen las imagenes para que sean arreglos de una dimensión."
      ]
    },
    {
      "cell_type": "code",
      "execution_count": null,
      "metadata": {
        "id": "vPiJd5HVMIWF"
      },
      "outputs": [],
      "source": [
        "train_x_flatten = train_x.reshape(train_x.shape[0], -1).T\n",
        "\n",
        "test_x_flatten = test_x.reshape(test_x.shape[0], -1).T\n",
        "\n",
        "train_set_y=train_y.reshape((1,train_y.shape[0]))\n",
        "test_set_y=test_y.reshape((1,test_y.shape[0]))"
      ]
    },
    {
      "cell_type": "code",
      "execution_count": null,
      "metadata": {
        "colab": {
          "base_uri": "https://localhost:8080/"
        },
        "id": "JQPW09XQdU92",
        "outputId": "ebf74061-02fe-44b5-e5e6-92151da12ca3"
      },
      "outputs": [
        {
          "output_type": "execute_result",
          "data": {
            "text/plain": [
              "(1, 100)"
            ]
          },
          "metadata": {},
          "execution_count": 13
        }
      ],
      "source": [
        "np.shape(train_set_y)"
      ]
    },
    {
      "cell_type": "code",
      "execution_count": null,
      "metadata": {
        "colab": {
          "base_uri": "https://localhost:8080/"
        },
        "id": "fZbxGPTDdowJ",
        "outputId": "7b89cb99-5372-4e1c-a88c-e5ccb7dff08e"
      },
      "outputs": [
        {
          "output_type": "execute_result",
          "data": {
            "text/plain": [
              "0.01"
            ]
          },
          "metadata": {},
          "execution_count": 14
        }
      ],
      "source": [
        "1/len(train_set_y[0,:])"
      ]
    },
    {
      "cell_type": "code",
      "execution_count": null,
      "metadata": {
        "colab": {
          "base_uri": "https://localhost:8080/"
        },
        "id": "Sg2rPN9MpstI",
        "outputId": "ee6a0982-f95b-4f3d-b18c-403e8b1cdf8c"
      },
      "outputs": [
        {
          "output_type": "execute_result",
          "data": {
            "text/plain": [
              "array([[0, 0, 0, 1, 0, 0, 1, 0, 0, 0, 0, 0, 1, 0, 1, 0, 1, 1, 0, 1, 0, 0,\n",
              "        0, 1, 0, 1, 0, 1, 0, 1, 1, 0, 0, 0, 0, 0, 0, 1, 1, 1, 1, 1, 1, 0,\n",
              "        0, 1, 1, 0, 0, 0, 1, 1, 0, 1, 0, 1, 1, 1, 0, 1, 0, 0, 1, 0, 1, 1,\n",
              "        0, 0, 1, 1, 1, 0, 1, 0, 1, 1, 0, 0, 0, 0, 0, 0, 0, 0, 0, 0, 1, 1,\n",
              "        1, 1, 0, 0, 1, 0, 1, 0, 1, 1, 0, 1]])"
            ]
          },
          "metadata": {},
          "execution_count": 15
        }
      ],
      "source": [
        "test_set_y"
      ]
    },
    {
      "cell_type": "markdown",
      "metadata": {
        "id": "XnFBW_i3RwVy"
      },
      "source": [
        "Normalizamos las imágenes"
      ]
    },
    {
      "cell_type": "code",
      "execution_count": null,
      "metadata": {
        "id": "LOEUc9g1Rt2v"
      },
      "outputs": [],
      "source": [
        "train_set_x= train_x_flatten/255\n",
        "test_set_x= test_x_flatten/255"
      ]
    },
    {
      "cell_type": "markdown",
      "metadata": {
        "id": "aNl0jG5KR5P5"
      },
      "source": [
        "Ya esta listo nuestro set de datos para poder trabajar con el."
      ]
    },
    {
      "cell_type": "code",
      "execution_count": null,
      "metadata": {
        "colab": {
          "base_uri": "https://localhost:8080/"
        },
        "id": "eKKqTZlSZe3f",
        "outputId": "0d2a26ca-c694-4b70-891d-6c6df1d730ae"
      },
      "outputs": [
        {
          "output_type": "execute_result",
          "data": {
            "text/plain": [
              "(12288, 100)"
            ]
          },
          "metadata": {},
          "execution_count": 17
        }
      ],
      "source": [
        "np.shape(train_set_x)"
      ]
    },
    {
      "cell_type": "code",
      "execution_count": null,
      "metadata": {
        "id": "t2b5td_Y39bS"
      },
      "outputs": [],
      "source": [
        "#y_hat\n",
        "def y_gorrito(z):\n",
        "  sig = 1/(1+np.exp(-(z)))\n",
        "  return sig"
      ]
    },
    {
      "cell_type": "code",
      "execution_count": null,
      "metadata": {
        "id": "-UrVMA7DU4iV"
      },
      "outputs": [],
      "source": [
        "#Calculo del costo\n",
        "def costo(y_hat,y):\n",
        "  y=np.squeeze(y)\n",
        "  cst = -(1/len(y))*(np.sum(y*np.log(y_hat)+(1-y)*np.log(1-y_hat)))\n",
        "  return cst"
      ]
    },
    {
      "cell_type": "code",
      "execution_count": 76,
      "metadata": {
        "id": "416LLAhZZNob",
        "colab": {
          "base_uri": "https://localhost:8080/",
          "height": 159
        },
        "outputId": "e7320676-3cc5-4b1d-f1ae-646caa755870"
      },
      "outputs": [
        {
          "output_type": "error",
          "ename": "IndentationError",
          "evalue": "ignored",
          "traceback": [
            "\u001b[0;36m  File \u001b[0;32m\"<ipython-input-76-a22fdef316d9>\"\u001b[0;36m, line \u001b[0;32m9\u001b[0m\n\u001b[0;31m    for i in range(iter):\u001b[0m\n\u001b[0m    ^\u001b[0m\n\u001b[0;31mIndentationError\u001b[0m\u001b[0;31m:\u001b[0m unexpected indent\n"
          ]
        }
      ],
      "source": [
        "#Gradiente Descendiente\n",
        "def  grad(alph,x,y,iter):\n",
        "  y=np.squeeze(y)\n",
        "  cost=[]\n",
        "  rng = np.random.default_rng()\n",
        "  w = rng.uniform(high =0.1, size = x.shape[0])\n",
        "  b = rng.uniform(high = 0.1)\n",
        "  z=w@x+b\n",
        "   for i in range(iter):\n",
        "    w=w-alph*(1/len(y))*x@(y_gorrito(z)-y)\n",
        "    b=b-alph*(1/len(y))*np.sum(y_gorrito(z)-y)\n",
        "    cost.append(costo(y_gorrito(z),y))\n",
        "    z=w@x+b\n",
        "  return w,b,cost"
      ]
    },
    {
      "cell_type": "code",
      "source": [
        "def  Z(x,y):\n",
        "  y=np.squeeze(y)\n",
        "  cost=[]\n",
        "  rng = np.random.default_rng()\n",
        "  w = rng.uniform(high = 0.001, size = x.shape[0])\n",
        "  b = rng.uniform(high = 0.001)\n",
        "  z=w@x+b\n",
        "  return z"
      ],
      "metadata": {
        "id": "lo98h4DDX1rO"
      },
      "execution_count": 77,
      "outputs": []
    },
    {
      "cell_type": "code",
      "source": [
        "#primeras dos neuronas\n",
        "Z1 = Z(train_set_x, train_set_y)\n",
        "Z2 = Z(train_set_x, train_set_y)"
      ],
      "metadata": {
        "id": "fdm8YDlwX10F"
      },
      "execution_count": 78,
      "outputs": []
    },
    {
      "cell_type": "code",
      "source": [
        "a1 = y_gorrito(Z1)\n",
        "a2 = y_gorrito(Z2)"
      ],
      "metadata": {
        "id": "SDNOi6FmYiMZ"
      },
      "execution_count": 79,
      "outputs": []
    },
    {
      "cell_type": "code",
      "source": [
        "a= np.array([a1, a2])"
      ],
      "metadata": {
        "id": "GGhWnGJwektY"
      },
      "execution_count": 80,
      "outputs": []
    },
    {
      "cell_type": "code",
      "source": [
        "np.shape(a)"
      ],
      "metadata": {
        "colab": {
          "base_uri": "https://localhost:8080/"
        },
        "id": "iLyYRiy7Z1F0",
        "outputId": "b26e95d8-0c3d-481f-97c5-9301f5289942"
      },
      "execution_count": 81,
      "outputs": [
        {
          "output_type": "execute_result",
          "data": {
            "text/plain": [
              "(2, 100)"
            ]
          },
          "metadata": {},
          "execution_count": 81
        }
      ]
    },
    {
      "cell_type": "code",
      "source": [
        "#tercera neurona\n",
        "Z3 =Z(a, train_set_y)"
      ],
      "metadata": {
        "id": "iiswaMyAbXAG"
      },
      "execution_count": 82,
      "outputs": []
    },
    {
      "cell_type": "code",
      "source": [
        "np.shape(Z3)"
      ],
      "metadata": {
        "colab": {
          "base_uri": "https://localhost:8080/"
        },
        "id": "u92M8-VIfcWt",
        "outputId": "66188f61-998f-4342-e832-263c3151de47"
      },
      "execution_count": 84,
      "outputs": [
        {
          "output_type": "execute_result",
          "data": {
            "text/plain": [
              "(100,)"
            ]
          },
          "metadata": {},
          "execution_count": 84
        }
      ]
    },
    {
      "cell_type": "code",
      "source": [
        "rng = np.random.default_rng()\n",
        "rng.uniform()"
      ],
      "metadata": {
        "id": "wSjSqz0SRFvB",
        "colab": {
          "base_uri": "https://localhost:8080/"
        },
        "outputId": "34a84701-24bc-4eed-fd01-bc75d7172abc"
      },
      "execution_count": 33,
      "outputs": [
        {
          "output_type": "execute_result",
          "data": {
            "text/plain": [
              "0.22566105128398994"
            ]
          },
          "metadata": {},
          "execution_count": 33
        }
      ]
    },
    {
      "cell_type": "code",
      "execution_count": null,
      "metadata": {
        "id": "arN3kJG-XlXM"
      },
      "outputs": [],
      "source": [
        "w,b,costot = grad(1e-2,train_set_x,train_set_y, 10000)"
      ]
    },
    {
      "cell_type": "code",
      "execution_count": null,
      "metadata": {
        "colab": {
          "base_uri": "https://localhost:8080/",
          "height": 281
        },
        "id": "1Cy8Cg8th4M8",
        "outputId": "a604986c-27d7-4052-d82f-35d5608e850f"
      },
      "outputs": [
        {
          "output_type": "execute_result",
          "data": {
            "text/plain": [
              "[<matplotlib.lines.Line2D at 0x7d5cb1790670>]"
            ]
          },
          "metadata": {},
          "execution_count": 22
        },
        {
          "output_type": "display_data",
          "data": {
            "text/plain": [
              "<Figure size 640x480 with 1 Axes>"
            ],
            "image/png": "[encoded data removed]"
          },
          "metadata": {}
        }
      ],
      "source": [
        "plt.plot(range(10000),costot)"
      ]
    },
    {
      "cell_type": "code",
      "execution_count": null,
      "metadata": {
        "colab": {
          "base_uri": "https://localhost:8080/"
        },
        "id": "ZDNjfil_nae6",
        "outputId": "fd231c14-dfe8-42d6-e71a-a1c51ff54dc5"
      },
      "outputs": [
        {
          "output_type": "execute_result",
          "data": {
            "text/plain": [
              "(12288,)"
            ]
          },
          "metadata": {},
          "execution_count": 23
        }
      ],
      "source": [
        "np.shape(w)"
      ]
    },
    {
      "cell_type": "code",
      "source": [
        "z=w@test_set_x+b"
      ],
      "metadata": {
        "id": "Y1a9wVz6j1CP"
      },
      "execution_count": null,
      "outputs": []
    },
    {
      "cell_type": "code",
      "execution_count": null,
      "metadata": {
        "id": "_DTH7WJEnluB"
      },
      "outputs": [],
      "source": [
        "def test(z):\n",
        "  tes = y_gorrito(z)\n",
        "\n",
        "  tes[tes > .5] = 1\n",
        "  tes[tes < .5] = 0\n",
        "\n",
        "  return tes"
      ]
    },
    {
      "cell_type": "code",
      "source": [
        "Testt = test(z)"
      ],
      "metadata": {
        "id": "joD2ttqkj5qt"
      },
      "execution_count": null,
      "outputs": []
    },
    {
      "cell_type": "code",
      "source": [
        "test_set_y"
      ],
      "metadata": {
        "colab": {
          "base_uri": "https://localhost:8080/"
        },
        "id": "_Z3nv0-AkfgK",
        "outputId": "b182d094-429b-42d3-a745-7a8d9f4c0236"
      },
      "execution_count": null,
      "outputs": [
        {
          "data": {
            "text/plain": [
              "array([[0, 0, 0, 1, 0, 0, 1, 0, 0, 0, 0, 0, 1, 0, 1, 0, 1, 1, 0, 1, 0, 0,\n",
              "        0, 1, 0, 1, 0, 1, 0, 1, 1, 0, 0, 0, 0, 0, 0, 1, 1, 1, 1, 1, 1, 0,\n",
              "        0, 1, 1, 0, 0, 0, 1, 1, 0, 1, 0, 1, 1, 1, 0, 1, 0, 0, 1, 0, 1, 1,\n",
              "        0, 0, 1, 1, 1, 0, 1, 0, 1, 1, 0, 0, 0, 0, 0, 0, 0, 0, 0, 0, 1, 1,\n",
              "        1, 1, 0, 0, 1, 0, 1, 0, 1, 1, 0, 1]])"
            ]
          },
          "execution_count": 27,
          "metadata": {},
          "output_type": "execute_result"
        }
      ]
    },
    {
      "cell_type": "code",
      "source": [
        "k=0\n",
        "for i in range(len(test_set_y[0,:])):\n",
        "  if Testt[i] == test_set_y[:,i]:\n",
        "    k += 1\n",
        "percentage = k/len(test_set_y[0,:])"
      ],
      "metadata": {
        "id": "5ZH0pJFDkk75"
      },
      "execution_count": null,
      "outputs": []
    },
    {
      "cell_type": "code",
      "source": [
        "print(\" El porcentaje de acierto es de :\", percentage)"
      ],
      "metadata": {
        "colab": {
          "base_uri": "https://localhost:8080/"
        },
        "id": "9IrXA5IJlQ8t",
        "outputId": "308b45bc-5bb2-40bc-d6d8-5962dfc5b66d"
      },
      "execution_count": null,
      "outputs": [
        {
          "output_type": "stream",
          "name": "stdout",
          "text": [
            " El porcentaje de acierto es de : 0.51\n"
          ]
        }
      ]
    },
    {
      "cell_type": "code",
      "source": [],
      "metadata": {
        "id": "9BsN8rsrmLuM"
      },
      "execution_count": null,
      "outputs": []
    }
  ],
  "metadata": {
    "colab": {
      "provenance": [],
      "mount_file_id": "1cpLgGruNEbx-djm-6Yxwiob-nicchfx7",
      "authorship_tag": "ABX9TyNcXLu0ouDbcyXCCjWAMnJs",
      "include_colab_link": true
    },
    "kernelspec": {
      "display_name": "Python 3",
      "name": "python3"
    },
    "language_info": {
      "name": "python"
    }
  },
  "nbformat": 4,
  "nbformat_minor": 0
}